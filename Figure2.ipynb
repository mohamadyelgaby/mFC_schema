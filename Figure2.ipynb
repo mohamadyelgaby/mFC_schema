{
 "cells": [
  {
   "cell_type": "code",
   "execution_count": null,
   "metadata": {},
   "outputs": [],
   "source": []
  },
  {
   "cell_type": "code",
   "execution_count": 2,
   "metadata": {},
   "outputs": [
    {
     "data": {
      "text/plain": [
       "'Download data from:  https://doi.org/10.17605/OSF.IO/3D9R2'"
      ]
     },
     "execution_count": 2,
     "metadata": {},
     "output_type": "execute_result"
    }
   ],
   "source": [
    "###Folders\n",
    "\n",
    "Input_folder = 'C:/Users/moham/team_mouse Dropbox/Mohamady El-Gaby/Taskspace_abstraction/Data/Intermediate_objects/'\n",
    "Output_folder = 'C:/Users/moham/team_mouse Dropbox/Mohamady El-Gaby/Taskspace_abstraction/Results/Ephys/'\n",
    "\n",
    "\n",
    "'Download data from:  https://doi.org/10.17605/OSF.IO/3D9R2'"
   ]
  },
  {
   "cell_type": "code",
   "execution_count": null,
   "metadata": {},
   "outputs": [],
   "source": []
  },
  {
   "cell_type": "code",
   "execution_count": null,
   "metadata": {},
   "outputs": [],
   "source": []
  },
  {
   "cell_type": "code",
   "execution_count": 93,
   "metadata": {},
   "outputs": [],
   "source": [
    "##Importing libraries\n",
    "from joblib import dump, load\n",
    "import os, sys, pickle, time, re, csv\n",
    "from collections import defaultdict#\n",
    "\n",
    "import numpy as np\n",
    "import pandas as pd\n",
    "\n",
    "import scipy.stats as st\n",
    "import math\n",
    "\n",
    "import matplotlib.pyplot as plt\n",
    "import seaborn as sns\n",
    "import collections, numpy\n",
    "\n",
    "from itertools import groupby\n",
    "from collections import Counter\n",
    "import random\n",
    "from sklearn.linear_model import LogisticRegression\n",
    "from sklearn.linear_model import LinearRegression\n",
    "from scipy.stats import circmean\n",
    "from scipy.ndimage import gaussian_filter1d\n",
    "import warnings\n",
    "import scipy as sp\n",
    "from scipy import stats"
   ]
  },
  {
   "cell_type": "code",
   "execution_count": null,
   "metadata": {},
   "outputs": [],
   "source": []
  },
  {
   "cell_type": "code",
   "execution_count": 4,
   "metadata": {},
   "outputs": [],
   "source": [
    "from collections import defaultdict\n",
    "def rec_dd():\n",
    "    return defaultdict(rec_dd)\n",
    "\n",
    "def remove_empty(xx):\n",
    "\n",
    "    yy= [x for x in xx if len(x) > 0]\n",
    "    return(yy)\n",
    "\n",
    "def random_rotation(length_array,angle_changes,sigma=10,noise_centre=5):\n",
    "    rand_rotation=angle_changes[np.random.randint(0,len(angle_changes),size=length_array)]\n",
    "    noise=np.random.normal(noise_centre,sigma,length_array) ##note, this is set to 5\n",
    "    ##to make it equally likely to fall behind or ahead of cardinal axis when binned at 10 degree bins\n",
    "    ##can just set to bin length/2\n",
    "    return((rand_rotation+noise) % 360)\n",
    "\n",
    "##convert nested dict into array\n",
    "def dict_to_array(d):\n",
    "    dictlist=[]\n",
    "    for key, value in d.items():\n",
    "        dictlist.append(value)\n",
    "    return(np.asarray(dictlist))\n",
    "\n",
    "##allows stacking two columns and removes rows containing nans/infs/-infs\n",
    "def column_stack_clean(x,y):\n",
    "    xy=np.column_stack((x,y))\n",
    "    xy=xy[~np.isnan(xy).any(axis=1)]\n",
    "    xy=xy[~np.isinf(xy).any(axis=1)]\n",
    "    x=xy[:,0]\n",
    "    y=xy[:,1]\n",
    "    xy_new=np.column_stack((x,y))\n",
    "    return(xy_new)\n",
    "\n",
    "def rank_repeat(a):\n",
    "    arr=np.zeros(len(a))\n",
    "    for n in np.unique(a):\n",
    "        count=0\n",
    "        for ii in range(len(a)):\n",
    "            if a[ii]==n:\n",
    "                arr[ii]=count\n",
    "                count+=1\n",
    "\n",
    "    arr=arr.astype(int)\n",
    "    return(arr)\n",
    "\n",
    "\n",
    "##Defining Task grid\n",
    "from scipy.spatial import distance_matrix\n",
    "from itertools import product\n",
    "x=(0,1,2)\n",
    "Task_grid=np.asarray(list(product(x, x)))\n",
    "Task_grid_plotting=np.column_stack((Task_grid[:,1],Task_grid[:,0]))\n",
    "Task_grid_plotting2=[]\n",
    "for yy in np.arange(3):\n",
    "    y=int(yy*2)\n",
    "    for xx in np.arange(3):\n",
    "        x=int(xx*2)    \n",
    "        Task_grid_plotting2.append([x,y])\n",
    "Task_grid_plotting2=np.asarray(Task_grid_plotting2)    \n",
    "Task_grid2=np.column_stack((Task_grid_plotting2[:,1],Task_grid_plotting2[:,0]))\n",
    "\n",
    "Edge_grid=np.asarray([[1,2],[2,3],[1,4],[2,5],[3,6],[4,5],[5,6],[4,7],[5,8],[6,9],[7,8],[8,9]]) ###\n",
    "Edge_grid_=Edge_grid-1\n",
    "Edge_grid_coord_x=[Task_grid[Edge_grid_[ii][0]][0]+Task_grid[Edge_grid_[ii][1]][0] for ii in range(len(Edge_grid_))]\n",
    "Edge_grid_coord_y=rank_repeat(Edge_grid_coord_x)\n",
    "Edge_grid_coord=np.column_stack((Edge_grid_coord_x,Edge_grid_coord_y))\n",
    "Edge_grid_coord2=np.asarray([[0,1],[0,3],[1,0],[1,2],[1,4],[2,1],[2,3],[3,0],[3,2],[3,4],[4,1],[4,3]])\n",
    "\n",
    "direction_dic={'N':[1,0],'S':[-1,0],'W':[0,1],'E':[0,-1]}\n",
    "direction_dic_plotting={'N': [0, -1], 'S': [0, 1], 'W': [-1, 0], 'E': [1, 0]}\n",
    "\n",
    "\n",
    "def mean_complex2(x):\n",
    "    means=[]\n",
    "    for i in x:\n",
    "        meanx=np.nanmean(i)\n",
    "        means.append(meanx)\n",
    "    means=np.asarray(means)\n",
    "    return(means)\n",
    "\n",
    "def angle_to_distance(xx):\n",
    "    return(np.asarray([1-math.cos(math.radians(xx[ii])) for ii in range(len(xx))]))\n",
    "\n",
    "def concatenate_complex2(xx):\n",
    "\n",
    "    ALL_elements=[]\n",
    "    for ii in np.arange(len(xx)):\n",
    "        xxii=xx[ii]\n",
    "        for jj in np.arange(len(xxii)):\n",
    "            xxiijj=xxii[jj]\n",
    "            ALL_elements.append(np.asarray(xxiijj))\n",
    "            \n",
    "    return(np.asarray(ALL_elements))\n",
    "\n",
    "def scramble(a, axis=-1):\n",
    "    \"\"\"\n",
    "    Return an array with the values of `a` independently shuffled along the\n",
    "    given axis\n",
    "    \"\"\" \n",
    "    b = a.swapaxes(axis, -1)\n",
    "    n = a.shape[axis]\n",
    "    idx = np.random.choice(n, n, replace=False)\n",
    "    b = b[..., idx]\n",
    "    return b.swapaxes(axis, -1)\n",
    "\n",
    "\n",
    "def rearrange_matrix(x,indices):\n",
    "    xx=x[indices]\n",
    "    xxx=xx[:,indices]\n",
    "    return(xxx)\n",
    "\n",
    "def timestamp_to_binary(timestampsx,lenses):\n",
    "    yyy=np.zeros((lenses))\n",
    "    timestamps=(timestampsx).astype(int)\n",
    "    np.put(yyy,timestamps,1)\n",
    "    return(yyy)\n",
    "\n",
    "def plot_grouped_error(data,bins,groups,array_output=False):\n",
    "    num_bins=len(bins)\n",
    "    bin_value=np.digitize(np.argmax(groups,axis=1),bins)\n",
    "    meanx=st.binned_statistic(bin_value,data,'mean',bins=np.arange(num_bins)+1)[0]\n",
    "    semx=st.binned_statistic(bin_value,data,'std',bins=np.arange(num_bins)+1)[0]/np.sqrt(len(data))\n",
    "    \n",
    "    if array_output==True:\n",
    "        return(bin_value)\n",
    "    else:    \n",
    "        plt.errorbar(bins[1:],meanx,semx)\n",
    "\n",
    "def rand_jitter(arr):\n",
    "    stdev = .05*(max(arr)-min(arr))\n",
    "    return arr + np.random.randn(len(arr)) * stdev\n",
    "\n",
    "def rand_jitterX(arr, X):\n",
    "    stdev = X*(max(arr)-min(arr))\n",
    "    return arr + np.random.randn(len(arr)) * stdev\n",
    "\n",
    "def non_cluster_indices(neurons_clusters):\n",
    "    indices_all=[]\n",
    "    for cluster_ind,cluster in enumerate(neurons_clusters):\n",
    "        if cluster_ind!=(len(neurons_clusters)-1):\n",
    "            subsequent_cluster_members=np.concatenate(neurons_clusters[int(cluster_ind+1):])\n",
    "            indices=np.vstack([[[cluster[ii],subsequent_cluster_members[jj]] for ii in range(len(cluster))]\\\n",
    "                     for jj in range(len(subsequent_cluster_members))])\n",
    "            indices_all.append(indices)\n",
    "    indices_all=np.vstack(indices_all)\n",
    "    return(indices_all)\n",
    "\n",
    "def positive_angle(xx):\n",
    "    xxx=np.asarray([int(xx[ii]+360) if xx[ii]<0 else int(xx[ii]) for ii in range(len(xx))])\n",
    "    xxx[xxx==360]=0\n",
    "    return(xxx)\n",
    "def circular_angle(x,y):\n",
    "    pref_diff_lin=x-y\n",
    "    pref_diff_circ=(pref_diff_lin + 180) % 360 - 180\n",
    "    return(pref_diff_circ)\n",
    "\n",
    "def edge_node_fill(edge_mat,node_mat):\n",
    "    new_mat=np.copy(edge_mat)\n",
    "    for ii in [0,2,4]:\n",
    "        new_mat[ii,0]=node_mat[int(ii/2),0]\n",
    "        new_mat[ii,2]=node_mat[int(ii/2),1]\n",
    "        new_mat[ii,4]=node_mat[int(ii/2),2]\n",
    "        \n",
    "    return(new_mat)\n",
    "\n",
    "def smooth_circular(x,sigma=10):\n",
    "    return(gaussian_filter1d(np.hstack((x,x,x)),sigma,axis=0)[len(x):int(len(x)*2)])\n",
    "\n",
    "def polar_plot_stateX(meanx,upperx,lowerx,color='black',labels='states',plot_type='line',Marker=False,\\\n",
    "                      fields_booleanx=None):\n",
    "    rx = list(meanx)\n",
    "    theta = list(range(len(rx)))\n",
    "    thetax = [2 * np.pi * (x/len(rx)) for x in theta]\n",
    "    r = rx + [rx[0]]\n",
    "    theta = thetax + [thetax[0]]\n",
    "    \n",
    "    if Marker==True:\n",
    "        fields_booleanx=fields_booleanx*(np.max(upperx)+0.1*np.max(upperx))\n",
    "        fields_boolean=list(fields_booleanx)+[list(fields_booleanx)[0]]\n",
    "\n",
    "    upper=list(upperx)+[list(upperx)[0]]\n",
    "    lower=list(lowerx)+[list(lowerx)[0]]\n",
    "    \n",
    "    ax = plt.subplot(111, projection='polar')\n",
    "    \n",
    "    if plot_type=='line':\n",
    "        ax.plot(theta, r,color=color)\n",
    "        ax.fill_between(theta, upper, lower, alpha=0.2,color=color)\n",
    "        ax.set_rmax(np.max(upper)+0.01*np.max(upper))\n",
    "        if Marker==True:\n",
    "            ax.plot(theta, fields_boolean,color='black',linestyle='None',marker='.')\n",
    "\n",
    "    elif plot_type=='bar':\n",
    "        ax.bar(theta,r,width=5/len(r),color=color)\n",
    "    elif plot_type=='marker':\n",
    "        ax.plot(theta, r,color=color)\n",
    "        \n",
    "    \n",
    "    ax.grid(True)\n",
    "    #ax.set_rorigin(-1)\n",
    "    ax.set_theta_zero_location('N')\n",
    "    ax.set_theta_direction(-1)\n",
    "    if labels=='states':\n",
    "        ax.set_xticklabels(['A', '', 'B', '', 'C', '', 'D', ''],fontsize=20)\n",
    "    elif labels == 'angles':\n",
    "        ax.set_xticklabels(['0', '', '90', '', '180', '', '270', ''],fontsize=20)\n",
    "\n",
    "    #plt.show()\n",
    "\n",
    "\n",
    "                \n",
    "def polar_plot_stateX2(meanx,upperx,lowerx,ax,repeated,color='black',labels='states',plot_type='line',Marker=False,\\\n",
    "                      fields_booleanx=[], structure_abstract='ABCD',fontsize=20,set_max=False,max_val=1):\n",
    "    rx = list(meanx)\n",
    "    theta = list(range(len(rx)))\n",
    "    thetax = [2 * np.pi * (x/len(rx)) for x in theta]\n",
    "    r = rx + [rx[0]]\n",
    "    theta = thetax + [thetax[0]]\n",
    "    \n",
    "    #ax=plt.subplot(111, projection='polar')\n",
    "    \n",
    "    if Marker==True:\n",
    "        fields_booleanx=fields_booleanx*(np.max(upperx)+0.1*np.max(upperx))\n",
    "        fields_boolean=list(fields_booleanx)+[list(fields_booleanx)[0]]\n",
    "\n",
    "    upper=list(upperx)+[list(upperx)[0]]\n",
    "    lower=list(lowerx)+[list(lowerx)[0]]\n",
    "    \n",
    "    if plot_type=='line':\n",
    "        ax.plot(theta, r,color=color)\n",
    "        ax.fill_between(theta, upper, lower, alpha=0.2,color=color)\n",
    "        if set_max==False:\n",
    "            ax.set_rmax(np.max(upper)+0.01*np.max(upper))\n",
    "        else:\n",
    "            ax.set_rmax(max_val)\n",
    "            \n",
    "        if Marker==True:\n",
    "            ax.plot(theta, fields_boolean,color='black',linestyle='None',marker='.')\n",
    "\n",
    "    elif plot_type=='bar':\n",
    "        ax.bar(theta,r,width=5/len(r),color=color)\n",
    "    elif plot_type=='marker':\n",
    "        ax.plot(theta, r,color=color)\n",
    "        \n",
    "    \n",
    "    ax.grid(True)\n",
    "    #ax.set_rorigin(-1)\n",
    "    ax.set_theta_zero_location('N')\n",
    "    ax.set_theta_direction(-1)\n",
    "    if labels=='states':\n",
    "        if structure_abstract=='ABCD':\n",
    "            ax.set_xticklabels(['A', '', 'B', '', 'C', '', 'D', ''],fontsize=fontsize)\n",
    "        elif structure_abstract=='AB' and repeated==False:\n",
    "            ax.set_xticklabels(['A', '', '', '', 'B', '', '', ''],fontsize=fontsize)\n",
    "        elif structure_abstract=='AB' and repeated==True:\n",
    "            ax.set_xticklabels(['A', '', 'B', '', 'A', '', 'B', ''],fontsize=fontsize)\n",
    "    elif labels == 'angles':\n",
    "        ax.set_xticklabels(['0', '', '90', '', '180', '', '270', ''],fontsize=fontsize)\n",
    "        \n",
    "        \n",
    "\n",
    "def indep_roll(arr, shifts, axis=1):\n",
    "    \"\"\"Apply an independent roll for each dimensions of a single axis.\n",
    "\n",
    "    Parameters\n",
    "    ----------\n",
    "    arr : np.ndarray\n",
    "        Array of any shape.\n",
    "\n",
    "    shifts : np.ndarray\n",
    "        How many shifting to use for each dimension. Shape: `(arr.shape[axis],)`.\n",
    "\n",
    "    axis : int\n",
    "        Axis along which elements are shifted. \n",
    "    \"\"\"\n",
    "    arr = np.swapaxes(arr,axis,-1)\n",
    "    all_idcs = np.ogrid[[slice(0,n) for n in arr.shape]]\n",
    "\n",
    "    # Convert to a positive shift\n",
    "    shifts[shifts < 0] += arr.shape[-1] \n",
    "    all_idcs[-1] = all_idcs[-1] - shifts[:, np.newaxis]\n",
    "\n",
    "    result = arr[tuple(all_idcs)]\n",
    "    arr = np.swapaxes(result,-1,axis)\n",
    "    return arr \n",
    "\n",
    "def bar_plotX(y,name,ymin,ymax,points,pairing,jitt):\n",
    "    leny=len(y)\n",
    "    plt.figure(figsize=(leny*(3/2),6))\n",
    "    \n",
    "    if ymin =='auto':\n",
    "        ymin=np.min(np.concatenate(y))\n",
    "    if ymax =='auto':\n",
    "        ymax=np.max(np.concatenate(y))\n",
    "    \n",
    "    ##bars\n",
    "    y_mean=((np.zeros(len(y))))\n",
    "    y_sem=((np.zeros(len(y))))\n",
    "    for ii in range(0, len(y)):\n",
    "        ymeanx=np.nanmean(y[ii])\n",
    "        y_mean[ii]=ymeanx\n",
    "        ysemx=st.sem(y[ii], nan_policy='omit')\n",
    "        y_sem[ii]=ysemx\n",
    "   \n",
    "    \n",
    "    xxx=np.linspace(0.15, 0.2+(0.2*(leny-1)), leny)\n",
    "\n",
    "    xlocations = np.array(range(len(xxx)))\n",
    "    width=0.2\n",
    "    plt.bar(xxx, y_mean, width, yerr=y_sem, alpha=1, \n",
    "           error_kw=dict(ecolor='gray', lw=2, capsize=5, capthick=2), align='center')\n",
    "    \n",
    "    if points != 'points' and ymin == 'auto':\n",
    "        ymin=np.min(y_mean-y_sem) #-np.max(y_sem)\n",
    "        ymax=np.max(y_mean+y_sem) #+np.max(y_sem)\n",
    "    \n",
    "    #if ymin>0:\n",
    "    #    ymin=0\n",
    "    plt.ylim(ymin-(0.05*(ymax-ymin)),ymax+(0.05*(ymax-ymin)))\n",
    "    plt.xlim(0,np.max(xxx)+0.15)\n",
    "    \n",
    "    \n",
    "\n",
    "    ###points and lines\n",
    "    if points == 'points':\n",
    "        yyALL=[]\n",
    "        for ii in range(0, len(y)):\n",
    "            yy=np.column_stack((y[ii],np.repeat(xxx[ii],len(y[ii]))))\n",
    "            yyALL.append(yy)\n",
    "\n",
    "        xy=np.vstack((yyALL))\n",
    "        jittered=rand_jitterX(xy[:,1],jitt)\n",
    "\n",
    "        if pairing == 'paired':\n",
    "            for ii in range(0, leny):\n",
    "                x1=np.split(jittered,len(y))[ii]\n",
    "                if ii == 0:\n",
    "                    x1_all=x1\n",
    "                else:\n",
    "                    x1_all=np.column_stack((x1_all,x1))\n",
    "\n",
    "            for jj in range(0,np.shape(y)[1]):\n",
    "                yyyy=np.asarray(y)[:,jj]\n",
    "                plt.plot(x1_all[jj],yyyy, color='gray')\n",
    "        plt.plot(jittered,xy[:,0],'o',markersize=7,color='white',markeredgecolor='black')\n",
    "    \n",
    "    if name != 'none':\n",
    "        plt.savefig(name)\n",
    "    \n",
    "    #plt.show()\n",
    "\n",
    "###function to plot scatter plots (e.g. comparing assembly strength at correct vs incorrect dispensers)\n",
    "def noplot_scatter(x,y, color):\n",
    "    plt.plot(x, y, 'o', color=color, alpha=0.7,markersize=7)\n",
    "    z= [-10000, 0, 10000]\n",
    "    plt.plot(z,z,'k--')\n",
    "\n",
    "    xy=np.hstack((x,y))\n",
    "    \n",
    "    global xmin\n",
    "    global xmax\n",
    "    global ymin\n",
    "    global ymax\n",
    "    \n",
    "    xmin=min(xy)-np.mean(xy)*0.1\n",
    "    xmax=max(xy)+np.mean(xy)*0.1    \n",
    "    ymin=min(xy)-np.mean(xy)*0.1\n",
    "    ymax=max(xy)+np.mean(xy)*0.1\n",
    "\n",
    "    \n",
    "\n",
    "\n",
    "    #plt.xlim(-0.2,0.2)\n",
    "    #plt.ylim(-0.2,0.2)\n",
    "\n",
    "    plt.xlim(xmin,xmax)\n",
    "    plt.ylim(ymin,ymax)\n",
    "    plt.gca().set_aspect('equal', adjustable='box')\n",
    "    \n",
    "def noplot_timecourseA(x,y,color):\n",
    "    ymean=np.nanmean(y, axis=0)\n",
    "    yerr=st.sem(y, axis=0, nan_policy='omit')\n",
    "    plt.errorbar(x,ymean, yerr=yerr, color=color, marker='o')\n",
    "    \n",
    "def circular_sem(a):\n",
    "    if len(np.shape(a))==2:\n",
    "        sem_=np.rad2deg(np.hstack(([st.circvar(remove_nan(a[:,ii]))/np.sqrt(len(remove_nan(a[:,ii])))\\\n",
    "                               for ii in range(len(a.T))])))\n",
    "    elif len(np.shape(a))==1:\n",
    "        sem_=np.rad2deg(st.circvar(remove_nan(a))/np.sqrt(len(remove_nan(a))))\n",
    "        \n",
    "    return(sem_)\n",
    "    \n",
    "def non_repeat_ses_maker(mouse_recday):\n",
    "    Tasks=np.load(Input_folder+'Task_data_'+mouse_recday+'.npy',allow_pickle=True)\n",
    "    num_trials_day=np.load(Input_folder+'Num_trials_'+mouse_recday+'.npy',\\\n",
    "                                        allow_pickle=True)\n",
    "\n",
    "    non_repeat_bool_all=[]\n",
    "    for ses_ind in np.arange(len(Tasks)):\n",
    "        if ses_ind==0:\n",
    "            non_repeat_bool=True\n",
    "        else:\n",
    "            num_prev_repeats=np.sum([np.array_equal(Tasks[ses_ind],Tasks[:ses_ind][jj])\\\n",
    "                                     for jj in range(len(Tasks[:ses_ind]))])\n",
    "            if num_prev_repeats==0:\n",
    "                non_repeat_bool=True\n",
    "            else:\n",
    "                non_repeat_bool=False\n",
    "\n",
    "        non_repeat_bool_all.append(non_repeat_bool)\n",
    "    non_repeat_bool_all=np.hstack((non_repeat_bool_all))\n",
    "    num_trials_bool=num_trials_day>0\n",
    "    non_repeat_ses_bool=np.logical_and(non_repeat_bool_all,num_trials_bool)\n",
    "\n",
    "    non_repeat_ses=np.where(non_repeat_ses_bool==True)[0]\n",
    "    return(non_repeat_ses)\n",
    "\n",
    "def two_proportions_test(success_a, size_a, success_b, size_b):\n",
    "    \"\"\"\n",
    "    A/B test for two proportions;\n",
    "    given a success a trial size of group A and B compute\n",
    "    its zscore and pvalue\n",
    "    \n",
    "    Parameters\n",
    "    ----------\n",
    "    success_a, success_b : int\n",
    "        Number of successes in each group\n",
    "        \n",
    "    size_a, size_b : int\n",
    "        Size, or number of observations in each group\n",
    "    \n",
    "    Returns\n",
    "    -------\n",
    "    zscore : float\n",
    "        test statistic for the two proportion z-test\n",
    "\n",
    "    pvalue : float\n",
    "        p-value for the two proportion z-test\n",
    "    \"\"\"\n",
    "    prop_a = success_a / size_a\n",
    "    prop_b = success_b / size_b\n",
    "    prop_pooled = (success_a + success_b) / (size_a + size_b)\n",
    "    var = prop_pooled * (1 - prop_pooled) * (1 / size_a + 1 / size_b)\n",
    "    zscore = np.abs(prop_b - prop_a) / np.sqrt(var)\n",
    "    one_side = 1 - stats.norm(loc = 0, scale = 1).cdf(zscore)\n",
    "    pvalue = one_side * 2\n",
    "    return zscore, pvalue\n",
    "\n",
    "def partition(alist, indices):\n",
    "    return np.asarray([np.asarray(alist[i:j]) for i, j in zip(indices[:-1], indices[1:])])\n",
    "\n",
    "def normalise(xx,num_bins=90,take_max=False):\n",
    "    lenxx=len(xx)\n",
    "    if lenxx<num_bins:\n",
    "        xx=np.repeat(xx,10)/10\n",
    "        lenxx=lenxx*10\n",
    "    indices_polar=np.arange(lenxx)\n",
    "    if take_max==True:\n",
    "        normalized_xx=st.binned_statistic(indices_polar,xx, 'max', bins=num_bins)[0]\n",
    "    else:\n",
    "        normalized_xx=st.binned_statistic(indices_polar,xx, 'mean', bins=num_bins)[0]\n",
    "    return(normalized_xx)\n",
    "\n",
    "def raw_to_norm(raw_neuron,Trial_times_conc,num_states=4,return_mean=True,smoothing=True,\\\n",
    "                take_max=False,smoothing_sigma=10):\n",
    "    raw_neuron_split=remove_empty(partition(list(raw_neuron),list(Trial_times_conc)))\n",
    "    if len(raw_neuron_split)%num_states!=0:\n",
    "        raw_neuron_split=raw_neuron_split[:len(raw_neuron_split)-len(raw_neuron_split)%num_states]\n",
    "    \n",
    "    if take_max==True:\n",
    "        raw_neuron_split_norm=np.asarray([normalise(raw_neuron_split[ii],take_max=True)\\\n",
    "                                          for ii in np.arange(len(raw_neuron_split))])\n",
    "    else:\n",
    "        raw_neuron_split_norm=np.asarray([normalise(raw_neuron_split[ii]) for ii in np.arange(len(raw_neuron_split))])\n",
    "    \n",
    "    Actual_norm=(raw_neuron_split_norm.reshape(len(raw_neuron_split_norm)//num_states,\\\n",
    "                                               len(raw_neuron_split_norm[0])*num_states))\n",
    "    \n",
    "    if return_mean==True:\n",
    "        Actual_norm_mean=np.nanmean(Actual_norm,axis=0)\n",
    "        if smoothing==True:\n",
    "            Actual_norm_smoothed=smooth_circular(Actual_norm_mean,sigma=smoothing_sigma)\n",
    "            return(Actual_norm_smoothed)\n",
    "        else:\n",
    "            return(Actual_norm_mean)\n",
    "    else:\n",
    "        return(Actual_norm)\n",
    "    \n",
    "def remove_nan(x):\n",
    "    x=x[~np.isnan(x)]\n",
    "    return(x)\n",
    "\n",
    "def unique_nosort(a):\n",
    "    indexes = np.unique(a, return_index=True)[1]\n",
    "    return(np.asarray([a[index] for index in sorted(indexes)]))\n",
    "\n",
    "\n",
    "def number_of_repeats(array):\n",
    "    return(np.asarray([sum(1 for _ in group) for _, group in groupby(array)]))\n",
    "\n",
    "def number_of_repeats_ordered(array):\n",
    "    return(np.asarray([sum(1 for _ in group) for _, group in groupby(array)]))\n",
    "\n",
    "def number_of_repeats_ALL(array):\n",
    "    unique_rows=np.unique(array,axis=0)\n",
    "    return(np.asarray([sum((array == unique_rows[ii]).all(1)) for ii in range(len(unique_rows))]))\n",
    "\n",
    "\n",
    "def arrange_plot_statecells_persessionX(mouse_recday,neuron,awake_sessions,standardized_FR_smoothed_all,\\\n",
    "                                        standardized_FR_sem_all,sessions_included=None\\\n",
    "                                       ,fignamex=False,sigma=10,\\\n",
    "                                       save=False,plot=False,figtype='.svg', Marker=False,\\\n",
    "                                       fields_booleanx=[],measure_type='mean', abstract_structures=[],\\\n",
    "                                      repeated=False):\n",
    "    \n",
    "    colors=np.repeat('blue',len(awake_sessions))\n",
    "    plot_boolean=np.repeat(False,len(awake_sessions))\n",
    "    plot_boolean[sessions_included]=True\n",
    "    \n",
    "\n",
    "    fig= plt.figure(figsize=plt.figaspect(1)*4.5)\n",
    "    fig.tight_layout()\n",
    "    for awake_session_ind, timestamp in enumerate(awake_sessions):\n",
    "        structure_abstract=abstract_structures[awake_session_ind]\n",
    "        standardized_FR_smoothed=standardized_FR_smoothed_all[awake_session_ind]\n",
    "        standardized_FR_sem=standardized_FR_sem_all[awake_session_ind]\n",
    "                    \n",
    "        if len(standardized_FR_smoothed)==0:\n",
    "            print('Empty: Possibly No trials completed')\n",
    "            continue\n",
    "        \n",
    "        \n",
    "        standardized_FR_smoothed_upper=standardized_FR_smoothed+standardized_FR_sem\n",
    "        standardized_FR_smoothed_lower=standardized_FR_smoothed-standardized_FR_sem\n",
    "       \n",
    "        \n",
    "        color=colors[awake_session_ind]\n",
    "        \n",
    "        ax = fig.add_subplot(1, len(awake_sessions), awake_session_ind+1, projection='polar')\n",
    "        if len(fields_booleanx)>0:\n",
    "            polar_plot_stateX2(standardized_FR_smoothed,standardized_FR_smoothed_upper,standardized_FR_smoothed_lower,\\\n",
    "                              ax,color=color, Marker=Marker,fields_booleanx=fields_booleanx[awake_session_ind],\\\n",
    "                             structure_abstract=structure_abstract,repeated=repeated)\n",
    "        else:\n",
    "            polar_plot_stateX2(standardized_FR_smoothed,standardized_FR_smoothed_upper,standardized_FR_smoothed_lower,\\\n",
    "                              ax,color=color, Marker=False,structure_abstract=structure_abstract,repeated=repeated)\n",
    "    plt.margins(0,0)\n",
    "    plt.tight_layout()\n",
    "    if save==True:\n",
    "        plt.savefig(fignamex+str(awake_session_ind)+figtype, bbox_inches = 'tight', pad_inches = 0)\n",
    "    if plot==True & plot_boolean[awake_session_ind]==True:\n",
    "        plt.show()\n",
    "    else:\n",
    "        plt.close() \n",
    "\n",
    "def plot_spatial_mapsX(mouse_recday,neuron,sessions_used, plot_edge=True, per_state=False,save_fig=False,\\\n",
    "                       fignamex=None,figtype=None,sessions_custom=False):\n",
    "    mouse=mouse_recday[:4]\n",
    "    \n",
    "    \n",
    "    Num_trials_completed_=np.load(Input_folder+'Num_trials_'+mouse_recday+'.npy',\\\n",
    "                                        allow_pickle=True)\n",
    "    \n",
    "    All_sessions=np.load(Input_folder+'All_session_behaviour_'+mouse_recday+'.npy'\\\n",
    "                              ,allow_pickle=True)\n",
    "    if sessions_custom==False:\n",
    "        awake_sessions=np.load(Input_folder+'awake_session_behaviour_'+mouse_recday+'.npy'\\\n",
    "                              ,allow_pickle=True)[Num_trials_completed_>0]\n",
    "        awake_ses_inds=np.arange(awake_sessions)\n",
    "    else:\n",
    "        awake_ses_inds=sessions_used\n",
    "    rec_day_structure_numbers=recday_numbers_dic['structure_numbers'][mouse_recday]\n",
    "    rec_day_session_numbers=recday_numbers_dic['session_numbers'][mouse_recday]\n",
    "    structure_nums=np.unique(rec_day_structure_numbers)\n",
    "\n",
    "    print('')\n",
    "    print('Mean Rate maps')\n",
    "    ###ploting firing maps per state\n",
    "\n",
    "    fig1, f1_axes = plt.subplots(figsize=(7.5, 7.5),ncols=len(awake_ses_inds), constrained_layout=True)\n",
    "\n",
    "    node_rate_matrices=[]\n",
    "    for awake_session_ind in awake_ses_inds:\n",
    "        node_rate_matrices.append(node_rate_matrices_dic['All_states'][awake_session_ind][mouse_recday][neuron])\n",
    "\n",
    "    #max_rate=np.nanmax(node_rate_matrices)\n",
    "    #min_rate=np.nanmin(node_rate_matrices)\n",
    "    for awake_ses_ind_ind, awake_session_ind in enumerate(awake_ses_inds):\n",
    "        node_rate_mat=node_rate_matrices_dic['All_states'][awake_session_ind][mouse_recday][neuron]\n",
    "        edge_rate_mat=edge_rate_matrices_dic['All_states'][awake_session_ind][mouse_recday][neuron]\n",
    "\n",
    "        node_edge_mat=edge_node_fill(edge_rate_mat,node_rate_mat)\n",
    "        \n",
    "        if plot_edge==True:\n",
    "            mat_used=node_edge_mat\n",
    "            gridX=Task_grid_plotting2\n",
    "        else:\n",
    "            mat_used=node_rate_mat\n",
    "            gridX=Task_grid_plotting\n",
    "            \n",
    "        arrow_length=0.2\n",
    "        prop_scaling=0.3\n",
    "        adjustment=0.25\n",
    "            \n",
    "\n",
    "        max_rate=np.nanmax(mat_used)\n",
    "        min_rate=np.nanmin(mat_used)\n",
    "        #exec('node_rate_matrix'+str(awake_session_ind)+'=node_rate_matrix')\n",
    "        ax=f1_axes[awake_ses_ind_ind]\n",
    "\n",
    "        structure=structure_dic[mouse]['ABCD'][rec_day_structure_numbers[awake_session_ind]]\\\n",
    "        [rec_day_session_numbers[awake_session_ind]]\n",
    "        for state_port_ind, state_port in enumerate(states):\n",
    "            node=structure[state_port_ind]-1\n",
    "            ax.text(gridX[node,0]-adjustment, gridX[node,1]+adjustment,\\\n",
    "                    state_port.lower(), fontsize=22.5)\n",
    "            \n",
    "            \n",
    "        ###Policy\n",
    "        directions=Policy_dic['Mean'][mouse_recday][awake_session_ind]\n",
    "        for node in np.arange(9):\n",
    "            for dir_ind, (direction, coords_) in enumerate(direction_dic_plotting.items()):\n",
    "                prop_=len(np.where(directions[node]==direction)[0])/len(directions[node])\n",
    "                if prop_>0:\n",
    "                    ax.arrow(gridX[node,0], gridX[node,1],\\\n",
    "                              coords_[0]*arrow_length,coords_[1]*arrow_length,width=prop_scaling*prop_/2,\\\n",
    "                              head_width=prop_scaling*prop_,color='white')\n",
    "        ax.axis('off')\n",
    "        ax.matshow(mat_used,vmin=min_rate, vmax=max_rate, cmap='coolwarm')\n",
    "    plt.axis('off')   \n",
    "    if save_fig==True:\n",
    "        plt.savefig(fignamex+figtype, bbox_inches = 'tight', pad_inches = 0)  \n",
    "    plt.show()\n",
    "\n",
    "\n",
    "    if per_state==True:\n",
    "        ###per state plot\n",
    "\n",
    "        print('')\n",
    "        print('per state Rate maps')\n",
    "        fig2, f2_axes = plt.subplots(figsize=(7.5, 7.5),ncols=len(awake_ses_inds), nrows=len(states),\\\n",
    "                                     constrained_layout=True)   \n",
    "        for awake_ses_ind_ind, awake_session_ind in enumerate(awake_ses_inds):   \n",
    "\n",
    "            #print(awake_session_ind)\n",
    "            for statename_ind, state in enumerate(states):\n",
    "                #print(state)\n",
    "                node_rate_matrix_state=node_rate_matrices_dic['Per_state'][awake_session_ind][mouse_recday][neuron]\\\n",
    "                [statename_ind]\n",
    "                edge_rate_matrix_state=edge_rate_matrices_dic['Per_state'][awake_session_ind][mouse_recday][neuron]\\\n",
    "                [statename_ind]\n",
    "                node_edge_mat_state=edge_node_fill(edge_rate_matrix_state,\\\n",
    "                                                       node_rate_matrix_state)\n",
    "                \n",
    "                if plot_edge==True:\n",
    "                    mat_used=node_edge_mat_state\n",
    "                    gridX=Task_grid_plotting2\n",
    "                else:\n",
    "                    mat_used=node_rate_matrix_state[state_port_ind]\n",
    "                    gridX=Task_grid_plotting\n",
    "\n",
    "                structure=structure_dic[mouse]['ABCD'][rec_day_structure_numbers[awake_session_ind]]\\\n",
    "                [rec_day_session_numbers[awake_session_ind]]\n",
    "                \n",
    "                \n",
    "                ax=f2_axes[awake_ses_ind_ind,statename_ind]\n",
    "                for state_port_ind, state_port in enumerate(states):\n",
    "                    node=structure[state_port_ind]-1\n",
    "                    ax.text(gridX[node,0]-0.25, gridX[node,1]+0.25,\\\n",
    "                            state_port.lower(), fontsize=22.5)\n",
    "\n",
    "                ax.matshow(mat_used, cmap='coolwarm') #vmin=min_rate, vmax=max_rate\n",
    "                ax.axis('off')\n",
    "                #ax.savefig(str(neuron)+state+str(awake_session_ind)+'discmap.svg')\n",
    "        plt.axis('off')\n",
    "        if save_fig==True:\n",
    "            plt.savefig(fignamex+'_perstate_'+figtype, bbox_inches = 'tight', pad_inches = 0)\n",
    "\n",
    "def unique_adjacent(a):\n",
    "    return(np.asarray([k for k,g in groupby(a)]))\n",
    "\n",
    "def data_matrix(data, concatenate=False):\n",
    "    data_mat=np.asarray([data[ii][:len(data[-1])] for ii in range (len(data))])\n",
    "    if concatenate==True:\n",
    "        data_mat=np.concatenate(np.hstack(data_mat))\n",
    "    return(data_mat)\n",
    "\n",
    "###counts num of repeats for each stretch of numbers\n",
    "def rank_repeat2(a):\n",
    "    num_repeats=number_of_repeats(a)\n",
    "    arr=[]\n",
    "    for n_ind, n in enumerate(unique_adjacent(a)):\n",
    "        count=0\n",
    "        indices=np.arange(num_repeats[n_ind])\n",
    "        arr.append(indices)\n",
    "    arr=np.concatenate(arr)\n",
    "    arr=arr.astype(int)\n",
    "    return(arr)\n",
    "\n",
    "def continguous_field(array,num_bins,cont_thr=2):\n",
    "    if len(array)==0:\n",
    "        field=[np.nan]\n",
    "    else:\n",
    "        bool_xx=np.diff(array)<=cont_thr\n",
    "        xx=0\n",
    "        field=np.zeros(len(bool_xx))\n",
    "        for ii in range(len(bool_xx)):\n",
    "            if bool_xx[ii]==False:\n",
    "                xx+=1\n",
    "            field[ii]=xx\n",
    "        field=np.hstack((0,field))\n",
    "        if array[0]+(num_bins-1)-array[-1]<cont_thr:\n",
    "            field[field==unique_adjacent(field)[-1]]=0\n",
    "\n",
    "    return(field)\n",
    "\n",
    "\n",
    "def most_common(aa):\n",
    "    counts=list(Counter(aa).values())\n",
    "    max_count=np.max(counts)\n",
    "    return(np.asarray(list(Counter(aa).keys()))[counts==max_count],max_count)\n",
    "\n",
    "def demean(x):\n",
    "    return(x-np.nanmean(x))\n",
    "\n",
    "def most_common_pair(a_):\n",
    "    a=np.copy(a_)\n",
    "    d  = Counter()\n",
    "    for sub in a:\n",
    "        if len(a) < 2:\n",
    "            continue\n",
    "        #sub.sort()\n",
    "        for comb in combinations(sub,2):\n",
    "            d[comb] += 1\n",
    "\n",
    "    return([d.most_common()[0][0][0],d.most_common()[0][0][1]], d.most_common()[0][1]/len(a))\n",
    "\n",
    "\n",
    "def num_of_repeats2(MyList):\n",
    "    my_dict = {i:list(MyList).count(i) for i in MyList}\n",
    "    \n",
    "    return(np.asarray([my_dict[element] for element in MyList]))\n",
    "\n",
    "\n",
    "def fill_diagonal(source_array, diagonal):\n",
    "    copy = source_array.copy()\n",
    "    np.fill_diagonal(copy, diagonal)\n",
    "    return copy\n",
    "\n",
    "\n",
    "def partition(alist, indices):\n",
    "    return np.asarray([np.asarray(alist[i:j]) for i, j in zip(indices[:-1], indices[1:])])\n",
    "\n",
    "def normalise(xx,num_bins=90,take_max=False):\n",
    "    lenxx=len(xx)\n",
    "    if lenxx<num_bins:\n",
    "        xx=np.repeat(xx,10)/10\n",
    "        lenxx=lenxx*10\n",
    "    indices_polar=np.arange(lenxx)\n",
    "    if take_max==True:\n",
    "        normalized_xx=st.binned_statistic(indices_polar,xx, 'max', bins=num_bins)[0]\n",
    "    else:\n",
    "        normalized_xx=st.binned_statistic(indices_polar,xx, 'mean', bins=num_bins)[0]\n",
    "    return(normalized_xx)\n",
    "\n",
    "def raw_to_norm(raw_neuron,Trial_times_conc,num_states=4,return_mean=True,smoothing=True,\\\n",
    "                take_max=False,smoothing_sigma=10):\n",
    "    raw_neuron_split=remove_empty(partition(list(raw_neuron),list(Trial_times_conc)))\n",
    "    if len(raw_neuron_split)%num_states!=0:\n",
    "        raw_neuron_split=raw_neuron_split[:len(raw_neuron_split)-len(raw_neuron_split)%num_states]\n",
    "    \n",
    "    if take_max==True:\n",
    "        raw_neuron_split_norm=np.asarray([normalise(raw_neuron_split[ii],take_max=True)\\\n",
    "                                          for ii in np.arange(len(raw_neuron_split))])\n",
    "    else:\n",
    "        raw_neuron_split_norm=np.asarray([normalise(raw_neuron_split[ii]) for ii in np.arange(len(raw_neuron_split))])\n",
    "    \n",
    "    Actual_norm=(raw_neuron_split_norm.reshape(len(raw_neuron_split_norm)//num_states,\\\n",
    "                                               len(raw_neuron_split_norm[0])*num_states))\n",
    "    \n",
    "    if return_mean==True:\n",
    "        Actual_norm_mean=np.nanmean(Actual_norm,axis=0)\n",
    "        if smoothing==True:\n",
    "            Actual_norm_smoothed=smooth_circular(Actual_norm_mean,sigma=smoothing_sigma)\n",
    "            return(Actual_norm_smoothed)\n",
    "        else:\n",
    "            return(Actual_norm_mean)\n",
    "    else:\n",
    "        return(Actual_norm)\n",
    "    \n",
    "    \n",
    "def _nanargmax(arr, axis=0):\n",
    "    try:\n",
    "        if len(np.shape(arr))==1:\n",
    "            return np.nanargmax(arr)\n",
    "        else:\n",
    "            return np.nanargmax(arr, axis)\n",
    "    except ValueError:\n",
    "        return np.nan\n",
    "    \n",
    "    \n",
    "def indep_roll(arr, shifts, axis=1):\n",
    "    \"\"\"Apply an independent roll for each dimensions of a single axis.\n",
    "\n",
    "    Parameters\n",
    "    ----------\n",
    "    arr : np.ndarray\n",
    "        Array of any shape.\n",
    "\n",
    "    shifts : np.ndarray\n",
    "        How many shifting to use for each dimension. Shape: `(arr.shape[axis],)`.\n",
    "\n",
    "    axis : int\n",
    "        Axis along which elements are shifted. \n",
    "    \"\"\"\n",
    "    arr = np.swapaxes(arr,axis,-1)\n",
    "    all_idcs = np.ogrid[[slice(0,n) for n in arr.shape]]\n",
    "\n",
    "    # Convert to a positive shift\n",
    "    shifts[shifts < 0] += arr.shape[-1] \n",
    "    all_idcs[-1] = all_idcs[-1] - shifts[:, np.newaxis]\n",
    "\n",
    "    result = arr[tuple(all_idcs)]\n",
    "    arr = np.swapaxes(result,-1,axis)\n",
    "    return arr\n",
    "\n",
    "def matrix_triangle(a,direction='upper',return_indices=False):\n",
    "    if direction=='upper':\n",
    "        indices=np.triu_indices(len(a), k = 1)\n",
    "    if direction=='lower':\n",
    "        indices=np.tril_indices(len(a), k = -1)\n",
    "    triangle=a[indices]\n",
    "    if return_indices==True:\n",
    "        return(triangle,indices)\n",
    "    else:\n",
    "        return(triangle)\n",
    "    \n",
    "from scipy.optimize import curve_fit\n",
    "def func_decay(x, a, b, c):\n",
    "    return a * np.exp(-b * x) + c\n",
    "\n",
    "def circmedian(angs):\n",
    "    pdists = angs[np.newaxis, :] - angs[:, np.newaxis]\n",
    "    pdists = (pdists + np.pi) % (2 * np.pi) - np.pi\n",
    "    pdists = np.abs(pdists).sum(1)\n",
    "    return angs[np.argmin(pdists)]\n",
    "\n",
    "def max_bin_safe(xx,axisX=None): ##currently only works for 1st and 2nd dimensions\n",
    "    \n",
    "    if axisX==None:\n",
    "        xx_max=np.max(xx)\n",
    "        max_bins=np.where(xx==xx_max)[0]\n",
    "        if len(max_bins)==1:\n",
    "            max_bin=max_bins\n",
    "        else:\n",
    "            max_bin=[np.nan]\n",
    "        return(max_bin[0])\n",
    "\n",
    "    \n",
    "    else:\n",
    "        if axisX==0:\n",
    "            xx=xx.T\n",
    "        xx_max=np.max(xx,axis=axisX)\n",
    "\n",
    "        max_binsx=[np.where(xx[ii]==xx_max[ii])[0] for ii in range(len(xx_max))]\n",
    "        \n",
    "        max_bins=np.asarray([max_binsx[ii][0] if len(max_binsx[ii])==1 else np.nan for ii in range(len(max_binsx))])\n",
    "        return(max_bins)\n",
    "    \n",
    "def cumulativeDist_plot(x,y,colorx,colory,name):\n",
    "    fig, ax = plt.subplots(figsize=(3,3))\n",
    "    hfont = {'fontname':'Arial'}\n",
    "    x = x[x>-1E38]\n",
    "    x = x[x<1E38]\n",
    "    values, base = np.histogram(x, bins=40)\n",
    "    cumulative = np.cumsum(values)\n",
    "    plt.plot(base[:-1], cumulative, c=colorx)\n",
    "\n",
    "    y = y[y>-1E38]\n",
    "    y = y[y<1E38]\n",
    "    values, base = np.histogram(y, bins=40)\n",
    "    cumulative = np.cumsum(values)\n",
    "    plt.plot(base[:-1], cumulative, c=colory)\n",
    "    \n",
    "    if name != 'none':\n",
    "        plt.savefig(name)\n",
    "    plt.show()\n",
    "    \n",
    "def cumulativeDist_plot_norm(x,y,colorx,colory,binsize,name,xmin,xmax):\n",
    "    fig, ax = plt.subplots(figsize=(3,3))\n",
    "    hfont = {'fontname':'Arial'}\n",
    "    x = x[x>-1E38]\n",
    "    x = x[x<1E38]\n",
    "    \n",
    "    y = y[y>-1E38]\n",
    "    y = y[y<1E38]\n",
    "    xy=np.hstack((x,y))\n",
    "    bins=np.arange(np.min(xy)-binsize,np.max(xy)+binsize,binsize)\n",
    "    \n",
    "    values, base = np.histogram(x, bins=bins)\n",
    "    cumulative = np.cumsum(values)/len(x)\n",
    "    plt.plot(base[:-1], cumulative, c=colorx)\n",
    "\n",
    "   \n",
    "    \n",
    "    #bins=np.arange(np.min(y)-binsize,np.max(y)+binsize,binsize)\n",
    "    values, base = np.histogram(y, bins=bins)\n",
    "    cumulative = np.cumsum(values)/len(y)\n",
    "    plt.plot(base[:-1], cumulative, c=colory)\n",
    "    \n",
    "    plt.xlim(xmin,xmax)\n",
    "    if name != 'none':\n",
    "        plt.savefig(name)\n",
    "    plt.show()\n",
    "    \n",
    "def rotate(p, origin=(0, 0), degrees=0):\n",
    "    angle = np.deg2rad(degrees)\n",
    "    R = np.array([[np.cos(angle), -np.sin(angle)],\n",
    "                  [np.sin(angle),  np.cos(angle)]])\n",
    "    o = np.atleast_2d(origin)\n",
    "    p = np.atleast_2d(p)\n",
    "    return np.squeeze((R @ (p.T-o.T) + o.T).T)\n",
    "\n",
    "\n",
    "from scipy.cluster.hierarchy import dendrogram\n",
    "from sklearn.datasets import load_iris\n",
    "\n",
    "\n",
    "\n",
    "def plot_dendrogram(model, return_linkage=False, **kwargs):\n",
    "    # Create linkage matrix and then plot the dendrogram\n",
    "\n",
    "    # create the counts of samples under each node\n",
    "    counts = np.zeros(model.children_.shape[0])\n",
    "    n_samples = len(model.labels_)\n",
    "    for i, merge in enumerate(model.children_):\n",
    "        current_count = 0\n",
    "        for child_idx in merge:\n",
    "            if child_idx < n_samples:\n",
    "                current_count += 1  # leaf node\n",
    "            else:\n",
    "                current_count += counts[child_idx - n_samples]\n",
    "        counts[i] = current_count\n",
    "\n",
    "    linkage_matrix = np.column_stack(\n",
    "        [model.children_, model.distances_, counts]\n",
    "    ).astype(float)\n",
    "\n",
    "    # Plot the corresponding dendrogram\n",
    "    dendrogram(linkage_matrix, **kwargs)\n",
    "    if return_linkage==True:\n",
    "        return(linkage_matrix)\n",
    "    \n",
    "    \n",
    "direction_dic={'N':[1,0],'S':[-1,0],'W':[0,1],'E':[0,-1]}\n",
    "def find_direction(start_,end_,direction_dicX=direction_dic,node_grid=Task_grid2,edge_grid=Edge_grid_coord2,\\\n",
    "                  node_grid_onlynodes=Task_grid):\n",
    "    if np.logical_or(np.isnan(start_),np.isnan(end_))==True:\n",
    "        return(np.nan)\n",
    "    \n",
    "    start_=int(start_)\n",
    "    end_=int(end_)\n",
    "    Task_grid_start=node_grid\n",
    "    Task_grid_end=node_grid\n",
    "    if start_<=9 and end_<=9:\n",
    "        Task_grid_start=node_grid_onlynodes\n",
    "        Task_grid_end=node_grid_onlynodes\n",
    "    \n",
    "    if start_>9:\n",
    "        start_=int(start_-9)\n",
    "        Task_grid_start=edge_grid\n",
    "    if end_>9:\n",
    "        end_=int(end_-9)\n",
    "        Task_grid_end=edge_grid\n",
    "\n",
    "    start=start_-1\n",
    "    end=end_-1\n",
    "    try:\n",
    "        if start>=0 and end>=0:\n",
    "            direction=list(direction_dicX.keys())[list(direction_dicX.values()).\\\n",
    "                                                  index(list(Task_grid_start[start]-Task_grid_end[end]))]\n",
    "        else:\n",
    "            direction=np.nan\n",
    "    except:\n",
    "        direction=np.nan\n",
    "    return(direction)\n",
    "\n",
    "\n",
    "\n",
    "\n",
    "def subset_complex(x,y,z,scaling):\n",
    "    return[x[y[z[ii],0]//scaling:y[z[ii],-1]//scaling] for ii in range(len(z))]\n",
    "\n",
    "def subset_complex2(x,y,z,scaling):\n",
    "    return[x[:,y[z[ii],0]//scaling:y[z[ii],-1]//scaling] for ii in range(len(z))]\n",
    "\n",
    "def num_of_repeats2(MyList):\n",
    "    my_dict = {i:list(MyList).count(i) for i in MyList}\n",
    "    \n",
    "    return(np.asarray([my_dict[element] for element in MyList]))\n",
    "\n",
    "\n",
    "###Defining functions\n",
    "def partition(alist, indices):\n",
    "    return np.asarray([np.asarray(alist[i:j]) for i, j in zip(indices[:-1], indices[1:])])\n",
    "\n",
    "def normalise(xx,num_bins=90,take_max=False):\n",
    "    lenxx=len(xx)\n",
    "    if lenxx<num_bins:\n",
    "        xx=np.repeat(xx,10)/10\n",
    "        lenxx=lenxx*10\n",
    "    indices_polar=np.arange(lenxx)\n",
    "    if take_max==True:\n",
    "        normalized_xx=st.binned_statistic(indices_polar,xx, 'max', bins=num_bins)[0]\n",
    "    else:\n",
    "        normalized_xx=st.binned_statistic(indices_polar,xx, 'mean', bins=num_bins)[0]\n",
    "    return(normalized_xx)\n",
    "\n",
    "def raw_to_norm(raw_neuron,Trial_times_conc,num_states=4,return_mean=True,smoothing=True,\\\n",
    "                take_max=False,smoothing_sigma=10):\n",
    "    raw_neuron_split=remove_empty(partition(list(raw_neuron),list(Trial_times_conc)))\n",
    "    if len(raw_neuron_split)%num_states!=0:\n",
    "        raw_neuron_split=raw_neuron_split[:len(raw_neuron_split)-len(raw_neuron_split)%num_states]\n",
    "    \n",
    "    if take_max==True:\n",
    "        raw_neuron_split_norm=np.asarray([normalise(raw_neuron_split[ii],take_max=True)\\\n",
    "                                          for ii in np.arange(len(raw_neuron_split))])\n",
    "    else:\n",
    "        raw_neuron_split_norm=np.asarray([normalise(raw_neuron_split[ii]) for ii in np.arange(len(raw_neuron_split))])\n",
    "    \n",
    "    Actual_norm=(raw_neuron_split_norm.reshape(len(raw_neuron_split_norm)//num_states,\\\n",
    "                                               len(raw_neuron_split_norm[0])*num_states))\n",
    "    \n",
    "    if return_mean==True:\n",
    "        Actual_norm_mean=np.nanmean(Actual_norm,axis=0)\n",
    "        if smoothing==True:\n",
    "            Actual_norm_smoothed=smooth_circular(Actual_norm_mean,sigma=smoothing_sigma)\n",
    "            return(Actual_norm_smoothed)\n",
    "        else:\n",
    "            return(Actual_norm_mean)\n",
    "    else:\n",
    "        return(Actual_norm)\n",
    "    \n",
    "def indep_roll(arr, shifts, axis=1):\n",
    "    \"\"\"Apply an independent roll for each dimensions of a single axis.\n",
    "\n",
    "    Parameters\n",
    "    ----------\n",
    "    arr : np.ndarray\n",
    "        Array of any shape.\n",
    "\n",
    "    shifts : np.ndarray\n",
    "        How many shifting to use for each dimension. Shape: `(arr.shape[axis],)`.\n",
    "\n",
    "    axis : int\n",
    "        Axis along which elements are shifted. \n",
    "    \"\"\"\n",
    "    arr = np.swapaxes(arr,axis,-1)\n",
    "    all_idcs = np.ogrid[[slice(0,n) for n in arr.shape]]\n",
    "\n",
    "    # Convert to a positive shift\n",
    "    shifts[shifts < 0] += arr.shape[-1] \n",
    "    all_idcs[-1] = all_idcs[-1] - shifts[:, np.newaxis]\n",
    "\n",
    "    result = arr[tuple(all_idcs)]\n",
    "    arr = np.swapaxes(result,-1,axis)\n",
    "    return arr\n",
    "\n",
    "\n",
    "def arrange_plot_statecells_persessionX2(mouse_recday,neuron,Input_folder,sessions_included=None\\\n",
    "                                       ,fignamex=False,sigma=10,\\\n",
    "                                       save=False,plot=False,figtype='.svg', Marker=False,\\\n",
    "                                       fields_booleanx=[],measure_type='mean', abstract_structures=[],\\\n",
    "                                      repeated=False,behaviour_oversampling_factor=3,behaviour_rate=1000,\\\n",
    "                                       tracking_oversampling_factor=50):\n",
    "\n",
    "    awake_sessions=np.load(Input_folder+'awake_session_'+mouse_recday+'.npy'\\\n",
    "                              ,allow_pickle=True)\n",
    "    awake_sessions_behaviour=np.load(Input_folder+'awake_session_behaviour_'+mouse_recday+'.npy')\n",
    "    \n",
    "    colors=np.repeat('blue',len(awake_sessions_behaviour))\n",
    "    plot_boolean=np.repeat(False,len(awake_sessions_behaviour))\n",
    "    plot_boolean[sessions_included]=True\n",
    "    \n",
    "    \n",
    "    \n",
    "    num_trials_day=np.load(Input_folder+'Num_trials_'+mouse_recday+'.npy')\n",
    "\n",
    "    fig= plt.figure(figsize=plt.figaspect(1)*4.5)\n",
    "    fig.tight_layout()\n",
    "    for awake_session_ind, timestamp in enumerate(awake_sessions_behaviour):\n",
    "        structure_abstract=abstract_structures[awake_session_ind]\n",
    "        \n",
    "        if num_trials_day[awake_session_ind]<2:\n",
    "            print('Not enough trials session'+str(awake_session_ind))\n",
    "            continue\n",
    "        if timestamp not in awake_sessions:\n",
    "            print('Ephys not used for session'+str(awake_session_ind))\n",
    "            continue\n",
    "            \n",
    "            \n",
    "        try:\n",
    "            norm_activity_all=np.load(Input_folder+'Neuron_'+mouse_recday+'_'+str(awake_session_ind)+'.npy')\n",
    "        except:\n",
    "            print('No file found session'+str(awake_session_ind))\n",
    "            continue\n",
    "        \n",
    "        norm_activity_neuron=norm_activity_all[neuron]\n",
    "        \n",
    "        xxx=np.asarray(norm_activity_neuron).T\n",
    "        standardized_FR=np.hstack([np.nanmean(xxx[ii],axis=0) for ii in range(len(xxx))])*\\\n",
    "        behaviour_oversampling_factor*behaviour_rate/tracking_oversampling_factor\n",
    "        standardized_FR_sem=np.hstack([st.sem(xxx[ii],axis=0,nan_policy='omit') for ii in range(len(xxx))])*\\\n",
    "        behaviour_oversampling_factor*behaviour_rate/tracking_oversampling_factor\n",
    "        standardized_FR_smoothed=smooth_circular(standardized_FR,sigma=sigma)            \n",
    "        standardized_FR_sem_smoothed=smooth_circular(standardized_FR_sem,sigma=sigma)                    \n",
    "\n",
    "        \n",
    "        standardized_FR_smoothed_upper=standardized_FR_smoothed+standardized_FR_sem_smoothed\n",
    "        standardized_FR_smoothed_lower=standardized_FR_smoothed-standardized_FR_sem_smoothed\n",
    "       \n",
    "        \n",
    "        color=colors[awake_session_ind]\n",
    "        \n",
    "        ax = fig.add_subplot(1, len(awake_sessions_behaviour), awake_session_ind+1, projection='polar')\n",
    "        if len(fields_booleanx)>0:\n",
    "            polar_plot_stateX2(standardized_FR_smoothed,standardized_FR_smoothed_upper,standardized_FR_smoothed_lower,\\\n",
    "                              ax,color=color, Marker=Marker,fields_booleanx=fields_booleanx[awake_session_ind],\\\n",
    "                             structure_abstract=structure_abstract,repeated=repeated)\n",
    "        else:\n",
    "            polar_plot_stateX2(standardized_FR_smoothed,standardized_FR_smoothed_upper,standardized_FR_smoothed_lower,\\\n",
    "                              ax,color=color, Marker=False,structure_abstract=structure_abstract,repeated=repeated)\n",
    "    plt.margins(0,0)\n",
    "    #plt.tight_layout()\n",
    "    if save==True:\n",
    "        plt.savefig(fignamex+str(awake_session_ind)+figtype)\n",
    "    if plot==True & plot_boolean[awake_session_ind]==True:\n",
    "        plt.show()\n",
    "    else:\n",
    "        plt.close() \n",
    "        \n",
    "def split_mode(xx,num_bins):\n",
    "    xxx=np.array_split(xx,num_bins)\n",
    "    return(np.asarray([st.mode(xxx[ii],nan_policy='omit')[0]\\\n",
    "                       if np.isnan(np.nanmean(xxx[ii]))==False\\\n",
    "                       else st.mode(xxx[ii])[0]\n",
    "                       for ii in range(len(xxx))]))"
   ]
  },
  {
   "cell_type": "code",
   "execution_count": 5,
   "metadata": {},
   "outputs": [],
   "source": [
    "##Defining mouse variables\n",
    "Mice_cohort_dic={'me03':2,'me04':2,'me05':2,'me06':2,'me08':3,'ah02':3,'ah03':3,'me10':4,'me11':4,'ah04':4,'ah05':4,\\\n",
    "                'ab03':6,'ah07':6} \n",
    "Mice_maze_dic={'me08':1,'ah03':2,'me10':1,'me11':2,'ah04':1,\\\n",
    "                'ab03':1,'ah07':2} \n",
    "Mice_recnode_dic={'me03':110,'me08':131,'ah02':129,'ah03':110}\n",
    "Mouse_FPGAno={'me03':'109.0','me08':'121.0','ah02':'109.0','ah03':'109.0'}\n",
    "Mice=np.asarray(list(Mice_cohort_dic.keys()))\n",
    "Nonephys_mice=['me04','me05','me06','me12','me13']\n",
    "Ephys_mice=np.setdiff1d(Mice,Nonephys_mice)\n",
    "\n",
    "Cohort_ephys_type_dic={2:'Cambridge_neurotech',3:'Cambridge_neurotech',4:'Cambridge_neurotech',\\\n",
    "                      5:'Neuropixels',6:'Neuropixels'}\n",
    "\n",
    "Mice_sleep=[mouse+'_sleep' for mouse in Ephys_mice]\n",
    "Mice_withsleep=np.hstack((Mice,Mice_sleep))"
   ]
  },
  {
   "cell_type": "code",
   "execution_count": null,
   "metadata": {},
   "outputs": [],
   "source": []
  },
  {
   "cell_type": "code",
   "execution_count": null,
   "metadata": {},
   "outputs": [],
   "source": []
  },
  {
   "cell_type": "code",
   "execution_count": 6,
   "metadata": {},
   "outputs": [
    {
     "name": "stderr",
     "output_type": "stream",
     "text": [
      "C:\\Users\\moham\\AppData\\Local\\Temp\\ipykernel_24032\\2827801130.py:27: VisibleDeprecationWarning: Creating an ndarray from ragged nested sequences (which is a list-or-tuple of lists-or-tuples-or ndarrays with different lengths or shapes) is deprecated. If you meant to do this, you must specify 'dtype=object' when creating the ndarray.\n",
      "  node_one_step_coord=np.asarray([np.asarray(remove_empty([Task_grid[jj]-Task_grid[ii]\\\n",
      "C:\\Users\\moham\\AppData\\Local\\Temp\\ipykernel_24032\\2827801130.py:49: VisibleDeprecationWarning: Creating an ndarray from ragged nested sequences (which is a list-or-tuple of lists-or-tuples-or ndarrays with different lengths or shapes) is deprecated. If you meant to do this, you must specify 'dtype=object' when creating the ndarray.\n",
      "  node_one_step_coord_reverse=np.asarray([np.asarray(remove_empty([Task_grid[ii]-Task_grid[jj]\\\n"
     ]
    }
   ],
   "source": [
    "##Defining Task grid\n",
    "from scipy.spatial import distance_matrix\n",
    "from itertools import product\n",
    "x=(0,1,2)\n",
    "Task_grid=np.asarray(list(product(x, x)))\n",
    "Task_grid_plotting=np.column_stack((Task_grid[:,1],Task_grid[:,0]))\n",
    "Task_grid_plotting2=[]\n",
    "for yy in np.arange(3):\n",
    "    y=int(yy*2)\n",
    "    for xx in np.arange(3):\n",
    "        x=int(xx*2)    \n",
    "        Task_grid_plotting2.append([x,y])\n",
    "Task_grid_plotting2=np.asarray(Task_grid_plotting2)    \n",
    "Task_grid2=np.column_stack((Task_grid_plotting2[:,1],Task_grid_plotting2[:,0]))\n",
    "\n",
    "Edge_grid=np.asarray([[1,2],[2,3],[1,4],[2,5],[3,6],[4,5],[5,6],[4,7],[5,8],[6,9],[7,8],[8,9]]) ###\n",
    "Edge_grid_=Edge_grid-1\n",
    "Edge_grid_coord_x=[Task_grid[Edge_grid_[ii][0]][0]+Task_grid[Edge_grid_[ii][1]][0] for ii in range(len(Edge_grid_))]\n",
    "Edge_grid_coord_y=rank_repeat(Edge_grid_coord_x)\n",
    "Edge_grid_coord=np.column_stack((Edge_grid_coord_x,Edge_grid_coord_y))\n",
    "Edge_grid_coord2=np.asarray([[0,1],[0,3],[1,0],[1,2],[1,4],[2,1],[2,3],[3,0],[3,2],[3,4],[4,1],[4,3]])\n",
    "\n",
    "direction_dic={'N':[1,0],'S':[-1,0],'W':[0,1],'E':[0,-1]}\n",
    "direction_dic_plotting={'N': [0, -1], 'S': [0, 1], 'W': [-1, 0], 'E': [1, 0]}\n",
    "\n",
    "##Defining state-action pairs (for policy calculation)\n",
    "node_one_step_coord=np.asarray([np.asarray(remove_empty([Task_grid[jj]-Task_grid[ii]\\\n",
    "                                                    if np.sum(abs(Task_grid[jj]-Task_grid[ii]))==1\\\n",
    "                                                    else [] for ii in range(len(Task_grid))]))\\\n",
    "                           for jj in range(len(Task_grid))])\n",
    "\n",
    "node_states=np.asarray([str(ii+1)+'_'+list(direction_dic.keys())[list(direction_dic.values()).\\\n",
    "                           index(list(node_one_step_coord[ii][jj]))] for ii in range(len(node_one_step_coord))\\\n",
    "for jj in range(len(node_one_step_coord[ii]))])\n",
    "\n",
    "\n",
    "edge_one_step_coord=np.asarray([np.asarray(remove_empty([Edge_grid_coord2[jj]-Task_grid2[ii]\\\n",
    "                                                    if np.sum(abs(Edge_grid_coord2[jj]-Task_grid2[ii]))==1\\\n",
    "                                                    else [] for ii in range(len(Task_grid2))]))\\\n",
    "                           for jj in range(len(Edge_grid_coord2))])\n",
    "\n",
    "edge_states=np.asarray([str(ii+10)+'_'+list(direction_dic.keys())[list(direction_dic.values()).\\\n",
    "                           index(list(edge_one_step_coord[ii][jj]))] for ii in range(len(edge_one_step_coord))\\\n",
    "for jj in range(len(edge_one_step_coord[ii]))])\n",
    "\n",
    "State_action_grid=np.concatenate((node_states,edge_states))\n",
    "\n",
    "##Defining reverse state-action pairs\n",
    "node_one_step_coord_reverse=np.asarray([np.asarray(remove_empty([Task_grid[ii]-Task_grid[jj]\\\n",
    "                                                    if np.sum(abs(Task_grid[ii]-Task_grid[jj]))==1\\\n",
    "                                                    else [] for ii in range(len(Task_grid))]))\\\n",
    "                           for jj in range(len(Task_grid))])\n",
    "\n",
    "node_states_reverse=np.asarray([str(ii+1)+'_'+list(direction_dic.keys())[list(direction_dic.values()).\\\n",
    "                           index(list(node_one_step_coord_reverse[ii][jj]))]\\\n",
    "                                for ii in range(len(node_one_step_coord_reverse))\\\n",
    "for jj in range(len(node_one_step_coord_reverse[ii]))])\n",
    "\n",
    "\n",
    "State_action_grid_reverse=np.concatenate((node_states_reverse,edge_states))"
   ]
  },
  {
   "cell_type": "code",
   "execution_count": null,
   "metadata": {},
   "outputs": [],
   "source": []
  },
  {
   "cell_type": "code",
   "execution_count": null,
   "metadata": {},
   "outputs": [],
   "source": []
  },
  {
   "cell_type": "code",
   "execution_count": null,
   "metadata": {},
   "outputs": [],
   "source": []
  },
  {
   "cell_type": "code",
   "execution_count": 21,
   "metadata": {},
   "outputs": [],
   "source": [
    "#Maze measurements\n",
    "maze_measurements_dic=rec_dd()\n",
    "for maze_number in ['1','2']:\n",
    "    maze_measurementspath=Input_folder+'/Maze_measurements/Maze'+str(maze_number)+'_measurements.txt'\n",
    "    df=pd.read_csv(maze_measurementspath, sep='\\t', lineterminator='\\r')\n",
    "    df = df.replace(r'\\n','', regex=True) \n",
    "    measurements=df.values\n",
    "    maze_measurements_dic['num_pixels_mean'][maze_number]=np.mean(measurements[:6,1])\n",
    "    maze_measurements_dic['length_cm'][maze_number]=measurements[6,1]\n",
    "    maze_measurements_dic['width_cm'][maze_number]=measurements[7,1]\n"
   ]
  },
  {
   "cell_type": "code",
   "execution_count": null,
   "metadata": {},
   "outputs": [],
   "source": []
  },
  {
   "cell_type": "code",
   "execution_count": 25,
   "metadata": {
    "scrolled": true
   },
   "outputs": [
    {
     "name": "stdout",
     "output_type": "stream",
     "text": [
      "ab03_01092023\n",
      "ab03_02092023\n",
      "ab03_05092023\n",
      "ab03_06092023\n"
     ]
    },
    {
     "name": "stderr",
     "output_type": "stream",
     "text": [
      "C:\\Users\\moham\\AppData\\Local\\Temp\\ipykernel_24032\\4072082421.py:30: DeprecationWarning: Please use `gaussian_filter1d` from the `scipy.ndimage` namespace, the `scipy.ndimage.filters` namespace is deprecated.\n",
      "  whl_XX=sp.ndimage.filters.gaussian_filter1d(whl_XX, smoothSDs,axis=0)\n"
     ]
    },
    {
     "name": "stdout",
     "output_type": "stream",
     "text": [
      "ab03_29082023\n",
      "ab03_30082023\n",
      "ah03_12082021\n",
      "ah03_13082021\n",
      "ah03_18082021\n",
      "ah03_19082021\n",
      "ah04_01122021\n",
      "ah04_02122021\n",
      "ah04_05122021\n",
      "ah04_06122021\n",
      "ah04_07122021\n",
      "ah04_08122021\n",
      "ah04_09122021\n",
      "ah04_10122021\n",
      "ah04_14122021\n",
      "ah04_16122021\n",
      "ah04_26112021\n",
      "ah04_30112021\n",
      "ah07_01092023\n",
      "ah07_02092023\n",
      "ah07_27082023\n",
      "ah07_28082023\n",
      "3\n",
      "speed_dic not made\n",
      "[Errno 2] No such file or directory: 'C:/Users/moham/team_mouse Dropbox/Mohamady El-Gaby/Taskspace_abstraction/Data/Intermediate_objects/XY_raw_ah07_28082023_3.npy'\n",
      "ah07_29082023\n",
      "ah07_30082023\n",
      "me08_06092021\n",
      "me08_09092021\n",
      "me08_10092021\n",
      "me08_11092021\n",
      "me08_12092021\n",
      "2\n",
      "speed_dic not made\n",
      "[Errno 2] No such file or directory: 'C:/Users/moham/team_mouse Dropbox/Mohamady El-Gaby/Taskspace_abstraction/Data/Intermediate_objects/XY_raw_me08_12092021_2.npy'\n",
      "me08_13092021\n",
      "me10_08122021\n",
      "me10_09122021\n",
      "me10_10122021\n",
      "me10_14122021\n",
      "me10_15122021\n",
      "me10_16122021\n",
      "me10_17122021\n",
      "me10_19122021\n",
      "me10_20122021\n",
      "me10_21122021\n",
      "me11_01122021\n",
      "me11_02122021\n",
      "me11_05122021\n",
      "me11_06122021\n",
      "me11_07122021\n",
      "me11_08122021\n",
      "me11_09122021\n",
      "me11_10122021\n",
      "me11_12122021\n",
      "me11_13122021\n",
      "me11_30112021\n",
      "ab03_01092023_02092023\n",
      "ab03_05092023_06092023\n",
      "ab03_29082023_30082023\n",
      "ah03_12082021_13082021\n",
      "ah03_18082021_19082021\n",
      "ah04_01122021_02122021\n",
      "ah04_05122021_06122021\n",
      "ah04_07122021_08122021\n",
      "ah04_09122021_10122021\n",
      "ah04_14122021_16122021\n",
      "ah07_01092023_02092023\n",
      "ah07_27082023_28082023\n",
      "7\n",
      "speed_dic not made\n",
      "[Errno 2] No such file or directory: 'C:/Users/moham/team_mouse Dropbox/Mohamady El-Gaby/Taskspace_abstraction/Data/Intermediate_objects/XY_raw_ah07_27082023_28082023_7.npy'\n",
      "ah07_29082023_30082023\n",
      "me08_06092021_09092021\n",
      "me08_10092021_11092021\n",
      "me08_12092021_13092021\n",
      "2\n",
      "speed_dic not made\n",
      "[Errno 2] No such file or directory: 'C:/Users/moham/team_mouse Dropbox/Mohamady El-Gaby/Taskspace_abstraction/Data/Intermediate_objects/XY_raw_me08_12092021_13092021_2.npy'\n",
      "me10_09122021_10122021\n",
      "me10_14122021_15122021\n",
      "me10_17122021_19122021\n",
      "me10_20122021_21122021\n",
      "me11_01122021_02122021\n",
      "me11_05122021_06122021\n",
      "me11_07122021_08122021\n",
      "me11_09122021_10122021\n",
      "me11_12122021_13122021\n"
     ]
    }
   ],
   "source": [
    "###calculating speed\n",
    "speed_dic=rec_dd()\n",
    "smooth_SDs=5\n",
    "\n",
    "for day_type in ['3_task_all','combined_ABCDonly']:\n",
    "    recording_days_=np.load(Input_folder+day_type+'_days.npy')\n",
    "    for mouse_recday in recording_days_:\n",
    "        mouse=mouse_recday.split('_',1)[0]\n",
    "        rec_day=mouse_recday.split('_',1)[1]\n",
    "        awake_sessions=np.load(Input_folder+'awake_session_'+mouse_recday+'.npy'\\\n",
    "                              ,allow_pickle=True)\n",
    "        frame_rate=60\n",
    "\n",
    "        print(mouse_recday)\n",
    "\n",
    "\n",
    "\n",
    "        for ses_ind in np.arange(len(awake_sessions)):\n",
    "            try:\n",
    "                maze_number=str(Mice_maze_dic[mouse])\n",
    "\n",
    "                maze_length_pixels=maze_measurements_dic['num_pixels_mean'][maze_number]\n",
    "                maze_length_cm=maze_measurements_dic['length_cm'][maze_number] ##cm\n",
    "                pixels_per_cm=maze_length_pixels/maze_length_cm\n",
    "\n",
    "                whl=np.load(Input_folder+'XY_raw_'+mouse_recday+'_'+str(ses_ind)+'.npy')\n",
    "                z=np.shape(whl)[0]\n",
    "                whl_XX=np.column_stack((np.roll(whl[:,0],1),np.roll(whl[:,1],1),whl))\n",
    "                smoothSDs=2\n",
    "                whl_XX[whl[:,0]<0]=np.nan\n",
    "                whl_XX=sp.ndimage.filters.gaussian_filter1d(whl_XX, smoothSDs,axis=0)\n",
    "\n",
    "                ##speed calculation\n",
    "                speed=[]\n",
    "                x1=whl_XX[:,0]\n",
    "                y1=whl_XX[:,1]\n",
    "                x2=whl_XX[:,2]\n",
    "                y2=whl_XX[:,3]\n",
    "                speedxx=(((x2-x1)**2+(y2-y1)**2)**0.5)\n",
    "                speedx=speedxx/pixels_per_cm ##pixels to cm\n",
    "                speed=speedx*frame_rate ##frames to seconds \n",
    "\n",
    "                speed_dic[mouse_recday][ses_ind]=speed    \n",
    "            except Exception as e:\n",
    "                print(ses_ind)\n",
    "                print('speed_dic not made')\n",
    "                print(e)\n"
   ]
  },
  {
   "cell_type": "code",
   "execution_count": null,
   "metadata": {},
   "outputs": [],
   "source": []
  },
  {
   "cell_type": "code",
   "execution_count": 27,
   "metadata": {},
   "outputs": [
    {
     "name": "stdout",
     "output_type": "stream",
     "text": [
      "ab03_01092023_02092023\n",
      "0\n",
      "1\n",
      "2\n",
      "3\n",
      "4\n",
      "5\n",
      "6\n",
      "ab03_05092023_06092023\n",
      "0\n",
      "1\n",
      "2\n",
      "3\n",
      "4\n",
      "5\n",
      "6\n",
      "7\n",
      "ab03_29082023_30082023\n",
      "0\n",
      "1\n",
      "2\n",
      "3\n",
      "4\n",
      "5\n",
      "6\n",
      "7\n",
      "8\n",
      "ah03_12082021_13082021\n",
      "0\n",
      "1\n",
      "2\n",
      "3\n",
      "4\n",
      "5\n",
      "6\n",
      "7\n",
      "ah03_18082021_19082021\n",
      "0\n",
      "1\n",
      "2\n",
      "3\n",
      "4\n",
      "5\n",
      "6\n",
      "7\n",
      "ah04_01122021_02122021\n",
      "0\n",
      "1\n",
      "2\n",
      "3\n",
      "4\n",
      "5\n",
      "6\n",
      "7\n",
      "ah04_05122021_06122021\n",
      "0\n",
      "1\n",
      "2\n",
      "3\n",
      "4\n",
      "5\n",
      "6\n",
      "7\n",
      "ah04_07122021_08122021\n",
      "0\n",
      "1\n",
      "2\n",
      "3\n",
      "4\n",
      "5\n",
      "6\n",
      "7\n",
      "ah04_09122021_10122021\n",
      "0\n",
      "1\n",
      "2\n",
      "3\n",
      "4\n",
      "5\n",
      "6\n",
      "7\n",
      "ah04_14122021_16122021\n",
      "0\n",
      "1\n",
      "2\n",
      "3\n",
      "4\n",
      "5\n",
      "6\n",
      "7\n",
      "ah07_01092023_02092023\n",
      "0\n",
      "1\n",
      "2\n",
      "3\n",
      "4\n",
      "5\n",
      "6\n",
      "ah07_27082023_28082023\n",
      "0\n",
      "1\n",
      "2\n",
      "3\n",
      "4\n",
      "5\n",
      "6\n",
      "7\n",
      "Phase_raw_dic and Times_from_reward_dic not made\n",
      "[Errno 2] No such file or directory: 'C:/Users/moham/team_mouse Dropbox/Mohamady El-Gaby/Taskspace_abstraction/Data/Intermediate_objects/trialtimes_ah07_27082023_28082023_7.npy'\n",
      "<class 'FileNotFoundError'> 658305324.py 25\n",
      "ah07_29082023_30082023\n",
      "0\n",
      "1\n",
      "2\n",
      "3\n",
      "4\n",
      "5\n",
      "6\n",
      "me08_06092021_09092021\n",
      "0\n",
      "1\n",
      "2\n",
      "3\n",
      "4\n",
      "5\n",
      "6\n",
      "7\n",
      "me08_10092021_11092021\n",
      "0\n",
      "1\n",
      "2\n",
      "3\n",
      "4\n",
      "5\n",
      "me08_12092021_13092021\n",
      "0\n",
      "1\n",
      "2\n",
      "Phase_raw_dic and Times_from_reward_dic not made\n",
      "[Errno 2] No such file or directory: 'C:/Users/moham/team_mouse Dropbox/Mohamady El-Gaby/Taskspace_abstraction/Data/Intermediate_objects/trialtimes_me08_12092021_13092021_2.npy'\n",
      "<class 'FileNotFoundError'> 658305324.py 25\n",
      "3\n",
      "4\n",
      "5\n",
      "6\n",
      "7\n",
      "me10_09122021_10122021\n",
      "0\n",
      "1\n",
      "2\n",
      "3\n",
      "4\n",
      "5\n",
      "6\n",
      "7\n",
      "8\n",
      "me10_14122021_15122021\n",
      "0\n",
      "1\n",
      "2\n",
      "3\n",
      "4\n",
      "5\n",
      "6\n",
      "me10_17122021_19122021\n",
      "0\n",
      "1\n",
      "2\n",
      "3\n",
      "4\n",
      "5\n",
      "6\n",
      "7\n",
      "me10_20122021_21122021\n",
      "0\n",
      "1\n",
      "2\n",
      "3\n",
      "4\n",
      "5\n",
      "me11_01122021_02122021\n",
      "0\n",
      "1\n",
      "2\n",
      "3\n",
      "4\n",
      "5\n",
      "6\n",
      "7\n",
      "me11_05122021_06122021\n",
      "0\n",
      "1\n",
      "2\n",
      "3\n",
      "4\n",
      "5\n",
      "6\n",
      "7\n",
      "8\n",
      "me11_07122021_08122021\n",
      "0\n",
      "1\n",
      "2\n",
      "3\n",
      "4\n",
      "5\n",
      "6\n",
      "7\n",
      "me11_09122021_10122021\n",
      "0\n",
      "1\n",
      "2\n",
      "3\n",
      "4\n",
      "5\n",
      "6\n",
      "7\n",
      "8\n",
      "me11_12122021_13122021\n",
      "0\n",
      "1\n",
      "2\n",
      "3\n",
      "4\n",
      "5\n",
      "6\n",
      "7\n",
      "8\n",
      "ab03_01092023\n",
      "0\n",
      "1\n",
      "2\n",
      "ab03_02092023\n",
      "0\n",
      "1\n",
      "2\n",
      "3\n",
      "ab03_05092023\n",
      "0\n",
      "1\n",
      "2\n",
      "3\n",
      "ab03_06092023\n",
      "0\n",
      "1\n",
      "2\n",
      "3\n",
      "ab03_29082023\n",
      "0\n",
      "1\n",
      "2\n",
      "3\n",
      "ab03_30082023\n",
      "0\n",
      "1\n",
      "2\n",
      "3\n",
      "4\n",
      "ah03_12082021\n",
      "0\n",
      "1\n",
      "2\n",
      "3\n",
      "ah03_13082021\n",
      "0\n",
      "1\n",
      "2\n",
      "3\n",
      "ah03_18082021\n",
      "0\n",
      "1\n",
      "2\n",
      "3\n",
      "ah03_19082021\n",
      "0\n",
      "1\n",
      "2\n",
      "3\n",
      "ah04_01122021\n",
      "0\n",
      "1\n",
      "2\n",
      "3\n",
      "ah04_02122021\n",
      "0\n",
      "1\n",
      "2\n",
      "3\n",
      "ah04_05122021\n",
      "0\n",
      "1\n",
      "2\n",
      "3\n",
      "ah04_06122021\n",
      "0\n",
      "1\n",
      "2\n",
      "3\n",
      "ah04_07122021\n",
      "0\n",
      "1\n",
      "2\n",
      "3\n",
      "ah04_08122021\n",
      "0\n",
      "1\n",
      "2\n",
      "3\n",
      "ah04_09122021\n",
      "0\n",
      "1\n",
      "2\n",
      "3\n",
      "ah04_10122021\n",
      "0\n",
      "1\n",
      "2\n",
      "3\n",
      "ah04_14122021\n",
      "0\n",
      "1\n",
      "2\n",
      "3\n",
      "ah04_16122021\n",
      "0\n",
      "1\n",
      "2\n",
      "3\n",
      "ah04_26112021\n",
      "0\n",
      "1\n",
      "2\n",
      "3\n",
      "ah04_30112021\n",
      "0\n",
      "1\n",
      "2\n",
      "3\n",
      "ah07_01092023\n",
      "0\n",
      "1\n",
      "2\n",
      "ah07_02092023\n",
      "0\n",
      "1\n",
      "2\n",
      "3\n",
      "ah07_27082023\n",
      "0\n",
      "1\n",
      "2\n",
      "3\n",
      "ah07_28082023\n",
      "0\n",
      "1\n",
      "2\n",
      "3\n",
      "Phase_raw_dic and Times_from_reward_dic not made\n",
      "[Errno 2] No such file or directory: 'C:/Users/moham/team_mouse Dropbox/Mohamady El-Gaby/Taskspace_abstraction/Data/Intermediate_objects/trialtimes_ah07_28082023_3.npy'\n",
      "<class 'FileNotFoundError'> 658305324.py 25\n",
      "ah07_29082023\n",
      "0\n",
      "1\n",
      "2\n",
      "3\n",
      "ah07_30082023\n",
      "0\n",
      "1\n",
      "2\n",
      "me08_06092021\n",
      "0\n",
      "1\n",
      "2\n",
      "3\n",
      "me08_09092021\n",
      "0\n",
      "1\n",
      "2\n",
      "3\n",
      "me08_10092021\n",
      "0\n",
      "1\n",
      "2\n",
      "3\n",
      "me08_11092021\n",
      "0\n",
      "1\n",
      "me08_12092021\n",
      "0\n",
      "1\n",
      "2\n",
      "Phase_raw_dic and Times_from_reward_dic not made\n",
      "[Errno 2] No such file or directory: 'C:/Users/moham/team_mouse Dropbox/Mohamady El-Gaby/Taskspace_abstraction/Data/Intermediate_objects/trialtimes_me08_12092021_2.npy'\n",
      "<class 'FileNotFoundError'> 658305324.py 25\n",
      "3\n",
      "me08_13092021\n",
      "0\n",
      "1\n",
      "2\n",
      "3\n",
      "me10_08122021\n",
      "0\n",
      "1\n",
      "2\n",
      "3\n",
      "me10_09122021\n",
      "0\n",
      "1\n",
      "2\n",
      "3\n",
      "me10_10122021\n",
      "0\n",
      "1\n",
      "2\n",
      "3\n",
      "4\n",
      "me10_14122021\n",
      "0\n",
      "1\n",
      "2\n",
      "3\n",
      "me10_15122021\n",
      "0\n",
      "1\n",
      "2\n",
      "me10_16122021\n",
      "0\n",
      "1\n",
      "2\n",
      "3\n",
      "me10_17122021\n",
      "0\n",
      "1\n",
      "2\n",
      "3\n",
      "me10_19122021\n",
      "0\n",
      "1\n",
      "2\n",
      "3\n",
      "me10_20122021\n",
      "0\n",
      "1\n",
      "2\n",
      "me10_21122021\n",
      "0\n",
      "1\n",
      "2\n",
      "me11_01122021\n",
      "0\n",
      "1\n",
      "2\n",
      "3\n",
      "me11_02122021\n",
      "0\n",
      "1\n",
      "2\n",
      "3\n",
      "me11_05122021\n",
      "0\n",
      "1\n",
      "2\n",
      "3\n",
      "me11_06122021\n",
      "0\n",
      "1\n",
      "2\n",
      "3\n",
      "4\n",
      "me11_07122021\n",
      "0\n",
      "1\n",
      "2\n",
      "3\n",
      "me11_08122021\n",
      "0\n",
      "1\n",
      "2\n",
      "3\n",
      "me11_09122021\n",
      "0\n",
      "1\n",
      "2\n",
      "3\n",
      "me11_10122021\n",
      "0\n",
      "1\n",
      "2\n",
      "3\n",
      "4\n",
      "me11_12122021\n",
      "0\n",
      "1\n",
      "2\n",
      "3\n",
      "me11_13122021\n",
      "0\n",
      "1\n",
      "2\n",
      "3\n",
      "4\n",
      "me11_30112021\n",
      "0\n",
      "1\n",
      "2\n",
      "3\n"
     ]
    }
   ],
   "source": [
    "###Making phase, state and time arrays\n",
    "ii=0\n",
    "jj=0\n",
    "#num_states=4 - now defined below seperately for each session \n",
    "num_phases=5\n",
    "num_phases2=3\n",
    "Phases_raw_dic=rec_dd()\n",
    "Phases_raw_dic2=rec_dd()\n",
    "States_raw_dic=rec_dd()\n",
    "Distances_from_reward_dic=rec_dd()\n",
    "\n",
    "Times_from_reward_dic=rec_dd()\n",
    "Times_from_start_dic=rec_dd()\n",
    "for day_type in ['combined_ABCDonly','3_task_all']:\n",
    "    recording_days_=np.load(Input_folder+day_type+'_days.npy')\n",
    "    for mouse_recday in recording_days_:\n",
    "        print(mouse_recday) \n",
    "        awake_sessions=np.load(Input_folder+'awake_session_'+mouse_recday+'.npy'\\\n",
    "                              ,allow_pickle=True)\n",
    "        \n",
    "        for ses_ind in np.arange(len(awake_sessions)):\n",
    "            print(ses_ind)\n",
    "            \n",
    "            \n",
    "            try:\n",
    "                Trial_times=np.load(Input_folder+'trialtimes_'+mouse_recday+'_'+str(ses_ind)+'.npy')\n",
    "                num_states=np.shape(Trial_times)[1]-1\n",
    "                \n",
    "                distances=speed_dic[mouse_recday][ses_ind]\n",
    "                \n",
    "                \n",
    "                residual_cum=0\n",
    "                time_cum=0\n",
    "                \n",
    "                distances_all=[]\n",
    "                times_all=[]\n",
    "                phases_all=[]\n",
    "                states_all=[]\n",
    "                times_from_start_all=[]\n",
    "                for ii in range(len(Trial_times)):\n",
    "                    distances_trial=[]\n",
    "                    phases_trial=[]\n",
    "                    states_trial=[]\n",
    "                    times_trial=[]\n",
    "                    times_from_start_trial=[]\n",
    "                    for jj in range(num_states):\n",
    "                        start=Trial_times[ii,jj]//25\n",
    "                        end=Trial_times[ii,jj+1]//25\n",
    "                        distances_trial_state=np.cumsum(distances[start:end])\n",
    "\n",
    "                        \n",
    "                        num_bins=(Trial_times[ii,jj+1]-Trial_times[ii,jj])//25\n",
    "                        residual=((Trial_times[ii,jj+1]-Trial_times[ii,jj])%25)/25\n",
    "                        residual_cum+=residual\n",
    "\n",
    "                        phase_trial_state=np.hstack((np.repeat(np.arange(num_phases),num_bins//num_phases),\\\n",
    "                                                         np.repeat(int(num_phases-1),num_bins-\\\n",
    "                                                                   (num_bins//num_phases)*num_phases)))\n",
    "\n",
    "\n",
    "                        if residual_cum<1:\n",
    "                            phase_trial_state=phase_trial_state\n",
    "                        else:\n",
    "                            phase_trial_state=np.hstack((phase_trial_state,int(num_phases-1)))\n",
    "                            residual_cum=residual_cum-1\n",
    "\n",
    "                        states_trial_state=np.repeat(jj,len(phase_trial_state))\n",
    "\n",
    "                        time_from_reward=np.arange(len(phase_trial_state))\n",
    "\n",
    "                        time_from_start=time_from_reward+time_cum\n",
    "                        time_cum+=len(time_from_start)\n",
    "\n",
    "                        distances_trial.append(distances_trial_state)\n",
    "                        phases_trial.append(phase_trial_state)\n",
    "                        states_trial.append(states_trial_state)\n",
    "                        times_trial.append(time_from_reward)\n",
    "                        times_from_start_trial.append(time_from_start)\n",
    "\n",
    "                    distances_all.append(distances_trial)\n",
    "                    phases_all.append(phases_trial)\n",
    "                    states_all.append(states_trial)\n",
    "                    times_all.append(times_trial)\n",
    "                    times_from_start_all.append(times_from_start_trial)\n",
    "\n",
    "                Phases_raw_dic2[mouse_recday][ses_ind]=phases_all\n",
    "                Phases_raw_dic[mouse_recday][ses_ind]=phases_all\n",
    "                States_raw_dic[mouse_recday][ses_ind]=states_all\n",
    "                Times_from_reward_dic[mouse_recday][ses_ind]=times_all\n",
    "                Times_from_start_dic[mouse_recday][ses_ind]=times_from_start_all\n",
    "                Distances_from_reward_dic[mouse_recday][ses_ind]=distances_all\n",
    "            except Exception as e:\n",
    "                print('Phase_raw_dic and Times_from_reward_dic not made')                \n",
    "                print(e)\n",
    "                exc_type, exc_obj, exc_tb = sys.exc_info()\n",
    "                fname = os.path.split(exc_tb.tb_frame.f_code.co_filename)[1]\n",
    "                print(exc_type, fname, exc_tb.tb_lineno)\n"
   ]
  },
  {
   "cell_type": "code",
   "execution_count": 31,
   "metadata": {},
   "outputs": [
    {
     "name": "stdout",
     "output_type": "stream",
     "text": [
      "ab03_01092023_02092023\n",
      "ab03_05092023_06092023\n",
      "ab03_29082023_30082023\n",
      "ah03_12082021_13082021\n",
      "ah03_18082021_19082021\n",
      "ah04_01122021_02122021\n",
      "ah04_05122021_06122021\n",
      "ah04_07122021_08122021\n",
      "ah04_09122021_10122021\n",
      "ah04_14122021_16122021\n",
      "ah07_01092023_02092023\n",
      "ah07_27082023_28082023\n",
      "ah07_29082023_30082023\n",
      "me08_06092021_09092021\n",
      "me08_10092021_11092021\n",
      "me08_12092021_13092021\n",
      "me10_09122021_10122021\n",
      "me10_14122021_15122021\n",
      "me10_17122021_19122021\n",
      "me10_20122021_21122021\n",
      "me11_01122021_02122021\n",
      "me11_05122021_06122021\n",
      "me11_07122021_08122021\n",
      "me11_09122021_10122021\n",
      "me11_12122021_13122021\n"
     ]
    }
   ],
   "source": [
    "###Making Combined_days_dic\n",
    "day_type='combined_ABCDonly'\n",
    "\n",
    "recording_days_=np.load(Input_folder+day_type+'_days.npy')\n",
    "\n",
    "Combined_days_dic=rec_dd()\n",
    "for mouse_recday in recording_days_:\n",
    "    print(mouse_recday)\n",
    "    mouse=mouse_recday.split('_',1)[0]\n",
    "    rec_day=mouse_recday.split('_',1)[1]\n",
    "    All_sessions=np.load(Input_folder+'All_session_'+mouse_recday+'.npy')\n",
    "    awake_sessions=np.load(Input_folder+'awake_session_'+mouse_recday+'.npy'\\\n",
    "                              ,allow_pickle=True)\n",
    "    \n",
    "    rec_day1=rec_day.split('_',1)[0]\n",
    "    rec_day2=rec_day.split('_',1)[1]\n",
    "    Date1=rec_day1[-4:]+'-'+rec_day1[2:4]+'-'+rec_day1[:2]\n",
    "    Date2=rec_day2[-4:]+'-'+rec_day2[2:4]+'-'+rec_day2[:2]\n",
    "    \n",
    "    mouse_recday1=mouse+'_'+rec_day1\n",
    "    mouse_recday2=mouse+'_'+rec_day2\n",
    "    \n",
    "    awake_sessions_day1=np.load(Input_folder+'awake_session_'+mouse_recday1+'.npy')\n",
    "    All_sessions_day1=np.load(Input_folder+'All_session_'+mouse_recday1+'.npy')\n",
    "    awake_sessions_day2=np.load(Input_folder+'awake_session_'+mouse_recday2+'.npy')\n",
    "    All_sessions_day2=np.load(Input_folder+'All_session_'+mouse_recday2+'.npy')\n",
    "    \n",
    "    Combined_days_dic['awake'][mouse_recday]=\\\n",
    "    np.hstack((np.repeat(mouse_recday1,len(awake_sessions_day1)),np.repeat(mouse_recday2,len(awake_sessions_day2))))\n",
    "    \n",
    "    Combined_days_dic['All'][mouse_recday]=\\\n",
    "    np.hstack((np.repeat(mouse_recday1,len(All_sessions_day1)),np.repeat(mouse_recday2,len(All_sessions_day2))))"
   ]
  },
  {
   "cell_type": "code",
   "execution_count": 32,
   "metadata": {},
   "outputs": [
    {
     "name": "stdout",
     "output_type": "stream",
     "text": [
      "ab03_01092023_02092023\n",
      "ab03_05092023_06092023\n",
      "ab03_29082023_30082023\n",
      "ah03_12082021_13082021\n",
      "ah03_18082021_19082021\n",
      "ah04_01122021_02122021\n",
      "ah04_05122021_06122021\n",
      "ah04_07122021_08122021\n",
      "ah04_09122021_10122021\n",
      "ah04_14122021_16122021\n",
      "ah07_01092023_02092023\n",
      "ah07_27082023_28082023\n",
      "[Errno 2] No such file or directory: 'C:/Users/moham/team_mouse Dropbox/Mohamady El-Gaby/Taskspace_abstraction/Data/Intermediate_objects/Neuron_raw_ah07_27082023_28082023_7.npy'\n",
      "ah07_29082023_30082023\n",
      "me08_06092021_09092021\n",
      "me08_10092021_11092021\n",
      "me08_12092021_13092021\n",
      "[Errno 2] No such file or directory: 'C:/Users/moham/team_mouse Dropbox/Mohamady El-Gaby/Taskspace_abstraction/Data/Intermediate_objects/Neuron_raw_me08_12092021_13092021_2.npy'\n",
      "me10_09122021_10122021\n",
      "me10_14122021_15122021\n",
      "[Errno 2] No such file or directory: 'C:/Users/moham/team_mouse Dropbox/Mohamady El-Gaby/Taskspace_abstraction/Data/Intermediate_objects/Neuron_raw_me10_14122021_15122021_5.npy'\n",
      "me10_17122021_19122021\n",
      "me10_20122021_21122021\n",
      "me11_01122021_02122021\n",
      "me11_05122021_06122021\n",
      "me11_07122021_08122021\n",
      "me11_09122021_10122021\n",
      "me11_12122021_13122021\n"
     ]
    }
   ],
   "source": [
    "###making arrays for split double days \n",
    "day_type='combined_ABCDonly'\n",
    "recording_days_=np.load(Input_folder+day_type+'_days.npy')\n",
    "for mouse_recday in recording_days_:\n",
    "    print(mouse_recday)\n",
    "    try:\n",
    "        mouse=mouse_recday.split('_',1)[0]\n",
    "        rec_day=mouse_recday.split('_',1)[1]\n",
    "        rec_day1=rec_day.split('_',1)[0]\n",
    "        rec_day2=rec_day.split('_',1)[1]\n",
    "        Date1=rec_day1[-4:]+'-'+rec_day1[2:4]+'-'+rec_day1[:2]\n",
    "        Date2=rec_day2[-4:]+'-'+rec_day2[2:4]+'-'+rec_day2[:2]\n",
    "\n",
    "        mouse_recday1=mouse+'_'+rec_day1\n",
    "        mouse_recday2=mouse+'_'+rec_day2\n",
    "\n",
    "        Neuron_raw=np.load(Input_folder+'Neuron_raw_'+mouse_recday+'_0.npy')\n",
    "        num_neurons=len(Neuron_raw)\n",
    "        awake_sessions=np.load(Input_folder+'awake_session_'+mouse_recday+'.npy'\\\n",
    "                              ,allow_pickle=True)\n",
    "\n",
    "        days=Combined_days_dic['awake'][mouse_recday]\n",
    "        for mouse_recdayX in [mouse_recday1,mouse_recday2]:\n",
    "            awake_sessions_day=np.load(Input_folder+'awake_session_'+mouse_recdayX+'.npy')\n",
    "            if mouse_recdayX in np.load(Input_folder+'3_task_days.npy'):\n",
    "                continue\n",
    "            awake_day_bool=np.hstack(([awake_sessions[ii] in awake_sessions_day for ii in range(len(awake_sessions))]))\n",
    "            awake_ses_day=np.where(awake_day_bool==True)[0]\n",
    "\n",
    "\n",
    "            for awake_session_ind_ind, awake_session_ind in enumerate(awake_ses_day): \n",
    "                Neuron_raw=np.load(Input_folder+'Neuron_raw_'+mouse_recday+'_'+\\\n",
    "                                   str(awake_session_ind)+'.npy')\n",
    "                Location_raw=np.load(Input_folder+'Location_raw_'+mouse_recday+'_'+\\\n",
    "                                     str(awake_session_ind)+'.npy')\n",
    "                XY_raw=np.load(Input_folder+'XY_raw_'+mouse_recday+'_'\\\n",
    "                               +str(awake_session_ind)+'.npy')\n",
    "                Trial_times=np.load(Input_folder+'trialtimes_'+mouse_recday+'_'\\\n",
    "                                    +str(awake_session_ind)+'.npy')\n",
    "                distances=np.load(Input_folder+'Distances_from_reward_'+\\\n",
    "                    mouse_recday+'_'+str(awake_session_ind)+'.npy',allow_pickle=True)\n",
    "\n",
    "                np.save(Input_folder+'Neuron_raw_'+mouse_recdayX+'_'+\\\n",
    "                                   str(awake_session_ind_ind)+'.npy',Neuron_raw)\n",
    "                np.save(Input_folder+'Location_raw_'+mouse_recdayX+'_'+\\\n",
    "                                     str(awake_session_ind_ind)+'.npy',Location_raw)\n",
    "                np.save(Input_folder+'XY_raw_'+mouse_recdayX+'_'\\\n",
    "                               +str(awake_session_ind_ind)+'.npy',XY_raw)\n",
    "                np.save(Input_folder+'trialtimes_'+mouse_recdayX+'_'\\\n",
    "                                    +str(awake_session_ind_ind)+'.npy',Trial_times)\n",
    "                np.save(Input_folder+'Distances_from_reward_'+\\\n",
    "                    mouse_recdayX+'_'+str(awake_session_ind_ind)+'.npy',distances)\n",
    "\n",
    "\n",
    "    except Exception as e:\n",
    "        print(e)\n"
   ]
  },
  {
   "cell_type": "code",
   "execution_count": 194,
   "metadata": {},
   "outputs": [],
   "source": []
  },
  {
   "cell_type": "code",
   "execution_count": null,
   "metadata": {},
   "outputs": [],
   "source": []
  },
  {
   "cell_type": "code",
   "execution_count": 42,
   "metadata": {
    "scrolled": true
   },
   "outputs": [
    {
     "name": "stdout",
     "output_type": "stream",
     "text": [
      "ah03_18082021\n",
      "0\n"
     ]
    },
    {
     "name": "stderr",
     "output_type": "stream",
     "text": [
      "C:\\Users\\moham\\AppData\\Local\\Temp\\ipykernel_24032\\629937003.py:93: VisibleDeprecationWarning: Creating an ndarray from ragged nested sequences (which is a list-or-tuple of lists-or-tuples-or ndarrays with different lengths or shapes) is deprecated. If you meant to do this, you must specify 'dtype=object' when creating the ndarray.\n",
      "  return(np.asarray(ALL_elements))\n"
     ]
    },
    {
     "name": "stdout",
     "output_type": "stream",
     "text": [
      "1\n"
     ]
    },
    {
     "name": "stderr",
     "output_type": "stream",
     "text": [
      "C:\\Users\\moham\\AppData\\Local\\Temp\\ipykernel_24032\\629937003.py:93: VisibleDeprecationWarning: Creating an ndarray from ragged nested sequences (which is a list-or-tuple of lists-or-tuples-or ndarrays with different lengths or shapes) is deprecated. If you meant to do this, you must specify 'dtype=object' when creating the ndarray.\n",
      "  return(np.asarray(ALL_elements))\n"
     ]
    },
    {
     "name": "stdout",
     "output_type": "stream",
     "text": [
      "2\n"
     ]
    },
    {
     "name": "stderr",
     "output_type": "stream",
     "text": [
      "C:\\Users\\moham\\AppData\\Local\\Temp\\ipykernel_24032\\629937003.py:93: VisibleDeprecationWarning: Creating an ndarray from ragged nested sequences (which is a list-or-tuple of lists-or-tuples-or ndarrays with different lengths or shapes) is deprecated. If you meant to do this, you must specify 'dtype=object' when creating the ndarray.\n",
      "  return(np.asarray(ALL_elements))\n"
     ]
    },
    {
     "name": "stdout",
     "output_type": "stream",
     "text": [
      "ah04_06122021\n",
      "0\n"
     ]
    },
    {
     "name": "stderr",
     "output_type": "stream",
     "text": [
      "C:\\Users\\moham\\AppData\\Local\\Temp\\ipykernel_24032\\629937003.py:93: VisibleDeprecationWarning: Creating an ndarray from ragged nested sequences (which is a list-or-tuple of lists-or-tuples-or ndarrays with different lengths or shapes) is deprecated. If you meant to do this, you must specify 'dtype=object' when creating the ndarray.\n",
      "  return(np.asarray(ALL_elements))\n"
     ]
    },
    {
     "name": "stdout",
     "output_type": "stream",
     "text": [
      "1\n"
     ]
    },
    {
     "name": "stderr",
     "output_type": "stream",
     "text": [
      "C:\\Users\\moham\\AppData\\Local\\Temp\\ipykernel_24032\\629937003.py:93: VisibleDeprecationWarning: Creating an ndarray from ragged nested sequences (which is a list-or-tuple of lists-or-tuples-or ndarrays with different lengths or shapes) is deprecated. If you meant to do this, you must specify 'dtype=object' when creating the ndarray.\n",
      "  return(np.asarray(ALL_elements))\n"
     ]
    },
    {
     "name": "stdout",
     "output_type": "stream",
     "text": [
      "2\n"
     ]
    },
    {
     "name": "stderr",
     "output_type": "stream",
     "text": [
      "C:\\Users\\moham\\AppData\\Local\\Temp\\ipykernel_24032\\629937003.py:93: VisibleDeprecationWarning: Creating an ndarray from ragged nested sequences (which is a list-or-tuple of lists-or-tuples-or ndarrays with different lengths or shapes) is deprecated. If you meant to do this, you must specify 'dtype=object' when creating the ndarray.\n",
      "  return(np.asarray(ALL_elements))\n"
     ]
    },
    {
     "name": "stdout",
     "output_type": "stream",
     "text": [
      "ah04_10122021\n",
      "0\n"
     ]
    },
    {
     "name": "stderr",
     "output_type": "stream",
     "text": [
      "C:\\Users\\moham\\AppData\\Local\\Temp\\ipykernel_24032\\629937003.py:93: VisibleDeprecationWarning: Creating an ndarray from ragged nested sequences (which is a list-or-tuple of lists-or-tuples-or ndarrays with different lengths or shapes) is deprecated. If you meant to do this, you must specify 'dtype=object' when creating the ndarray.\n",
      "  return(np.asarray(ALL_elements))\n"
     ]
    },
    {
     "name": "stdout",
     "output_type": "stream",
     "text": [
      "1\n"
     ]
    },
    {
     "name": "stderr",
     "output_type": "stream",
     "text": [
      "C:\\Users\\moham\\AppData\\Local\\Temp\\ipykernel_24032\\629937003.py:93: VisibleDeprecationWarning: Creating an ndarray from ragged nested sequences (which is a list-or-tuple of lists-or-tuples-or ndarrays with different lengths or shapes) is deprecated. If you meant to do this, you must specify 'dtype=object' when creating the ndarray.\n",
      "  return(np.asarray(ALL_elements))\n"
     ]
    },
    {
     "name": "stdout",
     "output_type": "stream",
     "text": [
      "2\n"
     ]
    },
    {
     "name": "stderr",
     "output_type": "stream",
     "text": [
      "C:\\Users\\moham\\AppData\\Local\\Temp\\ipykernel_24032\\629937003.py:93: VisibleDeprecationWarning: Creating an ndarray from ragged nested sequences (which is a list-or-tuple of lists-or-tuples-or ndarrays with different lengths or shapes) is deprecated. If you meant to do this, you must specify 'dtype=object' when creating the ndarray.\n",
      "  return(np.asarray(ALL_elements))\n"
     ]
    },
    {
     "name": "stdout",
     "output_type": "stream",
     "text": [
      "ah04_26112021\n",
      "0\n"
     ]
    },
    {
     "name": "stderr",
     "output_type": "stream",
     "text": [
      "C:\\Users\\moham\\AppData\\Local\\Temp\\ipykernel_24032\\629937003.py:93: VisibleDeprecationWarning: Creating an ndarray from ragged nested sequences (which is a list-or-tuple of lists-or-tuples-or ndarrays with different lengths or shapes) is deprecated. If you meant to do this, you must specify 'dtype=object' when creating the ndarray.\n",
      "  return(np.asarray(ALL_elements))\n"
     ]
    },
    {
     "name": "stdout",
     "output_type": "stream",
     "text": [
      "1\n"
     ]
    },
    {
     "name": "stderr",
     "output_type": "stream",
     "text": [
      "C:\\Users\\moham\\AppData\\Local\\Temp\\ipykernel_24032\\629937003.py:93: VisibleDeprecationWarning: Creating an ndarray from ragged nested sequences (which is a list-or-tuple of lists-or-tuples-or ndarrays with different lengths or shapes) is deprecated. If you meant to do this, you must specify 'dtype=object' when creating the ndarray.\n",
      "  return(np.asarray(ALL_elements))\n"
     ]
    },
    {
     "name": "stdout",
     "output_type": "stream",
     "text": [
      "2\n"
     ]
    },
    {
     "name": "stderr",
     "output_type": "stream",
     "text": [
      "C:\\Users\\moham\\AppData\\Local\\Temp\\ipykernel_24032\\629937003.py:93: VisibleDeprecationWarning: Creating an ndarray from ragged nested sequences (which is a list-or-tuple of lists-or-tuples-or ndarrays with different lengths or shapes) is deprecated. If you meant to do this, you must specify 'dtype=object' when creating the ndarray.\n",
      "  return(np.asarray(ALL_elements))\n"
     ]
    },
    {
     "name": "stdout",
     "output_type": "stream",
     "text": [
      "ah04_30112021\n",
      "0\n"
     ]
    },
    {
     "name": "stderr",
     "output_type": "stream",
     "text": [
      "C:\\Users\\moham\\AppData\\Local\\Temp\\ipykernel_24032\\629937003.py:93: VisibleDeprecationWarning: Creating an ndarray from ragged nested sequences (which is a list-or-tuple of lists-or-tuples-or ndarrays with different lengths or shapes) is deprecated. If you meant to do this, you must specify 'dtype=object' when creating the ndarray.\n",
      "  return(np.asarray(ALL_elements))\n"
     ]
    },
    {
     "name": "stdout",
     "output_type": "stream",
     "text": [
      "1\n"
     ]
    },
    {
     "name": "stderr",
     "output_type": "stream",
     "text": [
      "C:\\Users\\moham\\AppData\\Local\\Temp\\ipykernel_24032\\629937003.py:93: VisibleDeprecationWarning: Creating an ndarray from ragged nested sequences (which is a list-or-tuple of lists-or-tuples-or ndarrays with different lengths or shapes) is deprecated. If you meant to do this, you must specify 'dtype=object' when creating the ndarray.\n",
      "  return(np.asarray(ALL_elements))\n"
     ]
    },
    {
     "name": "stdout",
     "output_type": "stream",
     "text": [
      "2\n"
     ]
    },
    {
     "name": "stderr",
     "output_type": "stream",
     "text": [
      "C:\\Users\\moham\\AppData\\Local\\Temp\\ipykernel_24032\\629937003.py:93: VisibleDeprecationWarning: Creating an ndarray from ragged nested sequences (which is a list-or-tuple of lists-or-tuples-or ndarrays with different lengths or shapes) is deprecated. If you meant to do this, you must specify 'dtype=object' when creating the ndarray.\n",
      "  return(np.asarray(ALL_elements))\n"
     ]
    },
    {
     "name": "stdout",
     "output_type": "stream",
     "text": [
      "me10_08122021\n",
      "0\n"
     ]
    },
    {
     "name": "stderr",
     "output_type": "stream",
     "text": [
      "C:\\Users\\moham\\AppData\\Local\\Temp\\ipykernel_24032\\629937003.py:93: VisibleDeprecationWarning: Creating an ndarray from ragged nested sequences (which is a list-or-tuple of lists-or-tuples-or ndarrays with different lengths or shapes) is deprecated. If you meant to do this, you must specify 'dtype=object' when creating the ndarray.\n",
      "  return(np.asarray(ALL_elements))\n"
     ]
    },
    {
     "name": "stdout",
     "output_type": "stream",
     "text": [
      "1\n"
     ]
    },
    {
     "name": "stderr",
     "output_type": "stream",
     "text": [
      "C:\\Users\\moham\\AppData\\Local\\Temp\\ipykernel_24032\\629937003.py:93: VisibleDeprecationWarning: Creating an ndarray from ragged nested sequences (which is a list-or-tuple of lists-or-tuples-or ndarrays with different lengths or shapes) is deprecated. If you meant to do this, you must specify 'dtype=object' when creating the ndarray.\n",
      "  return(np.asarray(ALL_elements))\n"
     ]
    },
    {
     "name": "stdout",
     "output_type": "stream",
     "text": [
      "2\n"
     ]
    },
    {
     "name": "stderr",
     "output_type": "stream",
     "text": [
      "C:\\Users\\moham\\AppData\\Local\\Temp\\ipykernel_24032\\629937003.py:93: VisibleDeprecationWarning: Creating an ndarray from ragged nested sequences (which is a list-or-tuple of lists-or-tuples-or ndarrays with different lengths or shapes) is deprecated. If you meant to do this, you must specify 'dtype=object' when creating the ndarray.\n",
      "  return(np.asarray(ALL_elements))\n"
     ]
    },
    {
     "name": "stdout",
     "output_type": "stream",
     "text": [
      "me10_16122021\n",
      "0\n"
     ]
    },
    {
     "name": "stderr",
     "output_type": "stream",
     "text": [
      "C:\\Users\\moham\\AppData\\Local\\Temp\\ipykernel_24032\\629937003.py:93: VisibleDeprecationWarning: Creating an ndarray from ragged nested sequences (which is a list-or-tuple of lists-or-tuples-or ndarrays with different lengths or shapes) is deprecated. If you meant to do this, you must specify 'dtype=object' when creating the ndarray.\n",
      "  return(np.asarray(ALL_elements))\n"
     ]
    },
    {
     "name": "stdout",
     "output_type": "stream",
     "text": [
      "1\n"
     ]
    },
    {
     "name": "stderr",
     "output_type": "stream",
     "text": [
      "C:\\Users\\moham\\AppData\\Local\\Temp\\ipykernel_24032\\629937003.py:93: VisibleDeprecationWarning: Creating an ndarray from ragged nested sequences (which is a list-or-tuple of lists-or-tuples-or ndarrays with different lengths or shapes) is deprecated. If you meant to do this, you must specify 'dtype=object' when creating the ndarray.\n",
      "  return(np.asarray(ALL_elements))\n"
     ]
    },
    {
     "name": "stdout",
     "output_type": "stream",
     "text": [
      "2\n"
     ]
    },
    {
     "name": "stderr",
     "output_type": "stream",
     "text": [
      "C:\\Users\\moham\\AppData\\Local\\Temp\\ipykernel_24032\\629937003.py:93: VisibleDeprecationWarning: Creating an ndarray from ragged nested sequences (which is a list-or-tuple of lists-or-tuples-or ndarrays with different lengths or shapes) is deprecated. If you meant to do this, you must specify 'dtype=object' when creating the ndarray.\n",
      "  return(np.asarray(ALL_elements))\n"
     ]
    },
    {
     "name": "stdout",
     "output_type": "stream",
     "text": [
      "me11_05122021\n",
      "0\n"
     ]
    },
    {
     "name": "stderr",
     "output_type": "stream",
     "text": [
      "C:\\Users\\moham\\AppData\\Local\\Temp\\ipykernel_24032\\629937003.py:93: VisibleDeprecationWarning: Creating an ndarray from ragged nested sequences (which is a list-or-tuple of lists-or-tuples-or ndarrays with different lengths or shapes) is deprecated. If you meant to do this, you must specify 'dtype=object' when creating the ndarray.\n",
      "  return(np.asarray(ALL_elements))\n"
     ]
    },
    {
     "name": "stdout",
     "output_type": "stream",
     "text": [
      "1\n"
     ]
    },
    {
     "name": "stderr",
     "output_type": "stream",
     "text": [
      "C:\\Users\\moham\\AppData\\Local\\Temp\\ipykernel_24032\\629937003.py:93: VisibleDeprecationWarning: Creating an ndarray from ragged nested sequences (which is a list-or-tuple of lists-or-tuples-or ndarrays with different lengths or shapes) is deprecated. If you meant to do this, you must specify 'dtype=object' when creating the ndarray.\n",
      "  return(np.asarray(ALL_elements))\n"
     ]
    },
    {
     "name": "stdout",
     "output_type": "stream",
     "text": [
      "2\n"
     ]
    },
    {
     "name": "stderr",
     "output_type": "stream",
     "text": [
      "C:\\Users\\moham\\AppData\\Local\\Temp\\ipykernel_24032\\629937003.py:93: VisibleDeprecationWarning: Creating an ndarray from ragged nested sequences (which is a list-or-tuple of lists-or-tuples-or ndarrays with different lengths or shapes) is deprecated. If you meant to do this, you must specify 'dtype=object' when creating the ndarray.\n",
      "  return(np.asarray(ALL_elements))\n"
     ]
    },
    {
     "name": "stdout",
     "output_type": "stream",
     "text": [
      "3\n"
     ]
    },
    {
     "name": "stderr",
     "output_type": "stream",
     "text": [
      "C:\\Users\\moham\\AppData\\Local\\Temp\\ipykernel_24032\\629937003.py:93: VisibleDeprecationWarning: Creating an ndarray from ragged nested sequences (which is a list-or-tuple of lists-or-tuples-or ndarrays with different lengths or shapes) is deprecated. If you meant to do this, you must specify 'dtype=object' when creating the ndarray.\n",
      "  return(np.asarray(ALL_elements))\n"
     ]
    },
    {
     "name": "stdout",
     "output_type": "stream",
     "text": [
      "me11_07122021\n",
      "0\n"
     ]
    },
    {
     "name": "stderr",
     "output_type": "stream",
     "text": [
      "C:\\Users\\moham\\AppData\\Local\\Temp\\ipykernel_24032\\629937003.py:93: VisibleDeprecationWarning: Creating an ndarray from ragged nested sequences (which is a list-or-tuple of lists-or-tuples-or ndarrays with different lengths or shapes) is deprecated. If you meant to do this, you must specify 'dtype=object' when creating the ndarray.\n",
      "  return(np.asarray(ALL_elements))\n"
     ]
    },
    {
     "name": "stdout",
     "output_type": "stream",
     "text": [
      "1\n"
     ]
    },
    {
     "name": "stderr",
     "output_type": "stream",
     "text": [
      "C:\\Users\\moham\\AppData\\Local\\Temp\\ipykernel_24032\\629937003.py:93: VisibleDeprecationWarning: Creating an ndarray from ragged nested sequences (which is a list-or-tuple of lists-or-tuples-or ndarrays with different lengths or shapes) is deprecated. If you meant to do this, you must specify 'dtype=object' when creating the ndarray.\n",
      "  return(np.asarray(ALL_elements))\n"
     ]
    },
    {
     "name": "stdout",
     "output_type": "stream",
     "text": [
      "2\n"
     ]
    },
    {
     "name": "stderr",
     "output_type": "stream",
     "text": [
      "C:\\Users\\moham\\AppData\\Local\\Temp\\ipykernel_24032\\629937003.py:93: VisibleDeprecationWarning: Creating an ndarray from ragged nested sequences (which is a list-or-tuple of lists-or-tuples-or ndarrays with different lengths or shapes) is deprecated. If you meant to do this, you must specify 'dtype=object' when creating the ndarray.\n",
      "  return(np.asarray(ALL_elements))\n"
     ]
    },
    {
     "name": "stdout",
     "output_type": "stream",
     "text": [
      "me11_08122021\n",
      "0\n"
     ]
    },
    {
     "name": "stderr",
     "output_type": "stream",
     "text": [
      "C:\\Users\\moham\\AppData\\Local\\Temp\\ipykernel_24032\\629937003.py:93: VisibleDeprecationWarning: Creating an ndarray from ragged nested sequences (which is a list-or-tuple of lists-or-tuples-or ndarrays with different lengths or shapes) is deprecated. If you meant to do this, you must specify 'dtype=object' when creating the ndarray.\n",
      "  return(np.asarray(ALL_elements))\n"
     ]
    },
    {
     "name": "stdout",
     "output_type": "stream",
     "text": [
      "1\n"
     ]
    },
    {
     "name": "stderr",
     "output_type": "stream",
     "text": [
      "C:\\Users\\moham\\AppData\\Local\\Temp\\ipykernel_24032\\629937003.py:93: VisibleDeprecationWarning: Creating an ndarray from ragged nested sequences (which is a list-or-tuple of lists-or-tuples-or ndarrays with different lengths or shapes) is deprecated. If you meant to do this, you must specify 'dtype=object' when creating the ndarray.\n",
      "  return(np.asarray(ALL_elements))\n"
     ]
    },
    {
     "name": "stdout",
     "output_type": "stream",
     "text": [
      "2\n"
     ]
    },
    {
     "name": "stderr",
     "output_type": "stream",
     "text": [
      "C:\\Users\\moham\\AppData\\Local\\Temp\\ipykernel_24032\\629937003.py:93: VisibleDeprecationWarning: Creating an ndarray from ragged nested sequences (which is a list-or-tuple of lists-or-tuples-or ndarrays with different lengths or shapes) is deprecated. If you meant to do this, you must specify 'dtype=object' when creating the ndarray.\n",
      "  return(np.asarray(ALL_elements))\n"
     ]
    },
    {
     "name": "stdout",
     "output_type": "stream",
     "text": [
      "me11_30112021\n",
      "0\n"
     ]
    },
    {
     "name": "stderr",
     "output_type": "stream",
     "text": [
      "C:\\Users\\moham\\AppData\\Local\\Temp\\ipykernel_24032\\629937003.py:93: VisibleDeprecationWarning: Creating an ndarray from ragged nested sequences (which is a list-or-tuple of lists-or-tuples-or ndarrays with different lengths or shapes) is deprecated. If you meant to do this, you must specify 'dtype=object' when creating the ndarray.\n",
      "  return(np.asarray(ALL_elements))\n"
     ]
    },
    {
     "name": "stdout",
     "output_type": "stream",
     "text": [
      "1\n"
     ]
    },
    {
     "name": "stderr",
     "output_type": "stream",
     "text": [
      "C:\\Users\\moham\\AppData\\Local\\Temp\\ipykernel_24032\\629937003.py:93: VisibleDeprecationWarning: Creating an ndarray from ragged nested sequences (which is a list-or-tuple of lists-or-tuples-or ndarrays with different lengths or shapes) is deprecated. If you meant to do this, you must specify 'dtype=object' when creating the ndarray.\n",
      "  return(np.asarray(ALL_elements))\n"
     ]
    },
    {
     "name": "stdout",
     "output_type": "stream",
     "text": [
      "2\n"
     ]
    },
    {
     "name": "stderr",
     "output_type": "stream",
     "text": [
      "C:\\Users\\moham\\AppData\\Local\\Temp\\ipykernel_24032\\629937003.py:93: VisibleDeprecationWarning: Creating an ndarray from ragged nested sequences (which is a list-or-tuple of lists-or-tuples-or ndarrays with different lengths or shapes) is deprecated. If you meant to do this, you must specify 'dtype=object' when creating the ndarray.\n",
      "  return(np.asarray(ALL_elements))\n"
     ]
    },
    {
     "name": "stdout",
     "output_type": "stream",
     "text": [
      "ab03_01092023_02092023\n",
      "0\n"
     ]
    },
    {
     "name": "stderr",
     "output_type": "stream",
     "text": [
      "C:\\Users\\moham\\AppData\\Local\\Temp\\ipykernel_24032\\629937003.py:93: VisibleDeprecationWarning: Creating an ndarray from ragged nested sequences (which is a list-or-tuple of lists-or-tuples-or ndarrays with different lengths or shapes) is deprecated. If you meant to do this, you must specify 'dtype=object' when creating the ndarray.\n",
      "  return(np.asarray(ALL_elements))\n"
     ]
    },
    {
     "name": "stdout",
     "output_type": "stream",
     "text": [
      "1\n"
     ]
    },
    {
     "name": "stderr",
     "output_type": "stream",
     "text": [
      "C:\\Users\\moham\\AppData\\Local\\Temp\\ipykernel_24032\\629937003.py:93: VisibleDeprecationWarning: Creating an ndarray from ragged nested sequences (which is a list-or-tuple of lists-or-tuples-or ndarrays with different lengths or shapes) is deprecated. If you meant to do this, you must specify 'dtype=object' when creating the ndarray.\n",
      "  return(np.asarray(ALL_elements))\n"
     ]
    },
    {
     "name": "stdout",
     "output_type": "stream",
     "text": [
      "2\n"
     ]
    },
    {
     "name": "stderr",
     "output_type": "stream",
     "text": [
      "C:\\Users\\moham\\AppData\\Local\\Temp\\ipykernel_24032\\629937003.py:93: VisibleDeprecationWarning: Creating an ndarray from ragged nested sequences (which is a list-or-tuple of lists-or-tuples-or ndarrays with different lengths or shapes) is deprecated. If you meant to do this, you must specify 'dtype=object' when creating the ndarray.\n",
      "  return(np.asarray(ALL_elements))\n"
     ]
    },
    {
     "name": "stdout",
     "output_type": "stream",
     "text": [
      "3\n"
     ]
    },
    {
     "name": "stderr",
     "output_type": "stream",
     "text": [
      "C:\\Users\\moham\\AppData\\Local\\Temp\\ipykernel_24032\\629937003.py:93: VisibleDeprecationWarning: Creating an ndarray from ragged nested sequences (which is a list-or-tuple of lists-or-tuples-or ndarrays with different lengths or shapes) is deprecated. If you meant to do this, you must specify 'dtype=object' when creating the ndarray.\n",
      "  return(np.asarray(ALL_elements))\n"
     ]
    },
    {
     "name": "stdout",
     "output_type": "stream",
     "text": [
      "4\n"
     ]
    },
    {
     "name": "stderr",
     "output_type": "stream",
     "text": [
      "C:\\Users\\moham\\AppData\\Local\\Temp\\ipykernel_24032\\629937003.py:93: VisibleDeprecationWarning: Creating an ndarray from ragged nested sequences (which is a list-or-tuple of lists-or-tuples-or ndarrays with different lengths or shapes) is deprecated. If you meant to do this, you must specify 'dtype=object' when creating the ndarray.\n",
      "  return(np.asarray(ALL_elements))\n"
     ]
    },
    {
     "name": "stdout",
     "output_type": "stream",
     "text": [
      "5\n"
     ]
    },
    {
     "name": "stderr",
     "output_type": "stream",
     "text": [
      "C:\\Users\\moham\\AppData\\Local\\Temp\\ipykernel_24032\\629937003.py:93: VisibleDeprecationWarning: Creating an ndarray from ragged nested sequences (which is a list-or-tuple of lists-or-tuples-or ndarrays with different lengths or shapes) is deprecated. If you meant to do this, you must specify 'dtype=object' when creating the ndarray.\n",
      "  return(np.asarray(ALL_elements))\n"
     ]
    },
    {
     "name": "stdout",
     "output_type": "stream",
     "text": [
      "ab03_05092023_06092023\n",
      "0\n"
     ]
    },
    {
     "name": "stderr",
     "output_type": "stream",
     "text": [
      "C:\\Users\\moham\\AppData\\Local\\Temp\\ipykernel_24032\\629937003.py:93: VisibleDeprecationWarning: Creating an ndarray from ragged nested sequences (which is a list-or-tuple of lists-or-tuples-or ndarrays with different lengths or shapes) is deprecated. If you meant to do this, you must specify 'dtype=object' when creating the ndarray.\n",
      "  return(np.asarray(ALL_elements))\n"
     ]
    },
    {
     "name": "stdout",
     "output_type": "stream",
     "text": [
      "1\n"
     ]
    },
    {
     "name": "stderr",
     "output_type": "stream",
     "text": [
      "C:\\Users\\moham\\AppData\\Local\\Temp\\ipykernel_24032\\629937003.py:93: VisibleDeprecationWarning: Creating an ndarray from ragged nested sequences (which is a list-or-tuple of lists-or-tuples-or ndarrays with different lengths or shapes) is deprecated. If you meant to do this, you must specify 'dtype=object' when creating the ndarray.\n",
      "  return(np.asarray(ALL_elements))\n"
     ]
    },
    {
     "name": "stdout",
     "output_type": "stream",
     "text": [
      "2\n"
     ]
    },
    {
     "name": "stderr",
     "output_type": "stream",
     "text": [
      "C:\\Users\\moham\\AppData\\Local\\Temp\\ipykernel_24032\\629937003.py:93: VisibleDeprecationWarning: Creating an ndarray from ragged nested sequences (which is a list-or-tuple of lists-or-tuples-or ndarrays with different lengths or shapes) is deprecated. If you meant to do this, you must specify 'dtype=object' when creating the ndarray.\n",
      "  return(np.asarray(ALL_elements))\n"
     ]
    },
    {
     "name": "stdout",
     "output_type": "stream",
     "text": [
      "4\n"
     ]
    },
    {
     "name": "stderr",
     "output_type": "stream",
     "text": [
      "C:\\Users\\moham\\AppData\\Local\\Temp\\ipykernel_24032\\629937003.py:93: VisibleDeprecationWarning: Creating an ndarray from ragged nested sequences (which is a list-or-tuple of lists-or-tuples-or ndarrays with different lengths or shapes) is deprecated. If you meant to do this, you must specify 'dtype=object' when creating the ndarray.\n",
      "  return(np.asarray(ALL_elements))\n"
     ]
    },
    {
     "name": "stdout",
     "output_type": "stream",
     "text": [
      "5\n"
     ]
    },
    {
     "name": "stderr",
     "output_type": "stream",
     "text": [
      "C:\\Users\\moham\\AppData\\Local\\Temp\\ipykernel_24032\\629937003.py:93: VisibleDeprecationWarning: Creating an ndarray from ragged nested sequences (which is a list-or-tuple of lists-or-tuples-or ndarrays with different lengths or shapes) is deprecated. If you meant to do this, you must specify 'dtype=object' when creating the ndarray.\n",
      "  return(np.asarray(ALL_elements))\n"
     ]
    },
    {
     "name": "stdout",
     "output_type": "stream",
     "text": [
      "6\n"
     ]
    },
    {
     "name": "stderr",
     "output_type": "stream",
     "text": [
      "C:\\Users\\moham\\AppData\\Local\\Temp\\ipykernel_24032\\629937003.py:93: VisibleDeprecationWarning: Creating an ndarray from ragged nested sequences (which is a list-or-tuple of lists-or-tuples-or ndarrays with different lengths or shapes) is deprecated. If you meant to do this, you must specify 'dtype=object' when creating the ndarray.\n",
      "  return(np.asarray(ALL_elements))\n"
     ]
    },
    {
     "name": "stdout",
     "output_type": "stream",
     "text": [
      "ab03_29082023_30082023\n",
      "0\n"
     ]
    },
    {
     "name": "stderr",
     "output_type": "stream",
     "text": [
      "C:\\Users\\moham\\AppData\\Local\\Temp\\ipykernel_24032\\629937003.py:93: VisibleDeprecationWarning: Creating an ndarray from ragged nested sequences (which is a list-or-tuple of lists-or-tuples-or ndarrays with different lengths or shapes) is deprecated. If you meant to do this, you must specify 'dtype=object' when creating the ndarray.\n",
      "  return(np.asarray(ALL_elements))\n"
     ]
    },
    {
     "name": "stdout",
     "output_type": "stream",
     "text": [
      "1\n"
     ]
    },
    {
     "name": "stderr",
     "output_type": "stream",
     "text": [
      "C:\\Users\\moham\\AppData\\Local\\Temp\\ipykernel_24032\\629937003.py:93: VisibleDeprecationWarning: Creating an ndarray from ragged nested sequences (which is a list-or-tuple of lists-or-tuples-or ndarrays with different lengths or shapes) is deprecated. If you meant to do this, you must specify 'dtype=object' when creating the ndarray.\n",
      "  return(np.asarray(ALL_elements))\n"
     ]
    },
    {
     "name": "stdout",
     "output_type": "stream",
     "text": [
      "2\n"
     ]
    },
    {
     "name": "stderr",
     "output_type": "stream",
     "text": [
      "C:\\Users\\moham\\AppData\\Local\\Temp\\ipykernel_24032\\629937003.py:93: VisibleDeprecationWarning: Creating an ndarray from ragged nested sequences (which is a list-or-tuple of lists-or-tuples-or ndarrays with different lengths or shapes) is deprecated. If you meant to do this, you must specify 'dtype=object' when creating the ndarray.\n",
      "  return(np.asarray(ALL_elements))\n"
     ]
    },
    {
     "name": "stdout",
     "output_type": "stream",
     "text": [
      "4\n"
     ]
    },
    {
     "name": "stderr",
     "output_type": "stream",
     "text": [
      "C:\\Users\\moham\\AppData\\Local\\Temp\\ipykernel_24032\\629937003.py:93: VisibleDeprecationWarning: Creating an ndarray from ragged nested sequences (which is a list-or-tuple of lists-or-tuples-or ndarrays with different lengths or shapes) is deprecated. If you meant to do this, you must specify 'dtype=object' when creating the ndarray.\n",
      "  return(np.asarray(ALL_elements))\n"
     ]
    },
    {
     "name": "stdout",
     "output_type": "stream",
     "text": [
      "6\n"
     ]
    },
    {
     "name": "stderr",
     "output_type": "stream",
     "text": [
      "C:\\Users\\moham\\AppData\\Local\\Temp\\ipykernel_24032\\629937003.py:93: VisibleDeprecationWarning: Creating an ndarray from ragged nested sequences (which is a list-or-tuple of lists-or-tuples-or ndarrays with different lengths or shapes) is deprecated. If you meant to do this, you must specify 'dtype=object' when creating the ndarray.\n",
      "  return(np.asarray(ALL_elements))\n"
     ]
    },
    {
     "name": "stdout",
     "output_type": "stream",
     "text": [
      "7\n"
     ]
    },
    {
     "name": "stderr",
     "output_type": "stream",
     "text": [
      "C:\\Users\\moham\\AppData\\Local\\Temp\\ipykernel_24032\\629937003.py:93: VisibleDeprecationWarning: Creating an ndarray from ragged nested sequences (which is a list-or-tuple of lists-or-tuples-or ndarrays with different lengths or shapes) is deprecated. If you meant to do this, you must specify 'dtype=object' when creating the ndarray.\n",
      "  return(np.asarray(ALL_elements))\n"
     ]
    },
    {
     "name": "stdout",
     "output_type": "stream",
     "text": [
      "ah03_12082021_13082021\n",
      "0\n"
     ]
    },
    {
     "name": "stderr",
     "output_type": "stream",
     "text": [
      "C:\\Users\\moham\\AppData\\Local\\Temp\\ipykernel_24032\\629937003.py:93: VisibleDeprecationWarning: Creating an ndarray from ragged nested sequences (which is a list-or-tuple of lists-or-tuples-or ndarrays with different lengths or shapes) is deprecated. If you meant to do this, you must specify 'dtype=object' when creating the ndarray.\n",
      "  return(np.asarray(ALL_elements))\n"
     ]
    },
    {
     "name": "stdout",
     "output_type": "stream",
     "text": [
      "1\n"
     ]
    },
    {
     "name": "stderr",
     "output_type": "stream",
     "text": [
      "C:\\Users\\moham\\AppData\\Local\\Temp\\ipykernel_24032\\629937003.py:93: VisibleDeprecationWarning: Creating an ndarray from ragged nested sequences (which is a list-or-tuple of lists-or-tuples-or ndarrays with different lengths or shapes) is deprecated. If you meant to do this, you must specify 'dtype=object' when creating the ndarray.\n",
      "  return(np.asarray(ALL_elements))\n"
     ]
    },
    {
     "name": "stdout",
     "output_type": "stream",
     "text": [
      "2\n"
     ]
    },
    {
     "name": "stderr",
     "output_type": "stream",
     "text": [
      "C:\\Users\\moham\\AppData\\Local\\Temp\\ipykernel_24032\\629937003.py:93: VisibleDeprecationWarning: Creating an ndarray from ragged nested sequences (which is a list-or-tuple of lists-or-tuples-or ndarrays with different lengths or shapes) is deprecated. If you meant to do this, you must specify 'dtype=object' when creating the ndarray.\n",
      "  return(np.asarray(ALL_elements))\n"
     ]
    },
    {
     "name": "stdout",
     "output_type": "stream",
     "text": [
      "4\n"
     ]
    },
    {
     "name": "stderr",
     "output_type": "stream",
     "text": [
      "C:\\Users\\moham\\AppData\\Local\\Temp\\ipykernel_24032\\629937003.py:93: VisibleDeprecationWarning: Creating an ndarray from ragged nested sequences (which is a list-or-tuple of lists-or-tuples-or ndarrays with different lengths or shapes) is deprecated. If you meant to do this, you must specify 'dtype=object' when creating the ndarray.\n",
      "  return(np.asarray(ALL_elements))\n"
     ]
    },
    {
     "name": "stdout",
     "output_type": "stream",
     "text": [
      "5\n"
     ]
    },
    {
     "name": "stderr",
     "output_type": "stream",
     "text": [
      "C:\\Users\\moham\\AppData\\Local\\Temp\\ipykernel_24032\\629937003.py:93: VisibleDeprecationWarning: Creating an ndarray from ragged nested sequences (which is a list-or-tuple of lists-or-tuples-or ndarrays with different lengths or shapes) is deprecated. If you meant to do this, you must specify 'dtype=object' when creating the ndarray.\n",
      "  return(np.asarray(ALL_elements))\n"
     ]
    },
    {
     "name": "stdout",
     "output_type": "stream",
     "text": [
      "6\n"
     ]
    },
    {
     "name": "stderr",
     "output_type": "stream",
     "text": [
      "C:\\Users\\moham\\AppData\\Local\\Temp\\ipykernel_24032\\629937003.py:93: VisibleDeprecationWarning: Creating an ndarray from ragged nested sequences (which is a list-or-tuple of lists-or-tuples-or ndarrays with different lengths or shapes) is deprecated. If you meant to do this, you must specify 'dtype=object' when creating the ndarray.\n",
      "  return(np.asarray(ALL_elements))\n"
     ]
    },
    {
     "name": "stdout",
     "output_type": "stream",
     "text": [
      "ah03_18082021_19082021\n",
      "0\n"
     ]
    },
    {
     "name": "stderr",
     "output_type": "stream",
     "text": [
      "C:\\Users\\moham\\AppData\\Local\\Temp\\ipykernel_24032\\629937003.py:93: VisibleDeprecationWarning: Creating an ndarray from ragged nested sequences (which is a list-or-tuple of lists-or-tuples-or ndarrays with different lengths or shapes) is deprecated. If you meant to do this, you must specify 'dtype=object' when creating the ndarray.\n",
      "  return(np.asarray(ALL_elements))\n"
     ]
    },
    {
     "name": "stdout",
     "output_type": "stream",
     "text": [
      "1\n"
     ]
    },
    {
     "name": "stderr",
     "output_type": "stream",
     "text": [
      "C:\\Users\\moham\\AppData\\Local\\Temp\\ipykernel_24032\\629937003.py:93: VisibleDeprecationWarning: Creating an ndarray from ragged nested sequences (which is a list-or-tuple of lists-or-tuples-or ndarrays with different lengths or shapes) is deprecated. If you meant to do this, you must specify 'dtype=object' when creating the ndarray.\n",
      "  return(np.asarray(ALL_elements))\n"
     ]
    },
    {
     "name": "stdout",
     "output_type": "stream",
     "text": [
      "2\n"
     ]
    },
    {
     "name": "stderr",
     "output_type": "stream",
     "text": [
      "C:\\Users\\moham\\AppData\\Local\\Temp\\ipykernel_24032\\629937003.py:93: VisibleDeprecationWarning: Creating an ndarray from ragged nested sequences (which is a list-or-tuple of lists-or-tuples-or ndarrays with different lengths or shapes) is deprecated. If you meant to do this, you must specify 'dtype=object' when creating the ndarray.\n",
      "  return(np.asarray(ALL_elements))\n"
     ]
    },
    {
     "name": "stdout",
     "output_type": "stream",
     "text": [
      "4\n"
     ]
    },
    {
     "name": "stderr",
     "output_type": "stream",
     "text": [
      "C:\\Users\\moham\\AppData\\Local\\Temp\\ipykernel_24032\\629937003.py:93: VisibleDeprecationWarning: Creating an ndarray from ragged nested sequences (which is a list-or-tuple of lists-or-tuples-or ndarrays with different lengths or shapes) is deprecated. If you meant to do this, you must specify 'dtype=object' when creating the ndarray.\n",
      "  return(np.asarray(ALL_elements))\n"
     ]
    },
    {
     "name": "stdout",
     "output_type": "stream",
     "text": [
      "5\n"
     ]
    },
    {
     "name": "stderr",
     "output_type": "stream",
     "text": [
      "C:\\Users\\moham\\AppData\\Local\\Temp\\ipykernel_24032\\629937003.py:93: VisibleDeprecationWarning: Creating an ndarray from ragged nested sequences (which is a list-or-tuple of lists-or-tuples-or ndarrays with different lengths or shapes) is deprecated. If you meant to do this, you must specify 'dtype=object' when creating the ndarray.\n",
      "  return(np.asarray(ALL_elements))\n"
     ]
    },
    {
     "name": "stdout",
     "output_type": "stream",
     "text": [
      "6\n"
     ]
    },
    {
     "name": "stderr",
     "output_type": "stream",
     "text": [
      "C:\\Users\\moham\\AppData\\Local\\Temp\\ipykernel_24032\\629937003.py:93: VisibleDeprecationWarning: Creating an ndarray from ragged nested sequences (which is a list-or-tuple of lists-or-tuples-or ndarrays with different lengths or shapes) is deprecated. If you meant to do this, you must specify 'dtype=object' when creating the ndarray.\n",
      "  return(np.asarray(ALL_elements))\n"
     ]
    },
    {
     "name": "stdout",
     "output_type": "stream",
     "text": [
      "ah04_01122021_02122021\n",
      "0\n"
     ]
    },
    {
     "name": "stderr",
     "output_type": "stream",
     "text": [
      "C:\\Users\\moham\\AppData\\Local\\Temp\\ipykernel_24032\\629937003.py:93: VisibleDeprecationWarning: Creating an ndarray from ragged nested sequences (which is a list-or-tuple of lists-or-tuples-or ndarrays with different lengths or shapes) is deprecated. If you meant to do this, you must specify 'dtype=object' when creating the ndarray.\n",
      "  return(np.asarray(ALL_elements))\n"
     ]
    },
    {
     "name": "stdout",
     "output_type": "stream",
     "text": [
      "1\n"
     ]
    },
    {
     "name": "stderr",
     "output_type": "stream",
     "text": [
      "C:\\Users\\moham\\AppData\\Local\\Temp\\ipykernel_24032\\629937003.py:93: VisibleDeprecationWarning: Creating an ndarray from ragged nested sequences (which is a list-or-tuple of lists-or-tuples-or ndarrays with different lengths or shapes) is deprecated. If you meant to do this, you must specify 'dtype=object' when creating the ndarray.\n",
      "  return(np.asarray(ALL_elements))\n"
     ]
    },
    {
     "name": "stdout",
     "output_type": "stream",
     "text": [
      "2\n"
     ]
    },
    {
     "name": "stderr",
     "output_type": "stream",
     "text": [
      "C:\\Users\\moham\\AppData\\Local\\Temp\\ipykernel_24032\\629937003.py:93: VisibleDeprecationWarning: Creating an ndarray from ragged nested sequences (which is a list-or-tuple of lists-or-tuples-or ndarrays with different lengths or shapes) is deprecated. If you meant to do this, you must specify 'dtype=object' when creating the ndarray.\n",
      "  return(np.asarray(ALL_elements))\n"
     ]
    },
    {
     "name": "stdout",
     "output_type": "stream",
     "text": [
      "4\n"
     ]
    },
    {
     "name": "stderr",
     "output_type": "stream",
     "text": [
      "C:\\Users\\moham\\AppData\\Local\\Temp\\ipykernel_24032\\629937003.py:93: VisibleDeprecationWarning: Creating an ndarray from ragged nested sequences (which is a list-or-tuple of lists-or-tuples-or ndarrays with different lengths or shapes) is deprecated. If you meant to do this, you must specify 'dtype=object' when creating the ndarray.\n",
      "  return(np.asarray(ALL_elements))\n"
     ]
    },
    {
     "name": "stdout",
     "output_type": "stream",
     "text": [
      "5\n"
     ]
    },
    {
     "name": "stderr",
     "output_type": "stream",
     "text": [
      "C:\\Users\\moham\\AppData\\Local\\Temp\\ipykernel_24032\\629937003.py:93: VisibleDeprecationWarning: Creating an ndarray from ragged nested sequences (which is a list-or-tuple of lists-or-tuples-or ndarrays with different lengths or shapes) is deprecated. If you meant to do this, you must specify 'dtype=object' when creating the ndarray.\n",
      "  return(np.asarray(ALL_elements))\n"
     ]
    },
    {
     "name": "stdout",
     "output_type": "stream",
     "text": [
      "6\n"
     ]
    },
    {
     "name": "stderr",
     "output_type": "stream",
     "text": [
      "C:\\Users\\moham\\AppData\\Local\\Temp\\ipykernel_24032\\629937003.py:93: VisibleDeprecationWarning: Creating an ndarray from ragged nested sequences (which is a list-or-tuple of lists-or-tuples-or ndarrays with different lengths or shapes) is deprecated. If you meant to do this, you must specify 'dtype=object' when creating the ndarray.\n",
      "  return(np.asarray(ALL_elements))\n"
     ]
    },
    {
     "name": "stdout",
     "output_type": "stream",
     "text": [
      "ah04_05122021_06122021\n",
      "0\n"
     ]
    },
    {
     "name": "stderr",
     "output_type": "stream",
     "text": [
      "C:\\Users\\moham\\AppData\\Local\\Temp\\ipykernel_24032\\629937003.py:93: VisibleDeprecationWarning: Creating an ndarray from ragged nested sequences (which is a list-or-tuple of lists-or-tuples-or ndarrays with different lengths or shapes) is deprecated. If you meant to do this, you must specify 'dtype=object' when creating the ndarray.\n",
      "  return(np.asarray(ALL_elements))\n"
     ]
    },
    {
     "name": "stdout",
     "output_type": "stream",
     "text": [
      "1\n"
     ]
    },
    {
     "name": "stderr",
     "output_type": "stream",
     "text": [
      "C:\\Users\\moham\\AppData\\Local\\Temp\\ipykernel_24032\\629937003.py:93: VisibleDeprecationWarning: Creating an ndarray from ragged nested sequences (which is a list-or-tuple of lists-or-tuples-or ndarrays with different lengths or shapes) is deprecated. If you meant to do this, you must specify 'dtype=object' when creating the ndarray.\n",
      "  return(np.asarray(ALL_elements))\n"
     ]
    },
    {
     "name": "stdout",
     "output_type": "stream",
     "text": [
      "2\n"
     ]
    },
    {
     "name": "stderr",
     "output_type": "stream",
     "text": [
      "C:\\Users\\moham\\AppData\\Local\\Temp\\ipykernel_24032\\629937003.py:93: VisibleDeprecationWarning: Creating an ndarray from ragged nested sequences (which is a list-or-tuple of lists-or-tuples-or ndarrays with different lengths or shapes) is deprecated. If you meant to do this, you must specify 'dtype=object' when creating the ndarray.\n",
      "  return(np.asarray(ALL_elements))\n"
     ]
    },
    {
     "name": "stdout",
     "output_type": "stream",
     "text": [
      "4\n"
     ]
    },
    {
     "name": "stderr",
     "output_type": "stream",
     "text": [
      "C:\\Users\\moham\\AppData\\Local\\Temp\\ipykernel_24032\\629937003.py:93: VisibleDeprecationWarning: Creating an ndarray from ragged nested sequences (which is a list-or-tuple of lists-or-tuples-or ndarrays with different lengths or shapes) is deprecated. If you meant to do this, you must specify 'dtype=object' when creating the ndarray.\n",
      "  return(np.asarray(ALL_elements))\n"
     ]
    },
    {
     "name": "stdout",
     "output_type": "stream",
     "text": [
      "5\n"
     ]
    },
    {
     "name": "stderr",
     "output_type": "stream",
     "text": [
      "C:\\Users\\moham\\AppData\\Local\\Temp\\ipykernel_24032\\629937003.py:93: VisibleDeprecationWarning: Creating an ndarray from ragged nested sequences (which is a list-or-tuple of lists-or-tuples-or ndarrays with different lengths or shapes) is deprecated. If you meant to do this, you must specify 'dtype=object' when creating the ndarray.\n",
      "  return(np.asarray(ALL_elements))\n"
     ]
    },
    {
     "name": "stdout",
     "output_type": "stream",
     "text": [
      "6\n"
     ]
    },
    {
     "name": "stderr",
     "output_type": "stream",
     "text": [
      "C:\\Users\\moham\\AppData\\Local\\Temp\\ipykernel_24032\\629937003.py:93: VisibleDeprecationWarning: Creating an ndarray from ragged nested sequences (which is a list-or-tuple of lists-or-tuples-or ndarrays with different lengths or shapes) is deprecated. If you meant to do this, you must specify 'dtype=object' when creating the ndarray.\n",
      "  return(np.asarray(ALL_elements))\n"
     ]
    },
    {
     "name": "stdout",
     "output_type": "stream",
     "text": [
      "ah04_07122021_08122021\n",
      "0\n"
     ]
    },
    {
     "name": "stderr",
     "output_type": "stream",
     "text": [
      "C:\\Users\\moham\\AppData\\Local\\Temp\\ipykernel_24032\\629937003.py:93: VisibleDeprecationWarning: Creating an ndarray from ragged nested sequences (which is a list-or-tuple of lists-or-tuples-or ndarrays with different lengths or shapes) is deprecated. If you meant to do this, you must specify 'dtype=object' when creating the ndarray.\n",
      "  return(np.asarray(ALL_elements))\n"
     ]
    },
    {
     "name": "stdout",
     "output_type": "stream",
     "text": [
      "1\n"
     ]
    },
    {
     "name": "stderr",
     "output_type": "stream",
     "text": [
      "C:\\Users\\moham\\AppData\\Local\\Temp\\ipykernel_24032\\629937003.py:93: VisibleDeprecationWarning: Creating an ndarray from ragged nested sequences (which is a list-or-tuple of lists-or-tuples-or ndarrays with different lengths or shapes) is deprecated. If you meant to do this, you must specify 'dtype=object' when creating the ndarray.\n",
      "  return(np.asarray(ALL_elements))\n"
     ]
    },
    {
     "name": "stdout",
     "output_type": "stream",
     "text": [
      "2\n"
     ]
    },
    {
     "name": "stderr",
     "output_type": "stream",
     "text": [
      "C:\\Users\\moham\\AppData\\Local\\Temp\\ipykernel_24032\\629937003.py:93: VisibleDeprecationWarning: Creating an ndarray from ragged nested sequences (which is a list-or-tuple of lists-or-tuples-or ndarrays with different lengths or shapes) is deprecated. If you meant to do this, you must specify 'dtype=object' when creating the ndarray.\n",
      "  return(np.asarray(ALL_elements))\n"
     ]
    },
    {
     "name": "stdout",
     "output_type": "stream",
     "text": [
      "4\n"
     ]
    },
    {
     "name": "stderr",
     "output_type": "stream",
     "text": [
      "C:\\Users\\moham\\AppData\\Local\\Temp\\ipykernel_24032\\629937003.py:93: VisibleDeprecationWarning: Creating an ndarray from ragged nested sequences (which is a list-or-tuple of lists-or-tuples-or ndarrays with different lengths or shapes) is deprecated. If you meant to do this, you must specify 'dtype=object' when creating the ndarray.\n",
      "  return(np.asarray(ALL_elements))\n"
     ]
    },
    {
     "name": "stdout",
     "output_type": "stream",
     "text": [
      "5\n"
     ]
    },
    {
     "name": "stderr",
     "output_type": "stream",
     "text": [
      "C:\\Users\\moham\\AppData\\Local\\Temp\\ipykernel_24032\\629937003.py:93: VisibleDeprecationWarning: Creating an ndarray from ragged nested sequences (which is a list-or-tuple of lists-or-tuples-or ndarrays with different lengths or shapes) is deprecated. If you meant to do this, you must specify 'dtype=object' when creating the ndarray.\n",
      "  return(np.asarray(ALL_elements))\n"
     ]
    },
    {
     "name": "stdout",
     "output_type": "stream",
     "text": [
      "6\n"
     ]
    },
    {
     "name": "stderr",
     "output_type": "stream",
     "text": [
      "C:\\Users\\moham\\AppData\\Local\\Temp\\ipykernel_24032\\629937003.py:93: VisibleDeprecationWarning: Creating an ndarray from ragged nested sequences (which is a list-or-tuple of lists-or-tuples-or ndarrays with different lengths or shapes) is deprecated. If you meant to do this, you must specify 'dtype=object' when creating the ndarray.\n",
      "  return(np.asarray(ALL_elements))\n"
     ]
    },
    {
     "name": "stdout",
     "output_type": "stream",
     "text": [
      "ah04_09122021_10122021\n",
      "0\n"
     ]
    },
    {
     "name": "stderr",
     "output_type": "stream",
     "text": [
      "C:\\Users\\moham\\AppData\\Local\\Temp\\ipykernel_24032\\629937003.py:93: VisibleDeprecationWarning: Creating an ndarray from ragged nested sequences (which is a list-or-tuple of lists-or-tuples-or ndarrays with different lengths or shapes) is deprecated. If you meant to do this, you must specify 'dtype=object' when creating the ndarray.\n",
      "  return(np.asarray(ALL_elements))\n"
     ]
    },
    {
     "name": "stdout",
     "output_type": "stream",
     "text": [
      "1\n"
     ]
    },
    {
     "name": "stderr",
     "output_type": "stream",
     "text": [
      "C:\\Users\\moham\\AppData\\Local\\Temp\\ipykernel_24032\\629937003.py:93: VisibleDeprecationWarning: Creating an ndarray from ragged nested sequences (which is a list-or-tuple of lists-or-tuples-or ndarrays with different lengths or shapes) is deprecated. If you meant to do this, you must specify 'dtype=object' when creating the ndarray.\n",
      "  return(np.asarray(ALL_elements))\n"
     ]
    },
    {
     "name": "stdout",
     "output_type": "stream",
     "text": [
      "2\n"
     ]
    },
    {
     "name": "stderr",
     "output_type": "stream",
     "text": [
      "C:\\Users\\moham\\AppData\\Local\\Temp\\ipykernel_24032\\629937003.py:93: VisibleDeprecationWarning: Creating an ndarray from ragged nested sequences (which is a list-or-tuple of lists-or-tuples-or ndarrays with different lengths or shapes) is deprecated. If you meant to do this, you must specify 'dtype=object' when creating the ndarray.\n",
      "  return(np.asarray(ALL_elements))\n"
     ]
    },
    {
     "name": "stdout",
     "output_type": "stream",
     "text": [
      "4\n"
     ]
    },
    {
     "name": "stderr",
     "output_type": "stream",
     "text": [
      "C:\\Users\\moham\\AppData\\Local\\Temp\\ipykernel_24032\\629937003.py:93: VisibleDeprecationWarning: Creating an ndarray from ragged nested sequences (which is a list-or-tuple of lists-or-tuples-or ndarrays with different lengths or shapes) is deprecated. If you meant to do this, you must specify 'dtype=object' when creating the ndarray.\n",
      "  return(np.asarray(ALL_elements))\n"
     ]
    },
    {
     "name": "stdout",
     "output_type": "stream",
     "text": [
      "5\n"
     ]
    },
    {
     "name": "stderr",
     "output_type": "stream",
     "text": [
      "C:\\Users\\moham\\AppData\\Local\\Temp\\ipykernel_24032\\629937003.py:93: VisibleDeprecationWarning: Creating an ndarray from ragged nested sequences (which is a list-or-tuple of lists-or-tuples-or ndarrays with different lengths or shapes) is deprecated. If you meant to do this, you must specify 'dtype=object' when creating the ndarray.\n",
      "  return(np.asarray(ALL_elements))\n"
     ]
    },
    {
     "name": "stdout",
     "output_type": "stream",
     "text": [
      "6\n"
     ]
    },
    {
     "name": "stderr",
     "output_type": "stream",
     "text": [
      "C:\\Users\\moham\\AppData\\Local\\Temp\\ipykernel_24032\\629937003.py:93: VisibleDeprecationWarning: Creating an ndarray from ragged nested sequences (which is a list-or-tuple of lists-or-tuples-or ndarrays with different lengths or shapes) is deprecated. If you meant to do this, you must specify 'dtype=object' when creating the ndarray.\n",
      "  return(np.asarray(ALL_elements))\n"
     ]
    },
    {
     "name": "stdout",
     "output_type": "stream",
     "text": [
      "ah04_14122021_16122021\n",
      "0\n"
     ]
    },
    {
     "name": "stderr",
     "output_type": "stream",
     "text": [
      "C:\\Users\\moham\\AppData\\Local\\Temp\\ipykernel_24032\\629937003.py:93: VisibleDeprecationWarning: Creating an ndarray from ragged nested sequences (which is a list-or-tuple of lists-or-tuples-or ndarrays with different lengths or shapes) is deprecated. If you meant to do this, you must specify 'dtype=object' when creating the ndarray.\n",
      "  return(np.asarray(ALL_elements))\n"
     ]
    },
    {
     "name": "stdout",
     "output_type": "stream",
     "text": [
      "1\n"
     ]
    },
    {
     "name": "stderr",
     "output_type": "stream",
     "text": [
      "C:\\Users\\moham\\AppData\\Local\\Temp\\ipykernel_24032\\629937003.py:93: VisibleDeprecationWarning: Creating an ndarray from ragged nested sequences (which is a list-or-tuple of lists-or-tuples-or ndarrays with different lengths or shapes) is deprecated. If you meant to do this, you must specify 'dtype=object' when creating the ndarray.\n",
      "  return(np.asarray(ALL_elements))\n"
     ]
    },
    {
     "name": "stdout",
     "output_type": "stream",
     "text": [
      "2\n"
     ]
    },
    {
     "name": "stderr",
     "output_type": "stream",
     "text": [
      "C:\\Users\\moham\\AppData\\Local\\Temp\\ipykernel_24032\\629937003.py:93: VisibleDeprecationWarning: Creating an ndarray from ragged nested sequences (which is a list-or-tuple of lists-or-tuples-or ndarrays with different lengths or shapes) is deprecated. If you meant to do this, you must specify 'dtype=object' when creating the ndarray.\n",
      "  return(np.asarray(ALL_elements))\n"
     ]
    },
    {
     "name": "stdout",
     "output_type": "stream",
     "text": [
      "4\n"
     ]
    },
    {
     "name": "stderr",
     "output_type": "stream",
     "text": [
      "C:\\Users\\moham\\AppData\\Local\\Temp\\ipykernel_24032\\629937003.py:93: VisibleDeprecationWarning: Creating an ndarray from ragged nested sequences (which is a list-or-tuple of lists-or-tuples-or ndarrays with different lengths or shapes) is deprecated. If you meant to do this, you must specify 'dtype=object' when creating the ndarray.\n",
      "  return(np.asarray(ALL_elements))\n"
     ]
    },
    {
     "name": "stdout",
     "output_type": "stream",
     "text": [
      "5\n"
     ]
    },
    {
     "name": "stderr",
     "output_type": "stream",
     "text": [
      "C:\\Users\\moham\\AppData\\Local\\Temp\\ipykernel_24032\\629937003.py:93: VisibleDeprecationWarning: Creating an ndarray from ragged nested sequences (which is a list-or-tuple of lists-or-tuples-or ndarrays with different lengths or shapes) is deprecated. If you meant to do this, you must specify 'dtype=object' when creating the ndarray.\n",
      "  return(np.asarray(ALL_elements))\n"
     ]
    },
    {
     "name": "stdout",
     "output_type": "stream",
     "text": [
      "6\n"
     ]
    },
    {
     "name": "stderr",
     "output_type": "stream",
     "text": [
      "C:\\Users\\moham\\AppData\\Local\\Temp\\ipykernel_24032\\629937003.py:93: VisibleDeprecationWarning: Creating an ndarray from ragged nested sequences (which is a list-or-tuple of lists-or-tuples-or ndarrays with different lengths or shapes) is deprecated. If you meant to do this, you must specify 'dtype=object' when creating the ndarray.\n",
      "  return(np.asarray(ALL_elements))\n"
     ]
    },
    {
     "name": "stdout",
     "output_type": "stream",
     "text": [
      "ah07_01092023_02092023\n",
      "0\n"
     ]
    },
    {
     "name": "stderr",
     "output_type": "stream",
     "text": [
      "C:\\Users\\moham\\AppData\\Local\\Temp\\ipykernel_24032\\629937003.py:93: VisibleDeprecationWarning: Creating an ndarray from ragged nested sequences (which is a list-or-tuple of lists-or-tuples-or ndarrays with different lengths or shapes) is deprecated. If you meant to do this, you must specify 'dtype=object' when creating the ndarray.\n",
      "  return(np.asarray(ALL_elements))\n"
     ]
    },
    {
     "name": "stdout",
     "output_type": "stream",
     "text": [
      "1\n"
     ]
    },
    {
     "name": "stderr",
     "output_type": "stream",
     "text": [
      "C:\\Users\\moham\\AppData\\Local\\Temp\\ipykernel_24032\\629937003.py:93: VisibleDeprecationWarning: Creating an ndarray from ragged nested sequences (which is a list-or-tuple of lists-or-tuples-or ndarrays with different lengths or shapes) is deprecated. If you meant to do this, you must specify 'dtype=object' when creating the ndarray.\n",
      "  return(np.asarray(ALL_elements))\n"
     ]
    },
    {
     "name": "stdout",
     "output_type": "stream",
     "text": [
      "2\n"
     ]
    },
    {
     "name": "stderr",
     "output_type": "stream",
     "text": [
      "C:\\Users\\moham\\AppData\\Local\\Temp\\ipykernel_24032\\629937003.py:93: VisibleDeprecationWarning: Creating an ndarray from ragged nested sequences (which is a list-or-tuple of lists-or-tuples-or ndarrays with different lengths or shapes) is deprecated. If you meant to do this, you must specify 'dtype=object' when creating the ndarray.\n",
      "  return(np.asarray(ALL_elements))\n"
     ]
    },
    {
     "name": "stdout",
     "output_type": "stream",
     "text": [
      "3\n"
     ]
    },
    {
     "name": "stderr",
     "output_type": "stream",
     "text": [
      "C:\\Users\\moham\\AppData\\Local\\Temp\\ipykernel_24032\\629937003.py:93: VisibleDeprecationWarning: Creating an ndarray from ragged nested sequences (which is a list-or-tuple of lists-or-tuples-or ndarrays with different lengths or shapes) is deprecated. If you meant to do this, you must specify 'dtype=object' when creating the ndarray.\n",
      "  return(np.asarray(ALL_elements))\n"
     ]
    },
    {
     "name": "stdout",
     "output_type": "stream",
     "text": [
      "4\n"
     ]
    },
    {
     "name": "stderr",
     "output_type": "stream",
     "text": [
      "C:\\Users\\moham\\AppData\\Local\\Temp\\ipykernel_24032\\629937003.py:93: VisibleDeprecationWarning: Creating an ndarray from ragged nested sequences (which is a list-or-tuple of lists-or-tuples-or ndarrays with different lengths or shapes) is deprecated. If you meant to do this, you must specify 'dtype=object' when creating the ndarray.\n",
      "  return(np.asarray(ALL_elements))\n"
     ]
    },
    {
     "name": "stdout",
     "output_type": "stream",
     "text": [
      "5\n"
     ]
    },
    {
     "name": "stderr",
     "output_type": "stream",
     "text": [
      "C:\\Users\\moham\\AppData\\Local\\Temp\\ipykernel_24032\\629937003.py:93: VisibleDeprecationWarning: Creating an ndarray from ragged nested sequences (which is a list-or-tuple of lists-or-tuples-or ndarrays with different lengths or shapes) is deprecated. If you meant to do this, you must specify 'dtype=object' when creating the ndarray.\n",
      "  return(np.asarray(ALL_elements))\n"
     ]
    },
    {
     "name": "stdout",
     "output_type": "stream",
     "text": [
      "ah07_27082023_28082023\n",
      "0\n"
     ]
    },
    {
     "name": "stderr",
     "output_type": "stream",
     "text": [
      "C:\\Users\\moham\\AppData\\Local\\Temp\\ipykernel_24032\\629937003.py:93: VisibleDeprecationWarning: Creating an ndarray from ragged nested sequences (which is a list-or-tuple of lists-or-tuples-or ndarrays with different lengths or shapes) is deprecated. If you meant to do this, you must specify 'dtype=object' when creating the ndarray.\n",
      "  return(np.asarray(ALL_elements))\n"
     ]
    },
    {
     "name": "stdout",
     "output_type": "stream",
     "text": [
      "1\n"
     ]
    },
    {
     "name": "stderr",
     "output_type": "stream",
     "text": [
      "C:\\Users\\moham\\AppData\\Local\\Temp\\ipykernel_24032\\629937003.py:93: VisibleDeprecationWarning: Creating an ndarray from ragged nested sequences (which is a list-or-tuple of lists-or-tuples-or ndarrays with different lengths or shapes) is deprecated. If you meant to do this, you must specify 'dtype=object' when creating the ndarray.\n",
      "  return(np.asarray(ALL_elements))\n"
     ]
    },
    {
     "name": "stdout",
     "output_type": "stream",
     "text": [
      "2\n"
     ]
    },
    {
     "name": "stderr",
     "output_type": "stream",
     "text": [
      "C:\\Users\\moham\\AppData\\Local\\Temp\\ipykernel_24032\\629937003.py:93: VisibleDeprecationWarning: Creating an ndarray from ragged nested sequences (which is a list-or-tuple of lists-or-tuples-or ndarrays with different lengths or shapes) is deprecated. If you meant to do this, you must specify 'dtype=object' when creating the ndarray.\n",
      "  return(np.asarray(ALL_elements))\n"
     ]
    },
    {
     "name": "stdout",
     "output_type": "stream",
     "text": [
      "4\n"
     ]
    },
    {
     "name": "stderr",
     "output_type": "stream",
     "text": [
      "C:\\Users\\moham\\AppData\\Local\\Temp\\ipykernel_24032\\629937003.py:93: VisibleDeprecationWarning: Creating an ndarray from ragged nested sequences (which is a list-or-tuple of lists-or-tuples-or ndarrays with different lengths or shapes) is deprecated. If you meant to do this, you must specify 'dtype=object' when creating the ndarray.\n",
      "  return(np.asarray(ALL_elements))\n"
     ]
    },
    {
     "name": "stdout",
     "output_type": "stream",
     "text": [
      "5\n"
     ]
    },
    {
     "name": "stderr",
     "output_type": "stream",
     "text": [
      "C:\\Users\\moham\\AppData\\Local\\Temp\\ipykernel_24032\\629937003.py:93: VisibleDeprecationWarning: Creating an ndarray from ragged nested sequences (which is a list-or-tuple of lists-or-tuples-or ndarrays with different lengths or shapes) is deprecated. If you meant to do this, you must specify 'dtype=object' when creating the ndarray.\n",
      "  return(np.asarray(ALL_elements))\n"
     ]
    },
    {
     "name": "stdout",
     "output_type": "stream",
     "text": [
      "6\n"
     ]
    },
    {
     "name": "stderr",
     "output_type": "stream",
     "text": [
      "C:\\Users\\moham\\AppData\\Local\\Temp\\ipykernel_24032\\629937003.py:93: VisibleDeprecationWarning: Creating an ndarray from ragged nested sequences (which is a list-or-tuple of lists-or-tuples-or ndarrays with different lengths or shapes) is deprecated. If you meant to do this, you must specify 'dtype=object' when creating the ndarray.\n",
      "  return(np.asarray(ALL_elements))\n"
     ]
    },
    {
     "name": "stdout",
     "output_type": "stream",
     "text": [
      "ah07_29082023_30082023\n",
      "0\n"
     ]
    },
    {
     "name": "stderr",
     "output_type": "stream",
     "text": [
      "C:\\Users\\moham\\AppData\\Local\\Temp\\ipykernel_24032\\629937003.py:93: VisibleDeprecationWarning: Creating an ndarray from ragged nested sequences (which is a list-or-tuple of lists-or-tuples-or ndarrays with different lengths or shapes) is deprecated. If you meant to do this, you must specify 'dtype=object' when creating the ndarray.\n",
      "  return(np.asarray(ALL_elements))\n"
     ]
    },
    {
     "name": "stdout",
     "output_type": "stream",
     "text": [
      "1\n"
     ]
    },
    {
     "name": "stderr",
     "output_type": "stream",
     "text": [
      "C:\\Users\\moham\\AppData\\Local\\Temp\\ipykernel_24032\\629937003.py:93: VisibleDeprecationWarning: Creating an ndarray from ragged nested sequences (which is a list-or-tuple of lists-or-tuples-or ndarrays with different lengths or shapes) is deprecated. If you meant to do this, you must specify 'dtype=object' when creating the ndarray.\n",
      "  return(np.asarray(ALL_elements))\n"
     ]
    },
    {
     "name": "stdout",
     "output_type": "stream",
     "text": [
      "2\n"
     ]
    },
    {
     "name": "stderr",
     "output_type": "stream",
     "text": [
      "C:\\Users\\moham\\AppData\\Local\\Temp\\ipykernel_24032\\629937003.py:93: VisibleDeprecationWarning: Creating an ndarray from ragged nested sequences (which is a list-or-tuple of lists-or-tuples-or ndarrays with different lengths or shapes) is deprecated. If you meant to do this, you must specify 'dtype=object' when creating the ndarray.\n",
      "  return(np.asarray(ALL_elements))\n"
     ]
    },
    {
     "name": "stdout",
     "output_type": "stream",
     "text": [
      "4\n"
     ]
    },
    {
     "name": "stderr",
     "output_type": "stream",
     "text": [
      "C:\\Users\\moham\\AppData\\Local\\Temp\\ipykernel_24032\\629937003.py:93: VisibleDeprecationWarning: Creating an ndarray from ragged nested sequences (which is a list-or-tuple of lists-or-tuples-or ndarrays with different lengths or shapes) is deprecated. If you meant to do this, you must specify 'dtype=object' when creating the ndarray.\n",
      "  return(np.asarray(ALL_elements))\n"
     ]
    },
    {
     "name": "stdout",
     "output_type": "stream",
     "text": [
      "5\n"
     ]
    },
    {
     "name": "stderr",
     "output_type": "stream",
     "text": [
      "C:\\Users\\moham\\AppData\\Local\\Temp\\ipykernel_24032\\629937003.py:93: VisibleDeprecationWarning: Creating an ndarray from ragged nested sequences (which is a list-or-tuple of lists-or-tuples-or ndarrays with different lengths or shapes) is deprecated. If you meant to do this, you must specify 'dtype=object' when creating the ndarray.\n",
      "  return(np.asarray(ALL_elements))\n"
     ]
    },
    {
     "name": "stdout",
     "output_type": "stream",
     "text": [
      "6\n"
     ]
    },
    {
     "name": "stderr",
     "output_type": "stream",
     "text": [
      "C:\\Users\\moham\\AppData\\Local\\Temp\\ipykernel_24032\\629937003.py:93: VisibleDeprecationWarning: Creating an ndarray from ragged nested sequences (which is a list-or-tuple of lists-or-tuples-or ndarrays with different lengths or shapes) is deprecated. If you meant to do this, you must specify 'dtype=object' when creating the ndarray.\n",
      "  return(np.asarray(ALL_elements))\n"
     ]
    },
    {
     "name": "stdout",
     "output_type": "stream",
     "text": [
      "me08_06092021_09092021\n",
      "0\n"
     ]
    },
    {
     "name": "stderr",
     "output_type": "stream",
     "text": [
      "C:\\Users\\moham\\AppData\\Local\\Temp\\ipykernel_24032\\629937003.py:93: VisibleDeprecationWarning: Creating an ndarray from ragged nested sequences (which is a list-or-tuple of lists-or-tuples-or ndarrays with different lengths or shapes) is deprecated. If you meant to do this, you must specify 'dtype=object' when creating the ndarray.\n",
      "  return(np.asarray(ALL_elements))\n"
     ]
    },
    {
     "name": "stdout",
     "output_type": "stream",
     "text": [
      "1\n"
     ]
    },
    {
     "name": "stderr",
     "output_type": "stream",
     "text": [
      "C:\\Users\\moham\\AppData\\Local\\Temp\\ipykernel_24032\\629937003.py:93: VisibleDeprecationWarning: Creating an ndarray from ragged nested sequences (which is a list-or-tuple of lists-or-tuples-or ndarrays with different lengths or shapes) is deprecated. If you meant to do this, you must specify 'dtype=object' when creating the ndarray.\n",
      "  return(np.asarray(ALL_elements))\n"
     ]
    },
    {
     "name": "stdout",
     "output_type": "stream",
     "text": [
      "2\n"
     ]
    },
    {
     "name": "stderr",
     "output_type": "stream",
     "text": [
      "C:\\Users\\moham\\AppData\\Local\\Temp\\ipykernel_24032\\629937003.py:93: VisibleDeprecationWarning: Creating an ndarray from ragged nested sequences (which is a list-or-tuple of lists-or-tuples-or ndarrays with different lengths or shapes) is deprecated. If you meant to do this, you must specify 'dtype=object' when creating the ndarray.\n",
      "  return(np.asarray(ALL_elements))\n"
     ]
    },
    {
     "name": "stdout",
     "output_type": "stream",
     "text": [
      "4\n"
     ]
    },
    {
     "name": "stderr",
     "output_type": "stream",
     "text": [
      "C:\\Users\\moham\\AppData\\Local\\Temp\\ipykernel_24032\\629937003.py:93: VisibleDeprecationWarning: Creating an ndarray from ragged nested sequences (which is a list-or-tuple of lists-or-tuples-or ndarrays with different lengths or shapes) is deprecated. If you meant to do this, you must specify 'dtype=object' when creating the ndarray.\n",
      "  return(np.asarray(ALL_elements))\n"
     ]
    },
    {
     "name": "stdout",
     "output_type": "stream",
     "text": [
      "5\n"
     ]
    },
    {
     "name": "stderr",
     "output_type": "stream",
     "text": [
      "C:\\Users\\moham\\AppData\\Local\\Temp\\ipykernel_24032\\629937003.py:93: VisibleDeprecationWarning: Creating an ndarray from ragged nested sequences (which is a list-or-tuple of lists-or-tuples-or ndarrays with different lengths or shapes) is deprecated. If you meant to do this, you must specify 'dtype=object' when creating the ndarray.\n",
      "  return(np.asarray(ALL_elements))\n"
     ]
    },
    {
     "name": "stdout",
     "output_type": "stream",
     "text": [
      "6\n"
     ]
    },
    {
     "name": "stderr",
     "output_type": "stream",
     "text": [
      "C:\\Users\\moham\\AppData\\Local\\Temp\\ipykernel_24032\\629937003.py:93: VisibleDeprecationWarning: Creating an ndarray from ragged nested sequences (which is a list-or-tuple of lists-or-tuples-or ndarrays with different lengths or shapes) is deprecated. If you meant to do this, you must specify 'dtype=object' when creating the ndarray.\n",
      "  return(np.asarray(ALL_elements))\n"
     ]
    },
    {
     "name": "stdout",
     "output_type": "stream",
     "text": [
      "me08_10092021_11092021\n",
      "0\n"
     ]
    },
    {
     "name": "stderr",
     "output_type": "stream",
     "text": [
      "C:\\Users\\moham\\AppData\\Local\\Temp\\ipykernel_24032\\629937003.py:93: VisibleDeprecationWarning: Creating an ndarray from ragged nested sequences (which is a list-or-tuple of lists-or-tuples-or ndarrays with different lengths or shapes) is deprecated. If you meant to do this, you must specify 'dtype=object' when creating the ndarray.\n",
      "  return(np.asarray(ALL_elements))\n"
     ]
    },
    {
     "name": "stdout",
     "output_type": "stream",
     "text": [
      "1\n"
     ]
    },
    {
     "name": "stderr",
     "output_type": "stream",
     "text": [
      "C:\\Users\\moham\\AppData\\Local\\Temp\\ipykernel_24032\\629937003.py:93: VisibleDeprecationWarning: Creating an ndarray from ragged nested sequences (which is a list-or-tuple of lists-or-tuples-or ndarrays with different lengths or shapes) is deprecated. If you meant to do this, you must specify 'dtype=object' when creating the ndarray.\n",
      "  return(np.asarray(ALL_elements))\n"
     ]
    },
    {
     "name": "stdout",
     "output_type": "stream",
     "text": [
      "2\n"
     ]
    },
    {
     "name": "stderr",
     "output_type": "stream",
     "text": [
      "C:\\Users\\moham\\AppData\\Local\\Temp\\ipykernel_24032\\629937003.py:93: VisibleDeprecationWarning: Creating an ndarray from ragged nested sequences (which is a list-or-tuple of lists-or-tuples-or ndarrays with different lengths or shapes) is deprecated. If you meant to do this, you must specify 'dtype=object' when creating the ndarray.\n",
      "  return(np.asarray(ALL_elements))\n"
     ]
    },
    {
     "name": "stdout",
     "output_type": "stream",
     "text": [
      "4\n"
     ]
    },
    {
     "name": "stderr",
     "output_type": "stream",
     "text": [
      "C:\\Users\\moham\\AppData\\Local\\Temp\\ipykernel_24032\\629937003.py:93: VisibleDeprecationWarning: Creating an ndarray from ragged nested sequences (which is a list-or-tuple of lists-or-tuples-or ndarrays with different lengths or shapes) is deprecated. If you meant to do this, you must specify 'dtype=object' when creating the ndarray.\n",
      "  return(np.asarray(ALL_elements))\n"
     ]
    },
    {
     "name": "stdout",
     "output_type": "stream",
     "text": [
      "5\n"
     ]
    },
    {
     "name": "stderr",
     "output_type": "stream",
     "text": [
      "C:\\Users\\moham\\AppData\\Local\\Temp\\ipykernel_24032\\629937003.py:93: VisibleDeprecationWarning: Creating an ndarray from ragged nested sequences (which is a list-or-tuple of lists-or-tuples-or ndarrays with different lengths or shapes) is deprecated. If you meant to do this, you must specify 'dtype=object' when creating the ndarray.\n",
      "  return(np.asarray(ALL_elements))\n"
     ]
    },
    {
     "name": "stdout",
     "output_type": "stream",
     "text": [
      "me08_12092021_13092021\n",
      "0\n"
     ]
    },
    {
     "name": "stderr",
     "output_type": "stream",
     "text": [
      "C:\\Users\\moham\\AppData\\Local\\Temp\\ipykernel_24032\\629937003.py:93: VisibleDeprecationWarning: Creating an ndarray from ragged nested sequences (which is a list-or-tuple of lists-or-tuples-or ndarrays with different lengths or shapes) is deprecated. If you meant to do this, you must specify 'dtype=object' when creating the ndarray.\n",
      "  return(np.asarray(ALL_elements))\n"
     ]
    },
    {
     "name": "stdout",
     "output_type": "stream",
     "text": [
      "1\n"
     ]
    },
    {
     "name": "stderr",
     "output_type": "stream",
     "text": [
      "C:\\Users\\moham\\AppData\\Local\\Temp\\ipykernel_24032\\629937003.py:93: VisibleDeprecationWarning: Creating an ndarray from ragged nested sequences (which is a list-or-tuple of lists-or-tuples-or ndarrays with different lengths or shapes) is deprecated. If you meant to do this, you must specify 'dtype=object' when creating the ndarray.\n",
      "  return(np.asarray(ALL_elements))\n"
     ]
    },
    {
     "name": "stdout",
     "output_type": "stream",
     "text": [
      "4\n"
     ]
    },
    {
     "name": "stderr",
     "output_type": "stream",
     "text": [
      "C:\\Users\\moham\\AppData\\Local\\Temp\\ipykernel_24032\\629937003.py:93: VisibleDeprecationWarning: Creating an ndarray from ragged nested sequences (which is a list-or-tuple of lists-or-tuples-or ndarrays with different lengths or shapes) is deprecated. If you meant to do this, you must specify 'dtype=object' when creating the ndarray.\n",
      "  return(np.asarray(ALL_elements))\n"
     ]
    },
    {
     "name": "stdout",
     "output_type": "stream",
     "text": [
      "5\n"
     ]
    },
    {
     "name": "stderr",
     "output_type": "stream",
     "text": [
      "C:\\Users\\moham\\AppData\\Local\\Temp\\ipykernel_24032\\629937003.py:93: VisibleDeprecationWarning: Creating an ndarray from ragged nested sequences (which is a list-or-tuple of lists-or-tuples-or ndarrays with different lengths or shapes) is deprecated. If you meant to do this, you must specify 'dtype=object' when creating the ndarray.\n",
      "  return(np.asarray(ALL_elements))\n"
     ]
    },
    {
     "name": "stdout",
     "output_type": "stream",
     "text": [
      "6\n"
     ]
    },
    {
     "name": "stderr",
     "output_type": "stream",
     "text": [
      "C:\\Users\\moham\\AppData\\Local\\Temp\\ipykernel_24032\\629937003.py:93: VisibleDeprecationWarning: Creating an ndarray from ragged nested sequences (which is a list-or-tuple of lists-or-tuples-or ndarrays with different lengths or shapes) is deprecated. If you meant to do this, you must specify 'dtype=object' when creating the ndarray.\n",
      "  return(np.asarray(ALL_elements))\n"
     ]
    },
    {
     "name": "stdout",
     "output_type": "stream",
     "text": [
      "me10_09122021_10122021\n",
      "0\n"
     ]
    },
    {
     "name": "stderr",
     "output_type": "stream",
     "text": [
      "C:\\Users\\moham\\AppData\\Local\\Temp\\ipykernel_24032\\629937003.py:93: VisibleDeprecationWarning: Creating an ndarray from ragged nested sequences (which is a list-or-tuple of lists-or-tuples-or ndarrays with different lengths or shapes) is deprecated. If you meant to do this, you must specify 'dtype=object' when creating the ndarray.\n",
      "  return(np.asarray(ALL_elements))\n"
     ]
    },
    {
     "name": "stdout",
     "output_type": "stream",
     "text": [
      "1\n"
     ]
    },
    {
     "name": "stderr",
     "output_type": "stream",
     "text": [
      "C:\\Users\\moham\\AppData\\Local\\Temp\\ipykernel_24032\\629937003.py:93: VisibleDeprecationWarning: Creating an ndarray from ragged nested sequences (which is a list-or-tuple of lists-or-tuples-or ndarrays with different lengths or shapes) is deprecated. If you meant to do this, you must specify 'dtype=object' when creating the ndarray.\n",
      "  return(np.asarray(ALL_elements))\n"
     ]
    },
    {
     "name": "stdout",
     "output_type": "stream",
     "text": [
      "2\n"
     ]
    },
    {
     "name": "stderr",
     "output_type": "stream",
     "text": [
      "C:\\Users\\moham\\AppData\\Local\\Temp\\ipykernel_24032\\629937003.py:93: VisibleDeprecationWarning: Creating an ndarray from ragged nested sequences (which is a list-or-tuple of lists-or-tuples-or ndarrays with different lengths or shapes) is deprecated. If you meant to do this, you must specify 'dtype=object' when creating the ndarray.\n",
      "  return(np.asarray(ALL_elements))\n"
     ]
    },
    {
     "name": "stdout",
     "output_type": "stream",
     "text": [
      "4\n"
     ]
    },
    {
     "name": "stderr",
     "output_type": "stream",
     "text": [
      "C:\\Users\\moham\\AppData\\Local\\Temp\\ipykernel_24032\\629937003.py:93: VisibleDeprecationWarning: Creating an ndarray from ragged nested sequences (which is a list-or-tuple of lists-or-tuples-or ndarrays with different lengths or shapes) is deprecated. If you meant to do this, you must specify 'dtype=object' when creating the ndarray.\n",
      "  return(np.asarray(ALL_elements))\n"
     ]
    },
    {
     "name": "stdout",
     "output_type": "stream",
     "text": [
      "6\n"
     ]
    },
    {
     "name": "stderr",
     "output_type": "stream",
     "text": [
      "C:\\Users\\moham\\AppData\\Local\\Temp\\ipykernel_24032\\629937003.py:93: VisibleDeprecationWarning: Creating an ndarray from ragged nested sequences (which is a list-or-tuple of lists-or-tuples-or ndarrays with different lengths or shapes) is deprecated. If you meant to do this, you must specify 'dtype=object' when creating the ndarray.\n",
      "  return(np.asarray(ALL_elements))\n"
     ]
    },
    {
     "name": "stdout",
     "output_type": "stream",
     "text": [
      "7\n"
     ]
    },
    {
     "name": "stderr",
     "output_type": "stream",
     "text": [
      "C:\\Users\\moham\\AppData\\Local\\Temp\\ipykernel_24032\\629937003.py:93: VisibleDeprecationWarning: Creating an ndarray from ragged nested sequences (which is a list-or-tuple of lists-or-tuples-or ndarrays with different lengths or shapes) is deprecated. If you meant to do this, you must specify 'dtype=object' when creating the ndarray.\n",
      "  return(np.asarray(ALL_elements))\n"
     ]
    },
    {
     "name": "stdout",
     "output_type": "stream",
     "text": [
      "me10_14122021_15122021\n",
      "0\n"
     ]
    },
    {
     "name": "stderr",
     "output_type": "stream",
     "text": [
      "C:\\Users\\moham\\AppData\\Local\\Temp\\ipykernel_24032\\629937003.py:93: VisibleDeprecationWarning: Creating an ndarray from ragged nested sequences (which is a list-or-tuple of lists-or-tuples-or ndarrays with different lengths or shapes) is deprecated. If you meant to do this, you must specify 'dtype=object' when creating the ndarray.\n",
      "  return(np.asarray(ALL_elements))\n"
     ]
    },
    {
     "name": "stdout",
     "output_type": "stream",
     "text": [
      "Files not found for session 5\n",
      "1\n"
     ]
    },
    {
     "name": "stderr",
     "output_type": "stream",
     "text": [
      "C:\\Users\\moham\\AppData\\Local\\Temp\\ipykernel_24032\\629937003.py:93: VisibleDeprecationWarning: Creating an ndarray from ragged nested sequences (which is a list-or-tuple of lists-or-tuples-or ndarrays with different lengths or shapes) is deprecated. If you meant to do this, you must specify 'dtype=object' when creating the ndarray.\n",
      "  return(np.asarray(ALL_elements))\n"
     ]
    },
    {
     "name": "stdout",
     "output_type": "stream",
     "text": [
      "Files not found for session 5\n",
      "2\n"
     ]
    },
    {
     "name": "stderr",
     "output_type": "stream",
     "text": [
      "C:\\Users\\moham\\AppData\\Local\\Temp\\ipykernel_24032\\629937003.py:93: VisibleDeprecationWarning: Creating an ndarray from ragged nested sequences (which is a list-or-tuple of lists-or-tuples-or ndarrays with different lengths or shapes) is deprecated. If you meant to do this, you must specify 'dtype=object' when creating the ndarray.\n",
      "  return(np.asarray(ALL_elements))\n"
     ]
    },
    {
     "name": "stdout",
     "output_type": "stream",
     "text": [
      "Files not found for session 5\n",
      "4\n"
     ]
    },
    {
     "name": "stderr",
     "output_type": "stream",
     "text": [
      "C:\\Users\\moham\\AppData\\Local\\Temp\\ipykernel_24032\\629937003.py:93: VisibleDeprecationWarning: Creating an ndarray from ragged nested sequences (which is a list-or-tuple of lists-or-tuples-or ndarrays with different lengths or shapes) is deprecated. If you meant to do this, you must specify 'dtype=object' when creating the ndarray.\n",
      "  return(np.asarray(ALL_elements))\n"
     ]
    },
    {
     "name": "stdout",
     "output_type": "stream",
     "text": [
      "Files not found for session 5\n",
      "5\n"
     ]
    },
    {
     "name": "stderr",
     "output_type": "stream",
     "text": [
      "C:\\Users\\moham\\AppData\\Local\\Temp\\ipykernel_24032\\629937003.py:93: VisibleDeprecationWarning: Creating an ndarray from ragged nested sequences (which is a list-or-tuple of lists-or-tuples-or ndarrays with different lengths or shapes) is deprecated. If you meant to do this, you must specify 'dtype=object' when creating the ndarray.\n",
      "  return(np.asarray(ALL_elements))\n"
     ]
    },
    {
     "name": "stdout",
     "output_type": "stream",
     "text": [
      "Files not found for session 5\n",
      "me10_17122021_19122021\n",
      "0\n",
      "1\n"
     ]
    },
    {
     "name": "stderr",
     "output_type": "stream",
     "text": [
      "C:\\Users\\moham\\AppData\\Local\\Temp\\ipykernel_24032\\629937003.py:93: VisibleDeprecationWarning: Creating an ndarray from ragged nested sequences (which is a list-or-tuple of lists-or-tuples-or ndarrays with different lengths or shapes) is deprecated. If you meant to do this, you must specify 'dtype=object' when creating the ndarray.\n",
      "  return(np.asarray(ALL_elements))\n"
     ]
    },
    {
     "name": "stdout",
     "output_type": "stream",
     "text": [
      "2\n"
     ]
    },
    {
     "name": "stderr",
     "output_type": "stream",
     "text": [
      "C:\\Users\\moham\\AppData\\Local\\Temp\\ipykernel_24032\\629937003.py:93: VisibleDeprecationWarning: Creating an ndarray from ragged nested sequences (which is a list-or-tuple of lists-or-tuples-or ndarrays with different lengths or shapes) is deprecated. If you meant to do this, you must specify 'dtype=object' when creating the ndarray.\n",
      "  return(np.asarray(ALL_elements))\n"
     ]
    },
    {
     "name": "stdout",
     "output_type": "stream",
     "text": [
      "4\n"
     ]
    },
    {
     "name": "stderr",
     "output_type": "stream",
     "text": [
      "C:\\Users\\moham\\AppData\\Local\\Temp\\ipykernel_24032\\629937003.py:93: VisibleDeprecationWarning: Creating an ndarray from ragged nested sequences (which is a list-or-tuple of lists-or-tuples-or ndarrays with different lengths or shapes) is deprecated. If you meant to do this, you must specify 'dtype=object' when creating the ndarray.\n",
      "  return(np.asarray(ALL_elements))\n"
     ]
    },
    {
     "name": "stdout",
     "output_type": "stream",
     "text": [
      "5\n"
     ]
    },
    {
     "name": "stderr",
     "output_type": "stream",
     "text": [
      "C:\\Users\\moham\\AppData\\Local\\Temp\\ipykernel_24032\\629937003.py:93: VisibleDeprecationWarning: Creating an ndarray from ragged nested sequences (which is a list-or-tuple of lists-or-tuples-or ndarrays with different lengths or shapes) is deprecated. If you meant to do this, you must specify 'dtype=object' when creating the ndarray.\n",
      "  return(np.asarray(ALL_elements))\n"
     ]
    },
    {
     "name": "stdout",
     "output_type": "stream",
     "text": [
      "6\n"
     ]
    },
    {
     "name": "stderr",
     "output_type": "stream",
     "text": [
      "C:\\Users\\moham\\AppData\\Local\\Temp\\ipykernel_24032\\629937003.py:93: VisibleDeprecationWarning: Creating an ndarray from ragged nested sequences (which is a list-or-tuple of lists-or-tuples-or ndarrays with different lengths or shapes) is deprecated. If you meant to do this, you must specify 'dtype=object' when creating the ndarray.\n",
      "  return(np.asarray(ALL_elements))\n"
     ]
    },
    {
     "name": "stdout",
     "output_type": "stream",
     "text": [
      "me10_20122021_21122021\n",
      "0\n"
     ]
    },
    {
     "name": "stderr",
     "output_type": "stream",
     "text": [
      "C:\\Users\\moham\\AppData\\Local\\Temp\\ipykernel_24032\\629937003.py:93: VisibleDeprecationWarning: Creating an ndarray from ragged nested sequences (which is a list-or-tuple of lists-or-tuples-or ndarrays with different lengths or shapes) is deprecated. If you meant to do this, you must specify 'dtype=object' when creating the ndarray.\n",
      "  return(np.asarray(ALL_elements))\n"
     ]
    },
    {
     "name": "stdout",
     "output_type": "stream",
     "text": [
      "1\n"
     ]
    },
    {
     "name": "stderr",
     "output_type": "stream",
     "text": [
      "C:\\Users\\moham\\AppData\\Local\\Temp\\ipykernel_24032\\629937003.py:93: VisibleDeprecationWarning: Creating an ndarray from ragged nested sequences (which is a list-or-tuple of lists-or-tuples-or ndarrays with different lengths or shapes) is deprecated. If you meant to do this, you must specify 'dtype=object' when creating the ndarray.\n",
      "  return(np.asarray(ALL_elements))\n"
     ]
    },
    {
     "name": "stdout",
     "output_type": "stream",
     "text": [
      "2\n"
     ]
    },
    {
     "name": "stderr",
     "output_type": "stream",
     "text": [
      "C:\\Users\\moham\\AppData\\Local\\Temp\\ipykernel_24032\\629937003.py:93: VisibleDeprecationWarning: Creating an ndarray from ragged nested sequences (which is a list-or-tuple of lists-or-tuples-or ndarrays with different lengths or shapes) is deprecated. If you meant to do this, you must specify 'dtype=object' when creating the ndarray.\n",
      "  return(np.asarray(ALL_elements))\n"
     ]
    },
    {
     "name": "stdout",
     "output_type": "stream",
     "text": [
      "3\n"
     ]
    },
    {
     "name": "stderr",
     "output_type": "stream",
     "text": [
      "C:\\Users\\moham\\AppData\\Local\\Temp\\ipykernel_24032\\629937003.py:93: VisibleDeprecationWarning: Creating an ndarray from ragged nested sequences (which is a list-or-tuple of lists-or-tuples-or ndarrays with different lengths or shapes) is deprecated. If you meant to do this, you must specify 'dtype=object' when creating the ndarray.\n",
      "  return(np.asarray(ALL_elements))\n"
     ]
    },
    {
     "name": "stdout",
     "output_type": "stream",
     "text": [
      "4\n"
     ]
    },
    {
     "name": "stderr",
     "output_type": "stream",
     "text": [
      "C:\\Users\\moham\\AppData\\Local\\Temp\\ipykernel_24032\\629937003.py:93: VisibleDeprecationWarning: Creating an ndarray from ragged nested sequences (which is a list-or-tuple of lists-or-tuples-or ndarrays with different lengths or shapes) is deprecated. If you meant to do this, you must specify 'dtype=object' when creating the ndarray.\n",
      "  return(np.asarray(ALL_elements))\n"
     ]
    },
    {
     "name": "stdout",
     "output_type": "stream",
     "text": [
      "5\n"
     ]
    },
    {
     "name": "stderr",
     "output_type": "stream",
     "text": [
      "C:\\Users\\moham\\AppData\\Local\\Temp\\ipykernel_24032\\629937003.py:93: VisibleDeprecationWarning: Creating an ndarray from ragged nested sequences (which is a list-or-tuple of lists-or-tuples-or ndarrays with different lengths or shapes) is deprecated. If you meant to do this, you must specify 'dtype=object' when creating the ndarray.\n",
      "  return(np.asarray(ALL_elements))\n"
     ]
    },
    {
     "name": "stdout",
     "output_type": "stream",
     "text": [
      "me11_01122021_02122021\n",
      "0\n"
     ]
    },
    {
     "name": "stderr",
     "output_type": "stream",
     "text": [
      "C:\\Users\\moham\\AppData\\Local\\Temp\\ipykernel_24032\\629937003.py:93: VisibleDeprecationWarning: Creating an ndarray from ragged nested sequences (which is a list-or-tuple of lists-or-tuples-or ndarrays with different lengths or shapes) is deprecated. If you meant to do this, you must specify 'dtype=object' when creating the ndarray.\n",
      "  return(np.asarray(ALL_elements))\n"
     ]
    },
    {
     "name": "stdout",
     "output_type": "stream",
     "text": [
      "1\n"
     ]
    },
    {
     "name": "stderr",
     "output_type": "stream",
     "text": [
      "C:\\Users\\moham\\AppData\\Local\\Temp\\ipykernel_24032\\629937003.py:93: VisibleDeprecationWarning: Creating an ndarray from ragged nested sequences (which is a list-or-tuple of lists-or-tuples-or ndarrays with different lengths or shapes) is deprecated. If you meant to do this, you must specify 'dtype=object' when creating the ndarray.\n",
      "  return(np.asarray(ALL_elements))\n"
     ]
    },
    {
     "name": "stdout",
     "output_type": "stream",
     "text": [
      "2\n"
     ]
    },
    {
     "name": "stderr",
     "output_type": "stream",
     "text": [
      "C:\\Users\\moham\\AppData\\Local\\Temp\\ipykernel_24032\\629937003.py:93: VisibleDeprecationWarning: Creating an ndarray from ragged nested sequences (which is a list-or-tuple of lists-or-tuples-or ndarrays with different lengths or shapes) is deprecated. If you meant to do this, you must specify 'dtype=object' when creating the ndarray.\n",
      "  return(np.asarray(ALL_elements))\n"
     ]
    },
    {
     "name": "stdout",
     "output_type": "stream",
     "text": [
      "4\n"
     ]
    },
    {
     "name": "stderr",
     "output_type": "stream",
     "text": [
      "C:\\Users\\moham\\AppData\\Local\\Temp\\ipykernel_24032\\629937003.py:93: VisibleDeprecationWarning: Creating an ndarray from ragged nested sequences (which is a list-or-tuple of lists-or-tuples-or ndarrays with different lengths or shapes) is deprecated. If you meant to do this, you must specify 'dtype=object' when creating the ndarray.\n",
      "  return(np.asarray(ALL_elements))\n"
     ]
    },
    {
     "name": "stdout",
     "output_type": "stream",
     "text": [
      "5\n"
     ]
    },
    {
     "name": "stderr",
     "output_type": "stream",
     "text": [
      "C:\\Users\\moham\\AppData\\Local\\Temp\\ipykernel_24032\\629937003.py:93: VisibleDeprecationWarning: Creating an ndarray from ragged nested sequences (which is a list-or-tuple of lists-or-tuples-or ndarrays with different lengths or shapes) is deprecated. If you meant to do this, you must specify 'dtype=object' when creating the ndarray.\n",
      "  return(np.asarray(ALL_elements))\n"
     ]
    },
    {
     "name": "stdout",
     "output_type": "stream",
     "text": [
      "6\n"
     ]
    },
    {
     "name": "stderr",
     "output_type": "stream",
     "text": [
      "C:\\Users\\moham\\AppData\\Local\\Temp\\ipykernel_24032\\629937003.py:93: VisibleDeprecationWarning: Creating an ndarray from ragged nested sequences (which is a list-or-tuple of lists-or-tuples-or ndarrays with different lengths or shapes) is deprecated. If you meant to do this, you must specify 'dtype=object' when creating the ndarray.\n",
      "  return(np.asarray(ALL_elements))\n"
     ]
    },
    {
     "name": "stdout",
     "output_type": "stream",
     "text": [
      "7\n"
     ]
    },
    {
     "name": "stderr",
     "output_type": "stream",
     "text": [
      "C:\\Users\\moham\\AppData\\Local\\Temp\\ipykernel_24032\\629937003.py:93: VisibleDeprecationWarning: Creating an ndarray from ragged nested sequences (which is a list-or-tuple of lists-or-tuples-or ndarrays with different lengths or shapes) is deprecated. If you meant to do this, you must specify 'dtype=object' when creating the ndarray.\n",
      "  return(np.asarray(ALL_elements))\n"
     ]
    },
    {
     "name": "stdout",
     "output_type": "stream",
     "text": [
      "me11_05122021_06122021\n",
      "0\n"
     ]
    },
    {
     "name": "stderr",
     "output_type": "stream",
     "text": [
      "C:\\Users\\moham\\AppData\\Local\\Temp\\ipykernel_24032\\629937003.py:93: VisibleDeprecationWarning: Creating an ndarray from ragged nested sequences (which is a list-or-tuple of lists-or-tuples-or ndarrays with different lengths or shapes) is deprecated. If you meant to do this, you must specify 'dtype=object' when creating the ndarray.\n",
      "  return(np.asarray(ALL_elements))\n"
     ]
    },
    {
     "name": "stdout",
     "output_type": "stream",
     "text": [
      "1\n"
     ]
    },
    {
     "name": "stderr",
     "output_type": "stream",
     "text": [
      "C:\\Users\\moham\\AppData\\Local\\Temp\\ipykernel_24032\\629937003.py:93: VisibleDeprecationWarning: Creating an ndarray from ragged nested sequences (which is a list-or-tuple of lists-or-tuples-or ndarrays with different lengths or shapes) is deprecated. If you meant to do this, you must specify 'dtype=object' when creating the ndarray.\n",
      "  return(np.asarray(ALL_elements))\n"
     ]
    },
    {
     "name": "stdout",
     "output_type": "stream",
     "text": [
      "2\n"
     ]
    },
    {
     "name": "stderr",
     "output_type": "stream",
     "text": [
      "C:\\Users\\moham\\AppData\\Local\\Temp\\ipykernel_24032\\629937003.py:93: VisibleDeprecationWarning: Creating an ndarray from ragged nested sequences (which is a list-or-tuple of lists-or-tuples-or ndarrays with different lengths or shapes) is deprecated. If you meant to do this, you must specify 'dtype=object' when creating the ndarray.\n",
      "  return(np.asarray(ALL_elements))\n"
     ]
    },
    {
     "name": "stdout",
     "output_type": "stream",
     "text": [
      "3\n"
     ]
    },
    {
     "name": "stderr",
     "output_type": "stream",
     "text": [
      "C:\\Users\\moham\\AppData\\Local\\Temp\\ipykernel_24032\\629937003.py:93: VisibleDeprecationWarning: Creating an ndarray from ragged nested sequences (which is a list-or-tuple of lists-or-tuples-or ndarrays with different lengths or shapes) is deprecated. If you meant to do this, you must specify 'dtype=object' when creating the ndarray.\n",
      "  return(np.asarray(ALL_elements))\n"
     ]
    },
    {
     "name": "stdout",
     "output_type": "stream",
     "text": [
      "4\n"
     ]
    },
    {
     "name": "stderr",
     "output_type": "stream",
     "text": [
      "C:\\Users\\moham\\AppData\\Local\\Temp\\ipykernel_24032\\629937003.py:93: VisibleDeprecationWarning: Creating an ndarray from ragged nested sequences (which is a list-or-tuple of lists-or-tuples-or ndarrays with different lengths or shapes) is deprecated. If you meant to do this, you must specify 'dtype=object' when creating the ndarray.\n",
      "  return(np.asarray(ALL_elements))\n"
     ]
    },
    {
     "name": "stdout",
     "output_type": "stream",
     "text": [
      "5\n"
     ]
    },
    {
     "name": "stderr",
     "output_type": "stream",
     "text": [
      "C:\\Users\\moham\\AppData\\Local\\Temp\\ipykernel_24032\\629937003.py:93: VisibleDeprecationWarning: Creating an ndarray from ragged nested sequences (which is a list-or-tuple of lists-or-tuples-or ndarrays with different lengths or shapes) is deprecated. If you meant to do this, you must specify 'dtype=object' when creating the ndarray.\n",
      "  return(np.asarray(ALL_elements))\n"
     ]
    },
    {
     "name": "stdout",
     "output_type": "stream",
     "text": [
      "7\n"
     ]
    },
    {
     "name": "stderr",
     "output_type": "stream",
     "text": [
      "C:\\Users\\moham\\AppData\\Local\\Temp\\ipykernel_24032\\629937003.py:93: VisibleDeprecationWarning: Creating an ndarray from ragged nested sequences (which is a list-or-tuple of lists-or-tuples-or ndarrays with different lengths or shapes) is deprecated. If you meant to do this, you must specify 'dtype=object' when creating the ndarray.\n",
      "  return(np.asarray(ALL_elements))\n"
     ]
    },
    {
     "name": "stdout",
     "output_type": "stream",
     "text": [
      "me11_07122021_08122021\n",
      "0\n"
     ]
    },
    {
     "name": "stderr",
     "output_type": "stream",
     "text": [
      "C:\\Users\\moham\\AppData\\Local\\Temp\\ipykernel_24032\\629937003.py:93: VisibleDeprecationWarning: Creating an ndarray from ragged nested sequences (which is a list-or-tuple of lists-or-tuples-or ndarrays with different lengths or shapes) is deprecated. If you meant to do this, you must specify 'dtype=object' when creating the ndarray.\n",
      "  return(np.asarray(ALL_elements))\n"
     ]
    },
    {
     "name": "stdout",
     "output_type": "stream",
     "text": [
      "1\n"
     ]
    },
    {
     "name": "stderr",
     "output_type": "stream",
     "text": [
      "C:\\Users\\moham\\AppData\\Local\\Temp\\ipykernel_24032\\629937003.py:93: VisibleDeprecationWarning: Creating an ndarray from ragged nested sequences (which is a list-or-tuple of lists-or-tuples-or ndarrays with different lengths or shapes) is deprecated. If you meant to do this, you must specify 'dtype=object' when creating the ndarray.\n",
      "  return(np.asarray(ALL_elements))\n"
     ]
    },
    {
     "name": "stdout",
     "output_type": "stream",
     "text": [
      "2\n"
     ]
    },
    {
     "name": "stderr",
     "output_type": "stream",
     "text": [
      "C:\\Users\\moham\\AppData\\Local\\Temp\\ipykernel_24032\\629937003.py:93: VisibleDeprecationWarning: Creating an ndarray from ragged nested sequences (which is a list-or-tuple of lists-or-tuples-or ndarrays with different lengths or shapes) is deprecated. If you meant to do this, you must specify 'dtype=object' when creating the ndarray.\n",
      "  return(np.asarray(ALL_elements))\n"
     ]
    },
    {
     "name": "stdout",
     "output_type": "stream",
     "text": [
      "4\n"
     ]
    },
    {
     "name": "stderr",
     "output_type": "stream",
     "text": [
      "C:\\Users\\moham\\AppData\\Local\\Temp\\ipykernel_24032\\629937003.py:93: VisibleDeprecationWarning: Creating an ndarray from ragged nested sequences (which is a list-or-tuple of lists-or-tuples-or ndarrays with different lengths or shapes) is deprecated. If you meant to do this, you must specify 'dtype=object' when creating the ndarray.\n",
      "  return(np.asarray(ALL_elements))\n"
     ]
    },
    {
     "name": "stdout",
     "output_type": "stream",
     "text": [
      "5\n"
     ]
    },
    {
     "name": "stderr",
     "output_type": "stream",
     "text": [
      "C:\\Users\\moham\\AppData\\Local\\Temp\\ipykernel_24032\\629937003.py:93: VisibleDeprecationWarning: Creating an ndarray from ragged nested sequences (which is a list-or-tuple of lists-or-tuples-or ndarrays with different lengths or shapes) is deprecated. If you meant to do this, you must specify 'dtype=object' when creating the ndarray.\n",
      "  return(np.asarray(ALL_elements))\n"
     ]
    },
    {
     "name": "stdout",
     "output_type": "stream",
     "text": [
      "6\n"
     ]
    },
    {
     "name": "stderr",
     "output_type": "stream",
     "text": [
      "C:\\Users\\moham\\AppData\\Local\\Temp\\ipykernel_24032\\629937003.py:93: VisibleDeprecationWarning: Creating an ndarray from ragged nested sequences (which is a list-or-tuple of lists-or-tuples-or ndarrays with different lengths or shapes) is deprecated. If you meant to do this, you must specify 'dtype=object' when creating the ndarray.\n",
      "  return(np.asarray(ALL_elements))\n"
     ]
    },
    {
     "name": "stdout",
     "output_type": "stream",
     "text": [
      "me11_09122021_10122021\n",
      "0\n"
     ]
    },
    {
     "name": "stderr",
     "output_type": "stream",
     "text": [
      "C:\\Users\\moham\\AppData\\Local\\Temp\\ipykernel_24032\\629937003.py:93: VisibleDeprecationWarning: Creating an ndarray from ragged nested sequences (which is a list-or-tuple of lists-or-tuples-or ndarrays with different lengths or shapes) is deprecated. If you meant to do this, you must specify 'dtype=object' when creating the ndarray.\n",
      "  return(np.asarray(ALL_elements))\n"
     ]
    },
    {
     "name": "stdout",
     "output_type": "stream",
     "text": [
      "1\n"
     ]
    },
    {
     "name": "stderr",
     "output_type": "stream",
     "text": [
      "C:\\Users\\moham\\AppData\\Local\\Temp\\ipykernel_24032\\629937003.py:93: VisibleDeprecationWarning: Creating an ndarray from ragged nested sequences (which is a list-or-tuple of lists-or-tuples-or ndarrays with different lengths or shapes) is deprecated. If you meant to do this, you must specify 'dtype=object' when creating the ndarray.\n",
      "  return(np.asarray(ALL_elements))\n"
     ]
    },
    {
     "name": "stdout",
     "output_type": "stream",
     "text": [
      "2\n"
     ]
    },
    {
     "name": "stderr",
     "output_type": "stream",
     "text": [
      "C:\\Users\\moham\\AppData\\Local\\Temp\\ipykernel_24032\\629937003.py:93: VisibleDeprecationWarning: Creating an ndarray from ragged nested sequences (which is a list-or-tuple of lists-or-tuples-or ndarrays with different lengths or shapes) is deprecated. If you meant to do this, you must specify 'dtype=object' when creating the ndarray.\n",
      "  return(np.asarray(ALL_elements))\n"
     ]
    },
    {
     "name": "stdout",
     "output_type": "stream",
     "text": [
      "4\n"
     ]
    },
    {
     "name": "stderr",
     "output_type": "stream",
     "text": [
      "C:\\Users\\moham\\AppData\\Local\\Temp\\ipykernel_24032\\629937003.py:93: VisibleDeprecationWarning: Creating an ndarray from ragged nested sequences (which is a list-or-tuple of lists-or-tuples-or ndarrays with different lengths or shapes) is deprecated. If you meant to do this, you must specify 'dtype=object' when creating the ndarray.\n",
      "  return(np.asarray(ALL_elements))\n"
     ]
    },
    {
     "name": "stdout",
     "output_type": "stream",
     "text": [
      "6\n"
     ]
    },
    {
     "name": "stderr",
     "output_type": "stream",
     "text": [
      "C:\\Users\\moham\\AppData\\Local\\Temp\\ipykernel_24032\\629937003.py:93: VisibleDeprecationWarning: Creating an ndarray from ragged nested sequences (which is a list-or-tuple of lists-or-tuples-or ndarrays with different lengths or shapes) is deprecated. If you meant to do this, you must specify 'dtype=object' when creating the ndarray.\n",
      "  return(np.asarray(ALL_elements))\n"
     ]
    },
    {
     "name": "stdout",
     "output_type": "stream",
     "text": [
      "7\n"
     ]
    },
    {
     "name": "stderr",
     "output_type": "stream",
     "text": [
      "C:\\Users\\moham\\AppData\\Local\\Temp\\ipykernel_24032\\629937003.py:93: VisibleDeprecationWarning: Creating an ndarray from ragged nested sequences (which is a list-or-tuple of lists-or-tuples-or ndarrays with different lengths or shapes) is deprecated. If you meant to do this, you must specify 'dtype=object' when creating the ndarray.\n",
      "  return(np.asarray(ALL_elements))\n"
     ]
    },
    {
     "name": "stdout",
     "output_type": "stream",
     "text": [
      "me11_12122021_13122021\n",
      "0\n"
     ]
    },
    {
     "name": "stderr",
     "output_type": "stream",
     "text": [
      "C:\\Users\\moham\\AppData\\Local\\Temp\\ipykernel_24032\\629937003.py:93: VisibleDeprecationWarning: Creating an ndarray from ragged nested sequences (which is a list-or-tuple of lists-or-tuples-or ndarrays with different lengths or shapes) is deprecated. If you meant to do this, you must specify 'dtype=object' when creating the ndarray.\n",
      "  return(np.asarray(ALL_elements))\n"
     ]
    },
    {
     "name": "stdout",
     "output_type": "stream",
     "text": [
      "1\n"
     ]
    },
    {
     "name": "stderr",
     "output_type": "stream",
     "text": [
      "C:\\Users\\moham\\AppData\\Local\\Temp\\ipykernel_24032\\629937003.py:93: VisibleDeprecationWarning: Creating an ndarray from ragged nested sequences (which is a list-or-tuple of lists-or-tuples-or ndarrays with different lengths or shapes) is deprecated. If you meant to do this, you must specify 'dtype=object' when creating the ndarray.\n",
      "  return(np.asarray(ALL_elements))\n"
     ]
    },
    {
     "name": "stdout",
     "output_type": "stream",
     "text": [
      "2\n"
     ]
    },
    {
     "name": "stderr",
     "output_type": "stream",
     "text": [
      "C:\\Users\\moham\\AppData\\Local\\Temp\\ipykernel_24032\\629937003.py:93: VisibleDeprecationWarning: Creating an ndarray from ragged nested sequences (which is a list-or-tuple of lists-or-tuples-or ndarrays with different lengths or shapes) is deprecated. If you meant to do this, you must specify 'dtype=object' when creating the ndarray.\n",
      "  return(np.asarray(ALL_elements))\n"
     ]
    },
    {
     "name": "stdout",
     "output_type": "stream",
     "text": [
      "4\n"
     ]
    },
    {
     "name": "stderr",
     "output_type": "stream",
     "text": [
      "C:\\Users\\moham\\AppData\\Local\\Temp\\ipykernel_24032\\629937003.py:93: VisibleDeprecationWarning: Creating an ndarray from ragged nested sequences (which is a list-or-tuple of lists-or-tuples-or ndarrays with different lengths or shapes) is deprecated. If you meant to do this, you must specify 'dtype=object' when creating the ndarray.\n",
      "  return(np.asarray(ALL_elements))\n"
     ]
    },
    {
     "name": "stdout",
     "output_type": "stream",
     "text": [
      "5\n"
     ]
    },
    {
     "name": "stderr",
     "output_type": "stream",
     "text": [
      "C:\\Users\\moham\\AppData\\Local\\Temp\\ipykernel_24032\\629937003.py:93: VisibleDeprecationWarning: Creating an ndarray from ragged nested sequences (which is a list-or-tuple of lists-or-tuples-or ndarrays with different lengths or shapes) is deprecated. If you meant to do this, you must specify 'dtype=object' when creating the ndarray.\n",
      "  return(np.asarray(ALL_elements))\n"
     ]
    },
    {
     "name": "stdout",
     "output_type": "stream",
     "text": [
      "6\n"
     ]
    },
    {
     "name": "stderr",
     "output_type": "stream",
     "text": [
      "C:\\Users\\moham\\AppData\\Local\\Temp\\ipykernel_24032\\629937003.py:93: VisibleDeprecationWarning: Creating an ndarray from ragged nested sequences (which is a list-or-tuple of lists-or-tuples-or ndarrays with different lengths or shapes) is deprecated. If you meant to do this, you must specify 'dtype=object' when creating the ndarray.\n",
      "  return(np.asarray(ALL_elements))\n"
     ]
    }
   ],
   "source": [
    "###GLM - across tasks/states (using left out state/task combination as test data)\n",
    "\n",
    "GLM_dic2=rec_dd()\n",
    "num_phases=5\n",
    "num_nodes=9\n",
    "num_locations=21\n",
    "num_states=4\n",
    "num_regressors=6 ##phase, place, time (from reward), speed, acceleration\n",
    "num_regressors_interest=2 ##phase, place\n",
    "\n",
    "smooth_SDs=5\n",
    "\n",
    "phase_bins=np.arange(num_phases+1)\n",
    "location_bins=np.arange(num_locations+1)+1\n",
    "state_bins=np.arange(num_states+1)\n",
    "redo=True\n",
    "remove_edges=True\n",
    "\n",
    "redo_list=[]\n",
    "specific_days=False\n",
    "\n",
    "if remove_edges==True:\n",
    "    num_locations=num_nodes\n",
    "    location_bins=np.arange(num_nodes+1)+1\n",
    "        \n",
    "\n",
    "for day_type in ['3_task','combined_ABCDonly']:\n",
    "    recording_days_=np.load(Input_folder+day_type+'_days.npy')\n",
    "    for mouse_recday in recording_days_:\n",
    "\n",
    "        print(mouse_recday)\n",
    "        \n",
    "        if specific_days==True and mouse_recday not in redo_list:\n",
    "            continue\n",
    "        \n",
    "        if redo==False:\n",
    "            if mouse_recday in GLM_dic2['coeffs_all'].keys():\n",
    "                print('Already Analysed')\n",
    "                continue\n",
    "\n",
    "        try: \n",
    "            awake_sessions_behaviour=np.load(Input_folder+'awake_session_behaviour_'+mouse_recday+'.npy')\n",
    "            awake_sessions=np.load(Input_folder+'awake_session_behaviour_'+mouse_recday+'.npy')\n",
    "            \n",
    "            num_sessions=len(awake_sessions_behaviour)\n",
    "\n",
    "            num_neurons=len(np.load(Input_folder+'Neuron_raw_'+mouse_recday+'_0.npy'))\n",
    "                                    \n",
    "            \n",
    "            non_repeat_ses=non_repeat_ses_maker(mouse_recday) \n",
    "\n",
    "            coeffs_all=np.zeros((num_neurons,len(non_repeat_ses)*num_states,num_regressors))\n",
    "            coeffs_all[:]=np.nan\n",
    "            \n",
    "            \n",
    "            \n",
    "            for ses_ind_test_ind,ses_ind_test in enumerate(non_repeat_ses):\n",
    "                print(ses_ind_test)\n",
    "                training_sessions=np.setdiff1d(non_repeat_ses,ses_ind_test)\n",
    "                \n",
    "                ###Training\n",
    "                phases_conc_all_=[]\n",
    "                states_conc_all_=[]\n",
    "                Location_raw_eq_all_=[]\n",
    "                Neuron_raw_all_=[]\n",
    "                for ses_ind_training_ind, ses_ind_training in enumerate(training_sessions):\n",
    "                    try:\n",
    "                        Neuron_raw=np.load(Input_folder+'Neuron_raw_'+mouse_recday+'_'+str(ses_ind_training)+'.npy')\n",
    "                        Location_raw=np.load(Input_folder+'Location_raw_'+mouse_recday+'_'+str(ses_ind_training)+'.npy')\n",
    "                        XY_raw=np.load(Input_folder+'XY_raw_'+mouse_recday+'_'+str(ses_ind_training)+'.npy')\n",
    "                        speed_raw=speed_dic[mouse_recday][ses_ind_training]\n",
    "\n",
    "\n",
    "                        acceleration_raw_=np.diff(speed_raw)/0.025\n",
    "                        acceleration_raw=np.hstack((acceleration_raw_[0],acceleration_raw_))\n",
    "                        Trial_times=np.load(Input_folder+'trialtimes_'+mouse_recday+'_'+str(ses_ind_training)+'.npy')\n",
    "\n",
    "                    except:\n",
    "                        print('Files not found for session '+str(ses_ind_training))\n",
    "                        continue\n",
    "\n",
    "                    phases=Phases_raw_dic[mouse_recday][ses_ind_training]\n",
    "                    phases_conc=concatenate_complex2(concatenate_complex2(phases))\n",
    "                    states=States_raw_dic[mouse_recday][ses_ind_training]\n",
    "                    states_conc=concatenate_complex2(concatenate_complex2(states))\n",
    "                    times=Times_from_reward_dic[mouse_recday][ses_ind_training]\n",
    "                    times_conc=concatenate_complex2(concatenate_complex2(times))\n",
    "                    distances=np.load(Input_folder+'Distances_from_reward_'+\\\n",
    "                    mouse_recday+'_'+str(ses_ind_training)+'.npy',allow_pickle=True)\n",
    "                    distances_conc=concatenate_complex2(concatenate_complex2(distances))\n",
    "                    speed_raw_eq=speed_raw[:len(phases_conc)]\n",
    "                    acceleration_raw_eq=acceleration_raw[:len(phases_conc)]\n",
    "                    Location_raw_eq=Location_raw[:len(phases_conc)]\n",
    "\n",
    "                    if remove_edges==True:\n",
    "                        Location_raw_eq[Location_raw_eq>num_nodes]=np.nan ### removing edges\n",
    "\n",
    "                    if len(phases_conc)>=len(speed_raw_eq):\n",
    "                        phases_conc=phases_conc[:len(speed_raw_eq)]\n",
    "                        states_conc=states_conc[:len(speed_raw_eq)]\n",
    "                        times_conc=times_conc[:len(speed_raw_eq)]\n",
    "                        distances_conc=distances_conc[:len(speed_raw_eq)]\n",
    "                        Location_raw_eq=Location_raw_eq[:len(speed_raw_eq)]\n",
    "                        Neuron_raw=Neuron_raw[:,:len(speed_raw_eq)]\n",
    "\n",
    "                    speed_phases=st.binned_statistic(phases_conc, speed_raw_eq , bins=phase_bins)[0]\n",
    "                    acceleration_phases=st.binned_statistic(phases_conc, acceleration_raw_eq , bins=phase_bins)[0]\n",
    "                    \n",
    "                    phases_conc_all_.append(phases_conc)\n",
    "                    states_conc_all_.append(states_conc)\n",
    "                    Location_raw_eq_all_.append(Location_raw_eq)\n",
    "                    Neuron_raw_all_.append(Neuron_raw)\n",
    "                    \n",
    "\n",
    "\n",
    "                phases_conc_all_=np.hstack((phases_conc_all_))\n",
    "                states_conc_all_=np.hstack((states_conc_all_))\n",
    "                Location_raw_eq_all_=np.hstack((Location_raw_eq_all_))\n",
    "                Neuron_raw_all_=np.hstack((Neuron_raw_all_))\n",
    "                \n",
    "                \n",
    "\n",
    "\n",
    "\n",
    "                ###Test\n",
    "                try:\n",
    "                    Neuron_raw_test=np.load(Input_folder+'Neuron_raw_'+mouse_recday+'_'+str(ses_ind_test)+'.npy')\n",
    "                    Location_raw_test=np.load(Input_folder+'Location_raw_'+mouse_recday+'_'+str(ses_ind_test)+'.npy')\n",
    "                except:\n",
    "                    print('Files not found for session '+str(ses_ind_test))\n",
    "                    continue\n",
    "                speed_raw_test=speed_dic[mouse_recday][ses_ind_test]\n",
    "                acceleration_raw_test_=np.diff(speed_raw_test)/0.025\n",
    "                acceleration_raw_test=np.hstack((acceleration_raw_test_[0],acceleration_raw_test_))\n",
    "\n",
    "                phases_test=Phases_raw_dic[mouse_recday][ses_ind_test]\n",
    "                phases_conc_test=concatenate_complex2(concatenate_complex2(phases_test))\n",
    "                states_test=States_raw_dic[mouse_recday][ses_ind_test]\n",
    "                states_conc_test=concatenate_complex2(concatenate_complex2(states_test))\n",
    "                times_test=Times_from_reward_dic[mouse_recday][ses_ind_test]\n",
    "                times_conc_test=concatenate_complex2(concatenate_complex2(times_test))\n",
    "                distances_test=np.load(Input_folder+'Distances_from_reward_'+\\\n",
    "                mouse_recday+'_'+str(ses_ind_test)+'.npy',allow_pickle=True)\n",
    "                distances_conc_test=concatenate_complex2(concatenate_complex2(distances_test))\n",
    "\n",
    "                speed_raw_eq_test=gaussian_filter1d(speed_raw_test[:len(phases_conc_test)],smooth_SDs)\n",
    "                acceleration_raw_eq_test=gaussian_filter1d(acceleration_raw_test[:len(phases_conc_test)],smooth_SDs)\n",
    "                Location_raw_eq_test=Location_raw_test[:len(phases_conc_test)]\n",
    "                \n",
    "                Neuron_raw_eq_test_all=Neuron_raw_test[:,:len(phases_conc_test)]\n",
    "                \n",
    "                if remove_edges==True:\n",
    "                    Location_raw_eq_test[Location_raw_eq_test>num_nodes]=np.nan ### removing edges\n",
    "\n",
    "                if len(phases_conc_test)>=len(speed_raw_eq_test):\n",
    "                    phases_conc_test=phases_conc_test[:len(speed_raw_eq_test)]\n",
    "                    states_conc_test=states_conc_test[:len(speed_raw_eq_test)]\n",
    "                    times_conc_test=times_conc_test[:len(speed_raw_eq_test)]\n",
    "                    distances_conc_test=distances_conc_test[:len(speed_raw_eq_test)]\n",
    "                    Location_raw_eq_test=Location_raw_eq_test[:len(speed_raw_eq_test)]\n",
    "                    Neuron_raw_eq_test_all=Neuron_raw_eq_test_all[:,:len(speed_raw_eq_test)]\n",
    "                \n",
    "                \n",
    "                ###extracting test state  \n",
    "                states_=np.arange(num_states)\n",
    "                for test_state in np.arange(num_states):\n",
    "                    \n",
    "                    ind_ses_state=(ses_ind_test_ind*num_states)+test_state\n",
    "\n",
    "                    ###completing training arrays\n",
    "                    phases_conc_test_training=phases_conc_test[states_conc_test!=test_state]\n",
    "                    Location_raw_eq_test_training=Location_raw_eq_test[states_conc_test!=test_state]\n",
    "                    Neuron_raw_test_training=Neuron_raw_eq_test_all[:,states_conc_test!=test_state]\n",
    "\n",
    "                    phases_conc_all=np.hstack((phases_conc_all_,phases_conc_test_training))\n",
    "                    Location_raw_eq_all=np.hstack((Location_raw_eq_all_,Location_raw_eq_test_training))\n",
    "                    Neuron_raw_all=np.hstack((Neuron_raw_all_,Neuron_raw_test_training))\n",
    "                    \n",
    "                    \n",
    "                    Neuron_phases_all=np.zeros((num_neurons,num_phases))\n",
    "                    Neuron_locations_all=np.zeros((num_neurons,num_locations))\n",
    "                    Neuron_phases_all[:]=np.nan\n",
    "                    Neuron_locations_all[:]=np.nan\n",
    "                    for neuron in np.arange(num_neurons):\n",
    "                        Neuron_raw_eq_all=Neuron_raw_all[neuron,:len(phases_conc_all)]\n",
    "                        Neuron_phases=st.binned_statistic(phases_conc_all, Neuron_raw_eq_all, bins=phase_bins)[0]\n",
    "                        Neuron_locations=st.binned_statistic(Location_raw_eq_all, Neuron_raw_eq_all, bins=location_bins)[0]\n",
    "                        Neuron_phases_all[neuron]=Neuron_phases\n",
    "                        Neuron_locations_all[neuron]=Neuron_locations\n",
    "                    \n",
    "                    \n",
    "                    ###defining test arrays\n",
    "                    Neuron_raw_test_test=Neuron_raw_eq_test_all[:,states_conc_test==test_state]\n",
    "                    phases_conc_test_test=phases_conc_test[states_conc_test==test_state]\n",
    "                    Location_raw_eq_test_test=Location_raw_eq_test[states_conc_test==test_state]\n",
    "                    times_conc_test_test=times_conc_test[states_conc_test==test_state]\n",
    "                    distances_conc_test_test=distances_conc_test[states_conc_test==test_state]\n",
    "                    \n",
    "                    speed_raw_eq_test_test=speed_raw_eq_test[states_conc_test==test_state]\n",
    "                    acceleration_raw_eq_test_test=acceleration_raw_eq_test[states_conc_test==test_state]\n",
    "\n",
    "                    Location_raw_eq_test_nonan=Location_raw_eq_test_test[~np.isnan(Location_raw_eq_test_test)]\n",
    "                    speed_raw_eq_test_nonan=speed_raw_eq_test_test[~np.isnan(Location_raw_eq_test_test)]\n",
    "                    acceleration_raw_eq_test_nonan=acceleration_raw_eq_test_test[~np.isnan(Location_raw_eq_test_test)]\n",
    "                    times_conc_test_nonan=times_conc_test_test[~np.isnan(Location_raw_eq_test_test)]\n",
    "                    distances_conc_test_nonan=distances_conc_test_test[~np.isnan(Location_raw_eq_test_test)]\n",
    "\n",
    "                    coeffs_all_ses=np.zeros((num_neurons,num_regressors))\n",
    "                    for neuron in np.arange(num_neurons):\n",
    "                        Neuron_phases=Neuron_phases_all[neuron]\n",
    "                        Neuron_locations=Neuron_locations_all[neuron]\n",
    "\n",
    "                        Neuron_raw_eq_test=Neuron_raw_test_test[neuron]\n",
    "                        Neuron_raw_eq_test_nonan=Neuron_raw_eq_test[~np.isnan(Location_raw_eq_test_test)]\n",
    "\n",
    "                        FR_training_phases=Neuron_phases[phases_conc_test_test]\n",
    "                        FR_training_phases_nonan=FR_training_phases[~np.isnan(Location_raw_eq_test_test)]\n",
    "                        FR_training_locations_nonan=Neuron_locations[(Location_raw_eq_test_nonan-1).astype(int)]\n",
    "\n",
    "\n",
    "                        ###regression\n",
    "                        X = np.vstack((FR_training_phases_nonan,\\\n",
    "                                       FR_training_locations_nonan,\\\n",
    "                                       times_conc_test_nonan,\\\n",
    "                                       distances_conc_test_nonan,\\\n",
    "                                       speed_raw_eq_test_nonan,\\\n",
    "                                       acceleration_raw_eq_test_nonan)).T\n",
    "\n",
    "                        X_clean=X[~np.isnan(X).any(axis=1)]\n",
    "                        X_z=st.zscore(X_clean,axis=0)\n",
    "\n",
    "                        y=Neuron_raw_eq_test_nonan[~np.isnan(X).any(axis=1)]\n",
    "                        reg = LinearRegression().fit(X_z, y)\n",
    "                        coeffs=reg.coef_\n",
    "                        coeffs_all_ses[neuron]=coeffs\n",
    "                        \n",
    "                        \n",
    "\n",
    "                        coeffs_all[neuron,ind_ses_state]=coeffs\n",
    "\n",
    "\n",
    "            mean_neuron_betas=np.zeros((num_neurons,num_regressors_interest))\n",
    "            p_neuron_betas=np.zeros((num_neurons,num_regressors_interest))\n",
    "            mean_neuron_betas[:]=np.nan\n",
    "            p_neuron_betas[:]=np.nan\n",
    "            for neuron in np.arange(num_neurons):\n",
    "                mean_phase_coeff=np.nanmean(coeffs_all[neuron,:,0])\n",
    "                mean_place_coeff=np.nanmean(coeffs_all[neuron,:,1])\n",
    "\n",
    "                p_phase_coeff=st.ttest_1samp(remove_nan(coeffs_all[neuron,:,0]),0)[1]\n",
    "                p_place_coeff=st.ttest_1samp(remove_nan(coeffs_all[neuron,:,1]),0)[1]\n",
    "\n",
    "                mean_neuron_betas[neuron]=mean_phase_coeff,mean_place_coeff\n",
    "                p_neuron_betas[neuron]=p_phase_coeff,p_place_coeff\n",
    "\n",
    "            GLM_dic2['coeffs_all'][mouse_recday]=coeffs_all\n",
    "            GLM_dic2['mean_neuron_betas'][mouse_recday]=mean_neuron_betas\n",
    "            GLM_dic2['p_neuron_betas'][mouse_recday]=p_neuron_betas\n",
    "\n",
    "\n",
    "        except Exception as e:\n",
    "            print('betas not calculated')\n",
    "            print(e)\n",
    "            exc_type, exc_obj, exc_tb = sys.exc_info()\n",
    "            fname = os.path.split(exc_tb.tb_frame.f_code.co_filename)[1]\n",
    "            print(exc_type, fname, exc_tb.tb_lineno)\n"
   ]
  },
  {
   "cell_type": "code",
   "execution_count": null,
   "metadata": {},
   "outputs": [],
   "source": []
  },
  {
   "cell_type": "code",
   "execution_count": 46,
   "metadata": {},
   "outputs": [
    {
     "name": "stdout",
     "output_type": "stream",
     "text": [
      "ah03_18082021\n",
      "0\n"
     ]
    },
    {
     "name": "stderr",
     "output_type": "stream",
     "text": [
      "C:\\Users\\moham\\AppData\\Local\\Temp\\ipykernel_24032\\629937003.py:93: VisibleDeprecationWarning: Creating an ndarray from ragged nested sequences (which is a list-or-tuple of lists-or-tuples-or ndarrays with different lengths or shapes) is deprecated. If you meant to do this, you must specify 'dtype=object' when creating the ndarray.\n",
      "  return(np.asarray(ALL_elements))\n"
     ]
    },
    {
     "name": "stdout",
     "output_type": "stream",
     "text": [
      "1\n"
     ]
    },
    {
     "name": "stderr",
     "output_type": "stream",
     "text": [
      "C:\\Users\\moham\\AppData\\Local\\Temp\\ipykernel_24032\\629937003.py:93: VisibleDeprecationWarning: Creating an ndarray from ragged nested sequences (which is a list-or-tuple of lists-or-tuples-or ndarrays with different lengths or shapes) is deprecated. If you meant to do this, you must specify 'dtype=object' when creating the ndarray.\n",
      "  return(np.asarray(ALL_elements))\n"
     ]
    },
    {
     "name": "stdout",
     "output_type": "stream",
     "text": [
      "2\n"
     ]
    },
    {
     "name": "stderr",
     "output_type": "stream",
     "text": [
      "C:\\Users\\moham\\AppData\\Local\\Temp\\ipykernel_24032\\629937003.py:93: VisibleDeprecationWarning: Creating an ndarray from ragged nested sequences (which is a list-or-tuple of lists-or-tuples-or ndarrays with different lengths or shapes) is deprecated. If you meant to do this, you must specify 'dtype=object' when creating the ndarray.\n",
      "  return(np.asarray(ALL_elements))\n"
     ]
    },
    {
     "name": "stdout",
     "output_type": "stream",
     "text": [
      "ah04_06122021\n",
      "0\n"
     ]
    },
    {
     "name": "stderr",
     "output_type": "stream",
     "text": [
      "C:\\Users\\moham\\AppData\\Local\\Temp\\ipykernel_24032\\629937003.py:93: VisibleDeprecationWarning: Creating an ndarray from ragged nested sequences (which is a list-or-tuple of lists-or-tuples-or ndarrays with different lengths or shapes) is deprecated. If you meant to do this, you must specify 'dtype=object' when creating the ndarray.\n",
      "  return(np.asarray(ALL_elements))\n"
     ]
    },
    {
     "name": "stdout",
     "output_type": "stream",
     "text": [
      "1\n"
     ]
    },
    {
     "name": "stderr",
     "output_type": "stream",
     "text": [
      "C:\\Users\\moham\\AppData\\Local\\Temp\\ipykernel_24032\\629937003.py:93: VisibleDeprecationWarning: Creating an ndarray from ragged nested sequences (which is a list-or-tuple of lists-or-tuples-or ndarrays with different lengths or shapes) is deprecated. If you meant to do this, you must specify 'dtype=object' when creating the ndarray.\n",
      "  return(np.asarray(ALL_elements))\n"
     ]
    },
    {
     "name": "stdout",
     "output_type": "stream",
     "text": [
      "2\n"
     ]
    },
    {
     "name": "stderr",
     "output_type": "stream",
     "text": [
      "C:\\Users\\moham\\AppData\\Local\\Temp\\ipykernel_24032\\629937003.py:93: VisibleDeprecationWarning: Creating an ndarray from ragged nested sequences (which is a list-or-tuple of lists-or-tuples-or ndarrays with different lengths or shapes) is deprecated. If you meant to do this, you must specify 'dtype=object' when creating the ndarray.\n",
      "  return(np.asarray(ALL_elements))\n"
     ]
    },
    {
     "name": "stdout",
     "output_type": "stream",
     "text": [
      "ah04_10122021\n",
      "0\n"
     ]
    },
    {
     "name": "stderr",
     "output_type": "stream",
     "text": [
      "C:\\Users\\moham\\AppData\\Local\\Temp\\ipykernel_24032\\629937003.py:93: VisibleDeprecationWarning: Creating an ndarray from ragged nested sequences (which is a list-or-tuple of lists-or-tuples-or ndarrays with different lengths or shapes) is deprecated. If you meant to do this, you must specify 'dtype=object' when creating the ndarray.\n",
      "  return(np.asarray(ALL_elements))\n"
     ]
    },
    {
     "name": "stdout",
     "output_type": "stream",
     "text": [
      "1\n"
     ]
    },
    {
     "name": "stderr",
     "output_type": "stream",
     "text": [
      "C:\\Users\\moham\\AppData\\Local\\Temp\\ipykernel_24032\\629937003.py:93: VisibleDeprecationWarning: Creating an ndarray from ragged nested sequences (which is a list-or-tuple of lists-or-tuples-or ndarrays with different lengths or shapes) is deprecated. If you meant to do this, you must specify 'dtype=object' when creating the ndarray.\n",
      "  return(np.asarray(ALL_elements))\n"
     ]
    },
    {
     "name": "stdout",
     "output_type": "stream",
     "text": [
      "2\n"
     ]
    },
    {
     "name": "stderr",
     "output_type": "stream",
     "text": [
      "C:\\Users\\moham\\AppData\\Local\\Temp\\ipykernel_24032\\629937003.py:93: VisibleDeprecationWarning: Creating an ndarray from ragged nested sequences (which is a list-or-tuple of lists-or-tuples-or ndarrays with different lengths or shapes) is deprecated. If you meant to do this, you must specify 'dtype=object' when creating the ndarray.\n",
      "  return(np.asarray(ALL_elements))\n"
     ]
    },
    {
     "name": "stdout",
     "output_type": "stream",
     "text": [
      "ah04_26112021\n",
      "0\n"
     ]
    },
    {
     "name": "stderr",
     "output_type": "stream",
     "text": [
      "C:\\Users\\moham\\AppData\\Local\\Temp\\ipykernel_24032\\629937003.py:93: VisibleDeprecationWarning: Creating an ndarray from ragged nested sequences (which is a list-or-tuple of lists-or-tuples-or ndarrays with different lengths or shapes) is deprecated. If you meant to do this, you must specify 'dtype=object' when creating the ndarray.\n",
      "  return(np.asarray(ALL_elements))\n"
     ]
    },
    {
     "name": "stdout",
     "output_type": "stream",
     "text": [
      "1\n"
     ]
    },
    {
     "name": "stderr",
     "output_type": "stream",
     "text": [
      "C:\\Users\\moham\\AppData\\Local\\Temp\\ipykernel_24032\\629937003.py:93: VisibleDeprecationWarning: Creating an ndarray from ragged nested sequences (which is a list-or-tuple of lists-or-tuples-or ndarrays with different lengths or shapes) is deprecated. If you meant to do this, you must specify 'dtype=object' when creating the ndarray.\n",
      "  return(np.asarray(ALL_elements))\n"
     ]
    },
    {
     "name": "stdout",
     "output_type": "stream",
     "text": [
      "2\n"
     ]
    },
    {
     "name": "stderr",
     "output_type": "stream",
     "text": [
      "C:\\Users\\moham\\AppData\\Local\\Temp\\ipykernel_24032\\629937003.py:93: VisibleDeprecationWarning: Creating an ndarray from ragged nested sequences (which is a list-or-tuple of lists-or-tuples-or ndarrays with different lengths or shapes) is deprecated. If you meant to do this, you must specify 'dtype=object' when creating the ndarray.\n",
      "  return(np.asarray(ALL_elements))\n"
     ]
    },
    {
     "name": "stdout",
     "output_type": "stream",
     "text": [
      "ah04_30112021\n",
      "0\n"
     ]
    },
    {
     "name": "stderr",
     "output_type": "stream",
     "text": [
      "C:\\Users\\moham\\AppData\\Local\\Temp\\ipykernel_24032\\629937003.py:93: VisibleDeprecationWarning: Creating an ndarray from ragged nested sequences (which is a list-or-tuple of lists-or-tuples-or ndarrays with different lengths or shapes) is deprecated. If you meant to do this, you must specify 'dtype=object' when creating the ndarray.\n",
      "  return(np.asarray(ALL_elements))\n"
     ]
    },
    {
     "name": "stdout",
     "output_type": "stream",
     "text": [
      "1\n"
     ]
    },
    {
     "name": "stderr",
     "output_type": "stream",
     "text": [
      "C:\\Users\\moham\\AppData\\Local\\Temp\\ipykernel_24032\\629937003.py:93: VisibleDeprecationWarning: Creating an ndarray from ragged nested sequences (which is a list-or-tuple of lists-or-tuples-or ndarrays with different lengths or shapes) is deprecated. If you meant to do this, you must specify 'dtype=object' when creating the ndarray.\n",
      "  return(np.asarray(ALL_elements))\n"
     ]
    },
    {
     "name": "stdout",
     "output_type": "stream",
     "text": [
      "2\n"
     ]
    },
    {
     "name": "stderr",
     "output_type": "stream",
     "text": [
      "C:\\Users\\moham\\AppData\\Local\\Temp\\ipykernel_24032\\629937003.py:93: VisibleDeprecationWarning: Creating an ndarray from ragged nested sequences (which is a list-or-tuple of lists-or-tuples-or ndarrays with different lengths or shapes) is deprecated. If you meant to do this, you must specify 'dtype=object' when creating the ndarray.\n",
      "  return(np.asarray(ALL_elements))\n"
     ]
    },
    {
     "name": "stdout",
     "output_type": "stream",
     "text": [
      "me10_08122021\n",
      "0\n"
     ]
    },
    {
     "name": "stderr",
     "output_type": "stream",
     "text": [
      "C:\\Users\\moham\\AppData\\Local\\Temp\\ipykernel_24032\\629937003.py:93: VisibleDeprecationWarning: Creating an ndarray from ragged nested sequences (which is a list-or-tuple of lists-or-tuples-or ndarrays with different lengths or shapes) is deprecated. If you meant to do this, you must specify 'dtype=object' when creating the ndarray.\n",
      "  return(np.asarray(ALL_elements))\n"
     ]
    },
    {
     "name": "stdout",
     "output_type": "stream",
     "text": [
      "1\n"
     ]
    },
    {
     "name": "stderr",
     "output_type": "stream",
     "text": [
      "C:\\Users\\moham\\AppData\\Local\\Temp\\ipykernel_24032\\629937003.py:93: VisibleDeprecationWarning: Creating an ndarray from ragged nested sequences (which is a list-or-tuple of lists-or-tuples-or ndarrays with different lengths or shapes) is deprecated. If you meant to do this, you must specify 'dtype=object' when creating the ndarray.\n",
      "  return(np.asarray(ALL_elements))\n"
     ]
    },
    {
     "name": "stdout",
     "output_type": "stream",
     "text": [
      "2\n"
     ]
    },
    {
     "name": "stderr",
     "output_type": "stream",
     "text": [
      "C:\\Users\\moham\\AppData\\Local\\Temp\\ipykernel_24032\\629937003.py:93: VisibleDeprecationWarning: Creating an ndarray from ragged nested sequences (which is a list-or-tuple of lists-or-tuples-or ndarrays with different lengths or shapes) is deprecated. If you meant to do this, you must specify 'dtype=object' when creating the ndarray.\n",
      "  return(np.asarray(ALL_elements))\n"
     ]
    },
    {
     "name": "stdout",
     "output_type": "stream",
     "text": [
      "me10_16122021\n",
      "0\n"
     ]
    },
    {
     "name": "stderr",
     "output_type": "stream",
     "text": [
      "C:\\Users\\moham\\AppData\\Local\\Temp\\ipykernel_24032\\629937003.py:93: VisibleDeprecationWarning: Creating an ndarray from ragged nested sequences (which is a list-or-tuple of lists-or-tuples-or ndarrays with different lengths or shapes) is deprecated. If you meant to do this, you must specify 'dtype=object' when creating the ndarray.\n",
      "  return(np.asarray(ALL_elements))\n"
     ]
    },
    {
     "name": "stdout",
     "output_type": "stream",
     "text": [
      "1\n"
     ]
    },
    {
     "name": "stderr",
     "output_type": "stream",
     "text": [
      "C:\\Users\\moham\\AppData\\Local\\Temp\\ipykernel_24032\\629937003.py:93: VisibleDeprecationWarning: Creating an ndarray from ragged nested sequences (which is a list-or-tuple of lists-or-tuples-or ndarrays with different lengths or shapes) is deprecated. If you meant to do this, you must specify 'dtype=object' when creating the ndarray.\n",
      "  return(np.asarray(ALL_elements))\n"
     ]
    },
    {
     "name": "stdout",
     "output_type": "stream",
     "text": [
      "2\n"
     ]
    },
    {
     "name": "stderr",
     "output_type": "stream",
     "text": [
      "C:\\Users\\moham\\AppData\\Local\\Temp\\ipykernel_24032\\629937003.py:93: VisibleDeprecationWarning: Creating an ndarray from ragged nested sequences (which is a list-or-tuple of lists-or-tuples-or ndarrays with different lengths or shapes) is deprecated. If you meant to do this, you must specify 'dtype=object' when creating the ndarray.\n",
      "  return(np.asarray(ALL_elements))\n"
     ]
    },
    {
     "name": "stdout",
     "output_type": "stream",
     "text": [
      "me11_05122021\n",
      "0\n"
     ]
    },
    {
     "name": "stderr",
     "output_type": "stream",
     "text": [
      "C:\\Users\\moham\\AppData\\Local\\Temp\\ipykernel_24032\\629937003.py:93: VisibleDeprecationWarning: Creating an ndarray from ragged nested sequences (which is a list-or-tuple of lists-or-tuples-or ndarrays with different lengths or shapes) is deprecated. If you meant to do this, you must specify 'dtype=object' when creating the ndarray.\n",
      "  return(np.asarray(ALL_elements))\n"
     ]
    },
    {
     "name": "stdout",
     "output_type": "stream",
     "text": [
      "1\n"
     ]
    },
    {
     "name": "stderr",
     "output_type": "stream",
     "text": [
      "C:\\Users\\moham\\AppData\\Local\\Temp\\ipykernel_24032\\629937003.py:93: VisibleDeprecationWarning: Creating an ndarray from ragged nested sequences (which is a list-or-tuple of lists-or-tuples-or ndarrays with different lengths or shapes) is deprecated. If you meant to do this, you must specify 'dtype=object' when creating the ndarray.\n",
      "  return(np.asarray(ALL_elements))\n"
     ]
    },
    {
     "name": "stdout",
     "output_type": "stream",
     "text": [
      "2\n"
     ]
    },
    {
     "name": "stderr",
     "output_type": "stream",
     "text": [
      "C:\\Users\\moham\\AppData\\Local\\Temp\\ipykernel_24032\\629937003.py:93: VisibleDeprecationWarning: Creating an ndarray from ragged nested sequences (which is a list-or-tuple of lists-or-tuples-or ndarrays with different lengths or shapes) is deprecated. If you meant to do this, you must specify 'dtype=object' when creating the ndarray.\n",
      "  return(np.asarray(ALL_elements))\n"
     ]
    },
    {
     "name": "stdout",
     "output_type": "stream",
     "text": [
      "3\n"
     ]
    },
    {
     "name": "stderr",
     "output_type": "stream",
     "text": [
      "C:\\Users\\moham\\AppData\\Local\\Temp\\ipykernel_24032\\629937003.py:93: VisibleDeprecationWarning: Creating an ndarray from ragged nested sequences (which is a list-or-tuple of lists-or-tuples-or ndarrays with different lengths or shapes) is deprecated. If you meant to do this, you must specify 'dtype=object' when creating the ndarray.\n",
      "  return(np.asarray(ALL_elements))\n"
     ]
    },
    {
     "name": "stdout",
     "output_type": "stream",
     "text": [
      "me11_07122021\n",
      "0\n"
     ]
    },
    {
     "name": "stderr",
     "output_type": "stream",
     "text": [
      "C:\\Users\\moham\\AppData\\Local\\Temp\\ipykernel_24032\\629937003.py:93: VisibleDeprecationWarning: Creating an ndarray from ragged nested sequences (which is a list-or-tuple of lists-or-tuples-or ndarrays with different lengths or shapes) is deprecated. If you meant to do this, you must specify 'dtype=object' when creating the ndarray.\n",
      "  return(np.asarray(ALL_elements))\n"
     ]
    },
    {
     "name": "stdout",
     "output_type": "stream",
     "text": [
      "1\n"
     ]
    },
    {
     "name": "stderr",
     "output_type": "stream",
     "text": [
      "C:\\Users\\moham\\AppData\\Local\\Temp\\ipykernel_24032\\629937003.py:93: VisibleDeprecationWarning: Creating an ndarray from ragged nested sequences (which is a list-or-tuple of lists-or-tuples-or ndarrays with different lengths or shapes) is deprecated. If you meant to do this, you must specify 'dtype=object' when creating the ndarray.\n",
      "  return(np.asarray(ALL_elements))\n"
     ]
    },
    {
     "name": "stdout",
     "output_type": "stream",
     "text": [
      "2\n"
     ]
    },
    {
     "name": "stderr",
     "output_type": "stream",
     "text": [
      "C:\\Users\\moham\\AppData\\Local\\Temp\\ipykernel_24032\\629937003.py:93: VisibleDeprecationWarning: Creating an ndarray from ragged nested sequences (which is a list-or-tuple of lists-or-tuples-or ndarrays with different lengths or shapes) is deprecated. If you meant to do this, you must specify 'dtype=object' when creating the ndarray.\n",
      "  return(np.asarray(ALL_elements))\n"
     ]
    },
    {
     "name": "stdout",
     "output_type": "stream",
     "text": [
      "me11_08122021\n",
      "0\n"
     ]
    },
    {
     "name": "stderr",
     "output_type": "stream",
     "text": [
      "C:\\Users\\moham\\AppData\\Local\\Temp\\ipykernel_24032\\629937003.py:93: VisibleDeprecationWarning: Creating an ndarray from ragged nested sequences (which is a list-or-tuple of lists-or-tuples-or ndarrays with different lengths or shapes) is deprecated. If you meant to do this, you must specify 'dtype=object' when creating the ndarray.\n",
      "  return(np.asarray(ALL_elements))\n"
     ]
    },
    {
     "name": "stdout",
     "output_type": "stream",
     "text": [
      "1\n"
     ]
    },
    {
     "name": "stderr",
     "output_type": "stream",
     "text": [
      "C:\\Users\\moham\\AppData\\Local\\Temp\\ipykernel_24032\\629937003.py:93: VisibleDeprecationWarning: Creating an ndarray from ragged nested sequences (which is a list-or-tuple of lists-or-tuples-or ndarrays with different lengths or shapes) is deprecated. If you meant to do this, you must specify 'dtype=object' when creating the ndarray.\n",
      "  return(np.asarray(ALL_elements))\n"
     ]
    },
    {
     "name": "stdout",
     "output_type": "stream",
     "text": [
      "2\n"
     ]
    },
    {
     "name": "stderr",
     "output_type": "stream",
     "text": [
      "C:\\Users\\moham\\AppData\\Local\\Temp\\ipykernel_24032\\629937003.py:93: VisibleDeprecationWarning: Creating an ndarray from ragged nested sequences (which is a list-or-tuple of lists-or-tuples-or ndarrays with different lengths or shapes) is deprecated. If you meant to do this, you must specify 'dtype=object' when creating the ndarray.\n",
      "  return(np.asarray(ALL_elements))\n"
     ]
    },
    {
     "name": "stdout",
     "output_type": "stream",
     "text": [
      "me11_30112021\n",
      "0\n"
     ]
    },
    {
     "name": "stderr",
     "output_type": "stream",
     "text": [
      "C:\\Users\\moham\\AppData\\Local\\Temp\\ipykernel_24032\\629937003.py:93: VisibleDeprecationWarning: Creating an ndarray from ragged nested sequences (which is a list-or-tuple of lists-or-tuples-or ndarrays with different lengths or shapes) is deprecated. If you meant to do this, you must specify 'dtype=object' when creating the ndarray.\n",
      "  return(np.asarray(ALL_elements))\n"
     ]
    },
    {
     "name": "stdout",
     "output_type": "stream",
     "text": [
      "1\n"
     ]
    },
    {
     "name": "stderr",
     "output_type": "stream",
     "text": [
      "C:\\Users\\moham\\AppData\\Local\\Temp\\ipykernel_24032\\629937003.py:93: VisibleDeprecationWarning: Creating an ndarray from ragged nested sequences (which is a list-or-tuple of lists-or-tuples-or ndarrays with different lengths or shapes) is deprecated. If you meant to do this, you must specify 'dtype=object' when creating the ndarray.\n",
      "  return(np.asarray(ALL_elements))\n"
     ]
    },
    {
     "name": "stdout",
     "output_type": "stream",
     "text": [
      "2\n"
     ]
    },
    {
     "name": "stderr",
     "output_type": "stream",
     "text": [
      "C:\\Users\\moham\\AppData\\Local\\Temp\\ipykernel_24032\\629937003.py:93: VisibleDeprecationWarning: Creating an ndarray from ragged nested sequences (which is a list-or-tuple of lists-or-tuples-or ndarrays with different lengths or shapes) is deprecated. If you meant to do this, you must specify 'dtype=object' when creating the ndarray.\n",
      "  return(np.asarray(ALL_elements))\n"
     ]
    },
    {
     "name": "stdout",
     "output_type": "stream",
     "text": [
      "ab03_01092023_02092023\n",
      "0\n"
     ]
    },
    {
     "name": "stderr",
     "output_type": "stream",
     "text": [
      "C:\\Users\\moham\\AppData\\Local\\Temp\\ipykernel_24032\\629937003.py:93: VisibleDeprecationWarning: Creating an ndarray from ragged nested sequences (which is a list-or-tuple of lists-or-tuples-or ndarrays with different lengths or shapes) is deprecated. If you meant to do this, you must specify 'dtype=object' when creating the ndarray.\n",
      "  return(np.asarray(ALL_elements))\n"
     ]
    },
    {
     "name": "stdout",
     "output_type": "stream",
     "text": [
      "1\n"
     ]
    },
    {
     "name": "stderr",
     "output_type": "stream",
     "text": [
      "C:\\Users\\moham\\AppData\\Local\\Temp\\ipykernel_24032\\629937003.py:93: VisibleDeprecationWarning: Creating an ndarray from ragged nested sequences (which is a list-or-tuple of lists-or-tuples-or ndarrays with different lengths or shapes) is deprecated. If you meant to do this, you must specify 'dtype=object' when creating the ndarray.\n",
      "  return(np.asarray(ALL_elements))\n"
     ]
    },
    {
     "name": "stdout",
     "output_type": "stream",
     "text": [
      "2\n"
     ]
    },
    {
     "name": "stderr",
     "output_type": "stream",
     "text": [
      "C:\\Users\\moham\\AppData\\Local\\Temp\\ipykernel_24032\\629937003.py:93: VisibleDeprecationWarning: Creating an ndarray from ragged nested sequences (which is a list-or-tuple of lists-or-tuples-or ndarrays with different lengths or shapes) is deprecated. If you meant to do this, you must specify 'dtype=object' when creating the ndarray.\n",
      "  return(np.asarray(ALL_elements))\n"
     ]
    },
    {
     "name": "stdout",
     "output_type": "stream",
     "text": [
      "3\n"
     ]
    },
    {
     "name": "stderr",
     "output_type": "stream",
     "text": [
      "C:\\Users\\moham\\AppData\\Local\\Temp\\ipykernel_24032\\629937003.py:93: VisibleDeprecationWarning: Creating an ndarray from ragged nested sequences (which is a list-or-tuple of lists-or-tuples-or ndarrays with different lengths or shapes) is deprecated. If you meant to do this, you must specify 'dtype=object' when creating the ndarray.\n",
      "  return(np.asarray(ALL_elements))\n"
     ]
    },
    {
     "name": "stdout",
     "output_type": "stream",
     "text": [
      "4\n"
     ]
    },
    {
     "name": "stderr",
     "output_type": "stream",
     "text": [
      "C:\\Users\\moham\\AppData\\Local\\Temp\\ipykernel_24032\\629937003.py:93: VisibleDeprecationWarning: Creating an ndarray from ragged nested sequences (which is a list-or-tuple of lists-or-tuples-or ndarrays with different lengths or shapes) is deprecated. If you meant to do this, you must specify 'dtype=object' when creating the ndarray.\n",
      "  return(np.asarray(ALL_elements))\n"
     ]
    },
    {
     "name": "stdout",
     "output_type": "stream",
     "text": [
      "5\n"
     ]
    },
    {
     "name": "stderr",
     "output_type": "stream",
     "text": [
      "C:\\Users\\moham\\AppData\\Local\\Temp\\ipykernel_24032\\629937003.py:93: VisibleDeprecationWarning: Creating an ndarray from ragged nested sequences (which is a list-or-tuple of lists-or-tuples-or ndarrays with different lengths or shapes) is deprecated. If you meant to do this, you must specify 'dtype=object' when creating the ndarray.\n",
      "  return(np.asarray(ALL_elements))\n"
     ]
    },
    {
     "name": "stdout",
     "output_type": "stream",
     "text": [
      "ab03_05092023_06092023\n",
      "0\n"
     ]
    },
    {
     "name": "stderr",
     "output_type": "stream",
     "text": [
      "C:\\Users\\moham\\AppData\\Local\\Temp\\ipykernel_24032\\629937003.py:93: VisibleDeprecationWarning: Creating an ndarray from ragged nested sequences (which is a list-or-tuple of lists-or-tuples-or ndarrays with different lengths or shapes) is deprecated. If you meant to do this, you must specify 'dtype=object' when creating the ndarray.\n",
      "  return(np.asarray(ALL_elements))\n"
     ]
    },
    {
     "name": "stdout",
     "output_type": "stream",
     "text": [
      "1\n"
     ]
    },
    {
     "name": "stderr",
     "output_type": "stream",
     "text": [
      "C:\\Users\\moham\\AppData\\Local\\Temp\\ipykernel_24032\\629937003.py:93: VisibleDeprecationWarning: Creating an ndarray from ragged nested sequences (which is a list-or-tuple of lists-or-tuples-or ndarrays with different lengths or shapes) is deprecated. If you meant to do this, you must specify 'dtype=object' when creating the ndarray.\n",
      "  return(np.asarray(ALL_elements))\n"
     ]
    },
    {
     "name": "stdout",
     "output_type": "stream",
     "text": [
      "2\n"
     ]
    },
    {
     "name": "stderr",
     "output_type": "stream",
     "text": [
      "C:\\Users\\moham\\AppData\\Local\\Temp\\ipykernel_24032\\629937003.py:93: VisibleDeprecationWarning: Creating an ndarray from ragged nested sequences (which is a list-or-tuple of lists-or-tuples-or ndarrays with different lengths or shapes) is deprecated. If you meant to do this, you must specify 'dtype=object' when creating the ndarray.\n",
      "  return(np.asarray(ALL_elements))\n"
     ]
    },
    {
     "name": "stdout",
     "output_type": "stream",
     "text": [
      "4\n"
     ]
    },
    {
     "name": "stderr",
     "output_type": "stream",
     "text": [
      "C:\\Users\\moham\\AppData\\Local\\Temp\\ipykernel_24032\\629937003.py:93: VisibleDeprecationWarning: Creating an ndarray from ragged nested sequences (which is a list-or-tuple of lists-or-tuples-or ndarrays with different lengths or shapes) is deprecated. If you meant to do this, you must specify 'dtype=object' when creating the ndarray.\n",
      "  return(np.asarray(ALL_elements))\n"
     ]
    },
    {
     "name": "stdout",
     "output_type": "stream",
     "text": [
      "5\n"
     ]
    },
    {
     "name": "stderr",
     "output_type": "stream",
     "text": [
      "C:\\Users\\moham\\AppData\\Local\\Temp\\ipykernel_24032\\629937003.py:93: VisibleDeprecationWarning: Creating an ndarray from ragged nested sequences (which is a list-or-tuple of lists-or-tuples-or ndarrays with different lengths or shapes) is deprecated. If you meant to do this, you must specify 'dtype=object' when creating the ndarray.\n",
      "  return(np.asarray(ALL_elements))\n"
     ]
    },
    {
     "name": "stdout",
     "output_type": "stream",
     "text": [
      "6\n"
     ]
    },
    {
     "name": "stderr",
     "output_type": "stream",
     "text": [
      "C:\\Users\\moham\\AppData\\Local\\Temp\\ipykernel_24032\\629937003.py:93: VisibleDeprecationWarning: Creating an ndarray from ragged nested sequences (which is a list-or-tuple of lists-or-tuples-or ndarrays with different lengths or shapes) is deprecated. If you meant to do this, you must specify 'dtype=object' when creating the ndarray.\n",
      "  return(np.asarray(ALL_elements))\n"
     ]
    },
    {
     "name": "stdout",
     "output_type": "stream",
     "text": [
      "ab03_29082023_30082023\n",
      "0\n"
     ]
    },
    {
     "name": "stderr",
     "output_type": "stream",
     "text": [
      "C:\\Users\\moham\\AppData\\Local\\Temp\\ipykernel_24032\\629937003.py:93: VisibleDeprecationWarning: Creating an ndarray from ragged nested sequences (which is a list-or-tuple of lists-or-tuples-or ndarrays with different lengths or shapes) is deprecated. If you meant to do this, you must specify 'dtype=object' when creating the ndarray.\n",
      "  return(np.asarray(ALL_elements))\n"
     ]
    },
    {
     "name": "stdout",
     "output_type": "stream",
     "text": [
      "1\n"
     ]
    },
    {
     "name": "stderr",
     "output_type": "stream",
     "text": [
      "C:\\Users\\moham\\AppData\\Local\\Temp\\ipykernel_24032\\629937003.py:93: VisibleDeprecationWarning: Creating an ndarray from ragged nested sequences (which is a list-or-tuple of lists-or-tuples-or ndarrays with different lengths or shapes) is deprecated. If you meant to do this, you must specify 'dtype=object' when creating the ndarray.\n",
      "  return(np.asarray(ALL_elements))\n"
     ]
    },
    {
     "name": "stdout",
     "output_type": "stream",
     "text": [
      "2\n"
     ]
    },
    {
     "name": "stderr",
     "output_type": "stream",
     "text": [
      "C:\\Users\\moham\\AppData\\Local\\Temp\\ipykernel_24032\\629937003.py:93: VisibleDeprecationWarning: Creating an ndarray from ragged nested sequences (which is a list-or-tuple of lists-or-tuples-or ndarrays with different lengths or shapes) is deprecated. If you meant to do this, you must specify 'dtype=object' when creating the ndarray.\n",
      "  return(np.asarray(ALL_elements))\n"
     ]
    },
    {
     "name": "stdout",
     "output_type": "stream",
     "text": [
      "4\n"
     ]
    },
    {
     "name": "stderr",
     "output_type": "stream",
     "text": [
      "C:\\Users\\moham\\AppData\\Local\\Temp\\ipykernel_24032\\629937003.py:93: VisibleDeprecationWarning: Creating an ndarray from ragged nested sequences (which is a list-or-tuple of lists-or-tuples-or ndarrays with different lengths or shapes) is deprecated. If you meant to do this, you must specify 'dtype=object' when creating the ndarray.\n",
      "  return(np.asarray(ALL_elements))\n"
     ]
    },
    {
     "name": "stdout",
     "output_type": "stream",
     "text": [
      "6\n"
     ]
    },
    {
     "name": "stderr",
     "output_type": "stream",
     "text": [
      "C:\\Users\\moham\\AppData\\Local\\Temp\\ipykernel_24032\\629937003.py:93: VisibleDeprecationWarning: Creating an ndarray from ragged nested sequences (which is a list-or-tuple of lists-or-tuples-or ndarrays with different lengths or shapes) is deprecated. If you meant to do this, you must specify 'dtype=object' when creating the ndarray.\n",
      "  return(np.asarray(ALL_elements))\n"
     ]
    },
    {
     "name": "stdout",
     "output_type": "stream",
     "text": [
      "7\n"
     ]
    },
    {
     "name": "stderr",
     "output_type": "stream",
     "text": [
      "C:\\Users\\moham\\AppData\\Local\\Temp\\ipykernel_24032\\629937003.py:93: VisibleDeprecationWarning: Creating an ndarray from ragged nested sequences (which is a list-or-tuple of lists-or-tuples-or ndarrays with different lengths or shapes) is deprecated. If you meant to do this, you must specify 'dtype=object' when creating the ndarray.\n",
      "  return(np.asarray(ALL_elements))\n"
     ]
    },
    {
     "name": "stdout",
     "output_type": "stream",
     "text": [
      "ah03_12082021_13082021\n",
      "0\n"
     ]
    },
    {
     "name": "stderr",
     "output_type": "stream",
     "text": [
      "C:\\Users\\moham\\AppData\\Local\\Temp\\ipykernel_24032\\629937003.py:93: VisibleDeprecationWarning: Creating an ndarray from ragged nested sequences (which is a list-or-tuple of lists-or-tuples-or ndarrays with different lengths or shapes) is deprecated. If you meant to do this, you must specify 'dtype=object' when creating the ndarray.\n",
      "  return(np.asarray(ALL_elements))\n"
     ]
    },
    {
     "name": "stdout",
     "output_type": "stream",
     "text": [
      "1\n"
     ]
    },
    {
     "name": "stderr",
     "output_type": "stream",
     "text": [
      "C:\\Users\\moham\\AppData\\Local\\Temp\\ipykernel_24032\\629937003.py:93: VisibleDeprecationWarning: Creating an ndarray from ragged nested sequences (which is a list-or-tuple of lists-or-tuples-or ndarrays with different lengths or shapes) is deprecated. If you meant to do this, you must specify 'dtype=object' when creating the ndarray.\n",
      "  return(np.asarray(ALL_elements))\n"
     ]
    },
    {
     "name": "stdout",
     "output_type": "stream",
     "text": [
      "2\n"
     ]
    },
    {
     "name": "stderr",
     "output_type": "stream",
     "text": [
      "C:\\Users\\moham\\AppData\\Local\\Temp\\ipykernel_24032\\629937003.py:93: VisibleDeprecationWarning: Creating an ndarray from ragged nested sequences (which is a list-or-tuple of lists-or-tuples-or ndarrays with different lengths or shapes) is deprecated. If you meant to do this, you must specify 'dtype=object' when creating the ndarray.\n",
      "  return(np.asarray(ALL_elements))\n"
     ]
    },
    {
     "name": "stdout",
     "output_type": "stream",
     "text": [
      "4\n"
     ]
    },
    {
     "name": "stderr",
     "output_type": "stream",
     "text": [
      "C:\\Users\\moham\\AppData\\Local\\Temp\\ipykernel_24032\\629937003.py:93: VisibleDeprecationWarning: Creating an ndarray from ragged nested sequences (which is a list-or-tuple of lists-or-tuples-or ndarrays with different lengths or shapes) is deprecated. If you meant to do this, you must specify 'dtype=object' when creating the ndarray.\n",
      "  return(np.asarray(ALL_elements))\n"
     ]
    },
    {
     "name": "stdout",
     "output_type": "stream",
     "text": [
      "5\n"
     ]
    },
    {
     "name": "stderr",
     "output_type": "stream",
     "text": [
      "C:\\Users\\moham\\AppData\\Local\\Temp\\ipykernel_24032\\629937003.py:93: VisibleDeprecationWarning: Creating an ndarray from ragged nested sequences (which is a list-or-tuple of lists-or-tuples-or ndarrays with different lengths or shapes) is deprecated. If you meant to do this, you must specify 'dtype=object' when creating the ndarray.\n",
      "  return(np.asarray(ALL_elements))\n"
     ]
    },
    {
     "name": "stdout",
     "output_type": "stream",
     "text": [
      "6\n"
     ]
    },
    {
     "name": "stderr",
     "output_type": "stream",
     "text": [
      "C:\\Users\\moham\\AppData\\Local\\Temp\\ipykernel_24032\\629937003.py:93: VisibleDeprecationWarning: Creating an ndarray from ragged nested sequences (which is a list-or-tuple of lists-or-tuples-or ndarrays with different lengths or shapes) is deprecated. If you meant to do this, you must specify 'dtype=object' when creating the ndarray.\n",
      "  return(np.asarray(ALL_elements))\n"
     ]
    },
    {
     "name": "stdout",
     "output_type": "stream",
     "text": [
      "ah03_18082021_19082021\n",
      "0\n"
     ]
    },
    {
     "name": "stderr",
     "output_type": "stream",
     "text": [
      "C:\\Users\\moham\\AppData\\Local\\Temp\\ipykernel_24032\\629937003.py:93: VisibleDeprecationWarning: Creating an ndarray from ragged nested sequences (which is a list-or-tuple of lists-or-tuples-or ndarrays with different lengths or shapes) is deprecated. If you meant to do this, you must specify 'dtype=object' when creating the ndarray.\n",
      "  return(np.asarray(ALL_elements))\n"
     ]
    },
    {
     "name": "stdout",
     "output_type": "stream",
     "text": [
      "1\n"
     ]
    },
    {
     "name": "stderr",
     "output_type": "stream",
     "text": [
      "C:\\Users\\moham\\AppData\\Local\\Temp\\ipykernel_24032\\629937003.py:93: VisibleDeprecationWarning: Creating an ndarray from ragged nested sequences (which is a list-or-tuple of lists-or-tuples-or ndarrays with different lengths or shapes) is deprecated. If you meant to do this, you must specify 'dtype=object' when creating the ndarray.\n",
      "  return(np.asarray(ALL_elements))\n"
     ]
    },
    {
     "name": "stdout",
     "output_type": "stream",
     "text": [
      "2\n"
     ]
    },
    {
     "name": "stderr",
     "output_type": "stream",
     "text": [
      "C:\\Users\\moham\\AppData\\Local\\Temp\\ipykernel_24032\\629937003.py:93: VisibleDeprecationWarning: Creating an ndarray from ragged nested sequences (which is a list-or-tuple of lists-or-tuples-or ndarrays with different lengths or shapes) is deprecated. If you meant to do this, you must specify 'dtype=object' when creating the ndarray.\n",
      "  return(np.asarray(ALL_elements))\n"
     ]
    },
    {
     "name": "stdout",
     "output_type": "stream",
     "text": [
      "4\n"
     ]
    },
    {
     "name": "stderr",
     "output_type": "stream",
     "text": [
      "C:\\Users\\moham\\AppData\\Local\\Temp\\ipykernel_24032\\629937003.py:93: VisibleDeprecationWarning: Creating an ndarray from ragged nested sequences (which is a list-or-tuple of lists-or-tuples-or ndarrays with different lengths or shapes) is deprecated. If you meant to do this, you must specify 'dtype=object' when creating the ndarray.\n",
      "  return(np.asarray(ALL_elements))\n"
     ]
    },
    {
     "name": "stdout",
     "output_type": "stream",
     "text": [
      "5\n"
     ]
    },
    {
     "name": "stderr",
     "output_type": "stream",
     "text": [
      "C:\\Users\\moham\\AppData\\Local\\Temp\\ipykernel_24032\\629937003.py:93: VisibleDeprecationWarning: Creating an ndarray from ragged nested sequences (which is a list-or-tuple of lists-or-tuples-or ndarrays with different lengths or shapes) is deprecated. If you meant to do this, you must specify 'dtype=object' when creating the ndarray.\n",
      "  return(np.asarray(ALL_elements))\n"
     ]
    },
    {
     "name": "stdout",
     "output_type": "stream",
     "text": [
      "6\n"
     ]
    },
    {
     "name": "stderr",
     "output_type": "stream",
     "text": [
      "C:\\Users\\moham\\AppData\\Local\\Temp\\ipykernel_24032\\629937003.py:93: VisibleDeprecationWarning: Creating an ndarray from ragged nested sequences (which is a list-or-tuple of lists-or-tuples-or ndarrays with different lengths or shapes) is deprecated. If you meant to do this, you must specify 'dtype=object' when creating the ndarray.\n",
      "  return(np.asarray(ALL_elements))\n"
     ]
    },
    {
     "name": "stdout",
     "output_type": "stream",
     "text": [
      "ah04_01122021_02122021\n",
      "0\n"
     ]
    },
    {
     "name": "stderr",
     "output_type": "stream",
     "text": [
      "C:\\Users\\moham\\AppData\\Local\\Temp\\ipykernel_24032\\629937003.py:93: VisibleDeprecationWarning: Creating an ndarray from ragged nested sequences (which is a list-or-tuple of lists-or-tuples-or ndarrays with different lengths or shapes) is deprecated. If you meant to do this, you must specify 'dtype=object' when creating the ndarray.\n",
      "  return(np.asarray(ALL_elements))\n"
     ]
    },
    {
     "name": "stdout",
     "output_type": "stream",
     "text": [
      "1\n"
     ]
    },
    {
     "name": "stderr",
     "output_type": "stream",
     "text": [
      "C:\\Users\\moham\\AppData\\Local\\Temp\\ipykernel_24032\\629937003.py:93: VisibleDeprecationWarning: Creating an ndarray from ragged nested sequences (which is a list-or-tuple of lists-or-tuples-or ndarrays with different lengths or shapes) is deprecated. If you meant to do this, you must specify 'dtype=object' when creating the ndarray.\n",
      "  return(np.asarray(ALL_elements))\n"
     ]
    },
    {
     "name": "stdout",
     "output_type": "stream",
     "text": [
      "2\n"
     ]
    },
    {
     "name": "stderr",
     "output_type": "stream",
     "text": [
      "C:\\Users\\moham\\AppData\\Local\\Temp\\ipykernel_24032\\629937003.py:93: VisibleDeprecationWarning: Creating an ndarray from ragged nested sequences (which is a list-or-tuple of lists-or-tuples-or ndarrays with different lengths or shapes) is deprecated. If you meant to do this, you must specify 'dtype=object' when creating the ndarray.\n",
      "  return(np.asarray(ALL_elements))\n"
     ]
    },
    {
     "name": "stdout",
     "output_type": "stream",
     "text": [
      "4\n"
     ]
    },
    {
     "name": "stderr",
     "output_type": "stream",
     "text": [
      "C:\\Users\\moham\\AppData\\Local\\Temp\\ipykernel_24032\\629937003.py:93: VisibleDeprecationWarning: Creating an ndarray from ragged nested sequences (which is a list-or-tuple of lists-or-tuples-or ndarrays with different lengths or shapes) is deprecated. If you meant to do this, you must specify 'dtype=object' when creating the ndarray.\n",
      "  return(np.asarray(ALL_elements))\n"
     ]
    },
    {
     "name": "stdout",
     "output_type": "stream",
     "text": [
      "5\n"
     ]
    },
    {
     "name": "stderr",
     "output_type": "stream",
     "text": [
      "C:\\Users\\moham\\AppData\\Local\\Temp\\ipykernel_24032\\629937003.py:93: VisibleDeprecationWarning: Creating an ndarray from ragged nested sequences (which is a list-or-tuple of lists-or-tuples-or ndarrays with different lengths or shapes) is deprecated. If you meant to do this, you must specify 'dtype=object' when creating the ndarray.\n",
      "  return(np.asarray(ALL_elements))\n"
     ]
    },
    {
     "name": "stdout",
     "output_type": "stream",
     "text": [
      "6\n"
     ]
    },
    {
     "name": "stderr",
     "output_type": "stream",
     "text": [
      "C:\\Users\\moham\\AppData\\Local\\Temp\\ipykernel_24032\\629937003.py:93: VisibleDeprecationWarning: Creating an ndarray from ragged nested sequences (which is a list-or-tuple of lists-or-tuples-or ndarrays with different lengths or shapes) is deprecated. If you meant to do this, you must specify 'dtype=object' when creating the ndarray.\n",
      "  return(np.asarray(ALL_elements))\n"
     ]
    },
    {
     "name": "stdout",
     "output_type": "stream",
     "text": [
      "ah04_05122021_06122021\n",
      "0\n"
     ]
    },
    {
     "name": "stderr",
     "output_type": "stream",
     "text": [
      "C:\\Users\\moham\\AppData\\Local\\Temp\\ipykernel_24032\\629937003.py:93: VisibleDeprecationWarning: Creating an ndarray from ragged nested sequences (which is a list-or-tuple of lists-or-tuples-or ndarrays with different lengths or shapes) is deprecated. If you meant to do this, you must specify 'dtype=object' when creating the ndarray.\n",
      "  return(np.asarray(ALL_elements))\n"
     ]
    },
    {
     "name": "stdout",
     "output_type": "stream",
     "text": [
      "1\n"
     ]
    },
    {
     "name": "stderr",
     "output_type": "stream",
     "text": [
      "C:\\Users\\moham\\AppData\\Local\\Temp\\ipykernel_24032\\629937003.py:93: VisibleDeprecationWarning: Creating an ndarray from ragged nested sequences (which is a list-or-tuple of lists-or-tuples-or ndarrays with different lengths or shapes) is deprecated. If you meant to do this, you must specify 'dtype=object' when creating the ndarray.\n",
      "  return(np.asarray(ALL_elements))\n"
     ]
    },
    {
     "name": "stdout",
     "output_type": "stream",
     "text": [
      "2\n"
     ]
    },
    {
     "name": "stderr",
     "output_type": "stream",
     "text": [
      "C:\\Users\\moham\\AppData\\Local\\Temp\\ipykernel_24032\\629937003.py:93: VisibleDeprecationWarning: Creating an ndarray from ragged nested sequences (which is a list-or-tuple of lists-or-tuples-or ndarrays with different lengths or shapes) is deprecated. If you meant to do this, you must specify 'dtype=object' when creating the ndarray.\n",
      "  return(np.asarray(ALL_elements))\n"
     ]
    },
    {
     "name": "stdout",
     "output_type": "stream",
     "text": [
      "4\n"
     ]
    },
    {
     "name": "stderr",
     "output_type": "stream",
     "text": [
      "C:\\Users\\moham\\AppData\\Local\\Temp\\ipykernel_24032\\629937003.py:93: VisibleDeprecationWarning: Creating an ndarray from ragged nested sequences (which is a list-or-tuple of lists-or-tuples-or ndarrays with different lengths or shapes) is deprecated. If you meant to do this, you must specify 'dtype=object' when creating the ndarray.\n",
      "  return(np.asarray(ALL_elements))\n"
     ]
    },
    {
     "name": "stdout",
     "output_type": "stream",
     "text": [
      "5\n"
     ]
    },
    {
     "name": "stderr",
     "output_type": "stream",
     "text": [
      "C:\\Users\\moham\\AppData\\Local\\Temp\\ipykernel_24032\\629937003.py:93: VisibleDeprecationWarning: Creating an ndarray from ragged nested sequences (which is a list-or-tuple of lists-or-tuples-or ndarrays with different lengths or shapes) is deprecated. If you meant to do this, you must specify 'dtype=object' when creating the ndarray.\n",
      "  return(np.asarray(ALL_elements))\n"
     ]
    },
    {
     "name": "stdout",
     "output_type": "stream",
     "text": [
      "6\n"
     ]
    },
    {
     "name": "stderr",
     "output_type": "stream",
     "text": [
      "C:\\Users\\moham\\AppData\\Local\\Temp\\ipykernel_24032\\629937003.py:93: VisibleDeprecationWarning: Creating an ndarray from ragged nested sequences (which is a list-or-tuple of lists-or-tuples-or ndarrays with different lengths or shapes) is deprecated. If you meant to do this, you must specify 'dtype=object' when creating the ndarray.\n",
      "  return(np.asarray(ALL_elements))\n"
     ]
    },
    {
     "name": "stdout",
     "output_type": "stream",
     "text": [
      "ah04_07122021_08122021\n",
      "0\n"
     ]
    },
    {
     "name": "stderr",
     "output_type": "stream",
     "text": [
      "C:\\Users\\moham\\AppData\\Local\\Temp\\ipykernel_24032\\629937003.py:93: VisibleDeprecationWarning: Creating an ndarray from ragged nested sequences (which is a list-or-tuple of lists-or-tuples-or ndarrays with different lengths or shapes) is deprecated. If you meant to do this, you must specify 'dtype=object' when creating the ndarray.\n",
      "  return(np.asarray(ALL_elements))\n"
     ]
    },
    {
     "name": "stdout",
     "output_type": "stream",
     "text": [
      "1\n"
     ]
    },
    {
     "name": "stderr",
     "output_type": "stream",
     "text": [
      "C:\\Users\\moham\\AppData\\Local\\Temp\\ipykernel_24032\\629937003.py:93: VisibleDeprecationWarning: Creating an ndarray from ragged nested sequences (which is a list-or-tuple of lists-or-tuples-or ndarrays with different lengths or shapes) is deprecated. If you meant to do this, you must specify 'dtype=object' when creating the ndarray.\n",
      "  return(np.asarray(ALL_elements))\n"
     ]
    },
    {
     "name": "stdout",
     "output_type": "stream",
     "text": [
      "2\n"
     ]
    },
    {
     "name": "stderr",
     "output_type": "stream",
     "text": [
      "C:\\Users\\moham\\AppData\\Local\\Temp\\ipykernel_24032\\629937003.py:93: VisibleDeprecationWarning: Creating an ndarray from ragged nested sequences (which is a list-or-tuple of lists-or-tuples-or ndarrays with different lengths or shapes) is deprecated. If you meant to do this, you must specify 'dtype=object' when creating the ndarray.\n",
      "  return(np.asarray(ALL_elements))\n"
     ]
    },
    {
     "name": "stdout",
     "output_type": "stream",
     "text": [
      "4\n"
     ]
    },
    {
     "name": "stderr",
     "output_type": "stream",
     "text": [
      "C:\\Users\\moham\\AppData\\Local\\Temp\\ipykernel_24032\\629937003.py:93: VisibleDeprecationWarning: Creating an ndarray from ragged nested sequences (which is a list-or-tuple of lists-or-tuples-or ndarrays with different lengths or shapes) is deprecated. If you meant to do this, you must specify 'dtype=object' when creating the ndarray.\n",
      "  return(np.asarray(ALL_elements))\n"
     ]
    },
    {
     "name": "stdout",
     "output_type": "stream",
     "text": [
      "5\n"
     ]
    },
    {
     "name": "stderr",
     "output_type": "stream",
     "text": [
      "C:\\Users\\moham\\AppData\\Local\\Temp\\ipykernel_24032\\629937003.py:93: VisibleDeprecationWarning: Creating an ndarray from ragged nested sequences (which is a list-or-tuple of lists-or-tuples-or ndarrays with different lengths or shapes) is deprecated. If you meant to do this, you must specify 'dtype=object' when creating the ndarray.\n",
      "  return(np.asarray(ALL_elements))\n"
     ]
    },
    {
     "name": "stdout",
     "output_type": "stream",
     "text": [
      "6\n"
     ]
    },
    {
     "name": "stderr",
     "output_type": "stream",
     "text": [
      "C:\\Users\\moham\\AppData\\Local\\Temp\\ipykernel_24032\\629937003.py:93: VisibleDeprecationWarning: Creating an ndarray from ragged nested sequences (which is a list-or-tuple of lists-or-tuples-or ndarrays with different lengths or shapes) is deprecated. If you meant to do this, you must specify 'dtype=object' when creating the ndarray.\n",
      "  return(np.asarray(ALL_elements))\n"
     ]
    },
    {
     "name": "stdout",
     "output_type": "stream",
     "text": [
      "ah04_09122021_10122021\n",
      "0\n"
     ]
    },
    {
     "name": "stderr",
     "output_type": "stream",
     "text": [
      "C:\\Users\\moham\\AppData\\Local\\Temp\\ipykernel_24032\\629937003.py:93: VisibleDeprecationWarning: Creating an ndarray from ragged nested sequences (which is a list-or-tuple of lists-or-tuples-or ndarrays with different lengths or shapes) is deprecated. If you meant to do this, you must specify 'dtype=object' when creating the ndarray.\n",
      "  return(np.asarray(ALL_elements))\n"
     ]
    },
    {
     "name": "stdout",
     "output_type": "stream",
     "text": [
      "1\n"
     ]
    },
    {
     "name": "stderr",
     "output_type": "stream",
     "text": [
      "C:\\Users\\moham\\AppData\\Local\\Temp\\ipykernel_24032\\629937003.py:93: VisibleDeprecationWarning: Creating an ndarray from ragged nested sequences (which is a list-or-tuple of lists-or-tuples-or ndarrays with different lengths or shapes) is deprecated. If you meant to do this, you must specify 'dtype=object' when creating the ndarray.\n",
      "  return(np.asarray(ALL_elements))\n"
     ]
    },
    {
     "name": "stdout",
     "output_type": "stream",
     "text": [
      "2\n"
     ]
    },
    {
     "name": "stderr",
     "output_type": "stream",
     "text": [
      "C:\\Users\\moham\\AppData\\Local\\Temp\\ipykernel_24032\\629937003.py:93: VisibleDeprecationWarning: Creating an ndarray from ragged nested sequences (which is a list-or-tuple of lists-or-tuples-or ndarrays with different lengths or shapes) is deprecated. If you meant to do this, you must specify 'dtype=object' when creating the ndarray.\n",
      "  return(np.asarray(ALL_elements))\n"
     ]
    },
    {
     "name": "stdout",
     "output_type": "stream",
     "text": [
      "4\n"
     ]
    },
    {
     "name": "stderr",
     "output_type": "stream",
     "text": [
      "C:\\Users\\moham\\AppData\\Local\\Temp\\ipykernel_24032\\629937003.py:93: VisibleDeprecationWarning: Creating an ndarray from ragged nested sequences (which is a list-or-tuple of lists-or-tuples-or ndarrays with different lengths or shapes) is deprecated. If you meant to do this, you must specify 'dtype=object' when creating the ndarray.\n",
      "  return(np.asarray(ALL_elements))\n"
     ]
    },
    {
     "name": "stdout",
     "output_type": "stream",
     "text": [
      "5\n"
     ]
    },
    {
     "name": "stderr",
     "output_type": "stream",
     "text": [
      "C:\\Users\\moham\\AppData\\Local\\Temp\\ipykernel_24032\\629937003.py:93: VisibleDeprecationWarning: Creating an ndarray from ragged nested sequences (which is a list-or-tuple of lists-or-tuples-or ndarrays with different lengths or shapes) is deprecated. If you meant to do this, you must specify 'dtype=object' when creating the ndarray.\n",
      "  return(np.asarray(ALL_elements))\n"
     ]
    },
    {
     "name": "stdout",
     "output_type": "stream",
     "text": [
      "6\n"
     ]
    },
    {
     "name": "stderr",
     "output_type": "stream",
     "text": [
      "C:\\Users\\moham\\AppData\\Local\\Temp\\ipykernel_24032\\629937003.py:93: VisibleDeprecationWarning: Creating an ndarray from ragged nested sequences (which is a list-or-tuple of lists-or-tuples-or ndarrays with different lengths or shapes) is deprecated. If you meant to do this, you must specify 'dtype=object' when creating the ndarray.\n",
      "  return(np.asarray(ALL_elements))\n"
     ]
    },
    {
     "name": "stdout",
     "output_type": "stream",
     "text": [
      "ah04_14122021_16122021\n",
      "0\n"
     ]
    },
    {
     "name": "stderr",
     "output_type": "stream",
     "text": [
      "C:\\Users\\moham\\AppData\\Local\\Temp\\ipykernel_24032\\629937003.py:93: VisibleDeprecationWarning: Creating an ndarray from ragged nested sequences (which is a list-or-tuple of lists-or-tuples-or ndarrays with different lengths or shapes) is deprecated. If you meant to do this, you must specify 'dtype=object' when creating the ndarray.\n",
      "  return(np.asarray(ALL_elements))\n"
     ]
    },
    {
     "name": "stdout",
     "output_type": "stream",
     "text": [
      "1\n"
     ]
    },
    {
     "name": "stderr",
     "output_type": "stream",
     "text": [
      "C:\\Users\\moham\\AppData\\Local\\Temp\\ipykernel_24032\\629937003.py:93: VisibleDeprecationWarning: Creating an ndarray from ragged nested sequences (which is a list-or-tuple of lists-or-tuples-or ndarrays with different lengths or shapes) is deprecated. If you meant to do this, you must specify 'dtype=object' when creating the ndarray.\n",
      "  return(np.asarray(ALL_elements))\n"
     ]
    },
    {
     "name": "stdout",
     "output_type": "stream",
     "text": [
      "2\n"
     ]
    },
    {
     "name": "stderr",
     "output_type": "stream",
     "text": [
      "C:\\Users\\moham\\AppData\\Local\\Temp\\ipykernel_24032\\629937003.py:93: VisibleDeprecationWarning: Creating an ndarray from ragged nested sequences (which is a list-or-tuple of lists-or-tuples-or ndarrays with different lengths or shapes) is deprecated. If you meant to do this, you must specify 'dtype=object' when creating the ndarray.\n",
      "  return(np.asarray(ALL_elements))\n"
     ]
    },
    {
     "name": "stdout",
     "output_type": "stream",
     "text": [
      "4\n"
     ]
    },
    {
     "name": "stderr",
     "output_type": "stream",
     "text": [
      "C:\\Users\\moham\\AppData\\Local\\Temp\\ipykernel_24032\\629937003.py:93: VisibleDeprecationWarning: Creating an ndarray from ragged nested sequences (which is a list-or-tuple of lists-or-tuples-or ndarrays with different lengths or shapes) is deprecated. If you meant to do this, you must specify 'dtype=object' when creating the ndarray.\n",
      "  return(np.asarray(ALL_elements))\n"
     ]
    },
    {
     "name": "stdout",
     "output_type": "stream",
     "text": [
      "5\n"
     ]
    },
    {
     "name": "stderr",
     "output_type": "stream",
     "text": [
      "C:\\Users\\moham\\AppData\\Local\\Temp\\ipykernel_24032\\629937003.py:93: VisibleDeprecationWarning: Creating an ndarray from ragged nested sequences (which is a list-or-tuple of lists-or-tuples-or ndarrays with different lengths or shapes) is deprecated. If you meant to do this, you must specify 'dtype=object' when creating the ndarray.\n",
      "  return(np.asarray(ALL_elements))\n"
     ]
    },
    {
     "name": "stdout",
     "output_type": "stream",
     "text": [
      "6\n"
     ]
    },
    {
     "name": "stderr",
     "output_type": "stream",
     "text": [
      "C:\\Users\\moham\\AppData\\Local\\Temp\\ipykernel_24032\\629937003.py:93: VisibleDeprecationWarning: Creating an ndarray from ragged nested sequences (which is a list-or-tuple of lists-or-tuples-or ndarrays with different lengths or shapes) is deprecated. If you meant to do this, you must specify 'dtype=object' when creating the ndarray.\n",
      "  return(np.asarray(ALL_elements))\n"
     ]
    },
    {
     "name": "stdout",
     "output_type": "stream",
     "text": [
      "ah07_01092023_02092023\n",
      "0\n"
     ]
    },
    {
     "name": "stderr",
     "output_type": "stream",
     "text": [
      "C:\\Users\\moham\\AppData\\Local\\Temp\\ipykernel_24032\\629937003.py:93: VisibleDeprecationWarning: Creating an ndarray from ragged nested sequences (which is a list-or-tuple of lists-or-tuples-or ndarrays with different lengths or shapes) is deprecated. If you meant to do this, you must specify 'dtype=object' when creating the ndarray.\n",
      "  return(np.asarray(ALL_elements))\n"
     ]
    },
    {
     "name": "stdout",
     "output_type": "stream",
     "text": [
      "1\n"
     ]
    },
    {
     "name": "stderr",
     "output_type": "stream",
     "text": [
      "C:\\Users\\moham\\AppData\\Local\\Temp\\ipykernel_24032\\629937003.py:93: VisibleDeprecationWarning: Creating an ndarray from ragged nested sequences (which is a list-or-tuple of lists-or-tuples-or ndarrays with different lengths or shapes) is deprecated. If you meant to do this, you must specify 'dtype=object' when creating the ndarray.\n",
      "  return(np.asarray(ALL_elements))\n"
     ]
    },
    {
     "name": "stdout",
     "output_type": "stream",
     "text": [
      "2\n"
     ]
    },
    {
     "name": "stderr",
     "output_type": "stream",
     "text": [
      "C:\\Users\\moham\\AppData\\Local\\Temp\\ipykernel_24032\\629937003.py:93: VisibleDeprecationWarning: Creating an ndarray from ragged nested sequences (which is a list-or-tuple of lists-or-tuples-or ndarrays with different lengths or shapes) is deprecated. If you meant to do this, you must specify 'dtype=object' when creating the ndarray.\n",
      "  return(np.asarray(ALL_elements))\n"
     ]
    },
    {
     "name": "stdout",
     "output_type": "stream",
     "text": [
      "3\n"
     ]
    },
    {
     "name": "stderr",
     "output_type": "stream",
     "text": [
      "C:\\Users\\moham\\AppData\\Local\\Temp\\ipykernel_24032\\629937003.py:93: VisibleDeprecationWarning: Creating an ndarray from ragged nested sequences (which is a list-or-tuple of lists-or-tuples-or ndarrays with different lengths or shapes) is deprecated. If you meant to do this, you must specify 'dtype=object' when creating the ndarray.\n",
      "  return(np.asarray(ALL_elements))\n"
     ]
    },
    {
     "name": "stdout",
     "output_type": "stream",
     "text": [
      "4\n"
     ]
    },
    {
     "name": "stderr",
     "output_type": "stream",
     "text": [
      "C:\\Users\\moham\\AppData\\Local\\Temp\\ipykernel_24032\\629937003.py:93: VisibleDeprecationWarning: Creating an ndarray from ragged nested sequences (which is a list-or-tuple of lists-or-tuples-or ndarrays with different lengths or shapes) is deprecated. If you meant to do this, you must specify 'dtype=object' when creating the ndarray.\n",
      "  return(np.asarray(ALL_elements))\n"
     ]
    },
    {
     "name": "stdout",
     "output_type": "stream",
     "text": [
      "5\n"
     ]
    },
    {
     "name": "stderr",
     "output_type": "stream",
     "text": [
      "C:\\Users\\moham\\AppData\\Local\\Temp\\ipykernel_24032\\629937003.py:93: VisibleDeprecationWarning: Creating an ndarray from ragged nested sequences (which is a list-or-tuple of lists-or-tuples-or ndarrays with different lengths or shapes) is deprecated. If you meant to do this, you must specify 'dtype=object' when creating the ndarray.\n",
      "  return(np.asarray(ALL_elements))\n"
     ]
    },
    {
     "name": "stdout",
     "output_type": "stream",
     "text": [
      "ah07_27082023_28082023\n",
      "0\n"
     ]
    },
    {
     "name": "stderr",
     "output_type": "stream",
     "text": [
      "C:\\Users\\moham\\AppData\\Local\\Temp\\ipykernel_24032\\629937003.py:93: VisibleDeprecationWarning: Creating an ndarray from ragged nested sequences (which is a list-or-tuple of lists-or-tuples-or ndarrays with different lengths or shapes) is deprecated. If you meant to do this, you must specify 'dtype=object' when creating the ndarray.\n",
      "  return(np.asarray(ALL_elements))\n"
     ]
    },
    {
     "name": "stdout",
     "output_type": "stream",
     "text": [
      "1\n"
     ]
    },
    {
     "name": "stderr",
     "output_type": "stream",
     "text": [
      "C:\\Users\\moham\\AppData\\Local\\Temp\\ipykernel_24032\\629937003.py:93: VisibleDeprecationWarning: Creating an ndarray from ragged nested sequences (which is a list-or-tuple of lists-or-tuples-or ndarrays with different lengths or shapes) is deprecated. If you meant to do this, you must specify 'dtype=object' when creating the ndarray.\n",
      "  return(np.asarray(ALL_elements))\n"
     ]
    },
    {
     "name": "stdout",
     "output_type": "stream",
     "text": [
      "2\n"
     ]
    },
    {
     "name": "stderr",
     "output_type": "stream",
     "text": [
      "C:\\Users\\moham\\AppData\\Local\\Temp\\ipykernel_24032\\629937003.py:93: VisibleDeprecationWarning: Creating an ndarray from ragged nested sequences (which is a list-or-tuple of lists-or-tuples-or ndarrays with different lengths or shapes) is deprecated. If you meant to do this, you must specify 'dtype=object' when creating the ndarray.\n",
      "  return(np.asarray(ALL_elements))\n"
     ]
    },
    {
     "name": "stdout",
     "output_type": "stream",
     "text": [
      "4\n"
     ]
    },
    {
     "name": "stderr",
     "output_type": "stream",
     "text": [
      "C:\\Users\\moham\\AppData\\Local\\Temp\\ipykernel_24032\\629937003.py:93: VisibleDeprecationWarning: Creating an ndarray from ragged nested sequences (which is a list-or-tuple of lists-or-tuples-or ndarrays with different lengths or shapes) is deprecated. If you meant to do this, you must specify 'dtype=object' when creating the ndarray.\n",
      "  return(np.asarray(ALL_elements))\n"
     ]
    },
    {
     "name": "stdout",
     "output_type": "stream",
     "text": [
      "5\n"
     ]
    },
    {
     "name": "stderr",
     "output_type": "stream",
     "text": [
      "C:\\Users\\moham\\AppData\\Local\\Temp\\ipykernel_24032\\629937003.py:93: VisibleDeprecationWarning: Creating an ndarray from ragged nested sequences (which is a list-or-tuple of lists-or-tuples-or ndarrays with different lengths or shapes) is deprecated. If you meant to do this, you must specify 'dtype=object' when creating the ndarray.\n",
      "  return(np.asarray(ALL_elements))\n"
     ]
    },
    {
     "name": "stdout",
     "output_type": "stream",
     "text": [
      "6\n"
     ]
    },
    {
     "name": "stderr",
     "output_type": "stream",
     "text": [
      "C:\\Users\\moham\\AppData\\Local\\Temp\\ipykernel_24032\\629937003.py:93: VisibleDeprecationWarning: Creating an ndarray from ragged nested sequences (which is a list-or-tuple of lists-or-tuples-or ndarrays with different lengths or shapes) is deprecated. If you meant to do this, you must specify 'dtype=object' when creating the ndarray.\n",
      "  return(np.asarray(ALL_elements))\n"
     ]
    },
    {
     "name": "stdout",
     "output_type": "stream",
     "text": [
      "ah07_29082023_30082023\n",
      "0\n"
     ]
    },
    {
     "name": "stderr",
     "output_type": "stream",
     "text": [
      "C:\\Users\\moham\\AppData\\Local\\Temp\\ipykernel_24032\\629937003.py:93: VisibleDeprecationWarning: Creating an ndarray from ragged nested sequences (which is a list-or-tuple of lists-or-tuples-or ndarrays with different lengths or shapes) is deprecated. If you meant to do this, you must specify 'dtype=object' when creating the ndarray.\n",
      "  return(np.asarray(ALL_elements))\n"
     ]
    },
    {
     "name": "stdout",
     "output_type": "stream",
     "text": [
      "1\n"
     ]
    },
    {
     "name": "stderr",
     "output_type": "stream",
     "text": [
      "C:\\Users\\moham\\AppData\\Local\\Temp\\ipykernel_24032\\629937003.py:93: VisibleDeprecationWarning: Creating an ndarray from ragged nested sequences (which is a list-or-tuple of lists-or-tuples-or ndarrays with different lengths or shapes) is deprecated. If you meant to do this, you must specify 'dtype=object' when creating the ndarray.\n",
      "  return(np.asarray(ALL_elements))\n"
     ]
    },
    {
     "name": "stdout",
     "output_type": "stream",
     "text": [
      "2\n"
     ]
    },
    {
     "name": "stderr",
     "output_type": "stream",
     "text": [
      "C:\\Users\\moham\\AppData\\Local\\Temp\\ipykernel_24032\\629937003.py:93: VisibleDeprecationWarning: Creating an ndarray from ragged nested sequences (which is a list-or-tuple of lists-or-tuples-or ndarrays with different lengths or shapes) is deprecated. If you meant to do this, you must specify 'dtype=object' when creating the ndarray.\n",
      "  return(np.asarray(ALL_elements))\n"
     ]
    },
    {
     "name": "stdout",
     "output_type": "stream",
     "text": [
      "4\n"
     ]
    },
    {
     "name": "stderr",
     "output_type": "stream",
     "text": [
      "C:\\Users\\moham\\AppData\\Local\\Temp\\ipykernel_24032\\629937003.py:93: VisibleDeprecationWarning: Creating an ndarray from ragged nested sequences (which is a list-or-tuple of lists-or-tuples-or ndarrays with different lengths or shapes) is deprecated. If you meant to do this, you must specify 'dtype=object' when creating the ndarray.\n",
      "  return(np.asarray(ALL_elements))\n"
     ]
    },
    {
     "name": "stdout",
     "output_type": "stream",
     "text": [
      "5\n"
     ]
    },
    {
     "name": "stderr",
     "output_type": "stream",
     "text": [
      "C:\\Users\\moham\\AppData\\Local\\Temp\\ipykernel_24032\\629937003.py:93: VisibleDeprecationWarning: Creating an ndarray from ragged nested sequences (which is a list-or-tuple of lists-or-tuples-or ndarrays with different lengths or shapes) is deprecated. If you meant to do this, you must specify 'dtype=object' when creating the ndarray.\n",
      "  return(np.asarray(ALL_elements))\n"
     ]
    },
    {
     "name": "stdout",
     "output_type": "stream",
     "text": [
      "6\n"
     ]
    },
    {
     "name": "stderr",
     "output_type": "stream",
     "text": [
      "C:\\Users\\moham\\AppData\\Local\\Temp\\ipykernel_24032\\629937003.py:93: VisibleDeprecationWarning: Creating an ndarray from ragged nested sequences (which is a list-or-tuple of lists-or-tuples-or ndarrays with different lengths or shapes) is deprecated. If you meant to do this, you must specify 'dtype=object' when creating the ndarray.\n",
      "  return(np.asarray(ALL_elements))\n"
     ]
    },
    {
     "name": "stdout",
     "output_type": "stream",
     "text": [
      "me08_06092021_09092021\n",
      "0\n"
     ]
    },
    {
     "name": "stderr",
     "output_type": "stream",
     "text": [
      "C:\\Users\\moham\\AppData\\Local\\Temp\\ipykernel_24032\\629937003.py:93: VisibleDeprecationWarning: Creating an ndarray from ragged nested sequences (which is a list-or-tuple of lists-or-tuples-or ndarrays with different lengths or shapes) is deprecated. If you meant to do this, you must specify 'dtype=object' when creating the ndarray.\n",
      "  return(np.asarray(ALL_elements))\n"
     ]
    },
    {
     "name": "stdout",
     "output_type": "stream",
     "text": [
      "1\n"
     ]
    },
    {
     "name": "stderr",
     "output_type": "stream",
     "text": [
      "C:\\Users\\moham\\AppData\\Local\\Temp\\ipykernel_24032\\629937003.py:93: VisibleDeprecationWarning: Creating an ndarray from ragged nested sequences (which is a list-or-tuple of lists-or-tuples-or ndarrays with different lengths or shapes) is deprecated. If you meant to do this, you must specify 'dtype=object' when creating the ndarray.\n",
      "  return(np.asarray(ALL_elements))\n"
     ]
    },
    {
     "name": "stdout",
     "output_type": "stream",
     "text": [
      "2\n"
     ]
    },
    {
     "name": "stderr",
     "output_type": "stream",
     "text": [
      "C:\\Users\\moham\\AppData\\Local\\Temp\\ipykernel_24032\\629937003.py:93: VisibleDeprecationWarning: Creating an ndarray from ragged nested sequences (which is a list-or-tuple of lists-or-tuples-or ndarrays with different lengths or shapes) is deprecated. If you meant to do this, you must specify 'dtype=object' when creating the ndarray.\n",
      "  return(np.asarray(ALL_elements))\n"
     ]
    },
    {
     "name": "stdout",
     "output_type": "stream",
     "text": [
      "4\n"
     ]
    },
    {
     "name": "stderr",
     "output_type": "stream",
     "text": [
      "C:\\Users\\moham\\AppData\\Local\\Temp\\ipykernel_24032\\629937003.py:93: VisibleDeprecationWarning: Creating an ndarray from ragged nested sequences (which is a list-or-tuple of lists-or-tuples-or ndarrays with different lengths or shapes) is deprecated. If you meant to do this, you must specify 'dtype=object' when creating the ndarray.\n",
      "  return(np.asarray(ALL_elements))\n"
     ]
    },
    {
     "name": "stdout",
     "output_type": "stream",
     "text": [
      "5\n"
     ]
    },
    {
     "name": "stderr",
     "output_type": "stream",
     "text": [
      "C:\\Users\\moham\\AppData\\Local\\Temp\\ipykernel_24032\\629937003.py:93: VisibleDeprecationWarning: Creating an ndarray from ragged nested sequences (which is a list-or-tuple of lists-or-tuples-or ndarrays with different lengths or shapes) is deprecated. If you meant to do this, you must specify 'dtype=object' when creating the ndarray.\n",
      "  return(np.asarray(ALL_elements))\n"
     ]
    },
    {
     "name": "stdout",
     "output_type": "stream",
     "text": [
      "6\n"
     ]
    },
    {
     "name": "stderr",
     "output_type": "stream",
     "text": [
      "C:\\Users\\moham\\AppData\\Local\\Temp\\ipykernel_24032\\629937003.py:93: VisibleDeprecationWarning: Creating an ndarray from ragged nested sequences (which is a list-or-tuple of lists-or-tuples-or ndarrays with different lengths or shapes) is deprecated. If you meant to do this, you must specify 'dtype=object' when creating the ndarray.\n",
      "  return(np.asarray(ALL_elements))\n"
     ]
    },
    {
     "name": "stdout",
     "output_type": "stream",
     "text": [
      "me08_10092021_11092021\n",
      "0\n"
     ]
    },
    {
     "name": "stderr",
     "output_type": "stream",
     "text": [
      "C:\\Users\\moham\\AppData\\Local\\Temp\\ipykernel_24032\\629937003.py:93: VisibleDeprecationWarning: Creating an ndarray from ragged nested sequences (which is a list-or-tuple of lists-or-tuples-or ndarrays with different lengths or shapes) is deprecated. If you meant to do this, you must specify 'dtype=object' when creating the ndarray.\n",
      "  return(np.asarray(ALL_elements))\n"
     ]
    },
    {
     "name": "stdout",
     "output_type": "stream",
     "text": [
      "1\n"
     ]
    },
    {
     "name": "stderr",
     "output_type": "stream",
     "text": [
      "C:\\Users\\moham\\AppData\\Local\\Temp\\ipykernel_24032\\629937003.py:93: VisibleDeprecationWarning: Creating an ndarray from ragged nested sequences (which is a list-or-tuple of lists-or-tuples-or ndarrays with different lengths or shapes) is deprecated. If you meant to do this, you must specify 'dtype=object' when creating the ndarray.\n",
      "  return(np.asarray(ALL_elements))\n"
     ]
    },
    {
     "name": "stdout",
     "output_type": "stream",
     "text": [
      "2\n"
     ]
    },
    {
     "name": "stderr",
     "output_type": "stream",
     "text": [
      "C:\\Users\\moham\\AppData\\Local\\Temp\\ipykernel_24032\\629937003.py:93: VisibleDeprecationWarning: Creating an ndarray from ragged nested sequences (which is a list-or-tuple of lists-or-tuples-or ndarrays with different lengths or shapes) is deprecated. If you meant to do this, you must specify 'dtype=object' when creating the ndarray.\n",
      "  return(np.asarray(ALL_elements))\n"
     ]
    },
    {
     "name": "stdout",
     "output_type": "stream",
     "text": [
      "4\n"
     ]
    },
    {
     "name": "stderr",
     "output_type": "stream",
     "text": [
      "C:\\Users\\moham\\AppData\\Local\\Temp\\ipykernel_24032\\629937003.py:93: VisibleDeprecationWarning: Creating an ndarray from ragged nested sequences (which is a list-or-tuple of lists-or-tuples-or ndarrays with different lengths or shapes) is deprecated. If you meant to do this, you must specify 'dtype=object' when creating the ndarray.\n",
      "  return(np.asarray(ALL_elements))\n"
     ]
    },
    {
     "name": "stdout",
     "output_type": "stream",
     "text": [
      "5\n"
     ]
    },
    {
     "name": "stderr",
     "output_type": "stream",
     "text": [
      "C:\\Users\\moham\\AppData\\Local\\Temp\\ipykernel_24032\\629937003.py:93: VisibleDeprecationWarning: Creating an ndarray from ragged nested sequences (which is a list-or-tuple of lists-or-tuples-or ndarrays with different lengths or shapes) is deprecated. If you meant to do this, you must specify 'dtype=object' when creating the ndarray.\n",
      "  return(np.asarray(ALL_elements))\n"
     ]
    },
    {
     "name": "stdout",
     "output_type": "stream",
     "text": [
      "me08_12092021_13092021\n",
      "0\n"
     ]
    },
    {
     "name": "stderr",
     "output_type": "stream",
     "text": [
      "C:\\Users\\moham\\AppData\\Local\\Temp\\ipykernel_24032\\629937003.py:93: VisibleDeprecationWarning: Creating an ndarray from ragged nested sequences (which is a list-or-tuple of lists-or-tuples-or ndarrays with different lengths or shapes) is deprecated. If you meant to do this, you must specify 'dtype=object' when creating the ndarray.\n",
      "  return(np.asarray(ALL_elements))\n"
     ]
    },
    {
     "name": "stdout",
     "output_type": "stream",
     "text": [
      "1\n"
     ]
    },
    {
     "name": "stderr",
     "output_type": "stream",
     "text": [
      "C:\\Users\\moham\\AppData\\Local\\Temp\\ipykernel_24032\\629937003.py:93: VisibleDeprecationWarning: Creating an ndarray from ragged nested sequences (which is a list-or-tuple of lists-or-tuples-or ndarrays with different lengths or shapes) is deprecated. If you meant to do this, you must specify 'dtype=object' when creating the ndarray.\n",
      "  return(np.asarray(ALL_elements))\n"
     ]
    },
    {
     "name": "stdout",
     "output_type": "stream",
     "text": [
      "4\n"
     ]
    },
    {
     "name": "stderr",
     "output_type": "stream",
     "text": [
      "C:\\Users\\moham\\AppData\\Local\\Temp\\ipykernel_24032\\629937003.py:93: VisibleDeprecationWarning: Creating an ndarray from ragged nested sequences (which is a list-or-tuple of lists-or-tuples-or ndarrays with different lengths or shapes) is deprecated. If you meant to do this, you must specify 'dtype=object' when creating the ndarray.\n",
      "  return(np.asarray(ALL_elements))\n"
     ]
    },
    {
     "name": "stdout",
     "output_type": "stream",
     "text": [
      "5\n"
     ]
    },
    {
     "name": "stderr",
     "output_type": "stream",
     "text": [
      "C:\\Users\\moham\\AppData\\Local\\Temp\\ipykernel_24032\\629937003.py:93: VisibleDeprecationWarning: Creating an ndarray from ragged nested sequences (which is a list-or-tuple of lists-or-tuples-or ndarrays with different lengths or shapes) is deprecated. If you meant to do this, you must specify 'dtype=object' when creating the ndarray.\n",
      "  return(np.asarray(ALL_elements))\n"
     ]
    },
    {
     "name": "stdout",
     "output_type": "stream",
     "text": [
      "6\n"
     ]
    },
    {
     "name": "stderr",
     "output_type": "stream",
     "text": [
      "C:\\Users\\moham\\AppData\\Local\\Temp\\ipykernel_24032\\629937003.py:93: VisibleDeprecationWarning: Creating an ndarray from ragged nested sequences (which is a list-or-tuple of lists-or-tuples-or ndarrays with different lengths or shapes) is deprecated. If you meant to do this, you must specify 'dtype=object' when creating the ndarray.\n",
      "  return(np.asarray(ALL_elements))\n"
     ]
    },
    {
     "name": "stdout",
     "output_type": "stream",
     "text": [
      "me10_09122021_10122021\n",
      "0\n"
     ]
    },
    {
     "name": "stderr",
     "output_type": "stream",
     "text": [
      "C:\\Users\\moham\\AppData\\Local\\Temp\\ipykernel_24032\\629937003.py:93: VisibleDeprecationWarning: Creating an ndarray from ragged nested sequences (which is a list-or-tuple of lists-or-tuples-or ndarrays with different lengths or shapes) is deprecated. If you meant to do this, you must specify 'dtype=object' when creating the ndarray.\n",
      "  return(np.asarray(ALL_elements))\n"
     ]
    },
    {
     "name": "stdout",
     "output_type": "stream",
     "text": [
      "1\n"
     ]
    },
    {
     "name": "stderr",
     "output_type": "stream",
     "text": [
      "C:\\Users\\moham\\AppData\\Local\\Temp\\ipykernel_24032\\629937003.py:93: VisibleDeprecationWarning: Creating an ndarray from ragged nested sequences (which is a list-or-tuple of lists-or-tuples-or ndarrays with different lengths or shapes) is deprecated. If you meant to do this, you must specify 'dtype=object' when creating the ndarray.\n",
      "  return(np.asarray(ALL_elements))\n"
     ]
    },
    {
     "name": "stdout",
     "output_type": "stream",
     "text": [
      "2\n"
     ]
    },
    {
     "name": "stderr",
     "output_type": "stream",
     "text": [
      "C:\\Users\\moham\\AppData\\Local\\Temp\\ipykernel_24032\\629937003.py:93: VisibleDeprecationWarning: Creating an ndarray from ragged nested sequences (which is a list-or-tuple of lists-or-tuples-or ndarrays with different lengths or shapes) is deprecated. If you meant to do this, you must specify 'dtype=object' when creating the ndarray.\n",
      "  return(np.asarray(ALL_elements))\n"
     ]
    },
    {
     "name": "stdout",
     "output_type": "stream",
     "text": [
      "4\n"
     ]
    },
    {
     "name": "stderr",
     "output_type": "stream",
     "text": [
      "C:\\Users\\moham\\AppData\\Local\\Temp\\ipykernel_24032\\629937003.py:93: VisibleDeprecationWarning: Creating an ndarray from ragged nested sequences (which is a list-or-tuple of lists-or-tuples-or ndarrays with different lengths or shapes) is deprecated. If you meant to do this, you must specify 'dtype=object' when creating the ndarray.\n",
      "  return(np.asarray(ALL_elements))\n"
     ]
    },
    {
     "name": "stdout",
     "output_type": "stream",
     "text": [
      "6\n"
     ]
    },
    {
     "name": "stderr",
     "output_type": "stream",
     "text": [
      "C:\\Users\\moham\\AppData\\Local\\Temp\\ipykernel_24032\\629937003.py:93: VisibleDeprecationWarning: Creating an ndarray from ragged nested sequences (which is a list-or-tuple of lists-or-tuples-or ndarrays with different lengths or shapes) is deprecated. If you meant to do this, you must specify 'dtype=object' when creating the ndarray.\n",
      "  return(np.asarray(ALL_elements))\n"
     ]
    },
    {
     "name": "stdout",
     "output_type": "stream",
     "text": [
      "7\n"
     ]
    },
    {
     "name": "stderr",
     "output_type": "stream",
     "text": [
      "C:\\Users\\moham\\AppData\\Local\\Temp\\ipykernel_24032\\629937003.py:93: VisibleDeprecationWarning: Creating an ndarray from ragged nested sequences (which is a list-or-tuple of lists-or-tuples-or ndarrays with different lengths or shapes) is deprecated. If you meant to do this, you must specify 'dtype=object' when creating the ndarray.\n",
      "  return(np.asarray(ALL_elements))\n"
     ]
    },
    {
     "name": "stdout",
     "output_type": "stream",
     "text": [
      "me10_14122021_15122021\n",
      "0\n"
     ]
    },
    {
     "name": "stderr",
     "output_type": "stream",
     "text": [
      "C:\\Users\\moham\\AppData\\Local\\Temp\\ipykernel_24032\\629937003.py:93: VisibleDeprecationWarning: Creating an ndarray from ragged nested sequences (which is a list-or-tuple of lists-or-tuples-or ndarrays with different lengths or shapes) is deprecated. If you meant to do this, you must specify 'dtype=object' when creating the ndarray.\n",
      "  return(np.asarray(ALL_elements))\n"
     ]
    },
    {
     "name": "stdout",
     "output_type": "stream",
     "text": [
      "Files not found (1) for session 5\n",
      "1\n"
     ]
    },
    {
     "name": "stderr",
     "output_type": "stream",
     "text": [
      "C:\\Users\\moham\\AppData\\Local\\Temp\\ipykernel_24032\\629937003.py:93: VisibleDeprecationWarning: Creating an ndarray from ragged nested sequences (which is a list-or-tuple of lists-or-tuples-or ndarrays with different lengths or shapes) is deprecated. If you meant to do this, you must specify 'dtype=object' when creating the ndarray.\n",
      "  return(np.asarray(ALL_elements))\n"
     ]
    },
    {
     "name": "stdout",
     "output_type": "stream",
     "text": [
      "Files not found (1) for session 5\n",
      "2\n"
     ]
    },
    {
     "name": "stderr",
     "output_type": "stream",
     "text": [
      "C:\\Users\\moham\\AppData\\Local\\Temp\\ipykernel_24032\\629937003.py:93: VisibleDeprecationWarning: Creating an ndarray from ragged nested sequences (which is a list-or-tuple of lists-or-tuples-or ndarrays with different lengths or shapes) is deprecated. If you meant to do this, you must specify 'dtype=object' when creating the ndarray.\n",
      "  return(np.asarray(ALL_elements))\n"
     ]
    },
    {
     "name": "stdout",
     "output_type": "stream",
     "text": [
      "Files not found (1) for session 5\n",
      "4\n"
     ]
    },
    {
     "name": "stderr",
     "output_type": "stream",
     "text": [
      "C:\\Users\\moham\\AppData\\Local\\Temp\\ipykernel_24032\\629937003.py:93: VisibleDeprecationWarning: Creating an ndarray from ragged nested sequences (which is a list-or-tuple of lists-or-tuples-or ndarrays with different lengths or shapes) is deprecated. If you meant to do this, you must specify 'dtype=object' when creating the ndarray.\n",
      "  return(np.asarray(ALL_elements))\n"
     ]
    },
    {
     "name": "stdout",
     "output_type": "stream",
     "text": [
      "Files not found (1) for session 5\n",
      "5\n"
     ]
    },
    {
     "name": "stderr",
     "output_type": "stream",
     "text": [
      "C:\\Users\\moham\\AppData\\Local\\Temp\\ipykernel_24032\\629937003.py:93: VisibleDeprecationWarning: Creating an ndarray from ragged nested sequences (which is a list-or-tuple of lists-or-tuples-or ndarrays with different lengths or shapes) is deprecated. If you meant to do this, you must specify 'dtype=object' when creating the ndarray.\n",
      "  return(np.asarray(ALL_elements))\n"
     ]
    },
    {
     "name": "stdout",
     "output_type": "stream",
     "text": [
      "Files not found (2) for session 5\n",
      "me10_17122021_19122021\n",
      "0\n"
     ]
    },
    {
     "name": "stderr",
     "output_type": "stream",
     "text": [
      "C:\\Users\\moham\\AppData\\Local\\Temp\\ipykernel_24032\\629937003.py:93: VisibleDeprecationWarning: Creating an ndarray from ragged nested sequences (which is a list-or-tuple of lists-or-tuples-or ndarrays with different lengths or shapes) is deprecated. If you meant to do this, you must specify 'dtype=object' when creating the ndarray.\n",
      "  return(np.asarray(ALL_elements))\n"
     ]
    },
    {
     "name": "stdout",
     "output_type": "stream",
     "text": [
      "1\n"
     ]
    },
    {
     "name": "stderr",
     "output_type": "stream",
     "text": [
      "C:\\Users\\moham\\AppData\\Local\\Temp\\ipykernel_24032\\629937003.py:93: VisibleDeprecationWarning: Creating an ndarray from ragged nested sequences (which is a list-or-tuple of lists-or-tuples-or ndarrays with different lengths or shapes) is deprecated. If you meant to do this, you must specify 'dtype=object' when creating the ndarray.\n",
      "  return(np.asarray(ALL_elements))\n"
     ]
    },
    {
     "name": "stdout",
     "output_type": "stream",
     "text": [
      "2\n"
     ]
    },
    {
     "name": "stderr",
     "output_type": "stream",
     "text": [
      "C:\\Users\\moham\\AppData\\Local\\Temp\\ipykernel_24032\\629937003.py:93: VisibleDeprecationWarning: Creating an ndarray from ragged nested sequences (which is a list-or-tuple of lists-or-tuples-or ndarrays with different lengths or shapes) is deprecated. If you meant to do this, you must specify 'dtype=object' when creating the ndarray.\n",
      "  return(np.asarray(ALL_elements))\n"
     ]
    },
    {
     "name": "stdout",
     "output_type": "stream",
     "text": [
      "4\n"
     ]
    },
    {
     "name": "stderr",
     "output_type": "stream",
     "text": [
      "C:\\Users\\moham\\AppData\\Local\\Temp\\ipykernel_24032\\629937003.py:93: VisibleDeprecationWarning: Creating an ndarray from ragged nested sequences (which is a list-or-tuple of lists-or-tuples-or ndarrays with different lengths or shapes) is deprecated. If you meant to do this, you must specify 'dtype=object' when creating the ndarray.\n",
      "  return(np.asarray(ALL_elements))\n"
     ]
    },
    {
     "name": "stdout",
     "output_type": "stream",
     "text": [
      "5\n"
     ]
    },
    {
     "name": "stderr",
     "output_type": "stream",
     "text": [
      "C:\\Users\\moham\\AppData\\Local\\Temp\\ipykernel_24032\\629937003.py:93: VisibleDeprecationWarning: Creating an ndarray from ragged nested sequences (which is a list-or-tuple of lists-or-tuples-or ndarrays with different lengths or shapes) is deprecated. If you meant to do this, you must specify 'dtype=object' when creating the ndarray.\n",
      "  return(np.asarray(ALL_elements))\n"
     ]
    },
    {
     "name": "stdout",
     "output_type": "stream",
     "text": [
      "6\n"
     ]
    },
    {
     "name": "stderr",
     "output_type": "stream",
     "text": [
      "C:\\Users\\moham\\AppData\\Local\\Temp\\ipykernel_24032\\629937003.py:93: VisibleDeprecationWarning: Creating an ndarray from ragged nested sequences (which is a list-or-tuple of lists-or-tuples-or ndarrays with different lengths or shapes) is deprecated. If you meant to do this, you must specify 'dtype=object' when creating the ndarray.\n",
      "  return(np.asarray(ALL_elements))\n"
     ]
    },
    {
     "name": "stdout",
     "output_type": "stream",
     "text": [
      "me10_20122021_21122021\n",
      "0\n"
     ]
    },
    {
     "name": "stderr",
     "output_type": "stream",
     "text": [
      "C:\\Users\\moham\\AppData\\Local\\Temp\\ipykernel_24032\\629937003.py:93: VisibleDeprecationWarning: Creating an ndarray from ragged nested sequences (which is a list-or-tuple of lists-or-tuples-or ndarrays with different lengths or shapes) is deprecated. If you meant to do this, you must specify 'dtype=object' when creating the ndarray.\n",
      "  return(np.asarray(ALL_elements))\n"
     ]
    },
    {
     "name": "stdout",
     "output_type": "stream",
     "text": [
      "1\n"
     ]
    },
    {
     "name": "stderr",
     "output_type": "stream",
     "text": [
      "C:\\Users\\moham\\AppData\\Local\\Temp\\ipykernel_24032\\629937003.py:93: VisibleDeprecationWarning: Creating an ndarray from ragged nested sequences (which is a list-or-tuple of lists-or-tuples-or ndarrays with different lengths or shapes) is deprecated. If you meant to do this, you must specify 'dtype=object' when creating the ndarray.\n",
      "  return(np.asarray(ALL_elements))\n"
     ]
    },
    {
     "name": "stdout",
     "output_type": "stream",
     "text": [
      "2\n"
     ]
    },
    {
     "name": "stderr",
     "output_type": "stream",
     "text": [
      "C:\\Users\\moham\\AppData\\Local\\Temp\\ipykernel_24032\\629937003.py:93: VisibleDeprecationWarning: Creating an ndarray from ragged nested sequences (which is a list-or-tuple of lists-or-tuples-or ndarrays with different lengths or shapes) is deprecated. If you meant to do this, you must specify 'dtype=object' when creating the ndarray.\n",
      "  return(np.asarray(ALL_elements))\n"
     ]
    },
    {
     "name": "stdout",
     "output_type": "stream",
     "text": [
      "3\n"
     ]
    },
    {
     "name": "stderr",
     "output_type": "stream",
     "text": [
      "C:\\Users\\moham\\AppData\\Local\\Temp\\ipykernel_24032\\629937003.py:93: VisibleDeprecationWarning: Creating an ndarray from ragged nested sequences (which is a list-or-tuple of lists-or-tuples-or ndarrays with different lengths or shapes) is deprecated. If you meant to do this, you must specify 'dtype=object' when creating the ndarray.\n",
      "  return(np.asarray(ALL_elements))\n"
     ]
    },
    {
     "name": "stdout",
     "output_type": "stream",
     "text": [
      "4\n"
     ]
    },
    {
     "name": "stderr",
     "output_type": "stream",
     "text": [
      "C:\\Users\\moham\\AppData\\Local\\Temp\\ipykernel_24032\\629937003.py:93: VisibleDeprecationWarning: Creating an ndarray from ragged nested sequences (which is a list-or-tuple of lists-or-tuples-or ndarrays with different lengths or shapes) is deprecated. If you meant to do this, you must specify 'dtype=object' when creating the ndarray.\n",
      "  return(np.asarray(ALL_elements))\n"
     ]
    },
    {
     "name": "stdout",
     "output_type": "stream",
     "text": [
      "5\n"
     ]
    },
    {
     "name": "stderr",
     "output_type": "stream",
     "text": [
      "C:\\Users\\moham\\AppData\\Local\\Temp\\ipykernel_24032\\629937003.py:93: VisibleDeprecationWarning: Creating an ndarray from ragged nested sequences (which is a list-or-tuple of lists-or-tuples-or ndarrays with different lengths or shapes) is deprecated. If you meant to do this, you must specify 'dtype=object' when creating the ndarray.\n",
      "  return(np.asarray(ALL_elements))\n"
     ]
    },
    {
     "name": "stdout",
     "output_type": "stream",
     "text": [
      "me11_01122021_02122021\n",
      "0\n"
     ]
    },
    {
     "name": "stderr",
     "output_type": "stream",
     "text": [
      "C:\\Users\\moham\\AppData\\Local\\Temp\\ipykernel_24032\\629937003.py:93: VisibleDeprecationWarning: Creating an ndarray from ragged nested sequences (which is a list-or-tuple of lists-or-tuples-or ndarrays with different lengths or shapes) is deprecated. If you meant to do this, you must specify 'dtype=object' when creating the ndarray.\n",
      "  return(np.asarray(ALL_elements))\n"
     ]
    },
    {
     "name": "stdout",
     "output_type": "stream",
     "text": [
      "1\n"
     ]
    },
    {
     "name": "stderr",
     "output_type": "stream",
     "text": [
      "C:\\Users\\moham\\AppData\\Local\\Temp\\ipykernel_24032\\629937003.py:93: VisibleDeprecationWarning: Creating an ndarray from ragged nested sequences (which is a list-or-tuple of lists-or-tuples-or ndarrays with different lengths or shapes) is deprecated. If you meant to do this, you must specify 'dtype=object' when creating the ndarray.\n",
      "  return(np.asarray(ALL_elements))\n"
     ]
    },
    {
     "name": "stdout",
     "output_type": "stream",
     "text": [
      "2\n"
     ]
    },
    {
     "name": "stderr",
     "output_type": "stream",
     "text": [
      "C:\\Users\\moham\\AppData\\Local\\Temp\\ipykernel_24032\\629937003.py:93: VisibleDeprecationWarning: Creating an ndarray from ragged nested sequences (which is a list-or-tuple of lists-or-tuples-or ndarrays with different lengths or shapes) is deprecated. If you meant to do this, you must specify 'dtype=object' when creating the ndarray.\n",
      "  return(np.asarray(ALL_elements))\n"
     ]
    },
    {
     "name": "stdout",
     "output_type": "stream",
     "text": [
      "4\n"
     ]
    },
    {
     "name": "stderr",
     "output_type": "stream",
     "text": [
      "C:\\Users\\moham\\AppData\\Local\\Temp\\ipykernel_24032\\629937003.py:93: VisibleDeprecationWarning: Creating an ndarray from ragged nested sequences (which is a list-or-tuple of lists-or-tuples-or ndarrays with different lengths or shapes) is deprecated. If you meant to do this, you must specify 'dtype=object' when creating the ndarray.\n",
      "  return(np.asarray(ALL_elements))\n"
     ]
    },
    {
     "name": "stdout",
     "output_type": "stream",
     "text": [
      "5\n"
     ]
    },
    {
     "name": "stderr",
     "output_type": "stream",
     "text": [
      "C:\\Users\\moham\\AppData\\Local\\Temp\\ipykernel_24032\\629937003.py:93: VisibleDeprecationWarning: Creating an ndarray from ragged nested sequences (which is a list-or-tuple of lists-or-tuples-or ndarrays with different lengths or shapes) is deprecated. If you meant to do this, you must specify 'dtype=object' when creating the ndarray.\n",
      "  return(np.asarray(ALL_elements))\n"
     ]
    },
    {
     "name": "stdout",
     "output_type": "stream",
     "text": [
      "6\n"
     ]
    },
    {
     "name": "stderr",
     "output_type": "stream",
     "text": [
      "C:\\Users\\moham\\AppData\\Local\\Temp\\ipykernel_24032\\629937003.py:93: VisibleDeprecationWarning: Creating an ndarray from ragged nested sequences (which is a list-or-tuple of lists-or-tuples-or ndarrays with different lengths or shapes) is deprecated. If you meant to do this, you must specify 'dtype=object' when creating the ndarray.\n",
      "  return(np.asarray(ALL_elements))\n"
     ]
    },
    {
     "name": "stdout",
     "output_type": "stream",
     "text": [
      "7\n"
     ]
    },
    {
     "name": "stderr",
     "output_type": "stream",
     "text": [
      "C:\\Users\\moham\\AppData\\Local\\Temp\\ipykernel_24032\\629937003.py:93: VisibleDeprecationWarning: Creating an ndarray from ragged nested sequences (which is a list-or-tuple of lists-or-tuples-or ndarrays with different lengths or shapes) is deprecated. If you meant to do this, you must specify 'dtype=object' when creating the ndarray.\n",
      "  return(np.asarray(ALL_elements))\n"
     ]
    },
    {
     "name": "stdout",
     "output_type": "stream",
     "text": [
      "me11_05122021_06122021\n",
      "0\n"
     ]
    },
    {
     "name": "stderr",
     "output_type": "stream",
     "text": [
      "C:\\Users\\moham\\AppData\\Local\\Temp\\ipykernel_24032\\629937003.py:93: VisibleDeprecationWarning: Creating an ndarray from ragged nested sequences (which is a list-or-tuple of lists-or-tuples-or ndarrays with different lengths or shapes) is deprecated. If you meant to do this, you must specify 'dtype=object' when creating the ndarray.\n",
      "  return(np.asarray(ALL_elements))\n"
     ]
    },
    {
     "name": "stdout",
     "output_type": "stream",
     "text": [
      "1\n"
     ]
    },
    {
     "name": "stderr",
     "output_type": "stream",
     "text": [
      "C:\\Users\\moham\\AppData\\Local\\Temp\\ipykernel_24032\\629937003.py:93: VisibleDeprecationWarning: Creating an ndarray from ragged nested sequences (which is a list-or-tuple of lists-or-tuples-or ndarrays with different lengths or shapes) is deprecated. If you meant to do this, you must specify 'dtype=object' when creating the ndarray.\n",
      "  return(np.asarray(ALL_elements))\n"
     ]
    },
    {
     "name": "stdout",
     "output_type": "stream",
     "text": [
      "2\n"
     ]
    },
    {
     "name": "stderr",
     "output_type": "stream",
     "text": [
      "C:\\Users\\moham\\AppData\\Local\\Temp\\ipykernel_24032\\629937003.py:93: VisibleDeprecationWarning: Creating an ndarray from ragged nested sequences (which is a list-or-tuple of lists-or-tuples-or ndarrays with different lengths or shapes) is deprecated. If you meant to do this, you must specify 'dtype=object' when creating the ndarray.\n",
      "  return(np.asarray(ALL_elements))\n"
     ]
    },
    {
     "name": "stdout",
     "output_type": "stream",
     "text": [
      "3\n"
     ]
    },
    {
     "name": "stderr",
     "output_type": "stream",
     "text": [
      "C:\\Users\\moham\\AppData\\Local\\Temp\\ipykernel_24032\\629937003.py:93: VisibleDeprecationWarning: Creating an ndarray from ragged nested sequences (which is a list-or-tuple of lists-or-tuples-or ndarrays with different lengths or shapes) is deprecated. If you meant to do this, you must specify 'dtype=object' when creating the ndarray.\n",
      "  return(np.asarray(ALL_elements))\n"
     ]
    },
    {
     "name": "stdout",
     "output_type": "stream",
     "text": [
      "4\n"
     ]
    },
    {
     "name": "stderr",
     "output_type": "stream",
     "text": [
      "C:\\Users\\moham\\AppData\\Local\\Temp\\ipykernel_24032\\629937003.py:93: VisibleDeprecationWarning: Creating an ndarray from ragged nested sequences (which is a list-or-tuple of lists-or-tuples-or ndarrays with different lengths or shapes) is deprecated. If you meant to do this, you must specify 'dtype=object' when creating the ndarray.\n",
      "  return(np.asarray(ALL_elements))\n"
     ]
    },
    {
     "name": "stdout",
     "output_type": "stream",
     "text": [
      "5\n"
     ]
    },
    {
     "name": "stderr",
     "output_type": "stream",
     "text": [
      "C:\\Users\\moham\\AppData\\Local\\Temp\\ipykernel_24032\\629937003.py:93: VisibleDeprecationWarning: Creating an ndarray from ragged nested sequences (which is a list-or-tuple of lists-or-tuples-or ndarrays with different lengths or shapes) is deprecated. If you meant to do this, you must specify 'dtype=object' when creating the ndarray.\n",
      "  return(np.asarray(ALL_elements))\n"
     ]
    },
    {
     "name": "stdout",
     "output_type": "stream",
     "text": [
      "7\n"
     ]
    },
    {
     "name": "stderr",
     "output_type": "stream",
     "text": [
      "C:\\Users\\moham\\AppData\\Local\\Temp\\ipykernel_24032\\629937003.py:93: VisibleDeprecationWarning: Creating an ndarray from ragged nested sequences (which is a list-or-tuple of lists-or-tuples-or ndarrays with different lengths or shapes) is deprecated. If you meant to do this, you must specify 'dtype=object' when creating the ndarray.\n",
      "  return(np.asarray(ALL_elements))\n"
     ]
    },
    {
     "name": "stdout",
     "output_type": "stream",
     "text": [
      "me11_07122021_08122021\n",
      "0\n"
     ]
    },
    {
     "name": "stderr",
     "output_type": "stream",
     "text": [
      "C:\\Users\\moham\\AppData\\Local\\Temp\\ipykernel_24032\\629937003.py:93: VisibleDeprecationWarning: Creating an ndarray from ragged nested sequences (which is a list-or-tuple of lists-or-tuples-or ndarrays with different lengths or shapes) is deprecated. If you meant to do this, you must specify 'dtype=object' when creating the ndarray.\n",
      "  return(np.asarray(ALL_elements))\n"
     ]
    },
    {
     "name": "stdout",
     "output_type": "stream",
     "text": [
      "1\n"
     ]
    },
    {
     "name": "stderr",
     "output_type": "stream",
     "text": [
      "C:\\Users\\moham\\AppData\\Local\\Temp\\ipykernel_24032\\629937003.py:93: VisibleDeprecationWarning: Creating an ndarray from ragged nested sequences (which is a list-or-tuple of lists-or-tuples-or ndarrays with different lengths or shapes) is deprecated. If you meant to do this, you must specify 'dtype=object' when creating the ndarray.\n",
      "  return(np.asarray(ALL_elements))\n"
     ]
    },
    {
     "name": "stdout",
     "output_type": "stream",
     "text": [
      "2\n"
     ]
    },
    {
     "name": "stderr",
     "output_type": "stream",
     "text": [
      "C:\\Users\\moham\\AppData\\Local\\Temp\\ipykernel_24032\\629937003.py:93: VisibleDeprecationWarning: Creating an ndarray from ragged nested sequences (which is a list-or-tuple of lists-or-tuples-or ndarrays with different lengths or shapes) is deprecated. If you meant to do this, you must specify 'dtype=object' when creating the ndarray.\n",
      "  return(np.asarray(ALL_elements))\n"
     ]
    },
    {
     "name": "stdout",
     "output_type": "stream",
     "text": [
      "4\n"
     ]
    },
    {
     "name": "stderr",
     "output_type": "stream",
     "text": [
      "C:\\Users\\moham\\AppData\\Local\\Temp\\ipykernel_24032\\629937003.py:93: VisibleDeprecationWarning: Creating an ndarray from ragged nested sequences (which is a list-or-tuple of lists-or-tuples-or ndarrays with different lengths or shapes) is deprecated. If you meant to do this, you must specify 'dtype=object' when creating the ndarray.\n",
      "  return(np.asarray(ALL_elements))\n"
     ]
    },
    {
     "name": "stdout",
     "output_type": "stream",
     "text": [
      "5\n"
     ]
    },
    {
     "name": "stderr",
     "output_type": "stream",
     "text": [
      "C:\\Users\\moham\\AppData\\Local\\Temp\\ipykernel_24032\\629937003.py:93: VisibleDeprecationWarning: Creating an ndarray from ragged nested sequences (which is a list-or-tuple of lists-or-tuples-or ndarrays with different lengths or shapes) is deprecated. If you meant to do this, you must specify 'dtype=object' when creating the ndarray.\n",
      "  return(np.asarray(ALL_elements))\n"
     ]
    },
    {
     "name": "stdout",
     "output_type": "stream",
     "text": [
      "6\n"
     ]
    },
    {
     "name": "stderr",
     "output_type": "stream",
     "text": [
      "C:\\Users\\moham\\AppData\\Local\\Temp\\ipykernel_24032\\629937003.py:93: VisibleDeprecationWarning: Creating an ndarray from ragged nested sequences (which is a list-or-tuple of lists-or-tuples-or ndarrays with different lengths or shapes) is deprecated. If you meant to do this, you must specify 'dtype=object' when creating the ndarray.\n",
      "  return(np.asarray(ALL_elements))\n"
     ]
    },
    {
     "name": "stdout",
     "output_type": "stream",
     "text": [
      "me11_09122021_10122021\n",
      "0\n"
     ]
    },
    {
     "name": "stderr",
     "output_type": "stream",
     "text": [
      "C:\\Users\\moham\\AppData\\Local\\Temp\\ipykernel_24032\\629937003.py:93: VisibleDeprecationWarning: Creating an ndarray from ragged nested sequences (which is a list-or-tuple of lists-or-tuples-or ndarrays with different lengths or shapes) is deprecated. If you meant to do this, you must specify 'dtype=object' when creating the ndarray.\n",
      "  return(np.asarray(ALL_elements))\n"
     ]
    },
    {
     "name": "stdout",
     "output_type": "stream",
     "text": [
      "1\n"
     ]
    },
    {
     "name": "stderr",
     "output_type": "stream",
     "text": [
      "C:\\Users\\moham\\AppData\\Local\\Temp\\ipykernel_24032\\629937003.py:93: VisibleDeprecationWarning: Creating an ndarray from ragged nested sequences (which is a list-or-tuple of lists-or-tuples-or ndarrays with different lengths or shapes) is deprecated. If you meant to do this, you must specify 'dtype=object' when creating the ndarray.\n",
      "  return(np.asarray(ALL_elements))\n"
     ]
    },
    {
     "name": "stdout",
     "output_type": "stream",
     "text": [
      "2\n"
     ]
    },
    {
     "name": "stderr",
     "output_type": "stream",
     "text": [
      "C:\\Users\\moham\\AppData\\Local\\Temp\\ipykernel_24032\\629937003.py:93: VisibleDeprecationWarning: Creating an ndarray from ragged nested sequences (which is a list-or-tuple of lists-or-tuples-or ndarrays with different lengths or shapes) is deprecated. If you meant to do this, you must specify 'dtype=object' when creating the ndarray.\n",
      "  return(np.asarray(ALL_elements))\n"
     ]
    },
    {
     "name": "stdout",
     "output_type": "stream",
     "text": [
      "4\n"
     ]
    },
    {
     "name": "stderr",
     "output_type": "stream",
     "text": [
      "C:\\Users\\moham\\AppData\\Local\\Temp\\ipykernel_24032\\629937003.py:93: VisibleDeprecationWarning: Creating an ndarray from ragged nested sequences (which is a list-or-tuple of lists-or-tuples-or ndarrays with different lengths or shapes) is deprecated. If you meant to do this, you must specify 'dtype=object' when creating the ndarray.\n",
      "  return(np.asarray(ALL_elements))\n"
     ]
    },
    {
     "name": "stdout",
     "output_type": "stream",
     "text": [
      "6\n"
     ]
    },
    {
     "name": "stderr",
     "output_type": "stream",
     "text": [
      "C:\\Users\\moham\\AppData\\Local\\Temp\\ipykernel_24032\\629937003.py:93: VisibleDeprecationWarning: Creating an ndarray from ragged nested sequences (which is a list-or-tuple of lists-or-tuples-or ndarrays with different lengths or shapes) is deprecated. If you meant to do this, you must specify 'dtype=object' when creating the ndarray.\n",
      "  return(np.asarray(ALL_elements))\n"
     ]
    },
    {
     "name": "stdout",
     "output_type": "stream",
     "text": [
      "7\n"
     ]
    },
    {
     "name": "stderr",
     "output_type": "stream",
     "text": [
      "C:\\Users\\moham\\AppData\\Local\\Temp\\ipykernel_24032\\629937003.py:93: VisibleDeprecationWarning: Creating an ndarray from ragged nested sequences (which is a list-or-tuple of lists-or-tuples-or ndarrays with different lengths or shapes) is deprecated. If you meant to do this, you must specify 'dtype=object' when creating the ndarray.\n",
      "  return(np.asarray(ALL_elements))\n"
     ]
    },
    {
     "name": "stdout",
     "output_type": "stream",
     "text": [
      "me11_12122021_13122021\n",
      "0\n"
     ]
    },
    {
     "name": "stderr",
     "output_type": "stream",
     "text": [
      "C:\\Users\\moham\\AppData\\Local\\Temp\\ipykernel_24032\\629937003.py:93: VisibleDeprecationWarning: Creating an ndarray from ragged nested sequences (which is a list-or-tuple of lists-or-tuples-or ndarrays with different lengths or shapes) is deprecated. If you meant to do this, you must specify 'dtype=object' when creating the ndarray.\n",
      "  return(np.asarray(ALL_elements))\n"
     ]
    },
    {
     "name": "stdout",
     "output_type": "stream",
     "text": [
      "1\n"
     ]
    },
    {
     "name": "stderr",
     "output_type": "stream",
     "text": [
      "C:\\Users\\moham\\AppData\\Local\\Temp\\ipykernel_24032\\629937003.py:93: VisibleDeprecationWarning: Creating an ndarray from ragged nested sequences (which is a list-or-tuple of lists-or-tuples-or ndarrays with different lengths or shapes) is deprecated. If you meant to do this, you must specify 'dtype=object' when creating the ndarray.\n",
      "  return(np.asarray(ALL_elements))\n"
     ]
    },
    {
     "name": "stdout",
     "output_type": "stream",
     "text": [
      "2\n"
     ]
    },
    {
     "name": "stderr",
     "output_type": "stream",
     "text": [
      "C:\\Users\\moham\\AppData\\Local\\Temp\\ipykernel_24032\\629937003.py:93: VisibleDeprecationWarning: Creating an ndarray from ragged nested sequences (which is a list-or-tuple of lists-or-tuples-or ndarrays with different lengths or shapes) is deprecated. If you meant to do this, you must specify 'dtype=object' when creating the ndarray.\n",
      "  return(np.asarray(ALL_elements))\n"
     ]
    },
    {
     "name": "stdout",
     "output_type": "stream",
     "text": [
      "4\n"
     ]
    },
    {
     "name": "stderr",
     "output_type": "stream",
     "text": [
      "C:\\Users\\moham\\AppData\\Local\\Temp\\ipykernel_24032\\629937003.py:93: VisibleDeprecationWarning: Creating an ndarray from ragged nested sequences (which is a list-or-tuple of lists-or-tuples-or ndarrays with different lengths or shapes) is deprecated. If you meant to do this, you must specify 'dtype=object' when creating the ndarray.\n",
      "  return(np.asarray(ALL_elements))\n"
     ]
    },
    {
     "name": "stdout",
     "output_type": "stream",
     "text": [
      "5\n"
     ]
    },
    {
     "name": "stderr",
     "output_type": "stream",
     "text": [
      "C:\\Users\\moham\\AppData\\Local\\Temp\\ipykernel_24032\\629937003.py:93: VisibleDeprecationWarning: Creating an ndarray from ragged nested sequences (which is a list-or-tuple of lists-or-tuples-or ndarrays with different lengths or shapes) is deprecated. If you meant to do this, you must specify 'dtype=object' when creating the ndarray.\n",
      "  return(np.asarray(ALL_elements))\n"
     ]
    },
    {
     "name": "stdout",
     "output_type": "stream",
     "text": [
      "6\n"
     ]
    },
    {
     "name": "stderr",
     "output_type": "stream",
     "text": [
      "C:\\Users\\moham\\AppData\\Local\\Temp\\ipykernel_24032\\629937003.py:93: VisibleDeprecationWarning: Creating an ndarray from ragged nested sequences (which is a list-or-tuple of lists-or-tuples-or ndarrays with different lengths or shapes) is deprecated. If you meant to do this, you must specify 'dtype=object' when creating the ndarray.\n",
      "  return(np.asarray(ALL_elements))\n"
     ]
    },
    {
     "name": "stdout",
     "output_type": "stream",
     "text": [
      "6002.615202665329\n"
     ]
    }
   ],
   "source": [
    "###GLM - shuffled - across tasks (using left out state/task combination as test data)\n",
    "tt=time.time()\n",
    "num_phases=5\n",
    "num_nodes=9\n",
    "num_locations=21\n",
    "num_states=4\n",
    "num_regressors=6 ##phase, place, time (from reward), speed, acceleration\n",
    "num_regressors_interest=2 ##phase, place\n",
    "num_iterations=100\n",
    "re_run=True\n",
    "lag_min=30*40 ###1200 bins = 30 seconds\n",
    "smooth_SDs=5\n",
    "\n",
    "phase_bins=np.arange(num_phases+1)\n",
    "location_bins=np.arange(num_locations+1)+1\n",
    "state_bins=np.arange(num_states+1)\n",
    "\n",
    "remove_edges=True\n",
    "\n",
    "if remove_edges==True:\n",
    "    num_locations=num_nodes\n",
    "    location_bins=np.arange(num_nodes+1)+1\n",
    "        \n",
    "\n",
    "for day_type in ['3_task','combined_ABCDonly']:\n",
    "    for mouse_recday in np.load(Input_folder+day_type+'_days.npy'):\n",
    "        print(mouse_recday)\n",
    "        \n",
    "        if re_run==False:\n",
    "            if mouse_recday in GLM_dic2['percentile_neuron_betas'].keys():\n",
    "                print('Already Analysed')\n",
    "                continue\n",
    "\n",
    "        try: \n",
    "            awake_sessions_behaviour=np.load(Input_folder+'awake_session_behaviour_'+mouse_recday+'.npy')\n",
    "            awake_sessions=np.load(Input_folder+'awake_session_behaviour_'+mouse_recday+'.npy')\n",
    "\n",
    "            num_sessions=len(awake_sessions_behaviour)\n",
    "\n",
    "            num_neurons=len(np.load(Input_folder+'Neuron_raw_'+mouse_recday+'_0.npy'))\n",
    "            non_repeat_ses=non_repeat_ses_maker(mouse_recday) \n",
    "\n",
    "            coeffs_all=np.zeros((num_neurons,len(non_repeat_ses)*num_states,num_iterations,num_regressors))\n",
    "            coeffs_all[:]=np.nan\n",
    "            \n",
    "            \n",
    "            \n",
    "            for ses_ind_test_ind,ses_ind_test in enumerate(non_repeat_ses):\n",
    "                print(ses_ind_test)\n",
    "                \n",
    "\n",
    "                training_sessions=np.setdiff1d(non_repeat_ses,ses_ind_test)\n",
    "                \n",
    "                ###Training\n",
    "                phases_conc_all_=[]\n",
    "                states_conc_all_=[]\n",
    "                Location_raw_eq_all_=[]\n",
    "                Neuron_raw_all_=[]\n",
    "                for ses_ind_training_ind, ses_ind_training in enumerate(training_sessions):\n",
    "                    try:\n",
    "                        Neuron_raw=np.load(Input_folder+'Neuron_raw_'+mouse_recday+'_'+str(ses_ind_training)+'.npy')\n",
    "                        Location_raw=np.load(Input_folder+'Location_raw_'+mouse_recday+'_'+str(ses_ind_training)+'.npy')\n",
    "                        XY_raw=np.load(Input_folder+'XY_raw_'+mouse_recday+'_'+str(ses_ind_training)+'.npy')\n",
    "                        speed_raw=speed_dic[mouse_recday][ses_ind_training]\n",
    "\n",
    "\n",
    "                        acceleration_raw_=np.diff(speed_raw)/0.025\n",
    "                        acceleration_raw=np.hstack((acceleration_raw_[0],acceleration_raw_))\n",
    "                        Trial_times=np.load(Input_folder+'trialtimes_'+mouse_recday+'_'+str(ses_ind_training)+'.npy')\n",
    "\n",
    "                    except:\n",
    "                        print('Files not found (1) for session '+str(ses_ind_training))\n",
    "                        continue\n",
    "\n",
    "                    phases=Phases_raw_dic[mouse_recday][ses_ind_training]\n",
    "                    phases_conc=concatenate_complex2(concatenate_complex2(phases))\n",
    "                    states=States_raw_dic[mouse_recday][ses_ind_training]\n",
    "                    states_conc=concatenate_complex2(concatenate_complex2(states))\n",
    "                    times=Times_from_reward_dic[mouse_recday][ses_ind_training]\n",
    "                    times_conc=concatenate_complex2(concatenate_complex2(times))\n",
    "                    distances=Distances_from_reward_dic[mouse_recday][ses_ind_training]\n",
    "                    distances_conc=concatenate_complex2(concatenate_complex2(distances))\n",
    "                    speed_raw_eq=speed_raw[:len(phases_conc)]\n",
    "                    acceleration_raw_eq=acceleration_raw[:len(phases_conc)]\n",
    "                    Location_raw_eq=Location_raw[:len(phases_conc)]\n",
    "\n",
    "                    if remove_edges==True:\n",
    "                        Location_raw_eq[Location_raw_eq>num_nodes]=np.nan ### removing edges\n",
    "\n",
    "                    if len(phases_conc)>=len(speed_raw_eq):\n",
    "                        phases_conc=phases_conc[:len(speed_raw_eq)]\n",
    "                        states_conc=states_conc[:len(speed_raw_eq)]\n",
    "                        times_conc=times_conc[:len(speed_raw_eq)]\n",
    "                        distances_conc=distances_conc[:len(speed_raw_eq)]\n",
    "                        Location_raw_eq=Location_raw_eq[:len(speed_raw_eq)]\n",
    "                        Neuron_raw=Neuron_raw[:,:len(speed_raw_eq)]\n",
    "\n",
    "                    speed_phases=st.binned_statistic(phases_conc, speed_raw_eq , bins=phase_bins)[0]\n",
    "                    acceleration_phases=st.binned_statistic(phases_conc, acceleration_raw_eq , bins=phase_bins)[0]\n",
    "                    \n",
    "                    phases_conc_all_.append(phases_conc)\n",
    "                    states_conc_all_.append(states_conc)\n",
    "                    Location_raw_eq_all_.append(Location_raw_eq)\n",
    "                    Neuron_raw_all_.append(Neuron_raw)\n",
    "                    \n",
    "\n",
    "\n",
    "                phases_conc_all_=np.hstack((phases_conc_all_))\n",
    "                states_conc_all_=np.hstack((states_conc_all_))\n",
    "                Location_raw_eq_all_=np.hstack((Location_raw_eq_all_))\n",
    "                Neuron_raw_all_=np.hstack((Neuron_raw_all_))\n",
    "                \n",
    "                \n",
    "\n",
    "\n",
    "\n",
    "                ###Test\n",
    "                try:\n",
    "                    Neuron_raw_test=np.load(Input_folder+'Neuron_raw_'+mouse_recday+'_'+str(ses_ind_test)+'.npy')\n",
    "                    Location_raw_test=np.load(Input_folder+'Location_raw_'+mouse_recday+'_'+str(ses_ind_test)+'.npy')\n",
    "                except:\n",
    "                    print('Files not found (2) for session '+str(ses_ind_test))\n",
    "                    continue\n",
    "                speed_raw_test=speed_dic[mouse_recday][ses_ind_test]\n",
    "                acceleration_raw_test_=np.diff(speed_raw_test)/0.025\n",
    "                acceleration_raw_test=np.hstack((acceleration_raw_test_[0],acceleration_raw_test_))\n",
    "\n",
    "                phases_test=Phases_raw_dic[mouse_recday][ses_ind_test]\n",
    "                phases_conc_test=concatenate_complex2(concatenate_complex2(phases_test))\n",
    "                states_test=States_raw_dic[mouse_recday][ses_ind_test]\n",
    "                states_conc_test=concatenate_complex2(concatenate_complex2(states_test))\n",
    "                times_test=Times_from_reward_dic[mouse_recday][ses_ind_test]\n",
    "                times_conc_test=concatenate_complex2(concatenate_complex2(times_test))\n",
    "                distances_test=Distances_from_reward_dic[mouse_recday][ses_ind_test]\n",
    "                distances_conc_test=concatenate_complex2(concatenate_complex2(distances_test))\n",
    "\n",
    "                speed_raw_eq_test=gaussian_filter1d(speed_raw_test[:len(phases_conc_test)],smooth_SDs)\n",
    "                acceleration_raw_eq_test=gaussian_filter1d(acceleration_raw_test[:len(phases_conc_test)],smooth_SDs)\n",
    "                Location_raw_eq_test=Location_raw_test[:len(phases_conc_test)]\n",
    "                \n",
    "                Neuron_raw_eq_test_all=Neuron_raw_test[:,:len(phases_conc_test)]\n",
    "                \n",
    "                if remove_edges==True:\n",
    "                    Location_raw_eq_test[Location_raw_eq_test>num_nodes]=np.nan ### removing edges\n",
    "\n",
    "                if len(phases_conc_test)>=len(speed_raw_eq_test):\n",
    "                    phases_conc_test=phases_conc_test[:len(speed_raw_eq_test)]\n",
    "                    states_conc_test=states_conc_test[:len(speed_raw_eq_test)]\n",
    "                    times_conc_test=times_conc_test[:len(speed_raw_eq_test)]\n",
    "                    distances_conc_test=distances_conc_test[:len(speed_raw_eq_test)]\n",
    "                    Location_raw_eq_test=Location_raw_eq_test[:len(speed_raw_eq_test)]\n",
    "                    Neuron_raw_eq_test_all=Neuron_raw_eq_test_all[:,:len(speed_raw_eq_test)]\n",
    "                \n",
    "                \n",
    "                ###extracting test state  \n",
    "                states_=np.arange(num_states)\n",
    "                for test_state in np.arange(num_states):\n",
    "                    \n",
    "                    ind_ses_state=(ses_ind_test_ind*num_states)+test_state\n",
    "\n",
    "                    ###completing training arrays\n",
    "                    phases_conc_test_training=phases_conc_test[states_conc_test!=test_state]\n",
    "                    Location_raw_eq_test_training=Location_raw_eq_test[states_conc_test!=test_state]\n",
    "                    Neuron_raw_test_training=Neuron_raw_eq_test_all[:,states_conc_test!=test_state]\n",
    "\n",
    "                    phases_conc_all=np.hstack((phases_conc_all_,phases_conc_test_training))\n",
    "                    Location_raw_eq_all=np.hstack((Location_raw_eq_all_,Location_raw_eq_test_training))\n",
    "                    Neuron_raw_all=np.hstack((Neuron_raw_all_,Neuron_raw_test_training))\n",
    "                    \n",
    "                    \n",
    "                    Neuron_phases_all=np.zeros((num_neurons,num_phases))\n",
    "                    Neuron_locations_all=np.zeros((num_neurons,num_locations))\n",
    "                    Neuron_phases_all[:]=np.nan\n",
    "                    Neuron_locations_all[:]=np.nan\n",
    "                    for neuron in np.arange(num_neurons):\n",
    "                        Neuron_raw_eq_all=Neuron_raw_all[neuron,:len(phases_conc_all)]\n",
    "                        Neuron_phases=st.binned_statistic(phases_conc_all, Neuron_raw_eq_all, bins=phase_bins)[0]\n",
    "                        Neuron_locations=st.binned_statistic(Location_raw_eq_all,\\\n",
    "                                                             Neuron_raw_eq_all, bins=location_bins)[0]\n",
    "                        Neuron_phases_all[neuron]=Neuron_phases\n",
    "                        Neuron_locations_all[neuron]=Neuron_locations\n",
    "                    \n",
    "                    \n",
    "                    ###defining test arrays\n",
    "                    Neuron_raw_test_test=Neuron_raw_eq_test_all[:,states_conc_test==test_state]\n",
    "                    phases_conc_test_test=phases_conc_test[states_conc_test==test_state]\n",
    "                    Location_raw_eq_test_test=Location_raw_eq_test[states_conc_test==test_state]\n",
    "                    times_conc_test_test=times_conc_test[states_conc_test==test_state]\n",
    "                    distances_conc_test_test=distances_conc_test[states_conc_test==test_state]\n",
    "                    \n",
    "                    speed_raw_eq_test_test=speed_raw_eq_test[states_conc_test==test_state]\n",
    "                    acceleration_raw_eq_test_test=acceleration_raw_eq_test[states_conc_test==test_state]\n",
    "\n",
    "                    Location_raw_eq_test_nonan=Location_raw_eq_test_test[~np.isnan(Location_raw_eq_test_test)]\n",
    "                    speed_raw_eq_test_nonan=speed_raw_eq_test_test[~np.isnan(Location_raw_eq_test_test)]\n",
    "                    acceleration_raw_eq_test_nonan=acceleration_raw_eq_test_test[~np.isnan(Location_raw_eq_test_test)]\n",
    "                    times_conc_test_nonan=times_conc_test_test[~np.isnan(Location_raw_eq_test_test)]\n",
    "                    distances_conc_test_nonan=distances_conc_test_test[~np.isnan(Location_raw_eq_test_test)]\n",
    "\n",
    "                    for neuron in np.arange(num_neurons):\n",
    "                        Neuron_phases=Neuron_phases_all[neuron]\n",
    "                        Neuron_locations=Neuron_locations_all[neuron]\n",
    "\n",
    "                        Neuron_raw_eq_test=Neuron_raw_test_test[neuron]\n",
    "                        Neuron_raw_eq_test_nonan=Neuron_raw_eq_test[~np.isnan(Location_raw_eq_test_test)]\n",
    "\n",
    "                        FR_training_phases=Neuron_phases[phases_conc_test_test]\n",
    "                        FR_training_phases_nonan=FR_training_phases[~np.isnan(Location_raw_eq_test_test)]\n",
    "                        FR_training_locations_nonan=Neuron_locations[(Location_raw_eq_test_nonan-1).astype(int)]\n",
    "\n",
    "\n",
    "                        ###regression\n",
    "                        X = np.vstack((FR_training_phases_nonan,\\\n",
    "                                       FR_training_locations_nonan,\\\n",
    "                                       times_conc_test_nonan,\\\n",
    "                                       distances_conc_test_nonan,\\\n",
    "                                       speed_raw_eq_test_nonan,\\\n",
    "                                       acceleration_raw_eq_test_nonan)).T\n",
    "\n",
    "                        X_clean=X[~np.isnan(X).any(axis=1)]\n",
    "                        X_z=st.zscore(X_clean,axis=0)\n",
    "\n",
    "                        y=Neuron_raw_eq_test_nonan[~np.isnan(X).any(axis=1)]\n",
    "                        reg = LinearRegression().fit(X_z, y)\n",
    "                        coeffs=reg.coef_\n",
    "\n",
    "                        if len(y)<lag_min:\n",
    "                            continue\n",
    "                        \n",
    "                        ##Random shifts\n",
    "                        max_roll=int(len(y)-lag_min)\n",
    "                        min_roll=int(lag_min)\n",
    "                        \n",
    "                        if max_roll<min_roll:\n",
    "                            continue\n",
    "                        for iteration in range(num_iterations):\n",
    "                            copy_y=np.copy(y)\n",
    "\n",
    "                            shift=random.randrange(max_roll-min_roll)+min_roll\n",
    "                            y_shifted=np.roll(copy_y,shift)\n",
    "\n",
    "                            reg = LinearRegression().fit(X_z, y_shifted)\n",
    "                            coeffs=reg.coef_\n",
    "                            coeffs_all[neuron,ind_ses_state,iteration]=coeffs\n",
    "\n",
    "            actual_mean_neuron_betas=GLM_dic2['mean_neuron_betas'][mouse_recday]\n",
    "            \n",
    "            thr_neuron_betas=np.zeros((num_neurons,num_regressors_interest))\n",
    "            thr_neuron_betas[:]=np.nan\n",
    "\n",
    "            percentile_neuron_betas=np.zeros((num_neurons,num_regressors_interest))\n",
    "            percentile_neuron_betas[:]=np.nan\n",
    "            for neuron in np.arange(num_neurons):\n",
    "                dist_phase=np.asarray([np.nanmean(coeffs_all[neuron,:,ii,0]) for ii in range(num_iterations)])\n",
    "                dist_place=np.asarray([np.nanmean(coeffs_all[neuron,:,ii,1]) for ii in range(num_iterations)])\n",
    "                \n",
    "                thr_phase_coeff=np.nanpercentile(dist_phase,95)\n",
    "                thr_place_coeff=np.nanpercentile(dist_place,95)\n",
    "                thr_neuron_betas[neuron]=thr_phase_coeff,thr_place_coeff\n",
    "                \n",
    "                percentile_phase_coeff=st.percentileofscore(dist_phase,actual_mean_neuron_betas[neuron,0])\n",
    "                percentile_place_coeff=st.percentileofscore(dist_place,actual_mean_neuron_betas[neuron,1])\n",
    "                \n",
    "                percentile_neuron_betas[neuron]=percentile_phase_coeff,percentile_place_coeff\n",
    "\n",
    "            GLM_dic2['thr_neuron_betas'][mouse_recday]=thr_neuron_betas            \n",
    "            GLM_dic2['percentile_neuron_betas'][mouse_recday]=percentile_neuron_betas\n",
    "            \n",
    "\n",
    "        except Exception as e:\n",
    "            print('betas not calculated')\n",
    "            print(e)\n",
    "            exc_type, exc_obj, exc_tb = sys.exc_info()\n",
    "            fname = os.path.split(exc_tb.tb_frame.f_code.co_filename)[1]\n",
    "            print(exc_type, fname, exc_tb.tb_lineno)\n",
    "print(time.time()-tt)"
   ]
  },
  {
   "cell_type": "code",
   "execution_count": null,
   "metadata": {},
   "outputs": [],
   "source": []
  },
  {
   "cell_type": "code",
   "execution_count": null,
   "metadata": {},
   "outputs": [],
   "source": []
  },
  {
   "cell_type": "code",
   "execution_count": null,
   "metadata": {},
   "outputs": [],
   "source": []
  },
  {
   "cell_type": "code",
   "execution_count": null,
   "metadata": {},
   "outputs": [],
   "source": []
  },
  {
   "cell_type": "code",
   "execution_count": null,
   "metadata": {},
   "outputs": [],
   "source": []
  },
  {
   "cell_type": "code",
   "execution_count": 52,
   "metadata": {
    "scrolled": true
   },
   "outputs": [
    {
     "name": "stdout",
     "output_type": "stream",
     "text": [
      "ah03_18082021\n",
      "0\n",
      "1\n",
      "2\n",
      "3\n",
      "ah04_06122021\n",
      "0\n",
      "1\n",
      "2\n",
      "3\n",
      "ah04_10122021\n",
      "0\n",
      "1\n",
      "2\n",
      "3\n",
      "ah04_26112021\n",
      "0\n",
      "1\n",
      "2\n",
      "3\n",
      "ah04_30112021\n",
      "0\n",
      "1\n",
      "2\n",
      "3\n",
      "me10_08122021\n",
      "0\n",
      "1\n",
      "2\n",
      "3\n",
      "me10_16122021\n",
      "0\n",
      "1\n",
      "2\n",
      "3\n"
     ]
    },
    {
     "name": "stderr",
     "output_type": "stream",
     "text": [
      "C:\\Users\\moham\\AppData\\Roaming\\Python\\Python38\\site-packages\\scipy\\stats\\_axis_nan_policy.py:502: RuntimeWarning: Precision loss occurred in moment calculation due to catastrophic cancellation. This occurs when the data are nearly identical. Results may be unreliable.\n",
      "  res = hypotest_fun_out(*samples, **kwds)\n"
     ]
    },
    {
     "name": "stdout",
     "output_type": "stream",
     "text": [
      "me11_05122021\n",
      "0\n",
      "1\n",
      "2\n",
      "3\n",
      "me11_07122021\n",
      "0\n",
      "1\n",
      "2\n",
      "3\n",
      "me11_08122021\n",
      "0\n",
      "1\n",
      "2\n",
      "3\n",
      "me11_30112021\n",
      "0\n",
      "1\n",
      "2\n",
      "3\n",
      "ab03_01092023_02092023\n",
      "0\n",
      "1\n",
      "2\n",
      "3\n",
      "4\n",
      "5\n",
      "6\n",
      "ab03_05092023_06092023\n",
      "0\n",
      "1\n",
      "2\n",
      "3\n",
      "4\n",
      "5\n",
      "6\n",
      "7\n",
      "ab03_29082023_30082023\n",
      "0\n",
      "1\n",
      "2\n",
      "3\n",
      "4\n",
      "5\n",
      "6\n",
      "7\n",
      "8\n",
      "ah03_12082021_13082021\n",
      "0\n",
      "1\n",
      "2\n",
      "3\n",
      "4\n",
      "5\n",
      "6\n",
      "7\n",
      "ah03_18082021_19082021\n",
      "0\n",
      "1\n",
      "2\n",
      "3\n",
      "4\n",
      "5\n",
      "6\n",
      "7\n",
      "ah04_01122021_02122021\n",
      "0\n",
      "1\n",
      "2\n",
      "3\n",
      "4\n",
      "5\n",
      "6\n",
      "7\n",
      "ah04_05122021_06122021\n",
      "0\n",
      "1\n",
      "2\n",
      "3\n",
      "4\n",
      "5\n",
      "6\n",
      "7\n",
      "ah04_07122021_08122021\n",
      "0\n",
      "1\n",
      "2\n",
      "3\n",
      "4\n",
      "5\n",
      "6\n",
      "7\n"
     ]
    },
    {
     "name": "stderr",
     "output_type": "stream",
     "text": [
      "C:\\Users\\moham\\AppData\\Roaming\\Python\\Python38\\site-packages\\scipy\\stats\\_stats_py.py:1214: RuntimeWarning: divide by zero encountered in true_divide\n",
      "  var *= np.divide(n, n-ddof)  # to avoid error on division by zero\n",
      "C:\\Users\\moham\\AppData\\Roaming\\Python\\Python38\\site-packages\\scipy\\stats\\_stats_py.py:1214: RuntimeWarning: invalid value encountered in double_scalars\n",
      "  var *= np.divide(n, n-ddof)  # to avoid error on division by zero\n"
     ]
    },
    {
     "name": "stdout",
     "output_type": "stream",
     "text": [
      "ah04_09122021_10122021\n",
      "0\n",
      "1\n",
      "2\n",
      "3\n",
      "4\n",
      "5\n",
      "6\n",
      "7\n",
      "ah04_14122021_16122021\n",
      "0\n",
      "1\n",
      "2\n",
      "3\n",
      "4\n",
      "5\n",
      "6\n",
      "7\n",
      "ah07_01092023_02092023\n",
      "0\n",
      "1\n",
      "2\n",
      "3\n",
      "4\n",
      "5\n",
      "6\n",
      "ah07_27082023_28082023\n",
      "0\n",
      "1\n",
      "2\n",
      "3\n",
      "4\n",
      "5\n",
      "6\n",
      "7\n",
      "[Errno 2] No such file or directory: 'C:/Users/moham/team_mouse Dropbox/Mohamady El-Gaby/Taskspace_abstraction/Data/Intermediate_objects/Neuron_ah07_27082023_28082023_7.npy'\n",
      "<class 'FileNotFoundError'> 2775292115.py 22\n",
      "Not calculated\n",
      "ah07_29082023_30082023\n",
      "0\n",
      "1\n",
      "2\n",
      "3\n",
      "4\n",
      "5\n",
      "6\n",
      "me08_06092021_09092021\n",
      "0\n",
      "1\n",
      "2\n",
      "3\n",
      "4\n",
      "5\n",
      "6\n",
      "7\n",
      "me08_10092021_11092021\n",
      "0\n",
      "1\n",
      "2\n",
      "3\n",
      "4\n",
      "5\n",
      "me08_12092021_13092021\n",
      "0\n",
      "1\n",
      "2\n",
      "3\n",
      "4\n",
      "5\n",
      "6\n",
      "7\n",
      "me10_09122021_10122021\n",
      "0\n",
      "1\n",
      "2\n",
      "3\n",
      "4\n",
      "5\n",
      "6\n",
      "7\n",
      "8\n",
      "me10_14122021_15122021\n",
      "0\n",
      "1\n",
      "2\n",
      "3\n",
      "4\n",
      "5\n",
      "6\n",
      "7\n",
      "me10_17122021_19122021\n",
      "0\n",
      "1\n",
      "2\n",
      "3\n",
      "4\n",
      "5\n",
      "6\n",
      "7\n",
      "me10_20122021_21122021\n",
      "0\n",
      "1\n",
      "2\n",
      "3\n",
      "4\n",
      "5\n",
      "me11_01122021_02122021\n",
      "0\n",
      "1\n",
      "2\n",
      "3\n",
      "4\n",
      "5\n",
      "6\n",
      "7\n",
      "me11_05122021_06122021\n",
      "0\n",
      "1\n",
      "2\n",
      "3\n",
      "4\n",
      "5\n",
      "6\n",
      "7\n",
      "8\n",
      "me11_07122021_08122021\n",
      "0\n",
      "1\n",
      "2\n",
      "3\n",
      "4\n",
      "5\n",
      "6\n",
      "7\n",
      "me11_09122021_10122021\n",
      "0\n",
      "1\n",
      "2\n",
      "3\n",
      "4\n",
      "5\n",
      "6\n",
      "7\n",
      "8\n",
      "me11_12122021_13122021\n",
      "0\n",
      "1\n",
      "2\n",
      "3\n",
      "4\n",
      "5\n",
      "6\n",
      "7\n",
      "8\n",
      "39.52672362327576\n"
     ]
    }
   ],
   "source": [
    "###Tuning from single trials\n",
    "tt=time.time()\n",
    "tuning_singletrial_dic2=rec_dd()\n",
    "num_states=4\n",
    "num_phases=3\n",
    "for day_type in ['3_task', 'combined_ABCDonly']:\n",
    "    for mouse_recday in np.load(Input_folder+day_type+'_days.npy'):\n",
    "        print(mouse_recday)\n",
    "        \n",
    "        num_sessions=len(np.load(Input_folder+'awake_session_behaviour_'+mouse_recday+'.npy'))\n",
    "        num_neurons=len(np.load(Input_folder+'Neuron_raw_'+mouse_recday+'_0.npy'))\n",
    "\n",
    "        non_repeat_ses=non_repeat_ses_maker(mouse_recday) \n",
    "        num_nonrepeat_sessions=len(non_repeat_ses)\n",
    "        \n",
    "\n",
    "\n",
    "\n",
    "        for session in np.arange(num_sessions):\n",
    "            print(session)\n",
    "            try:\n",
    "                ephys_ = np.load(Input_folder+'Neuron_'+mouse_recday+'_'+str(session)+'.npy')\n",
    "                exec('ephys_ses_'+str(session)+'_=ephys_')\n",
    "\n",
    "            except Exception as e:\n",
    "                print(e)\n",
    "                exec('ephys_ses_'+str(session)+'_=[]')\n",
    "                exc_type, exc_obj, exc_tb = sys.exc_info()\n",
    "                fname = os.path.split(exc_tb.tb_frame.f_code.co_filename)[1]\n",
    "                print(exc_type, fname, exc_tb.tb_lineno)\n",
    "                print('Not calculated')\n",
    "\n",
    "\n",
    "        \n",
    "        tuning_z_matrix=np.zeros((num_sessions,num_neurons))\n",
    "        tuning_p_matrix=np.zeros((num_sessions,num_neurons))\n",
    "        tuning_z_matrix_allstates=np.zeros((num_sessions,num_neurons,num_states))\n",
    "        tuning_p_matrix_allstates=np.zeros((num_sessions,num_neurons,num_states))\n",
    "        tuning_z_matrix_allphases=np.zeros((num_sessions,num_neurons,num_phases))\n",
    "        tuning_p_matrix_allphases=np.zeros((num_sessions,num_neurons,num_phases))\n",
    "        for ses_ind, session in enumerate(np.arange(num_sessions)):\n",
    "            exec('ephys_=ephys_ses_'+str(session)+'_')\n",
    "            if len(ephys_)==0:\n",
    "                continue\n",
    "            for neuron in np.arange(num_neurons):\n",
    "                \n",
    "\n",
    "                if len(ephys_)==0:\n",
    "                    tuning_z_matrix[ses_ind][neuron]=np.nan\n",
    "                    tuning_p_matrix[ses_ind][neuron]=np.nan\n",
    "                    continue\n",
    "\n",
    "                ephys_neuron_unbinned_=ephys_[neuron]\n",
    "                ephys_neuron_unbinned=np.asarray(np.split(ephys_neuron_unbinned_,num_states,axis=1))\n",
    "                ephys_neuron=np.mean(np.split(ephys_neuron_unbinned,10,axis=2),axis=0)\n",
    "                z_max=st.zscore(np.nanmax(ephys_neuron,axis=2),axis=0)\n",
    "                z_max_prefstate=z_max[np.argmax(np.mean(z_max,axis=1))]\n",
    "                tuning_z_matrix[ses_ind][neuron]=np.nanmean(z_max_prefstate)\n",
    "                tuning_p_matrix[ses_ind][neuron]=st.ttest_1samp(remove_nan(z_max_prefstate),0)[1]\n",
    "\n",
    "                tuning_z_matrix_allstates[ses_ind][neuron]=np.nanmean(z_max,axis=1)\n",
    "                tuning_p_matrix_allstates[ses_ind][neuron]=np.asarray([st.ttest_1samp(remove_nan(z_max[ii]),0)[1]\\\n",
    "                                                            for ii in range(len(z_max))])\n",
    "\n",
    "\n",
    "                ##Phase peaks\n",
    "                ephys_neuron_3=np.asarray(np.split(ephys_neuron_unbinned,3,axis=2))\n",
    "                max_phase=np.max(np.mean(np.mean(ephys_neuron_3,axis=1),axis=1),axis=1)\n",
    "                z_max_phase=st.zscore(max_phase)\n",
    "                tuning_z_matrix_allphases[ses_ind][neuron]=z_max_phase\n",
    "\n",
    "        tuning_singletrial_dic2['tuning_z'][mouse_recday]=tuning_z_matrix\n",
    "        tuning_singletrial_dic2['tuning_p'][mouse_recday]=tuning_p_matrix\n",
    "\n",
    "        tuning_singletrial_dic2['tuning_z_allstates'][mouse_recday]=tuning_z_matrix_allstates\n",
    "        tuning_singletrial_dic2['tuning_p_allstates'][mouse_recday]=tuning_p_matrix_allstates\n",
    "\n",
    "        tuning_singletrial_dic2['tuning_z_allphases'][mouse_recday]=tuning_z_matrix_allphases\n",
    "\n",
    "        \n",
    "\n",
    "print(time.time()-tt)"
   ]
  },
  {
   "cell_type": "code",
   "execution_count": null,
   "metadata": {},
   "outputs": [],
   "source": []
  },
  {
   "cell_type": "code",
   "execution_count": null,
   "metadata": {},
   "outputs": [],
   "source": []
  },
  {
   "cell_type": "code",
   "execution_count": null,
   "metadata": {},
   "outputs": [],
   "source": []
  },
  {
   "cell_type": "code",
   "execution_count": null,
   "metadata": {},
   "outputs": [],
   "source": []
  },
  {
   "cell_type": "code",
   "execution_count": null,
   "metadata": {},
   "outputs": [],
   "source": []
  },
  {
   "cell_type": "code",
   "execution_count": null,
   "metadata": {},
   "outputs": [],
   "source": []
  },
  {
   "cell_type": "code",
   "execution_count": null,
   "metadata": {},
   "outputs": [],
   "source": []
  },
  {
   "cell_type": "code",
   "execution_count": null,
   "metadata": {},
   "outputs": [],
   "source": []
  },
  {
   "cell_type": "code",
   "execution_count": 54,
   "metadata": {},
   "outputs": [
    {
     "name": "stdout",
     "output_type": "stream",
     "text": [
      "ah03_18082021\n",
      "0\n",
      "1\n",
      "2\n",
      "3\n",
      "ah04_06122021\n",
      "0\n",
      "1\n",
      "2\n",
      "3\n",
      "ah04_10122021\n",
      "0\n",
      "1\n",
      "2\n",
      "3\n",
      "ah04_26112021\n",
      "0\n",
      "1\n",
      "2\n",
      "3\n",
      "ah04_30112021\n",
      "0\n",
      "1\n",
      "2\n",
      "3\n",
      "me10_08122021\n",
      "0\n",
      "1\n",
      "2\n",
      "3\n",
      "me10_16122021\n",
      "0\n",
      "1\n",
      "2\n",
      "3\n",
      "me11_05122021\n",
      "0\n",
      "1\n",
      "2\n",
      "3\n",
      "me11_07122021\n",
      "0\n",
      "1\n",
      "2\n",
      "3\n",
      "me11_08122021\n",
      "0\n",
      "1\n",
      "2\n",
      "3\n",
      "me11_30112021\n",
      "0\n",
      "1\n",
      "2\n",
      "3\n",
      "ab03_01092023_02092023\n",
      "0\n",
      "1\n",
      "2\n",
      "3\n",
      "4\n",
      "5\n",
      "6\n",
      "ab03_05092023_06092023\n",
      "0\n",
      "1\n",
      "2\n",
      "3\n",
      "4\n",
      "5\n",
      "6\n",
      "7\n",
      "ab03_29082023_30082023\n",
      "0\n",
      "1\n",
      "2\n",
      "3\n",
      "4\n",
      "5\n",
      "6\n",
      "7\n",
      "8\n",
      "ah03_12082021_13082021\n",
      "0\n",
      "1\n",
      "2\n",
      "3\n",
      "4\n",
      "5\n",
      "6\n",
      "7\n",
      "ah03_18082021_19082021\n",
      "0\n",
      "1\n",
      "2\n",
      "3\n",
      "4\n",
      "5\n",
      "6\n",
      "7\n",
      "ah04_01122021_02122021\n",
      "0\n",
      "1\n",
      "2\n",
      "3\n",
      "4\n",
      "5\n",
      "6\n",
      "7\n",
      "ah04_05122021_06122021\n",
      "0\n",
      "1\n",
      "2\n",
      "3\n",
      "4\n",
      "5\n",
      "6\n",
      "7\n",
      "ah04_07122021_08122021\n",
      "0\n",
      "1\n",
      "2\n",
      "3\n",
      "4\n",
      "5\n",
      "6\n",
      "7\n",
      "ah04_09122021_10122021\n",
      "0\n",
      "1\n",
      "2\n",
      "3\n",
      "4\n",
      "5\n",
      "6\n",
      "7\n",
      "ah04_14122021_16122021\n",
      "0\n",
      "1\n",
      "2\n",
      "3\n",
      "4\n",
      "5\n",
      "6\n",
      "7\n",
      "ah07_01092023_02092023\n",
      "0\n",
      "1\n",
      "2\n",
      "3\n",
      "4\n",
      "5\n",
      "6\n",
      "ah07_27082023_28082023\n",
      "0\n",
      "1\n",
      "2\n",
      "3\n",
      "4\n",
      "5\n",
      "6\n",
      "7\n",
      "ah07_29082023_30082023\n",
      "0\n",
      "1\n",
      "2\n",
      "3\n",
      "4\n",
      "5\n",
      "6\n",
      "me08_06092021_09092021\n",
      "0\n",
      "1\n",
      "2\n",
      "3\n",
      "4\n",
      "5\n",
      "6\n",
      "7\n",
      "me08_10092021_11092021\n",
      "0\n",
      "1\n",
      "2\n",
      "3\n",
      "4\n",
      "5\n",
      "me08_12092021_13092021\n",
      "0\n",
      "1\n",
      "2\n",
      "3\n",
      "4\n",
      "5\n",
      "6\n",
      "7\n",
      "me10_09122021_10122021\n",
      "0\n",
      "1\n",
      "2\n",
      "3\n",
      "4\n",
      "5\n",
      "6\n",
      "7\n",
      "8\n",
      "me10_14122021_15122021\n",
      "0\n",
      "1\n",
      "2\n",
      "3\n",
      "4\n",
      "5\n",
      "6\n",
      "7\n",
      "me10_17122021_19122021\n",
      "0\n",
      "1\n",
      "2\n",
      "3\n",
      "4\n",
      "5\n",
      "6\n",
      "7\n",
      "me10_20122021_21122021\n",
      "0\n",
      "1\n",
      "2\n",
      "3\n",
      "4\n",
      "5\n",
      "me11_01122021_02122021\n",
      "0\n",
      "1\n",
      "2\n",
      "3\n",
      "4\n",
      "5\n",
      "6\n",
      "7\n",
      "me11_05122021_06122021\n",
      "0\n",
      "1\n",
      "2\n",
      "3\n",
      "4\n",
      "5\n",
      "6\n",
      "7\n",
      "8\n",
      "me11_07122021_08122021\n",
      "0\n",
      "1\n",
      "2\n",
      "3\n",
      "4\n",
      "5\n",
      "6\n",
      "7\n",
      "me11_09122021_10122021\n",
      "0\n",
      "1\n",
      "2\n",
      "3\n",
      "4\n",
      "5\n",
      "6\n",
      "7\n",
      "8\n",
      "me11_12122021_13122021\n",
      "0\n",
      "1\n",
      "2\n",
      "3\n",
      "4\n",
      "5\n",
      "6\n",
      "7\n",
      "8\n"
     ]
    }
   ],
   "source": [
    "###Tuning booleans for states and phases\n",
    "num_states=4 \n",
    "num_phases=3 \n",
    " \n",
    "p_thr=0.05 ###to account for occasional low num of trials \n",
    "for day_type in ['3_task','combined_ABCDonly']:\n",
    "    for mouse_recday in np.load(Input_folder+day_type+'_days.npy'):\n",
    "        print(mouse_recday) \n",
    "        num_sessions=len(np.load(Input_folder+'awake_session_behaviour_'+mouse_recday+'.npy'))\n",
    "        num_neurons=len(np.load(Input_folder+'Neuron_raw_'+mouse_recday+'_0.npy')) \n",
    "        non_repeat_ses=non_repeat_ses_maker(mouse_recday) \n",
    "        num_nonrepeat_sessions=len(non_repeat_ses)\n",
    "\n",
    "        peak_boolean_all_states=np.zeros((num_sessions,num_neurons,num_states)) \n",
    "        peak_boolean_all_phases=np.zeros((num_sessions,num_neurons,num_phases)) \n",
    "        peak_boolean_all_phases_max=np.zeros((num_sessions,num_neurons,num_phases)) \n",
    "        for ses_ind, session in enumerate(np.arange(num_sessions)): \n",
    "            print(ses_ind)\n",
    "            \n",
    "            z_ses_state=tuning_singletrial_dic2['tuning_z_allstates'][mouse_recday][ses_ind] \n",
    "            if len(z_ses_state)==0:\n",
    "                print('No trials detected')\n",
    "                continue\n",
    "            \n",
    "            p_ses_state=tuning_singletrial_dic2['tuning_p_allstates'][mouse_recday][ses_ind] \n",
    "\n",
    "            z_ses_phase=tuning_singletrial_dic2['tuning_z_allphases'][mouse_recday][ses_ind] \n",
    "\n",
    "\n",
    "            for neuron in np.arange(num_neurons): \n",
    "                peak_boolean_all_states[ses_ind][neuron]=np.logical_and(z_ses_state[neuron]>0,\\\n",
    "                                                                        p_ses_state[neuron]<=p_thr) \n",
    "                peak_boolean_all_phases_max[ses_ind][neuron]=z_ses_phase[neuron]==np.max(z_ses_phase[neuron]) \n",
    "\n",
    "        tuning_singletrial_dic2['tuning_state_boolean'][mouse_recday]=peak_boolean_all_states \n",
    "        tuning_singletrial_dic2['tuning_phase_boolean_max'][mouse_recday]=peak_boolean_all_phases_max "
   ]
  },
  {
   "cell_type": "code",
   "execution_count": null,
   "metadata": {},
   "outputs": [],
   "source": []
  },
  {
   "cell_type": "code",
   "execution_count": null,
   "metadata": {},
   "outputs": [],
   "source": []
  },
  {
   "cell_type": "code",
   "execution_count": 57,
   "metadata": {},
   "outputs": [
    {
     "name": "stdout",
     "output_type": "stream",
     "text": [
      "ab03_01092023_02092023\n",
      "ab03_05092023_06092023\n",
      "ab03_29082023_30082023\n",
      "ah03_12082021_13082021\n",
      "ah03_18082021_19082021\n",
      "ah04_01122021_02122021\n",
      "ah04_05122021_06122021\n",
      "ah04_07122021_08122021\n",
      "ah04_09122021_10122021\n",
      "ah04_14122021_16122021\n",
      "ah07_01092023_02092023\n",
      "ah07_27082023_28082023\n",
      "ah07_29082023_30082023\n",
      "me08_06092021_09092021\n",
      "me08_10092021_11092021\n",
      "me08_12092021_13092021\n",
      "me10_09122021_10122021\n",
      "me10_14122021_15122021\n",
      "me10_17122021_19122021\n",
      "me10_20122021_21122021\n",
      "me11_01122021_02122021\n",
      "me11_05122021_06122021\n",
      "me11_07122021_08122021\n",
      "me11_09122021_10122021\n",
      "me11_12122021_13122021\n"
     ]
    }
   ],
   "source": [
    "###making arrays for split double days \n",
    "day_typeX='3_task_all'\n",
    "day_type='combined_ABCDonly'\n",
    "for mouse_recday in np.load(Input_folder+day_type+'_days.npy'):\n",
    "    print(mouse_recday)\n",
    "    try:\n",
    "        mouse=mouse_recday.split('_',1)[0]\n",
    "        rec_day=mouse_recday.split('_',1)[1]\n",
    "        rec_day1=rec_day.split('_',1)[0]\n",
    "        rec_day2=rec_day.split('_',1)[1]\n",
    "        Date1=rec_day1[-4:]+'-'+rec_day1[2:4]+'-'+rec_day1[:2]\n",
    "        Date2=rec_day2[-4:]+'-'+rec_day2[2:4]+'-'+rec_day2[:2]\n",
    "\n",
    "        mouse_recday1=mouse+'_'+rec_day1\n",
    "        mouse_recday2=mouse+'_'+rec_day2\n",
    "\n",
    "        num_neurons=len(np.load(Input_folder+'Neuron_raw_'+mouse_recday+'_0.npy'))\n",
    "\n",
    "        for mouse_recdayX in [mouse_recday1,mouse_recday2]:\n",
    "            if mouse_recdayX in np.load(Input_folder+'3_task_days.npy'):\n",
    "                continue\n",
    "                \n",
    "            tuning_singletrial_dic2['tuning_state_boolean'][mouse_recdayX]=\\\n",
    "            tuning_singletrial_dic2['tuning_state_boolean'][mouse_recday] \n",
    "            tuning_singletrial_dic2['tuning_phase_boolean_max'][mouse_recdayX]=\\\n",
    "            tuning_singletrial_dic2['tuning_phase_boolean_max'][mouse_recday] \n",
    "            \n",
    "\n",
    "            \n",
    "    except Exception as e:\n",
    "        print(e)\n",
    "\n",
    "        "
   ]
  },
  {
   "cell_type": "code",
   "execution_count": null,
   "metadata": {},
   "outputs": [],
   "source": []
  },
  {
   "cell_type": "code",
   "execution_count": null,
   "metadata": {},
   "outputs": [],
   "source": []
  },
  {
   "cell_type": "code",
   "execution_count": 66,
   "metadata": {},
   "outputs": [
    {
     "name": "stdout",
     "output_type": "stream",
     "text": [
      "ah03_18082021\n"
     ]
    },
    {
     "name": "stderr",
     "output_type": "stream",
     "text": [
      "C:\\Users\\moham\\AppData\\Local\\Temp\\ipykernel_24032\\629937003.py:1004: VisibleDeprecationWarning: Creating an ndarray from ragged nested sequences (which is a list-or-tuple of lists-or-tuples-or ndarrays with different lengths or shapes) is deprecated. If you meant to do this, you must specify 'dtype=object' when creating the ndarray.\n",
      "  return np.asarray([np.asarray(alist[i:j]) for i, j in zip(indices[:-1], indices[1:])])\n"
     ]
    },
    {
     "name": "stdout",
     "output_type": "stream",
     "text": [
      "ah04_06122021\n",
      "ah04_10122021\n",
      "ah04_26112021\n",
      "ah04_30112021\n",
      "me10_08122021\n",
      "me10_16122021\n",
      "me11_05122021\n",
      "me11_07122021\n",
      "me11_08122021\n",
      "me11_30112021\n"
     ]
    }
   ],
   "source": [
    "###computing state tuning using per trial zscore\n",
    "\n",
    "#Tuned_dic=rec_dd()\n",
    "##paramaters\n",
    "num_bins=90\n",
    "num_states=4\n",
    "num_phases=3\n",
    "num_nodes=9\n",
    "num_lags=12\n",
    "smoothing_sigma=10\n",
    "num_iterations=100\n",
    "phase_norm_mean=np.tile(np.repeat(np.arange(num_phases),num_bins/num_phases),num_states)\n",
    "phase_norm_mean_states=np.reshape(phase_norm_mean,(num_states,num_bins))\n",
    "\n",
    "for day_type in ['3_task','combined_ABCDonly']:\n",
    "    for mouse_recday in np.load(Input_folder+day_type+'_days.npy'):\n",
    "        \n",
    "        print(mouse_recday)\n",
    "        mouse=mouse_recday.split('_',1)[0]\n",
    "        awake_sessions_behaviour=np.load(Input_folder+'awake_session_behaviour_'+mouse_recday+'.npy')\n",
    "        awake_sessions=np.load(Input_folder+'awake_session_behaviour_'+mouse_recday+'.npy')\n",
    "        num_sessions=len(awake_sessions_behaviour)\n",
    "        num_neurons=len(np.load(Input_folder+'Neuron_raw_'+mouse_recday+'_0.npy'))\n",
    "        non_repeat_ses=non_repeat_ses_maker(mouse_recday) \n",
    "\n",
    "        found_ses=[]\n",
    "        for ses_ind_ind,ses_ind in enumerate(non_repeat_ses):\n",
    "            try:\n",
    "                Neuron_raw=np.load(Input_folder+'Neuron_raw_'+mouse_recday+'_'+str(ses_ind)+'.npy')\n",
    "                found_ses.append(ses_ind)\n",
    "\n",
    "            except:\n",
    "                print('Files not found for session '+str(ses_ind))\n",
    "                continue\n",
    "        num_non_repeat_ses_found=len(found_ses)\n",
    "\n",
    "\n",
    "        zmax_all=np.zeros((num_neurons,num_non_repeat_ses_found))\n",
    "        zmax_all[:]=np.nan\n",
    "\n",
    "        zmax_all_strict=np.zeros((num_neurons,num_non_repeat_ses_found))\n",
    "        zmax_all_strict[:]=np.nan\n",
    "\n",
    "        corr_mean_max_all=np.zeros((num_neurons,num_non_repeat_ses_found,2))\n",
    "        corr_mean_max_all[:]=np.nan\n",
    "        try:\n",
    "            for ses_ind_ind in np.arange(num_non_repeat_ses_found):\n",
    "                ses_ind_actual=found_ses[ses_ind_ind]\n",
    "\n",
    "                Actual_activity_ses_=np.load(Input_folder+'Neuron_raw_'+mouse_recday+'_'+str(ses_ind_actual)+'.npy')\n",
    "                Actual_activity_ses=Actual_activity_ses_.T\n",
    "\n",
    "                phase_peaks=tuning_singletrial_dic2['tuning_phase_boolean_max'][mouse_recday][ses_ind_actual]\n",
    "                pref_phase_neurons=np.argmax(phase_peaks,axis=1)\n",
    "\n",
    "                Trial_times=np.load(Input_folder+'trialtimes_'+mouse_recday+'_'+str(ses_ind_actual)+'.npy')\n",
    "                Trial_times_conc=np.hstack((np.concatenate(Trial_times[:,:-1]),Trial_times[-1,-1]))//25\n",
    "\n",
    "                for neuron in np.arange(num_neurons):\n",
    "                    pref_phase=pref_phase_neurons[neuron]\n",
    "                    Actual_activity_ses_neuron=Actual_activity_ses[:,neuron]\n",
    "\n",
    "                    Actual_norm=raw_to_norm(Actual_activity_ses_neuron,Trial_times_conc,\\\n",
    "                            smoothing=False,return_mean=False)\n",
    "\n",
    "                    Actual_norm_means=np.vstack(([[np.nanmean(Actual_norm[trial,num_bins*ii:num_bins*(ii+1)]\\\n",
    "                        [phase_norm_mean_states[ii]==pref_phase]) for ii in range(num_states)]\\\n",
    "                                                      for trial in np.arange(len(Actual_norm))]))\n",
    "                    max_state=np.argmax(np.nanmean(Actual_norm_means,axis=0))\n",
    "                    zactivity_prefstate=st.zscore(Actual_norm_means,axis=1)[:,max_state]\n",
    "                    zmax_all[neuron,ses_ind_ind]=st.ttest_1samp(zactivity_prefstate,0)[1]\n",
    "\n",
    "                    zmax_shifted=np.zeros(num_iterations)\n",
    "                    zmax_shifted[:]=np.nan\n",
    "                    for iteration in range(num_iterations):\n",
    "                        shifts=np.random.randint(0,4,len(Actual_norm_means))\n",
    "                        Actual_norm_means_shifted=indep_roll(Actual_norm_means,shifts)\n",
    "                        max_state=np.argmax(np.nanmean(Actual_norm_means_shifted,axis=0))\n",
    "                        zactivity_prefstate=st.zscore(Actual_norm_means_shifted,axis=1)[:,max_state]\n",
    "                        zactivity_prefstate_mean=np.nanmean(zactivity_prefstate)\n",
    "                        zmax_shifted[iteration]=zactivity_prefstate_mean\n",
    "                    mean_zmax_shifted=np.nanmean(zmax_shifted)\n",
    "                    zmax_all_strict[neuron,ses_ind_ind]=st.ttest_1samp(zactivity_prefstate,mean_zmax_shifted)[1]\n",
    "\n",
    "\n",
    "\n",
    "                    Actual_norm_max=raw_to_norm(Actual_activity_ses_neuron,Trial_times_conc,\\\n",
    "                            smoothing=False,return_mean=False,take_max=True)\n",
    "\n",
    "                    Actual_norm_max_means=np.vstack(([[np.nanmean(Actual_norm_max[trial,num_bins*ii:num_bins*(ii+1)]\\\n",
    "                        [phase_norm_mean_states[ii]==pref_phase]) for ii in range(num_states)]\\\n",
    "                                                      for trial in np.arange(len(Actual_norm_max))]))\n",
    "\n",
    "                    r_,p_=st.pearsonr(np.concatenate(Actual_norm_means),np.concatenate(Actual_norm_max_means))\n",
    "                    corr_mean_max_all[neuron,ses_ind_ind]=[r_,p_]\n",
    "\n",
    "            Tuned_dic['State_zmax'][mouse_recday]=zmax_all\n",
    "            Tuned_dic['State_zmax_strict'][mouse_recday]=zmax_all_strict\n",
    "            Tuned_dic['corr_mean_max'][mouse_recday]=corr_mean_max_all\n",
    "        except:\n",
    "            print('Not found')"
   ]
  },
  {
   "cell_type": "code",
   "execution_count": null,
   "metadata": {},
   "outputs": [],
   "source": []
  },
  {
   "cell_type": "code",
   "execution_count": 67,
   "metadata": {},
   "outputs": [
    {
     "name": "stdout",
     "output_type": "stream",
     "text": [
      "ah03_18082021\n",
      "ah04_06122021\n",
      "ah04_10122021\n",
      "ah04_26112021\n",
      "ah04_30112021\n",
      "me10_08122021\n",
      "me10_16122021\n",
      "me11_05122021\n",
      "me11_07122021\n",
      "me11_08122021\n",
      "me11_30112021\n",
      "ab03_01092023_02092023\n",
      "ab03_05092023_06092023\n",
      "ab03_29082023_30082023\n",
      "ah03_12082021_13082021\n",
      "ah03_18082021_19082021\n",
      "ah04_01122021_02122021\n",
      "ah04_05122021_06122021\n",
      "ah04_07122021_08122021\n",
      "ah04_09122021_10122021\n",
      "ah04_14122021_16122021\n",
      "ah07_01092023_02092023\n",
      "ah07_27082023_28082023\n",
      "ah07_29082023_30082023\n",
      "me08_06092021_09092021\n",
      "me08_10092021_11092021\n",
      "me08_12092021_13092021\n",
      "me10_09122021_10122021\n",
      "me10_14122021_15122021\n",
      "me10_17122021_19122021\n",
      "me10_20122021_21122021\n",
      "me11_01122021_02122021\n",
      "me11_05122021_06122021\n",
      "me11_07122021_08122021\n",
      "me11_09122021_10122021\n",
      "me11_12122021_13122021\n"
     ]
    }
   ],
   "source": [
    "for day_type in ['3_task','combined_ABCDonly']:\n",
    "    for mouse_recday in np.load(Input_folder+day_type+'_days.npy'):\n",
    "        print(mouse_recday)\n",
    "        try:\n",
    "         \n",
    "            State_zmax=Tuned_dic['State_zmax'][mouse_recday]\n",
    "\n",
    "            state_bool_zmax=np.sum(State_zmax<0.05,axis=1)>(len(State_zmax.T)/3)\n",
    "            state_bool_zmax_one=np.sum(State_zmax<0.05,axis=1)>1\n",
    "\n",
    "            Tuned_dic['State_zmax_bool'][mouse_recday]=state_bool_zmax\n",
    "            Tuned_dic['State_zmax_bool_one'][mouse_recday]=state_bool_zmax_one\n",
    "            \n",
    "            \n",
    "            state_bool_zmax_strict=np.sum(State_zmax<0.01,axis=1)>(len(State_zmax.T)/3)\n",
    "            state_bool_zmax_one_strict=np.sum(State_zmax<0.01,axis=1)>1\n",
    "            \n",
    "            Tuned_dic['State_zmax_bool_strict'][mouse_recday]=state_bool_zmax_strict\n",
    "            Tuned_dic['State_zmax_bool_one_strict'][mouse_recday]=state_bool_zmax_one_strict\n",
    "        except:\n",
    "            print('Not found')"
   ]
  },
  {
   "cell_type": "code",
   "execution_count": null,
   "metadata": {
    "scrolled": false
   },
   "outputs": [],
   "source": []
  },
  {
   "cell_type": "code",
   "execution_count": 70,
   "metadata": {
    "scrolled": true
   },
   "outputs": [
    {
     "name": "stdout",
     "output_type": "stream",
     "text": [
      "ab03_01092023\n",
      "ab03_02092023\n",
      "ab03_05092023\n",
      "ab03_06092023\n",
      "ab03_29082023\n",
      "ab03_30082023\n",
      "ah03_12082021\n",
      "ah03_13082021\n",
      "ah03_18082021\n",
      "ah03_19082021\n",
      "ah04_01122021\n",
      "ah04_02122021\n",
      "ah04_05122021\n",
      "ah04_06122021\n",
      "ah04_07122021\n",
      "ah04_08122021\n",
      "ah04_09122021\n",
      "ah04_10122021\n",
      "ah04_14122021\n",
      "ah04_16122021\n",
      "ah04_26112021\n",
      "ah04_30112021\n",
      "ah07_01092023\n",
      "ah07_02092023\n",
      "ah07_27082023\n",
      "ah07_28082023\n",
      "ah07_29082023\n",
      "ah07_30082023\n",
      "me08_06092021\n",
      "me08_09092021\n",
      "me08_10092021\n",
      "me08_11092021\n",
      "me08_12092021\n",
      "me08_13092021\n",
      "me10_08122021\n",
      "me10_09122021\n",
      "me10_10122021\n",
      "me10_14122021\n",
      "me10_15122021\n",
      "me10_16122021\n",
      "me10_17122021\n",
      "me10_19122021\n",
      "me10_20122021\n",
      "me10_21122021\n",
      "me11_01122021\n",
      "me11_02122021\n",
      "me11_05122021\n",
      "me11_06122021\n",
      "me11_07122021\n",
      "me11_08122021\n",
      "me11_09122021\n",
      "me11_10122021\n",
      "me11_12122021\n",
      "me11_13122021\n",
      "me11_30112021\n",
      "ab03_01092023_02092023\n",
      "ab03_05092023_06092023\n",
      "ab03_29082023_30082023\n",
      "ah03_12082021_13082021\n",
      "ah03_18082021_19082021\n",
      "ah04_01122021_02122021\n",
      "ah04_05122021_06122021\n",
      "ah04_07122021_08122021\n",
      "ah04_09122021_10122021\n",
      "ah04_14122021_16122021\n",
      "ah07_01092023_02092023\n",
      "ah07_27082023_28082023\n",
      "ah07_29082023_30082023\n",
      "me08_06092021_09092021\n",
      "me08_10092021_11092021\n",
      "me08_12092021_13092021\n",
      "me10_09122021_10122021\n",
      "me10_14122021_15122021\n",
      "5Not found\n",
      "me10_17122021_19122021\n",
      "me10_20122021_21122021\n",
      "me11_01122021_02122021\n",
      "me11_05122021_06122021\n",
      "me11_07122021_08122021\n",
      "me11_09122021_10122021\n",
      "me11_12122021_13122021\n",
      "ab03_21112023_22112023\n",
      "ab03_23112023_24112023\n",
      "ah07_21112023_22112023\n",
      "ah07_23112023_24112023\n"
     ]
    }
   ],
   "source": [
    "###Making spatial maps\n",
    "Place_tuned_dic=rec_dd()\n",
    "for day_type in ['3_task_all','combined_ABCDonly','combined_ABCDE']:\n",
    "    for mouse_recday in np.load(Input_folder+day_type+'_days.npy'):\n",
    "        print(mouse_recday)\n",
    "        non_repeat_ses=non_repeat_ses_maker(mouse_recday)\n",
    "\n",
    "        Neurons_raw_0=np.load(Input_folder+'Neuron_raw_'+mouse_recday+'_0.npy')\n",
    "\n",
    "        FR_maps=np.zeros((len(Neurons_raw_0),len(non_repeat_ses),3,3))\n",
    "        FR_maps[:]=np.nan\n",
    "        for ses_ind_ind, ses_ind in enumerate(non_repeat_ses):\n",
    "            try:\n",
    "                Neurons_raw_=np.load(Input_folder+'Neuron_raw_'+mouse_recday+'_'+str(ses_ind)+'.npy')\n",
    "                Location_=np.load(Input_folder+'Location_raw_'+mouse_recday+'_'+str(ses_ind)+'.npy')\n",
    "            except:\n",
    "                print(str(ses_ind)+'Not found')\n",
    "                continue\n",
    "\n",
    "            Location_=Location_[:len(Neurons_raw_.T)]\n",
    "            Neurons_raw_=Neurons_raw_[:,:len(Location_)]\n",
    "\n",
    "            nodes=(Location_[np.logical_and(Location_<=9,~np.isnan(Location_))]-1).astype(int)\n",
    "\n",
    "            for neuron in np.arange(len(Neurons_raw_)):\n",
    "                neuron_=Neurons_raw_[neuron]\n",
    "                neuron_nodes=neuron_[np.logical_and(Location_<=9,~np.isnan(Location_))]\n",
    "                FR_vector=st.binned_statistic(nodes,neuron_nodes,bins=np.arange(10))[0]\n",
    "                FR_map=np.zeros((3,3))\n",
    "                FR_map[:]=np.nan\n",
    "\n",
    "                for ind in np.arange(len(FR_vector)):\n",
    "                    FR_map[Task_grid[ind,0],Task_grid[ind,1]]=FR_vector[ind]\n",
    "                FR_maps[neuron,ses_ind_ind]=FR_map\n",
    "\n",
    "        cross_ses_corr=np.vstack(([matrix_triangle(np.corrcoef(np.vstack(([np.hstack((FR_maps[neuron][ses_ind]))\\\n",
    "                                                            for ses_ind in np.arange(len(FR_maps[neuron]))]))))\\\n",
    "        for neuron in np.arange(len(FR_maps))]))\n",
    "\n",
    "        min_crosscorr=np.min(cross_ses_corr,axis=1)\n",
    "        corr_min_thr=min_crosscorr>0\n",
    "        p_values=np.hstack(([st.ttest_1samp(cross_ses_corr[neuron],0)[1] for neuron in np.arange(len(cross_ses_corr))]))\n",
    "        corr_p_bool=p_values<0.05\n",
    "\n",
    "        Place_tuned_dic[mouse_recday]=corr_p_bool"
   ]
  },
  {
   "cell_type": "code",
   "execution_count": null,
   "metadata": {},
   "outputs": [],
   "source": []
  },
  {
   "cell_type": "code",
   "execution_count": null,
   "metadata": {},
   "outputs": [],
   "source": []
  },
  {
   "cell_type": "code",
   "execution_count": 72,
   "metadata": {},
   "outputs": [
    {
     "name": "stdout",
     "output_type": "stream",
     "text": [
      "ab03_01092023\n"
     ]
    },
    {
     "name": "stderr",
     "output_type": "stream",
     "text": [
      "C:\\Users\\moham\\anaconda3\\lib\\site-packages\\numpy\\core\\shape_base.py:65: VisibleDeprecationWarning: Creating an ndarray from ragged nested sequences (which is a list-or-tuple of lists-or-tuples-or ndarrays with different lengths or shapes) is deprecated. If you meant to do this, you must specify 'dtype=object' when creating the ndarray.\n",
      "  ary = asanyarray(ary)\n"
     ]
    },
    {
     "name": "stdout",
     "output_type": "stream",
     "text": [
      "ab03_02092023\n",
      "ab03_05092023\n",
      "ab03_06092023\n",
      "ab03_29082023\n",
      "ab03_30082023\n",
      "ah03_12082021\n",
      "ah03_13082021\n",
      "ah03_18082021\n",
      "ah03_19082021\n",
      "ah04_01122021\n",
      "ah04_02122021\n",
      "ah04_05122021\n",
      "ah04_06122021\n",
      "ah04_07122021\n",
      "ah04_08122021\n",
      "ah04_09122021\n",
      "ah04_10122021\n",
      "ah04_14122021\n",
      "ah04_16122021\n",
      "ah04_26112021\n",
      "ah04_30112021\n",
      "ah07_01092023\n",
      "ah07_02092023\n",
      "ah07_27082023\n",
      "ah07_28082023\n",
      "ah07_29082023\n",
      "ah07_30082023\n",
      "me08_06092021\n",
      "me08_09092021\n",
      "me08_10092021\n",
      "me08_11092021\n",
      "me08_12092021\n",
      "me08_13092021\n",
      "me10_08122021\n",
      "me10_09122021\n",
      "me10_10122021\n",
      "me10_14122021\n",
      "me10_15122021\n",
      "me10_16122021\n",
      "me10_17122021\n",
      "me10_19122021\n",
      "me10_20122021\n",
      "me10_21122021\n",
      "me11_01122021\n",
      "me11_02122021\n",
      "me11_05122021\n",
      "me11_06122021\n",
      "me11_07122021\n",
      "me11_08122021\n",
      "me11_09122021\n",
      "me11_10122021\n",
      "me11_12122021\n",
      "me11_13122021\n",
      "me11_30112021\n",
      "ab03_01092023_02092023\n",
      "ab03_05092023_06092023\n",
      "ab03_29082023_30082023\n",
      "ah03_12082021_13082021\n",
      "ah03_18082021_19082021\n",
      "ah04_01122021_02122021\n",
      "ah04_05122021_06122021\n",
      "ah04_07122021_08122021\n",
      "ah04_09122021_10122021\n",
      "ah04_14122021_16122021\n",
      "ah07_01092023_02092023\n",
      "ah07_27082023_28082023\n",
      "ah07_29082023_30082023\n",
      "me08_06092021_09092021\n",
      "me08_10092021_11092021\n",
      "me08_12092021_13092021\n",
      "me10_09122021_10122021\n",
      "me10_14122021_15122021\n",
      "5 not analysed\n",
      "me10_17122021_19122021\n",
      "me10_20122021_21122021\n",
      "me11_01122021_02122021\n",
      "me11_05122021_06122021\n",
      "me11_07122021_08122021\n",
      "me11_09122021_10122021\n",
      "me11_12122021_13122021\n",
      "ab03_21112023_22112023\n",
      "0 not analysed\n",
      "1 not analysed\n",
      "2 not analysed\n",
      "3 not analysed\n",
      "4 not analysed\n",
      "5 not analysed\n",
      "6 not analysed\n",
      "ab03_23112023_24112023\n",
      "0 not analysed\n",
      "1 not analysed\n",
      "2 not analysed\n",
      "3 not analysed\n",
      "4 not analysed\n",
      "5 not analysed\n",
      "6 not analysed\n",
      "7 not analysed\n",
      "ah07_21112023_22112023\n",
      "0 not analysed\n",
      "1 not analysed\n",
      "2 not analysed\n",
      "3 not analysed\n",
      "4 not analysed\n",
      "5 not analysed\n",
      "6 not analysed\n",
      "ah07_23112023_24112023\n",
      "0 not analysed\n",
      "1 not analysed\n",
      "2 not analysed\n",
      "4 not analysed\n",
      "5 not analysed\n",
      "6 not analysed\n"
     ]
    }
   ],
   "source": [
    "###Making phase maps\n",
    "Phase_tuned_dic=rec_dd()\n",
    "num_phases=5 \n",
    "for day_type in ['3_task_all','combined_ABCDonly','combined_ABCDE']:\n",
    "    for mouse_recday in np.load(Input_folder+day_type+'_days.npy'):\n",
    "        print(mouse_recday)\n",
    "        non_repeat_ses=non_repeat_ses_maker(mouse_recday)\n",
    "\n",
    "        Neurons_raw_0=np.load(Input_folder+'Neuron_raw_'+mouse_recday+'_0.npy')\n",
    "\n",
    "        FR_vectors=np.zeros((len(Neurons_raw_0),len(non_repeat_ses),num_phases))\n",
    "        FR_vectors[:]=np.nan\n",
    "        for ses_ind_ind, ses_ind in enumerate(non_repeat_ses):\n",
    "            try:\n",
    "                Neurons_raw_=np.load(Input_folder+'Neuron_raw_'+mouse_recday+'_'+str(ses_ind)+'.npy')\n",
    "                Phases_=np.hstack((np.hstack((Phases_raw_dic[mouse_recday][ses_ind]))))\n",
    "            except:\n",
    "                print(str(ses_ind)+' not analysed')\n",
    "                continue\n",
    "            Phases_=Phases_[:len(Neurons_raw_.T)]\n",
    "            Neurons_raw_=Neurons_raw_[:,:len(Phases_)]\n",
    "\n",
    "\n",
    "            for neuron in np.arange(len(Neurons_raw_)):\n",
    "                neuron_=Neurons_raw_[neuron]\n",
    "                FR_vector=st.binned_statistic(Phases_,neuron_,bins=np.arange(num_phases+1))[0]\n",
    "\n",
    "                FR_vectors[neuron,ses_ind_ind]=FR_vector\n",
    "\n",
    "        cross_ses_corr=np.vstack(([matrix_triangle(np.corrcoef(np.vstack(([np.hstack((FR_vectors[neuron][ses_ind]))\\\n",
    "                                                            for ses_ind in np.arange(len(FR_vectors[neuron]))]))))\\\n",
    "        for neuron in np.arange(len(FR_vectors))]))\n",
    "\n",
    "        min_crosscorr=np.min(cross_ses_corr,axis=1)\n",
    "        corr_min_thr=min_crosscorr>0\n",
    "        p_values=np.hstack(([st.ttest_1samp(cross_ses_corr[neuron],0)[1] for neuron in np.arange(len(cross_ses_corr))]))\n",
    "        corr_p_bool=p_values<0.05\n",
    "\n",
    "        Phase_tuned_dic[mouse_recday]=corr_p_bool"
   ]
  },
  {
   "cell_type": "code",
   "execution_count": null,
   "metadata": {},
   "outputs": [],
   "source": []
  },
  {
   "cell_type": "code",
   "execution_count": null,
   "metadata": {},
   "outputs": [],
   "source": []
  },
  {
   "cell_type": "code",
   "execution_count": 84,
   "metadata": {},
   "outputs": [
    {
     "name": "stdout",
     "output_type": "stream",
     "text": [
      "ab03_01092023_02092023\n",
      "0.9365079365079365\n",
      "0.8095238095238095\n",
      "0.9206349206349206\n",
      "\n",
      "0.9152542372881356\n",
      "\n",
      "ab03_05092023_06092023\n",
      "0.90625\n",
      "0.578125\n",
      "0.90625\n",
      "\n",
      "0.9137931034482759\n",
      "\n",
      "ab03_29082023_30082023\n",
      "0.9142857142857143\n",
      "0.7428571428571429\n",
      "0.9285714285714286\n",
      "\n",
      "0.921875\n",
      "\n",
      "ah03_12082021_13082021\n",
      "0.875\n",
      "0.5625\n",
      "0.5\n",
      "\n",
      "0.5\n",
      "\n",
      "ah03_18082021_19082021\n",
      "0.7333333333333333\n",
      "0.6\n",
      "0.3333333333333333\n",
      "\n",
      "0.36363636363636365\n",
      "\n",
      "ah04_01122021_02122021\n",
      "0.8888888888888888\n",
      "0.4188034188034188\n",
      "0.8547008547008547\n",
      "\n",
      "0.8461538461538461\n",
      "\n",
      "ah04_05122021_06122021\n",
      "0.9035087719298246\n",
      "0.5350877192982456\n",
      "0.7982456140350878\n",
      "\n",
      "0.8155339805825242\n",
      "\n",
      "ah04_07122021_08122021\n",
      "0.6049382716049383\n",
      "0.1728395061728395\n",
      "0.6296296296296297\n",
      "\n",
      "0.5918367346938775\n",
      "\n",
      "ah04_09122021_10122021\n",
      "0.8686868686868687\n",
      "0.35353535353535354\n",
      "0.7171717171717171\n",
      "\n",
      "0.7093023255813954\n",
      "\n",
      "ah04_14122021_16122021\n",
      "0.9\n",
      "0.44285714285714284\n",
      "0.6714285714285714\n",
      "\n",
      "0.6825396825396826\n",
      "\n",
      "ah07_01092023_02092023\n",
      "0.8556701030927835\n",
      "0.8350515463917526\n",
      "0.9278350515463918\n",
      "\n",
      "0.927710843373494\n",
      "\n",
      "ah07_27082023_28082023\n",
      "0.8875\n",
      "0.8\n",
      "0.875\n",
      "\n",
      "0.8591549295774648\n",
      "\n",
      "ah07_29082023_30082023\n",
      "0.8194444444444444\n",
      "0.6805555555555556\n",
      "0.9444444444444444\n",
      "\n",
      "0.9491525423728814\n",
      "\n",
      "me08_06092021_09092021\n",
      "0.8695652173913043\n",
      "0.391304347826087\n",
      "0.8260869565217391\n",
      "\n",
      "0.85\n",
      "\n",
      "me08_10092021_11092021\n",
      "0.8125\n",
      "0.78125\n",
      "0.96875\n",
      "\n",
      "0.9615384615384616\n",
      "\n",
      "me08_12092021_13092021\n",
      "0.9130434782608695\n",
      "0.4782608695652174\n",
      "0.9565217391304348\n",
      "\n",
      "0.9523809523809523\n",
      "\n",
      "me10_09122021_10122021\n",
      "0.35714285714285715\n",
      "0.17857142857142858\n",
      "0.6785714285714286\n",
      "\n",
      "0.6\n",
      "\n",
      "me10_14122021_15122021\n",
      "0.75\n",
      "0.45\n",
      "0.85\n",
      "\n",
      "0.8666666666666667\n",
      "\n",
      "me10_17122021_19122021\n",
      "1.0\n",
      "0.16666666666666666\n",
      "0.6666666666666666\n",
      "\n",
      "0.6666666666666666\n",
      "\n",
      "me10_20122021_21122021\n",
      "0.0\n",
      "0.0\n",
      "1.0\n",
      "\n",
      "nan\n",
      "\n",
      "me11_01122021_02122021\n",
      "0.9056603773584906\n",
      "0.9245283018867925\n",
      "0.7169811320754716\n",
      "\n",
      "0.6875\n",
      "\n",
      "me11_05122021_06122021\n",
      "0.8260869565217391\n",
      "0.8695652173913043\n",
      "0.6739130434782609\n",
      "\n",
      "0.7105263157894737\n",
      "\n",
      "me11_07122021_08122021\n",
      "0.9583333333333334\n",
      "0.9166666666666666\n",
      "0.875\n",
      "\n",
      "0.8695652173913043\n",
      "\n",
      "me11_09122021_10122021\n",
      "0.9230769230769231\n",
      "0.9230769230769231\n",
      "0.7307692307692307\n",
      "\n",
      "0.75\n",
      "\n",
      "me11_12122021_13122021\n",
      "0.5833333333333334\n",
      "0.08333333333333333\n",
      "0.8333333333333334\n",
      "\n",
      "0.8571428571428571\n",
      "\n"
     ]
    },
    {
     "name": "stderr",
     "output_type": "stream",
     "text": [
      "C:\\Users\\moham\\AppData\\Local\\Temp\\ipykernel_24032\\1088796171.py:100: RuntimeWarning: invalid value encountered in long_scalars\n",
      "  print(np.sum(phase_and_place_bool)/np.sum(phase_bool))\n"
     ]
    }
   ],
   "source": [
    "phase_bool_all=[]\n",
    "state_bool_all=[]\n",
    "place_bool_all=[]\n",
    "phase_place_bool_all=[]\n",
    "\n",
    "threshold_state_sessions=0\n",
    "\n",
    "use_zscored=True ##for state tuning\n",
    "lowest_thr=False\n",
    "\n",
    "if use_both==True:\n",
    "    use_permuted=False\n",
    "\n",
    "Tuned_dic2=rec_dd()\n",
    "\n",
    "GLM_dicX=GLM_dic2\n",
    "thr='95'\n",
    "for day_type in ['combined_ABCDonly']:\n",
    "    for mouse_recday in np.load(Input_folder+day_type+'_days.npy'):\n",
    "        print(mouse_recday)\n",
    "\n",
    "        #try:\n",
    "        mean_neuron_betas=GLM_dicX['mean_neuron_betas'][mouse_recday]\n",
    "        p_neuron_betas=GLM_dicX['p_neuron_betas'][mouse_recday]\n",
    "        thr_neuron_beta=GLM_dicX['thr_neuron_betas'][mouse_recday]\n",
    "        percentile_neuron_beta=GLM_dicX['percentile_neuron_betas'][mouse_recday]\n",
    "\n",
    "        \n",
    "\n",
    "        phase_bool_permutation=mean_neuron_betas[:,0]>thr_neuron_beta[:,0]\n",
    "        place_bool_permutation=mean_neuron_betas[:,1]>thr_neuron_beta[:,1]\n",
    "\n",
    "        phase_bool=phase_bool_permutation\n",
    "        place_bool=place_bool_permutation\n",
    "\n",
    "\n",
    "        num_peaks_all=np.vstack(([np.sum(tuning_singletrial_dic2['tuning_state_boolean']\\\n",
    "                                         [mouse_recday][ses_ind],axis=1)\\\n",
    "                      for ses_ind in np.arange(len(tuning_singletrial_dic2['tuning_state_boolean'][mouse_recday]))]))\n",
    "\n",
    "        if use_zscored==True:\n",
    "            if lowest_thr==True:\n",
    "                state_bool=Tuned_dic['State_zmax_bool_one'][mouse_recday]\n",
    "\n",
    "            else:\n",
    "                state_bool=Tuned_dic['State_zmax_bool'][mouse_recday]\n",
    "\n",
    "        else:\n",
    "            if threshold_state_sessions=='half':\n",
    "                state_bool=np.sum(num_peaks_all>0,axis=0)>(len(num_peaks_all)//2)\n",
    "            else:\n",
    "                state_bool=np.sum(num_peaks_all>0,axis=0)>threshold_state_sessions\n",
    "\n",
    "        Tuned_dic['Phase'][mouse_recday]=phase_bool\n",
    "        Tuned_dic['State'][mouse_recday]=state_bool\n",
    "        Tuned_dic['Place'][mouse_recday]=place_bool\n",
    "\n",
    "        for thr in [95,99]:\n",
    "\n",
    "            if thr==99:\n",
    "                phase_bool_ttest=np.logical_and(mean_neuron_betas[:,0]>0,p_neuron_betas[:,0]<0.01)\n",
    "                place_bool_ttest=np.logical_and(mean_neuron_betas[:,1]>0,p_neuron_betas[:,1]<0.01)\n",
    "\n",
    "            else:\n",
    "                phase_bool_ttest=np.logical_and(mean_neuron_betas[:,0]>0,p_neuron_betas[:,0]<0.05)\n",
    "                place_bool_ttest=np.logical_and(mean_neuron_betas[:,1]>0,p_neuron_betas[:,1]<0.05)\n",
    "\n",
    "            if use_permuted==True:\n",
    "                phase_bool2=percentile_neuron_beta[:,0]>thr\n",
    "                place_bool2=percentile_neuron_beta[:,1]>thr\n",
    "\n",
    "\n",
    "\n",
    "            elif use_both==True:\n",
    "                phase_bool2=np.logical_and(percentile_neuron_beta[:,0]>thr, phase_bool_ttest)\n",
    "                place_bool2=np.logical_and(percentile_neuron_beta[:,1]>thr,place_bool_ttest)\n",
    "\n",
    "            else:\n",
    "                phase_bool2=phase_bool_ttest\n",
    "                place_bool2=place_bool_ttest\n",
    "\n",
    "            if thr ==99:\n",
    "                state_bool2=Tuned_dic['State_zmax_bool_strict'][mouse_recday]\n",
    "            elif thr==95:\n",
    "                state_bool2=Tuned_dic['State_zmax_bool'][mouse_recday]\n",
    "\n",
    "            Tuned_dic2['Phase'][str(thr)][mouse_recday]=phase_bool2\n",
    "            Tuned_dic2['Place'][str(thr)][mouse_recday]=place_bool2\n",
    "            Tuned_dic2['State'][str(thr)][mouse_recday]=state_bool2\n",
    "\n",
    "\n",
    "        phase_and_place_bool=np.logical_and(phase_bool,place_bool)\n",
    "        state_place_bool=np.logical_and(phase_bool,state_bool)\n",
    "\n",
    "\n",
    "        print(np.sum(phase_bool)/len(phase_bool))\n",
    "        print(np.sum(state_bool)/len(state_bool))\n",
    "        print(np.sum(place_bool)/len(place_bool))\n",
    "        print('')\n",
    "        print(np.sum(phase_and_place_bool)/np.sum(phase_bool))\n",
    "        print('')\n",
    "\n",
    "        phase_bool_all.append(phase_bool)\n",
    "        state_bool_all.append(state_bool)\n",
    "        place_bool_all.append(place_bool)\n",
    "\n",
    "\n",
    "phase_bool_all=np.concatenate(phase_bool_all)\n",
    "state_bool_all=np.concatenate(state_bool_all)\n",
    "place_bool_all=np.concatenate(place_bool_all)\n"
   ]
  },
  {
   "cell_type": "code",
   "execution_count": null,
   "metadata": {},
   "outputs": [],
   "source": []
  },
  {
   "cell_type": "code",
   "execution_count": null,
   "metadata": {},
   "outputs": [],
   "source": []
  },
  {
   "cell_type": "code",
   "execution_count": null,
   "metadata": {},
   "outputs": [],
   "source": []
  },
  {
   "cell_type": "code",
   "execution_count": 90,
   "metadata": {},
   "outputs": [
    {
     "name": "stdout",
     "output_type": "stream",
     "text": [
      "ab03_01092023_02092023\n",
      "ab03_05092023_06092023\n",
      "ab03_29082023_30082023\n",
      "ah03_12082021_13082021\n",
      "ah03_18082021_19082021\n",
      "ah04_01122021_02122021\n",
      "ah04_05122021_06122021\n",
      "ah04_07122021_08122021\n",
      "ah04_09122021_10122021\n",
      "ah04_14122021_16122021\n",
      "ah07_01092023_02092023\n",
      "ah07_27082023_28082023\n",
      "ah07_29082023_30082023\n",
      "me08_06092021_09092021\n",
      "me08_10092021_11092021\n",
      "me08_12092021_13092021\n",
      "me10_09122021_10122021\n",
      "me10_14122021_15122021\n",
      "me10_17122021_19122021\n",
      "me10_20122021_21122021\n",
      "me11_01122021_02122021\n",
      "me11_05122021_06122021\n",
      "me11_07122021_08122021\n",
      "me11_09122021_10122021\n",
      "me11_12122021_13122021\n"
     ]
    }
   ],
   "source": [
    "###making arrays for split double days \n",
    "day_type='combined_ABCDonly'\n",
    "day_typeX='3_task'\n",
    "for mouse_recday in np.load(Input_folder+day_type+'_days.npy'):\n",
    "    print(mouse_recday)\n",
    "    try:\n",
    "        mouse=mouse_recday.split('_',1)[0]\n",
    "        rec_day=mouse_recday.split('_',1)[1]\n",
    "        rec_day1=rec_day.split('_',1)[0]\n",
    "        rec_day2=rec_day.split('_',1)[1]\n",
    "        Date1=rec_day1[-4:]+'-'+rec_day1[2:4]+'-'+rec_day1[:2]\n",
    "        Date2=rec_day2[-4:]+'-'+rec_day2[2:4]+'-'+rec_day2[:2]\n",
    "\n",
    "        mouse_recday1=mouse+'_'+rec_day1\n",
    "        mouse_recday2=mouse+'_'+rec_day2\n",
    "\n",
    "        num_neurons=len(np.load(Input_folder+'Neuron_raw_'+mouse_recday+'_0.npy'))\n",
    "\n",
    "        for mouse_recdayX in [mouse_recday1,mouse_recday2]:\n",
    "            \n",
    "            if mouse_recdayX in np.load(Input_folder+day_typeX+'_days.npy'):\n",
    "                continue\n",
    "            \n",
    "            \n",
    "            for keyX in list(Tuned_dic.keys()):\n",
    "                Tuned_dic[keyX][mouse_recdayX]=Tuned_dic[keyX][mouse_recday]\n",
    "                \n",
    "            for keyX in list(Tuned_dic2.keys()):\n",
    "                for thr_X in Tuned_dic2[keyX].keys():\n",
    "                    Tuned_dic2[keyX][thr_X][mouse_recdayX]=Tuned_dic2[keyX][thr_X][mouse_recday]\n",
    "                \n",
    "            for keyX in list(GLM_dic2.keys()):\n",
    "                GLM_dic2[keyX][mouse_recdayX]=GLM_dic2[keyX][mouse_recday]\n",
    "            \n",
    "            for keyX in list(tuning_singletrial_dic2.keys()):\n",
    "                tuning_singletrial_dic2[keyX][mouse_recdayX]=tuning_singletrial_dic2[keyX][mouse_recday]\n",
    "                \n",
    "\n",
    "            \n",
    "    except Exception as e:\n",
    "        print(e)"
   ]
  },
  {
   "cell_type": "code",
   "execution_count": 94,
   "metadata": {
    "scrolled": false
   },
   "outputs": [
    {
     "name": "stdout",
     "output_type": "stream",
     "text": [
      "\n",
      "95\n",
      "Number of neurons: 2182\n",
      "Number of phase neurons: 1825\n",
      "Number of phase_state neurons: 1162\n",
      "Number of state neurons: 1287\n",
      "Proportion phase: 0.8363886342804766\n",
      "(52.29116080646051, 0.0)\n",
      "Proportion place: 0.8157653528872594\n",
      "(51.0522914923998, 0.0)\n",
      "Proportion state: 0.5898258478460129\n",
      "(38.23076637294771, 0.0)\n",
      "Proportion state of phase: 0.6367123287671232\n",
      "(37.32538453563195, 0.0)\n",
      "Proportion place of phase-state: 0.8683304647160068\n",
      "(39.58220522472573, 0.0)\n",
      "Proportion phase of state: 0.9028749028749029\n",
      "(43.31839703358442, 0.0)\n"
     ]
    },
    {
     "data": {
      "image/png": "[encoded data removed]",
      "text/plain": [
       "<Figure size 640x480 with 1 Axes>"
      ]
     },
     "metadata": {},
     "output_type": "display_data"
    },
    {
     "data": {
      "image/png": "[encoded data removed]",
      "text/plain": [
       "<Figure size 640x480 with 1 Axes>"
      ]
     },
     "metadata": {},
     "output_type": "display_data"
    },
    {
     "data": {
      "image/png": "[encoded data removed]",
      "text/plain": [
       "<Figure size 640x480 with 1 Axes>"
      ]
     },
     "metadata": {},
     "output_type": "display_data"
    },
    {
     "name": "stdout",
     "output_type": "stream",
     "text": [
      "_______\n",
      "Number of state neurons: 1287\n"
     ]
    },
    {
     "data": {
      "image/png": "[encoded data removed]",
      "text/plain": [
       "<Figure size 640x480 with 1 Axes>"
      ]
     },
     "metadata": {},
     "output_type": "display_data"
    },
    {
     "name": "stdout",
     "output_type": "stream",
     "text": [
      "_______\n",
      "\n",
      "99\n",
      "Number of neurons: 2182\n",
      "Number of phase neurons: 1701\n",
      "Number of phase_state neurons: 746\n",
      "Number of state neurons: 860\n",
      "Proportion phase: 0.7795600366636114\n",
      "(48.91428396522619, 0.0)\n",
      "Proportion place: 0.7493125572868927\n",
      "(47.15991553838689, 0.0)\n",
      "Proportion state: 0.39413382218148485\n",
      "(27.352720651593526, 0.0)\n",
      "Proportion state of phase: 0.4385655496766608\n",
      "(26.373961590614858, 0.0)\n",
      "Proportion place of phase-state: 0.8337801608579088\n",
      "(30.48117365696225, 0.0)\n",
      "Proportion phase of state: 0.8674418604651163\n",
      "(34.01779866033581, 0.0)\n"
     ]
    },
    {
     "data": {
      "image/png": "[encoded data removed]",
      "text/plain": [
       "<Figure size 640x480 with 1 Axes>"
      ]
     },
     "metadata": {},
     "output_type": "display_data"
    },
    {
     "data": {
      "image/png": "[encoded data removed]",
      "text/plain": [
       "<Figure size 640x480 with 1 Axes>"
      ]
     },
     "metadata": {},
     "output_type": "display_data"
    },
    {
     "data": {
      "image/png": "[encoded data removed]",
      "text/plain": [
       "<Figure size 640x480 with 1 Axes>"
      ]
     },
     "metadata": {},
     "output_type": "display_data"
    },
    {
     "name": "stdout",
     "output_type": "stream",
     "text": [
      "_______\n",
      "Number of state neurons: 860\n"
     ]
    },
    {
     "data": {
      "image/png": "[encoded data removed]",
      "text/plain": [
       "<Figure size 640x480 with 1 Axes>"
      ]
     },
     "metadata": {},
     "output_type": "display_data"
    },
    {
     "name": "stdout",
     "output_type": "stream",
     "text": [
      "_______\n"
     ]
    }
   ],
   "source": [
    "###Plotting neuron proportions across single day\n",
    "use_both=False\n",
    "day_type='3_task_all'\n",
    "for thr in [95,99]:\n",
    "    print('')\n",
    "    print(str(thr))\n",
    "    percentile_neuron_bool_all=[]\n",
    "    for mouse_recday in np.load(Input_folder+day_type+'_days.npy'):\n",
    "        \n",
    "        mouse=mouse_recday.split('_',1)[0]\n",
    "        cohort=Mice_cohort_dic[mouse]\n",
    "\n",
    "        phase_bool1=Tuned_dic2['Phase'][str(thr)][mouse_recday]\n",
    "        \n",
    "        if len(phase_bool1)==0:\n",
    "            continue\n",
    "        place_bool1=Tuned_dic2['Place'][str(thr)][mouse_recday]\n",
    "        state_bool=Tuned_dic2['State'][str(thr)][mouse_recday]\n",
    "        \n",
    "        phase_bool2=Phase_tuned_dic[mouse_recday]\n",
    "        place_bool2=Place_tuned_dic[mouse_recday]\n",
    "        \n",
    "        if use_both==True:\n",
    "            phase_bool=np.logical_and(phase_bool1,phase_bool2)\n",
    "            place_bool=np.logical_and(place_bool1,place_bool2)\n",
    "            \n",
    "            Tuned_dic2['Phase_strict'][str(thr)][mouse_recday]=phase_bool\n",
    "            Tuned_dic2['Place_strict'][str(thr)][mouse_recday]=place_bool\n",
    "            \n",
    "            \n",
    "        else:\n",
    "            phase_bool=phase_bool1\n",
    "            place_bool=place_bool1\n",
    "            \n",
    "        \n",
    "            \n",
    "        percentile_neuron_bool=np.column_stack((phase_bool,place_bool,state_bool))\n",
    "\n",
    "        percentile_neuron_bool_all.append(percentile_neuron_bool)\n",
    "\n",
    "    percentile_neuron_bool_all=np.vstack((percentile_neuron_bool_all))\n",
    "\n",
    "    prop_phase=np.sum(percentile_neuron_bool_all[:,0])/len(percentile_neuron_bool_all[:,0])\n",
    "    prop_place=np.sum(percentile_neuron_bool_all[:,1])/len(percentile_neuron_bool_all[:,1])\n",
    "    prop_state=np.sum(percentile_neuron_bool_all[:,2])/len(percentile_neuron_bool_all[:,2])\n",
    "    \n",
    "    phase_state_bool=np.logical_and(percentile_neuron_bool_all[:,0],percentile_neuron_bool_all[:,2])\n",
    "    phase_state_place_bool=np.logical_and(phase_state_bool,percentile_neuron_bool_all[:,1])\n",
    "    prop_state_of_phase=np.sum(phase_state_bool)/np.sum(percentile_neuron_bool_all[:,0])\n",
    "    prop_place_of_phasestate=np.sum(phase_state_place_bool)/np.sum(phase_state_bool)\n",
    "    prop_phase_of_state=np.sum(phase_state_bool)/np.sum(percentile_neuron_bool_all[:,2])\n",
    "    \n",
    "    print('Number of neurons: '+str(len(percentile_neuron_bool_all)))\n",
    "    print('Number of phase neurons: '+str(np.sum(percentile_neuron_bool_all[:,0])))\n",
    "    print('Number of phase_state neurons: '+str(np.sum(phase_state_bool)))\n",
    "    print('Number of state neurons: '+str(np.sum(percentile_neuron_bool_all[:,2])))\n",
    "    \n",
    "    print('Proportion phase: '+str(prop_phase))\n",
    "    print(two_proportions_test(np.sum(percentile_neuron_bool_all[:,0]), len(percentile_neuron_bool_all[:,0]),\\\n",
    "                           int(len(percentile_neuron_bool_all[:,0])*0.05), len(percentile_neuron_bool_all[:,0])))\n",
    "    print('Proportion place: '+str(prop_place))\n",
    "    print(two_proportions_test(np.sum(percentile_neuron_bool_all[:,1]), len(percentile_neuron_bool_all[:,1]),\\\n",
    "                           int(len(percentile_neuron_bool_all[:,1])*0.05), len(percentile_neuron_bool_all[:,1])))\n",
    "    print('Proportion state: '+str(prop_state))\n",
    "    print(two_proportions_test(np.sum(percentile_neuron_bool_all[:,2]), len(percentile_neuron_bool_all[:,2]),\\\n",
    "                           int(len(percentile_neuron_bool_all[:,2])*0.05), len(percentile_neuron_bool_all[:,2])))\n",
    "    \n",
    "    print('Proportion state of phase: '+str(prop_state_of_phase))\n",
    "    print(two_proportions_test(np.sum(phase_state_bool), np.sum(percentile_neuron_bool_all[:,0]),\\\n",
    "                           int(np.sum(percentile_neuron_bool_all[:,0]))*0.05, np.sum(percentile_neuron_bool_all[:,0])))\n",
    "    print('Proportion place of phase-state: '+str(prop_place_of_phasestate))\n",
    "    print(two_proportions_test(np.sum(phase_state_place_bool), np.sum(phase_state_bool),\\\n",
    "                           int(np.sum(phase_state_bool))*0.05, np.sum(phase_state_bool)))\n",
    "    \n",
    "    print('Proportion phase of state: '+str(prop_phase_of_state))\n",
    "    print(two_proportions_test(np.sum(phase_state_bool), np.sum(percentile_neuron_bool_all[:,2]),\\\n",
    "                           int(np.sum(percentile_neuron_bool_all[:,2]))*0.05, np.sum(percentile_neuron_bool_all[:,2])))\n",
    "    \n",
    "    vals=[np.sum(percentile_neuron_bool_all[:,0]), len(percentile_neuron_bool_all)-np.sum(percentile_neuron_bool_all[:,0])]\n",
    "    colors=['lightgreen','grey']\n",
    "    plt.pie(vals, colors=colors)\n",
    "    plt.savefig(Output_folder+'All_phase_pie'+str(thr)+'.svg' , bbox_inches = 'tight', pad_inches = 0)\n",
    "    plt.show()\n",
    "\n",
    "    vals=[np.sum(phase_state_bool), np.sum(percentile_neuron_bool_all[:,0])-np.sum(phase_state_bool)]\n",
    "    colors=['lightblue','grey']\n",
    "    plt.pie(vals, colors=colors)\n",
    "    plt.savefig(Output_folder+'Phase_state_pie'+str(thr)+'.svg' , bbox_inches = 'tight', pad_inches = 0)\n",
    "    plt.show()\n",
    "\n",
    "    vals=[np.sum(phase_state_place_bool), np.sum(phase_state_bool)-np.sum(phase_state_place_bool)]\n",
    "    colors=['orange','grey']\n",
    "    plt.pie(vals, colors=colors)\n",
    "    plt.savefig(Output_folder+'State_place_pie'+str(thr)+'.svg' , bbox_inches = 'tight', pad_inches = 0)\n",
    "    plt.show()\n",
    "    print('_______')\n",
    "    \n",
    "    \n",
    "    \n",
    "    print('Number of state neurons: '+str(np.sum(percentile_neuron_bool_all[:,2])))\n",
    "    vals=[np.sum(phase_state_bool), np.sum(percentile_neuron_bool_all[:,2])-np.sum(phase_state_bool)]\n",
    "    colors=['lightblue','lightgreen']\n",
    "    plt.pie(vals, colors=colors)\n",
    "    plt.savefig(Output_folder+'State_phase_pie'+str(thr)+'.svg' , bbox_inches = 'tight', pad_inches = 0)\n",
    "    plt.show()\n",
    "    print('_______')"
   ]
  },
  {
   "cell_type": "code",
   "execution_count": null,
   "metadata": {},
   "outputs": [],
   "source": []
  },
  {
   "cell_type": "code",
   "execution_count": 95,
   "metadata": {},
   "outputs": [],
   "source": [
    "for day_type in ['3_task_all','combined_ABCDonly']:\n",
    "    for mouse_recday in np.load(Input_folder+day_type+'_days.npy'):\n",
    "        Goal_progress_strict=Tuned_dic2['Phase_strict']['95'][mouse_recday]\n",
    "        Place_strict=Tuned_dic2['Place_strict']['95'][mouse_recday]\n",
    "        State_strict=Tuned_dic['State_zmax_bool_strict'][mouse_recday]\n",
    "        \n",
    "        \n",
    "        \n",
    "        Place=Tuned_dic2['Place']['95'][mouse_recday]\n",
    "        Goal_progress=Tuned_dic2['Phase']['95'][mouse_recday]\n",
    "        State=Tuned_dic['State_zmax_bool'][mouse_recday]\n",
    "        \n",
    "        for measure, arrayX in {'Place':Place,'Goal_progress':Goal_progress,'State':State,\\\n",
    "                'Place_strict':Place_strict,'Goal_progress_strict':Goal_progress_strict,\\\n",
    "                                'State_strict':State_strict}.items():\n",
    "            np.save(Input_folder+measure+'_'+mouse_recday+'.npy',arrayX)\n",
    "        \n",
    "        \n",
    "        "
   ]
  },
  {
   "cell_type": "code",
   "execution_count": null,
   "metadata": {},
   "outputs": [],
   "source": []
  },
  {
   "cell_type": "code",
   "execution_count": 96,
   "metadata": {},
   "outputs": [
    {
     "name": "stdout",
     "output_type": "stream",
     "text": [
      "phase cells: 0.8482428115015974\n",
      "state cells: 0.5894568690095847\n",
      "place cells: 0.8099041533546326\n",
      "\n",
      "state cells as proportion of phase cells: 0.632768361581921\n",
      "\n",
      "place cells as proportion of phase/state cells: 0.8601190476190477\n",
      "1252\n"
     ]
    }
   ],
   "source": [
    "print('phase cells: '+str(np.sum(phase_bool_all)/len(phase_bool_all)))\n",
    "print('state cells: '+str(np.sum(state_bool_all)/len(state_bool_all)))\n",
    "print('place cells: '+str(np.sum(place_bool_all)/len(place_bool_all)))\n",
    "\n",
    "print('')\n",
    "\n",
    "phase_state_bool=np.logical_and(phase_bool_all,state_bool_all)\n",
    "print('state cells as proportion of phase cells: '+str(np.sum(phase_state_bool)/np.sum(phase_bool_all)))\n",
    "\n",
    "phase_place_bool=np.logical_and(phase_bool_all,place_bool_all)\n",
    "\n",
    "phase_state_unique=np.logical_and(phase_state_bool,~phase_place_bool)\n",
    "phase_place_unique=np.logical_and(phase_place_bool,~phase_state_bool)\n",
    "\n",
    "print('')\n",
    "\n",
    "phase_place_and_state=np.logical_and(phase_place_bool,phase_state_bool)\n",
    "print('place cells as proportion of phase/state cells: '+str(np.sum(phase_place_and_state)/np.sum(phase_state_bool)))\n",
    "\n",
    "print(len(phase_bool_all))"
   ]
  },
  {
   "cell_type": "code",
   "execution_count": null,
   "metadata": {},
   "outputs": [],
   "source": []
  },
  {
   "cell_type": "code",
   "execution_count": 98,
   "metadata": {
    "scrolled": false
   },
   "outputs": [
    {
     "data": {
      "image/png": "[encoded data removed]",
      "text/plain": [
       "<Figure size 800x600 with 1 Axes>"
      ]
     },
     "metadata": {},
     "output_type": "display_data"
    },
    {
     "name": "stdout",
     "output_type": "stream",
     "text": [
      "1252\n",
      "TtestResult(statistic=22.51044659605891, pvalue=1.741187053117052e-94, df=1251)\n",
      "\n"
     ]
    },
    {
     "data": {
      "image/png": "[encoded data removed]",
      "text/plain": [
       "<Figure size 800x600 with 1 Axes>"
      ]
     },
     "metadata": {},
     "output_type": "display_data"
    },
    {
     "name": "stdout",
     "output_type": "stream",
     "text": [
      "1252\n",
      "TtestResult(statistic=25.912938200270325, pvalue=7.241292504850983e-119, df=1251)\n",
      "\n"
     ]
    }
   ],
   "source": [
    "day_type='combined_ABCDonly'\n",
    "\n",
    "factor=40 ###because FR calculated in 25 ms bins \n",
    "phase_place_betas=np.vstack(([GLM_dic2['mean_neuron_betas'][mouse_recday] for mouse_recday\\\n",
    "                              in np.load(Input_folder+day_type+'_days.npy')]))\n",
    "phase_betas=phase_place_betas[:,0]\n",
    "place_betas=phase_place_betas[:,1]\n",
    "plt.rcParams[\"figure.figsize\"] = (8,6)\n",
    "plt.rcParams['axes.linewidth'] = 4\n",
    "plt.rcParams['axes.spines.right'] = False\n",
    "plt.rcParams['axes.spines.top'] = False\n",
    "plt.hist(phase_betas*factor,bins=50,color='grey')\n",
    "plt.axvline(0,color='black',ls='dashed')\n",
    "plt.tick_params(axis='both',  labelsize=20)\n",
    "plt.tick_params(width=2, length=6)\n",
    "plt.savefig(Output_folder+'Phase_betas.svg' , bbox_inches = 'tight', pad_inches = 0)\n",
    "plt.show()\n",
    "print(len(phase_betas))\n",
    "print(st.ttest_1samp(phase_betas,0))\n",
    "print('')\n",
    "\n",
    "plt.hist(place_betas*factor,bins=50,color='grey')\n",
    "plt.axvline(0,color='black',ls='dashed')\n",
    "plt.tick_params(axis='both',  labelsize=20)\n",
    "plt.tick_params(width=2, length=6)\n",
    "plt.savefig(Output_folder+'Place_betas.svg' , bbox_inches = 'tight', pad_inches = 0)\n",
    "plt.show()\n",
    "print(len(place_betas))\n",
    "print(st.ttest_1samp(place_betas,0))\n",
    "print('')\n"
   ]
  },
  {
   "cell_type": "code",
   "execution_count": null,
   "metadata": {},
   "outputs": [],
   "source": []
  },
  {
   "cell_type": "code",
   "execution_count": 100,
   "metadata": {},
   "outputs": [
    {
     "name": "stdout",
     "output_type": "stream",
     "text": [
      "Speed\n"
     ]
    },
    {
     "data": {
      "image/png": "[encoded data removed]",
      "text/plain": [
       "<Figure size 800x600 with 1 Axes>"
      ]
     },
     "metadata": {},
     "output_type": "display_data"
    },
    {
     "name": "stdout",
     "output_type": "stream",
     "text": [
      "1252\n",
      "TtestResult(statistic=3.479154882847542, pvalue=0.000520284452846498, df=1251)\n",
      "\n",
      "Acceleration\n"
     ]
    },
    {
     "data": {
      "image/png": "[encoded data removed]",
      "text/plain": [
       "<Figure size 800x600 with 1 Axes>"
      ]
     },
     "metadata": {},
     "output_type": "display_data"
    },
    {
     "name": "stdout",
     "output_type": "stream",
     "text": [
      "1252\n",
      "TtestResult(statistic=-0.7712529260201972, pvalue=0.44070267431461463, df=1251)\n",
      "\n"
     ]
    }
   ],
   "source": [
    "day_type='combined_ABCDonly'\n",
    "factor=40 ###because FR calculated in 25 ms bins \n",
    "\n",
    "\n",
    "print('Speed')\n",
    "speed_betas=np.hstack(([np.nanmean(GLM_dic2['coeffs_all'][mouse_recday],axis=1)[:,4]\\\n",
    "for mouse_recday in np.load(Input_folder+day_type+'_days.npy')]))\n",
    "\n",
    "plt.hist(speed_betas*factor,bins=50,color='grey')\n",
    "plt.axvline(0,color='black',ls='dashed')\n",
    "plt.tick_params(axis='both',  labelsize=20)\n",
    "plt.tick_params(width=2, length=6)\n",
    "plt.savefig(Output_folder+'Speed_betas.svg' , bbox_inches = 'tight', pad_inches = 0)\n",
    "plt.show()\n",
    "print(len(speed_betas))\n",
    "print(st.ttest_1samp(speed_betas,0))\n",
    "print('')\n",
    "\n",
    "print('Acceleration')\n",
    "acceleration_betas=np.hstack(([np.nanmean(GLM_dic2['coeffs_all'][mouse_recday],axis=1)[:,5]\\\n",
    "for mouse_recday in np.load(Input_folder+day_type+'_days.npy')]))\n",
    "\n",
    "plt.hist(acceleration_betas*factor,bins=50,color='grey')\n",
    "plt.axvline(0,color='black',ls='dashed')\n",
    "plt.tick_params(axis='both',  labelsize=20)\n",
    "plt.tick_params(width=2, length=6)\n",
    "plt.savefig(Output_folder+'Acceleration_betas.svg' , bbox_inches = 'tight', pad_inches = 0)\n",
    "plt.show()\n",
    "print(len(acceleration_betas))\n",
    "print(st.ttest_1samp(acceleration_betas,0))\n",
    "print('')"
   ]
  },
  {
   "cell_type": "code",
   "execution_count": null,
   "metadata": {},
   "outputs": [],
   "source": []
  },
  {
   "cell_type": "code",
   "execution_count": null,
   "metadata": {},
   "outputs": [],
   "source": []
  },
  {
   "cell_type": "code",
   "execution_count": 104,
   "metadata": {},
   "outputs": [
    {
     "name": "stdout",
     "output_type": "stream",
     "text": [
      "ab03_01092023_02092023\n",
      "ab03_05092023_06092023\n",
      "ab03_29082023_30082023\n",
      "ah03_12082021_13082021\n",
      "ah03_18082021_19082021\n",
      "ah04_01122021_02122021\n",
      "ah04_05122021_06122021\n",
      "ah04_07122021_08122021\n",
      "ah04_09122021_10122021\n",
      "ah04_14122021_16122021\n",
      "ah07_01092023_02092023\n",
      "ah07_27082023_28082023\n",
      "ah07_29082023_30082023\n",
      "me08_06092021_09092021\n",
      "me08_10092021_11092021\n",
      "me08_12092021_13092021\n",
      "me10_09122021_10122021\n",
      "me10_14122021_15122021\n",
      "me10_17122021_19122021\n",
      "me10_20122021_21122021\n",
      "me11_01122021_02122021\n",
      "me11_05122021_06122021\n",
      "me11_07122021_08122021\n",
      "me11_09122021_10122021\n",
      "me11_12122021_13122021\n"
     ]
    }
   ],
   "source": [
    "###making arrays for split double days \n",
    "day_type='combined_ABCDonly'\n",
    "for mouse_recday in np.load(Input_folder+day_type+'_days.npy'):\n",
    "    print(mouse_recday)\n",
    "    try:\n",
    "        mouse=mouse_recday.split('_',1)[0]\n",
    "        rec_day=mouse_recday.split('_',1)[1]\n",
    "        rec_day1=rec_day.split('_',1)[0]\n",
    "        rec_day2=rec_day.split('_',1)[1]\n",
    "        Date1=rec_day1[-4:]+'-'+rec_day1[2:4]+'-'+rec_day1[:2]\n",
    "        Date2=rec_day2[-4:]+'-'+rec_day2[2:4]+'-'+rec_day2[:2]\n",
    "\n",
    "        mouse_recday1=mouse+'_'+rec_day1\n",
    "        mouse_recday2=mouse+'_'+rec_day2\n",
    "\n",
    "        num_neurons=len(np.load(Input_folder+'Neuron_raw_'+mouse_recday+'_0.npy'))\n",
    "\n",
    "        for mouse_recdayX in [mouse_recday1,mouse_recday2]:\n",
    "            day_typeX='3_task'\n",
    "            if mouse_recdayX in np.load(Input_folder+day_typeX+'_days.npy'):\n",
    "                continue\n",
    "            \n",
    "            \n",
    "            for keyX in list(Tuned_dic.keys()):\n",
    "                Tuned_dic[keyX][mouse_recdayX]=Tuned_dic[keyX][mouse_recday]\n",
    "                \n",
    "            for keyX in list(Tuned_dic2.keys()):\n",
    "                for thr_X in Tuned_dic2[keyX].keys():\n",
    "                    Tuned_dic2[keyX][thr_X][mouse_recdayX]=Tuned_dic2[keyX][thr_X][mouse_recday]\n",
    "                \n",
    "            for keyX in list(GLM_dic2.keys()):\n",
    "                GLM_dic2[keyX][mouse_recdayX]=GLM_dic2[keyX][mouse_recday]\n",
    "            \n",
    "            for keyX in list(tuning_singletrial_dic2.keys()):\n",
    "                tuning_singletrial_dic2[keyX][mouse_recdayX]=tuning_singletrial_dic2[keyX][mouse_recday]\n",
    "                \n",
    "\n",
    "            \n",
    "    except Exception as e:\n",
    "        print(e)"
   ]
  },
  {
   "cell_type": "code",
   "execution_count": null,
   "metadata": {},
   "outputs": [],
   "source": []
  },
  {
   "cell_type": "code",
   "execution_count": null,
   "metadata": {},
   "outputs": [],
   "source": []
  },
  {
   "cell_type": "code",
   "execution_count": 105,
   "metadata": {},
   "outputs": [
    {
     "name": "stdout",
     "output_type": "stream",
     "text": [
      "Phase\n",
      "0.8482428115015974\n",
      "(40.15247838340706, 0.0)\n",
      "State\n",
      "0.5894568690095847\n",
      "(28.940904771885968, 0.0)\n",
      "Phase_state\n",
      "0.536741214057508\n",
      "(26.747373281706665, 0.0)\n",
      "Phase_state_place\n",
      "0.46166134185303515\n",
      "(23.605601090904205, 0.0)\n",
      "Phase_state_noplace\n",
      "0.07507987220447285\n",
      "(2.591536806727433, 0.009554832011820391)\n",
      "\n",
      "State cells as proportion of phase cells\n",
      "1062\n",
      "0.632768361581921\n",
      "(28.320795708893847, 0.0)\n",
      "Place cells as proportion of phase-state cells\n",
      "672\n",
      "0.8601190476190477\n",
      "(29.820151442883763, 0.0)\n",
      "Non place cells as proportion of phase-state cells\n",
      "672\n",
      "0.13988095238095238\n",
      "(5.688297731879958, 1.2831197215845691e-08)\n",
      "Phase-state cells as proportion of state cells\n",
      "738\n",
      "0.9105691056910569\n",
      "(33.136226911015456, 0.0)\n"
     ]
    },
    {
     "data": {
      "image/png": "[encoded data removed]",
      "text/plain": [
       "<Figure size 800x600 with 1 Axes>"
      ]
     },
     "metadata": {},
     "output_type": "display_data"
    }
   ],
   "source": [
    "all_cells=np.arange(len(phase_bool_all))\n",
    "phase_cells=np.where(phase_bool_all==True)[0]\n",
    "state_cells=np.where(state_bool_all==True)[0]\n",
    "place_cells=np.where(place_bool_all==True)[0]\n",
    "\n",
    "\n",
    "non_phase_cells=np.where(phase_bool_all==False)[0]\n",
    "non_state_cells=np.where(state_bool_all==False)[0]\n",
    "non_place_cells=np.where(place_bool_all==False)[0]\n",
    "\n",
    "\n",
    "phase_state_cells=np.intersect1d(phase_cells,state_cells)\n",
    "phase_state_place_cells=np.intersect1d(phase_state_cells,place_cells)\n",
    "phase_state_nonplace_cells=np.intersect1d(phase_state_cells,non_place_cells)\n",
    "\n",
    "cell_type_dic={'Phase':phase_cells,'State':state_cells,'Phase_state':phase_state_cells,\\\n",
    "               'Phase_state_place':phase_state_place_cells,\\\n",
    "                    'Phase_state_noplace':phase_state_nonplace_cells}\n",
    "\n",
    "for name, arrayX in cell_type_dic.items():\n",
    "    print(name)\n",
    "    print(len(arrayX)/len(all_cells))\n",
    "    print(two_proportions_test(len(arrayX), len(all_cells), len(all_cells)*0.05, len(all_cells)))\n",
    "print('')\n",
    "\n",
    "\n",
    "print('State cells as proportion of phase cells')\n",
    "print(len(phase_cells))\n",
    "print(len(phase_state_cells)/len(phase_cells))\n",
    "print(two_proportions_test(len(phase_state_cells), len(phase_cells), len(phase_cells)*0.05, len(phase_cells)))\n",
    "\n",
    "print('Place cells as proportion of phase-state cells')\n",
    "print(len(phase_state_cells))\n",
    "print(len(phase_state_place_cells)/len(phase_state_cells))\n",
    "print(two_proportions_test(len(phase_state_place_cells), len(phase_state_cells),\\\n",
    "                           len(phase_state_cells)*0.05, len(phase_state_cells)))\n",
    "\n",
    "print('Non place cells as proportion of phase-state cells')\n",
    "print(len(phase_state_cells))\n",
    "print(len(phase_state_nonplace_cells)/len(phase_state_cells))\n",
    "print(two_proportions_test(len(phase_state_nonplace_cells), len(phase_state_cells),\\\n",
    "                           int(len(phase_state_cells)*0.05), len(phase_state_cells)))\n",
    " \n",
    "print('Phase-state cells as proportion of state cells')\n",
    "print(len(state_cells))\n",
    "print(len(phase_state_cells)/len(state_cells))\n",
    "print(two_proportions_test(len(phase_state_cells), len(state_cells),\\\n",
    "                           int(len(state_cells)*0.05), len(state_cells)))\n",
    "\n",
    "vals=[len(phase_state_cells), len(state_cells)-len(phase_state_cells)]\n",
    "colors=['blue','grey']\n",
    "plt.pie(vals, colors=colors)\n",
    "plt.savefig(Output_folder+'state_phase_pie.svg' , bbox_inches = 'tight', pad_inches = 0)\n",
    "plt.show()\n"
   ]
  },
  {
   "cell_type": "code",
   "execution_count": null,
   "metadata": {},
   "outputs": [],
   "source": []
  },
  {
   "cell_type": "code",
   "execution_count": null,
   "metadata": {},
   "outputs": [],
   "source": []
  },
  {
   "cell_type": "code",
   "execution_count": null,
   "metadata": {},
   "outputs": [],
   "source": []
  },
  {
   "cell_type": "code",
   "execution_count": 108,
   "metadata": {},
   "outputs": [
    {
     "name": "stderr",
     "output_type": "stream",
     "text": [
      "C:\\Users\\moham\\anaconda3\\lib\\site-packages\\numpy\\lib\\npyio.py:518: VisibleDeprecationWarning: Creating an ndarray from ragged nested sequences (which is a list-or-tuple of lists-or-tuples-or ndarrays with different lengths or shapes) is deprecated. If you meant to do this, you must specify 'dtype=object' when creating the ndarray.\n",
      "  arr = np.asanyarray(arr)\n"
     ]
    }
   ],
   "source": [
    "###Saving dictionary outputs as npy files     \n",
    "\n",
    "for measure in Tuned_dic.keys():\n",
    "    for mouse_recday in Tuned_dic[measure].keys():\n",
    "        np.save(Input_folder+measure+'_'+mouse_recday+'.npy',\\\n",
    "               Tuned_dic[measure][mouse_recday])\n",
    "        \n",
    "for day_type in ['3_task','combined']:\n",
    "    for mouse_recday in np.load(Input_folder+day_type+'_days.npy'):\n",
    "        awake_sessions=np.load(Input_folder+'awake_session_behaviour_'+mouse_recday+'.npy')\n",
    "        for ses_ind in np.arange(len(awake_sessions)):\n",
    "            \n",
    "            for name, dictionaryX in {'Phases_raw2_':Phases_raw_dic2, 'Phases_raw_':Phases_raw_dic,\\\n",
    "                                     'States_raw_':States_raw_dic,'Times_from_reward_':Times_from_reward_dic,\\\n",
    "                                     'Distances_from_reward_':Distances_from_reward_dic,\\\n",
    "                                     'Times_from_start_':Times_from_start_dic}.items():\n",
    "                np.save(Input_folder+name+mouse_recday+'_'+str(ses_ind)+'.npy',\\\n",
    "                          dictionaryX[mouse_recday][ses_ind])\n",
    "                \n",
    "                        \n",
    "for measure in tuning_singletrial_dic2.keys():\n",
    "    for mouse_recday in tuning_singletrial_dic2[measure].keys():\n",
    "        np.save(Input_folder+measure+'_'+mouse_recday+'.npy',\\\n",
    "               tuning_singletrial_dic2[measure][mouse_recday])    \n",
    "        \n",
    "for mouse_recday in speed_dic.keys():\n",
    "    for ses_ind in speed_dic[mouse_recday].keys():\n",
    "        np.save(Input_folder+'speed_'+mouse_recday+'_'+str(ses_ind)+'.npy',\\\n",
    "               speed_dic[mouse_recday][ses_ind])\n",
    "        \n",
    "        "
   ]
  },
  {
   "cell_type": "code",
   "execution_count": null,
   "metadata": {},
   "outputs": [],
   "source": []
  },
  {
   "cell_type": "code",
   "execution_count": null,
   "metadata": {},
   "outputs": [],
   "source": []
  },
  {
   "cell_type": "code",
   "execution_count": null,
   "metadata": {},
   "outputs": [],
   "source": []
  }
 ],
 "metadata": {
  "kernelspec": {
   "display_name": "Python 3 (ipykernel)",
   "language": "python",
   "name": "python3"
  },
  "language_info": {
   "codemirror_mode": {
    "name": "ipython",
    "version": 3
   },
   "file_extension": ".py",
   "mimetype": "text/x-python",
   "name": "python",
   "nbconvert_exporter": "python",
   "pygments_lexer": "ipython3",
   "version": "3.8.19"
  }
 },
 "nbformat": 4,
 "nbformat_minor": 4
}
