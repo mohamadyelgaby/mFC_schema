{
 "cells": [
  {
   "cell_type": "code",
   "execution_count": 29,
   "metadata": {},
   "outputs": [],
   "source": [
    "import numpy as np\n",
    "import scipy.stats as st\n",
    "import matplotlib.pyplot as plt\n",
    "import os, sys, pickle, time, re, csv\n",
    "from itertools import groupby\n"
   ]
  },
  {
   "cell_type": "code",
   "execution_count": null,
   "metadata": {},
   "outputs": [],
   "source": []
  },
  {
   "cell_type": "code",
   "execution_count": null,
   "metadata": {},
   "outputs": [],
   "source": []
  },
  {
   "cell_type": "code",
   "execution_count": 5,
   "metadata": {},
   "outputs": [
    {
     "data": {
      "text/plain": [
       "'Download data from:  https://doi.org/10.17605/OSF.IO/3D9R2'"
      ]
     },
     "execution_count": 5,
     "metadata": {},
     "output_type": "execute_result"
    }
   ],
   "source": [
    "###Folders\n",
    "\n",
    "Input_folder = 'C:/Users/moham/team_mouse Dropbox/Mohamady El-Gaby/Taskspace_abstraction/Data/Intermediate_objects/'\n",
    "Output_folder = 'C:/Users/moham/team_mouse Dropbox/Mohamady El-Gaby/Taskspace_abstraction/Results/Behaviour/'\n",
    "\n",
    "\n",
    "'Download data from:  https://doi.org/10.17605/OSF.IO/3D9R2'"
   ]
  },
  {
   "cell_type": "code",
   "execution_count": null,
   "metadata": {},
   "outputs": [],
   "source": []
  },
  {
   "cell_type": "code",
   "execution_count": null,
   "metadata": {},
   "outputs": [],
   "source": []
  },
  {
   "cell_type": "code",
   "execution_count": null,
   "metadata": {},
   "outputs": [],
   "source": []
  },
  {
   "cell_type": "code",
   "execution_count": 6,
   "metadata": {},
   "outputs": [],
   "source": [
    "from collections import defaultdict\n",
    "def rec_dd():\n",
    "    return defaultdict(rec_dd)\n",
    "def indicesX2(z,thr):\n",
    "    indicesx=[]\n",
    "    for xx in range(0,len(z)):\n",
    "        diffx=(z[xx,1]-z[xx,0]+1)\n",
    "        if diffx>thr:\n",
    "            indicesx.append(np.linspace\\\n",
    "                            (z[xx,0],z[xx,1],diffx))\n",
    "    indices=np.asarray(indicesx)\n",
    "    return(indices)\n",
    "\n",
    "def unique_adjacent(a):\n",
    "    return(np.asarray([k for k,g in groupby(a)]))\n",
    "\n",
    "\n",
    "def remove_empty(xx):\n",
    "\n",
    "    yy= [x for x in xx if len(x) > 0]\n",
    "    return(yy)\n",
    "\n",
    "def remove_nan(x):\n",
    "    x=x[~np.isnan(x)]\n",
    "    return(x)\n"
   ]
  },
  {
   "cell_type": "code",
   "execution_count": null,
   "metadata": {},
   "outputs": [],
   "source": []
  },
  {
   "cell_type": "code",
   "execution_count": null,
   "metadata": {},
   "outputs": [],
   "source": []
  },
  {
   "cell_type": "code",
   "execution_count": null,
   "metadata": {},
   "outputs": [],
   "source": []
  },
  {
   "cell_type": "code",
   "execution_count": null,
   "metadata": {},
   "outputs": [],
   "source": []
  },
  {
   "cell_type": "code",
   "execution_count": null,
   "metadata": {},
   "outputs": [],
   "source": []
  },
  {
   "cell_type": "code",
   "execution_count": 8,
   "metadata": {},
   "outputs": [],
   "source": [
    "###shortest distances \n",
    "from scipy.spatial import distance_matrix\n",
    "from itertools import product\n",
    "x=(0,1,2)\n",
    "Task_grid=np.asarray(list(product(x, x)))\n",
    "\n",
    "mapping_pyth={2:2,5:3,8:4}\n",
    "\n",
    "distance_mat_raw=distance_matrix(Task_grid, Task_grid)\n",
    "len_matrix=len(distance_mat_raw)\n",
    "distance_mat=np.zeros((len_matrix,len_matrix))\n",
    "for ii in range(len_matrix):\n",
    "    for jj in range(len_matrix):\n",
    "        if (distance_mat_raw[ii,jj]).is_integer()==False:\n",
    "            hyp=int((distance_mat_raw[ii,jj])**2)\n",
    "            distance_mat[ii,jj]=mapping_pyth[hyp]\n",
    "        else:\n",
    "            distance_mat[ii,jj]=distance_mat_raw[ii,jj]\n",
    "mindistance_mat=distance_mat.astype(int)\n"
   ]
  },
  {
   "cell_type": "code",
   "execution_count": null,
   "metadata": {},
   "outputs": [],
   "source": []
  },
  {
   "cell_type": "code",
   "execution_count": 92,
   "metadata": {},
   "outputs": [],
   "source": [
    "##Scoring behaviour - example\n",
    "mouse_recday='me11_02122021'\n",
    "Tasks=np.load(Input_folder+'Task_data_'+mouse_recday+'.npy',allow_pickle=True)\n",
    "ses_ind=0\n",
    "\n",
    "\n",
    "Trial_times=np.load(Input_folder+'trialtimes_'+mouse_recday+'_'+str(ses_ind)+'.npy')//25\n",
    "Location_raw=np.load(Input_folder+'Location_raw_'+mouse_recday+'_'+str(ses_ind)+'.npy')\n",
    "Task=Tasks[ses_ind]\n",
    "\n",
    "num_states=int(len(Trial_times[0])-1)\n",
    "nodes=np.copy(Location_raw)\n",
    "nodes[nodes>9]=np.nan\n",
    "\n",
    "min_dists_task=np.asarray([mindistance_mat[Task[state_ind]-1,np.roll(Task,-1)[state_ind]-1]\\\n",
    "                           for state_ind in np.arange(num_states)])\n",
    "\n",
    "length_matrix=np.zeros((len(Trial_times),num_states))\n",
    "length_matrix[:]=np.nan\n",
    "for trial_ind in np.arange(len(Trial_times)):\n",
    "    for state_ind in np.arange(num_states):\n",
    "        nodes_=unique_adjacent(remove_nan(nodes\\\n",
    "                    [Trial_times[trial_ind,state_ind]:Trial_times[trial_ind,state_ind+1]]))\n",
    "        if nodes_[-1]==np.roll(Task,-1)[state_ind]:\n",
    "            nodes_used_=nodes_[:-1]\n",
    "        else:\n",
    "            nodes_used_=nodes_\n",
    "        length=len(nodes_used_)\n",
    "        length_matrix[trial_ind,state_ind]=length\n",
    "        \n",
    "relative_distance_mat=length_matrix/min_dists_task ##distance relative to minimum distance\n",
    "relative_distance_mat[relative_distance_mat<1]=np.nan\n",
    "\n",
    "scores_matrix=relative_distance_mat==1 ##perfect transitions\n"
   ]
  },
  {
   "cell_type": "code",
   "execution_count": 99,
   "metadata": {},
   "outputs": [
    {
     "name": "stdout",
     "output_type": "stream",
     "text": [
      "[[1.         5.         1.66666667 1.        ]\n",
      " [2.33333333 3.         1.         3.        ]\n",
      " [1.66666667 4.         1.66666667 3.        ]\n",
      " [1.         3.         1.         3.        ]\n",
      " [1.         1.         1.66666667 4.        ]\n",
      " [1.66666667 1.         1.66666667 4.        ]\n",
      " [1.         1.         1.66666667 1.        ]\n",
      " [1.66666667 1.         1.66666667 4.        ]\n",
      " [1.66666667 1.         1.66666667 4.        ]\n",
      " [1.         3.         1.66666667 4.        ]\n",
      " [1.         1.         1.66666667 3.        ]\n",
      " [1.66666667 1.         1.66666667 1.        ]\n",
      " [1.         1.         1.66666667 4.        ]\n",
      " [1.66666667 1.         1.66666667 3.        ]\n",
      " [1.         1.         1.66666667 1.        ]\n",
      " [1.         1.         1.66666667 1.        ]\n",
      " [1.66666667 1.         1.66666667 1.        ]\n",
      " [1.         1.         3.         1.        ]\n",
      " [1.         3.         1.         1.        ]\n",
      " [1.         1.         1.66666667 1.        ]\n",
      " [1.         1.         1.66666667 1.        ]\n",
      " [1.         1.         1.66666667 4.        ]\n",
      " [1.         1.         1.66666667 1.        ]\n",
      " [1.         1.         7.66666667 1.        ]\n",
      " [1.         3.         1.         1.        ]\n",
      " [1.         1.         1.66666667 3.        ]\n",
      " [1.         3.         1.         4.        ]\n",
      " [1.         3.         1.         1.        ]\n",
      " [1.         3.         1.         4.        ]\n",
      " [1.         3.         3.         3.        ]\n",
      " [1.66666667 3.         1.         1.        ]]\n",
      "[[ True False False  True]\n",
      " [False False  True False]\n",
      " [False False False False]\n",
      " [ True False  True False]\n",
      " [ True  True False False]\n",
      " [False  True False False]\n",
      " [ True  True False  True]\n",
      " [False  True False False]\n",
      " [False  True False False]\n",
      " [ True False False False]\n",
      " [ True  True False False]\n",
      " [False  True False  True]\n",
      " [ True  True False False]\n",
      " [False  True False False]\n",
      " [ True  True False  True]\n",
      " [ True  True False  True]\n",
      " [False  True False  True]\n",
      " [ True  True False  True]\n",
      " [ True False  True  True]\n",
      " [ True  True False  True]\n",
      " [ True  True False  True]\n",
      " [ True  True False False]\n",
      " [ True  True False  True]\n",
      " [ True  True False  True]\n",
      " [ True False  True  True]\n",
      " [ True  True False False]\n",
      " [ True False  True False]\n",
      " [ True False  True  True]\n",
      " [ True False  True False]\n",
      " [ True False False False]\n",
      " [False False  True  True]]\n"
     ]
    }
   ],
   "source": [
    "print(relative_distance_mat)\n",
    "print(scores_matrix)"
   ]
  },
  {
   "cell_type": "code",
   "execution_count": null,
   "metadata": {},
   "outputs": [],
   "source": []
  }
 ],
 "metadata": {
  "kernelspec": {
   "display_name": "Python 3 (ipykernel)",
   "language": "python",
   "name": "python3"
  },
  "language_info": {
   "codemirror_mode": {
    "name": "ipython",
    "version": 3
   },
   "file_extension": ".py",
   "mimetype": "text/x-python",
   "name": "python",
   "nbconvert_exporter": "python",
   "pygments_lexer": "ipython3",
   "version": "3.8.19"
  }
 },
 "nbformat": 4,
 "nbformat_minor": 4
}
